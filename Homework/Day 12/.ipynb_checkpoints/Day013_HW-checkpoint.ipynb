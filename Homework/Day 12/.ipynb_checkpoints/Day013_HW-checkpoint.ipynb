{
 "cells": [
  {
   "cell_type": "markdown",
   "metadata": {},
   "source": [
    "# PTT 網路爬蟲實作練習\n",
    "\n",
    "\n",
    "* 能夠利用 Request + BeatifulSour 撰寫爬蟲，並存放到合適的資料結構\n"
   ]
  },
  {
   "cell_type": "markdown",
   "metadata": {},
   "source": [
    "## 作業目標\n",
    "\n",
    "根據範例 ，完成以下問題：\n",
    "\n",
    "* ① 印出最新文章的「作者」「標題」「時間」\n",
    "* ② 印出第一頁所有文章的「作者」「標題」「時間」\n"
   ]
  },
  {
   "cell_type": "code",
   "execution_count": 1,
   "metadata": {},
   "outputs": [
    {
     "name": "stdout",
     "output_type": "stream",
     "text": [
      "[花邊] 歐肥點評LBJ輿論待遇：我們的成就已經處\n",
      "作者: adam7148 (Adam)\n",
      "(已被p刪除) <lj7168> 回文150字未滿 退\n",
      "[討論] 獨行俠雙塔怎麼會吃不下快艇?\n",
      "作者: c1236 (錯過的時間)\n",
      "[公告] NBA 板 開始舉辦樂透!\n",
      "作者: Induction\n",
      "[情報] Playoffs Schedule 20–21\n",
      "作者: laptic (靜夜聖林彼岸花)\n",
      "[情報] 2020-21 NBA Playoffs (Next：06/08 鹿網 G2/陽金 G1)\n",
      "作者: laptic (靜夜聖林彼岸花)\n",
      "[公告] 板規v7.2\n",
      "[公告] NBA_Picket 檢舉板上線 \n",
      "作者: Induction (愛人愛己)\n",
      "[公告] 季後賽條款\n",
      "作者: Induction (愛人愛己)\n"
     ]
    }
   ],
   "source": [
    "import requests\n",
    "from bs4 import BeautifulSoup\n",
    "\n",
    "url = 'https://www.ptt.cc/bbs/NBA/index.html'\n",
    "r = requests.get(url)\n",
    "\n",
    "soup = BeautifulSoup(r.text, \"html5lib\")\n",
    "\n",
    "for d in soup.find_all(class_=\"title\"):\n",
    "    #print(d.text)\n",
    "    print(d.text.replace('\\t', '').replace('\\n', ''))  #去掉換行(\\n)與Tab(\\t)\n",
    "    try:\n",
    "        r = BeautifulSoup(requests.get('https://www.ptt.cc'+d.find('a')['href']).text, \"html5lib\")\n",
    "        print('作者: ' + r.find(class_='article-meta-value').text)\n",
    "        \n",
    "    except:\n",
    "        continue"
   ]
  },
  {
   "cell_type": "markdown",
   "metadata": {},
   "source": [
    "### ① 印出最新文章的「作者」「標題」「時間」"
   ]
  },
  {
   "cell_type": "code",
   "execution_count": 2,
   "metadata": {},
   "outputs": [
    {
     "name": "stdout",
     "output_type": "stream",
     "text": [
      "{'標題': '[情報] Playoffs Schedule 20–21', '作者': 'laptic (靜夜聖林彼岸花)', '時間': 'Wed May 19 00:35:47 2021'}\n",
      "{'標題': '[情報] Playoffs Schedule 20–21', '作者': 'laptic (靜夜聖林彼岸花)', '時間': 'Wed May 19 00:35:47 2021'}\n",
      "{'標題': '[公告] NBA_Picket 檢舉板上線 ', '作者': 'Induction (愛人愛己)', '時間': 'Fri Jun  4 04:40:51 2021'}\n"
     ]
    }
   ],
   "source": [
    "# 因為原始的資料難以判斷「新/舊」，因此我們必須進入內頁抓取詳細的時間，最終存成 List of Dict 的形式再自行排序。\n",
    "\n",
    "posts = []\n",
    "\n",
    "for d in soup.find_all(class_=\"title\"):\n",
    "    try:\n",
    "        post = {}\n",
    "        post['標題'] = d.text.replace('\\t', '').replace('\\n', '')\n",
    "        \n",
    "        r = BeautifulSoup(requests.get('https://www.ptt.cc'+d.find('a')['href']).text, \"html5lib\")\n",
    "        post['作者'] = r.find(class_='article-meta-value').text\n",
    "        post['時間'] = r.find_all(class_='article-meta-value')[-1].text\n",
    "        \n",
    "        posts.append(post)\n",
    "        \n",
    "    except:\n",
    "        continue\n",
    "        \n",
    "posts = sorted(posts, key= lambda x: x['時間']) #預設 reverse=False，順序排列，最後一筆為最新資料\n",
    "posts_2 = sorted(posts, key= lambda x: x['時間'], reverse=False)\n",
    "posts_3 = sorted(posts, key= lambda x: x['時間'], reverse=True) #倒序排列，第一筆為最新資料\n",
    "\n",
    "# 補充：List of Dict 的排序方法\n",
    "# https://stackoverflow.com/questions/72899/how-do-i-sort-a-list-of-dictionaries-by-a-value-of-the-dictionary\n",
    "print(posts[-1])\n",
    "print(posts_2[-1])\n",
    "print(posts_3[-1])"
   ]
  },
  {
   "cell_type": "markdown",
   "metadata": {},
   "source": [
    "### ② 印出第一頁所有文章的「作者」「標題」「時間」"
   ]
  },
  {
   "cell_type": "code",
   "execution_count": 4,
   "metadata": {},
   "outputs": [
    {
     "name": "stdout",
     "output_type": "stream",
     "text": [
      "標題：  [花邊] 歐肥點評LBJ輿論待遇：我們的成就已經處\n",
      "作者：  adam7148\n",
      "時間：   6/07\n",
      "標題：  (已被p刪除) <lj7168> 回文150字未滿 退\n",
      "作者：  -\n",
      "時間：   6/07\n",
      "標題：  [討論] 獨行俠雙塔怎麼會吃不下快艇?\n",
      "作者：  c1236\n",
      "時間：   6/07\n",
      "標題：  [公告] NBA 板 開始舉辦樂透!\n",
      "作者：  Induction\n",
      "時間：   6/07\n",
      "標題：  [情報] Playoffs Schedule 20–21\n",
      "作者：  laptic\n",
      "時間：   5/19\n",
      "標題：  [情報] 2020-21 NBA Playoffs (Next：06/08 鹿網 G2/陽金 G1)\n",
      "作者：  laptic\n",
      "時間：   5/17\n",
      "標題：  [公告] 板規v7.2\n",
      "作者：  pneumo\n",
      "時間：   5/24\n",
      "標題：  [公告] NBA_Picket 檢舉板上線 \n",
      "作者：  Induction\n",
      "時間：   6/04\n",
      "標題：  [公告] 季後賽條款\n",
      "作者：  Induction\n",
      "時間：   5/24\n"
     ]
    }
   ],
   "source": [
    "# 方法一：只從首頁\n",
    "for d in soup.find_all(class_=\"r-ent\"):\n",
    "    print('標題： ', d.find(class_='title').text.replace('\\t', '').replace('\\n', ''))\n",
    "    print('作者： ', d.find(class_='author').text.replace('\\t', '').replace('\\n', ''))\n",
    "    print('時間： ', d.find(class_='date').text.replace('\\t', '').replace('\\n', ''))\n",
    "    "
   ]
  },
  {
   "cell_type": "code",
   "execution_count": 5,
   "metadata": {},
   "outputs": [
    {
     "name": "stdout",
     "output_type": "stream",
     "text": [
      "標題：  [花邊] 歐肥點評LBJ輿論待遇：我們的成就已經處\n",
      "作者： adam7148 (Adam)\n",
      "時間： Mon Jun  7 13:42:34 2021\n",
      "標題：  (已被p刪除) <lj7168> 回文150字未滿 退\n",
      "標題：  [討論] 獨行俠雙塔怎麼會吃不下快艇?\n",
      "作者： c1236 (錯過的時間)\n",
      "時間： Mon Jun  7 14:17:52 2021\n",
      "標題：  [公告] NBA 板 開始舉辦樂透!\n",
      "作者： Induction\n",
      "時間： Mon Jun  7 14:20:58 2021\n",
      "標題：  [情報] Playoffs Schedule 20–21\n",
      "作者： laptic (靜夜聖林彼岸花)\n",
      "時間： Wed May 19 00:35:47 2021\n",
      "標題：  [情報] 2020-21 NBA Playoffs (Next：06/08 鹿網 G2/陽金 G1)\n",
      "作者： laptic (靜夜聖林彼岸花)\n",
      "時間： Mon May 17 12:01:32 2021\n",
      "標題：  [公告] 板規v7.2\n",
      "標題：  [公告] NBA_Picket 檢舉板上線 \n",
      "作者： Induction (愛人愛己)\n",
      "時間： Fri Jun  4 04:40:51 2021\n",
      "標題：  [公告] 季後賽條款\n",
      "作者： Induction (愛人愛己)\n",
      "時間： Mon May 24 04:02:16 2021\n"
     ]
    }
   ],
   "source": [
    "# 方法二：進入內頁抓\n",
    "for d in soup.find_all(class_=\"title\"):\n",
    "    try:\n",
    "        print('標題： ', d.text.replace('\\t', '').replace('\\n', ''))\n",
    "        \n",
    "        r = BeautifulSoup(requests.get('https://www.ptt.cc'+d.find('a')['href']).text, \"html5lib\")\n",
    "        print('作者： ' + r.find(class_='article-meta-value').text)\n",
    "        print('時間： ' + r.find_all(class_='article-meta-value')[-1].text)\n",
    "    except:\n",
    "        continue"
   ]
  },
  {
   "cell_type": "markdown",
   "metadata": {},
   "source": [
    "### ③ 試著爬爬看其他版的文章"
   ]
  },
  {
   "cell_type": "code",
   "execution_count": 6,
   "metadata": {},
   "outputs": [
    {
     "data": {
      "text/plain": [
       "{'標題': '[討論] 北北基餐廳外帶優惠資訊（滾動式更新）',\n",
       " '作者': 'joe783 ( )',\n",
       " '時間': 'Sun May 23 20:22:56 2021'}"
      ]
     },
     "execution_count": 6,
     "metadata": {},
     "output_type": "execute_result"
    }
   ],
   "source": [
    "# 改成 Lifeismoney 版，抓出最新一筆的文章\n",
    "\n",
    "import requests\n",
    "from bs4 import BeautifulSoup\n",
    "\n",
    "url = 'https://www.ptt.cc/bbs/Lifeismoney/index.html'\n",
    "r = requests.get(url)\n",
    "\n",
    "soup = BeautifulSoup(r.text, \"html5lib\")\n",
    "\n",
    "posts = []\n",
    "\n",
    "for d in soup.find_all(class_=\"title\"):\n",
    "    try:\n",
    "        post = {}\n",
    "        post['標題'] = d.text.replace('\\t', '').replace('\\n', '')\n",
    "        \n",
    "        r = BeautifulSoup(requests.get('https://www.ptt.cc'+d.find('a')['href']).text, \"html5lib\")\n",
    "        post['作者'] = r.find(class_='article-meta-value').text\n",
    "        post['時間'] = r.find_all(class_='article-meta-value')[-1].text\n",
    "        \n",
    "        posts.append(post)\n",
    "        \n",
    "    except:\n",
    "        continue\n",
    "        \n",
    "posts = sorted(posts, key= lambda x: x['時間'])\n",
    "posts[-1]"
   ]
  },
  {
   "cell_type": "code",
   "execution_count": 12,
   "metadata": {},
   "outputs": [
    {
     "ename": "IndexError",
     "evalue": "list index out of range",
     "output_type": "error",
     "traceback": [
      "\u001b[1;31m---------------------------------------------------------------------------\u001b[0m",
      "\u001b[1;31mIndexError\u001b[0m                                Traceback (most recent call last)",
      "\u001b[1;32m<ipython-input-12-882a667cdde2>\u001b[0m in \u001b[0;36m<module>\u001b[1;34m\u001b[0m\n\u001b[0;32m     25\u001b[0m \u001b[1;33m\u001b[0m\u001b[0m\n\u001b[0;32m     26\u001b[0m \u001b[0mposts\u001b[0m \u001b[1;33m=\u001b[0m \u001b[0msorted\u001b[0m\u001b[1;33m(\u001b[0m\u001b[0mposts\u001b[0m\u001b[1;33m,\u001b[0m \u001b[0mkey\u001b[0m\u001b[1;33m=\u001b[0m \u001b[1;32mlambda\u001b[0m \u001b[0mx\u001b[0m\u001b[1;33m:\u001b[0m \u001b[0mx\u001b[0m\u001b[1;33m[\u001b[0m\u001b[1;34m'時間'\u001b[0m\u001b[1;33m]\u001b[0m\u001b[1;33m)\u001b[0m\u001b[1;33m\u001b[0m\u001b[1;33m\u001b[0m\u001b[0m\n\u001b[1;32m---> 27\u001b[1;33m \u001b[0mposts\u001b[0m\u001b[1;33m[\u001b[0m\u001b[1;33m-\u001b[0m\u001b[1;36m1\u001b[0m\u001b[1;33m]\u001b[0m\u001b[1;33m\u001b[0m\u001b[1;33m\u001b[0m\u001b[0m\n\u001b[0m",
      "\u001b[1;31mIndexError\u001b[0m: list index out of range"
     ]
    }
   ],
   "source": [
    "# 改成 Gossiping 版，發生錯誤，因為八卦版會跳轉到一個「十八歲的同意驗證頁面」導致錯誤。\n",
    "\n",
    "import requests\n",
    "from bs4 import BeautifulSoup\n",
    "\n",
    "url = 'https://www.ptt.cc/bbs/Gossiping/index.html'\n",
    "r = requests.get(url)\n",
    "\n",
    "soup = BeautifulSoup(r.text, \"html5lib\")\n",
    "\n",
    "posts = []\n",
    "\n",
    "for d in soup.find_all(class_=\"title\"):\n",
    "    try:\n",
    "        post = {}\n",
    "        post['標題'] = d.text.replace('\\t', '').replace('\\n', '')\n",
    "        \n",
    "        r = BeautifulSoup(requests.get('https://www.ptt.cc'+d.find('a')['href']).text, \"html5lib\")\n",
    "        post['作者'] = r.find(class_='article-meta-value').text\n",
    "        post['時間'] = r.find_all(class_='article-meta-value')[-1].text\n",
    "        \n",
    "        posts.append(post)\n",
    "    except:\n",
    "        continue\n",
    "        \n",
    "posts = sorted(posts, key= lambda x: x['時間'])\n",
    "posts[-1]"
   ]
  },
  {
   "cell_type": "code",
   "execution_count": 13,
   "metadata": {},
   "outputs": [
    {
     "data": {
      "text/plain": [
       "{'標題': '[公告] 八卦板板規(2021.05.11)',\n",
       " '作者': 'arsonlolita (蘿莉塔大魔王)',\n",
       " '時間': 'Tue May 11 15:03:06 2021'}"
      ]
     },
     "execution_count": 13,
     "metadata": {},
     "output_type": "execute_result"
    }
   ],
   "source": [
    "# 改成 Gossiping 版，發生錯誤，因為八卦版會跳轉到一個「十八歲的同意驗證頁面」導致錯誤。\n",
    "# 參考圖片下載時的解法，加上 cookies 繞過驗證（後面課程會再進行補充）\n",
    "\n",
    "import requests\n",
    "from bs4 import BeautifulSoup\n",
    "\n",
    "url = 'https://www.ptt.cc/bbs/Gossiping/index.html'\n",
    "r = requests.get(url, cookies={'over18': '1'})\n",
    "\n",
    "soup = BeautifulSoup(r.text, \"html5lib\")\n",
    "\n",
    "posts = []\n",
    "\n",
    "for d in soup.find_all(class_=\"title\"):\n",
    "    try:\n",
    "        post = {}\n",
    "        post['標題'] = d.text.replace('\\t', '').replace('\\n', '')\n",
    "        \n",
    "        r = BeautifulSoup(requests.get('https://www.ptt.cc'+d.find('a')['href'], cookies={'over18': '1'}).text, \"html5lib\")\n",
    "        post['作者'] = r.find(class_='article-meta-value').text\n",
    "        post['時間'] = r.find_all(class_='article-meta-value')[-1].text\n",
    "        \n",
    "        posts.append(post)\n",
    "    except:\n",
    "        continue\n",
    "        \n",
    "posts = sorted(posts, key= lambda x: x['時間'])\n",
    "posts[-1]"
   ]
  },
  {
   "cell_type": "code",
   "execution_count": 17,
   "metadata": {},
   "outputs": [
    {
     "data": {
      "text/plain": [
       "[{'標題': '[爆卦] LIVE 台北市政府疫情記者會',\n",
       "  '作者': 'WuSam (藤原豆海)',\n",
       "  '時間': 'Mon Jun  7 15:20:25 2021'},\n",
       " {'標題': '[問卦] 維力炸醬麵的湯怎麼倒比較方便',\n",
       "  '作者': 'awhat (La Mer)',\n",
       "  '時間': 'Mon Jun  7 15:47:16 2021'},\n",
       " {'標題': 'Re: [新聞] 韓國瑜直播稱高雄積淹水一天消退 市府：',\n",
       "  '作者': 'a1234a123499 (alah)',\n",
       "  '時間': 'Mon Jun  7 15:47:42 2021'},\n",
       " {'標題': 'Re: [問卦] 巴哈傳的這個是真的嗎？(日本AZ八卦)',\n",
       "  '作者': 'a1e (我上了賊船了囧)',\n",
       "  '時間': 'Mon Jun  7 15:47:48 2021'},\n",
       " {'標題': '[問卦] 防疫疲乏之 我就爛的人',\n",
       "  '作者': 'claymath (ヽ(‵・ω・′)ゝ)',\n",
       "  '時間': 'Mon Jun  7 15:48:01 2021'},\n",
       " {'標題': '[問卦] 外帶拉麵是不是很盤',\n",
       "  '作者': 'kurohanaito (小鳥黑羽)',\n",
       "  '時間': 'Mon Jun  7 15:48:17 2021'},\n",
       " {'標題': '[新聞] 179瓶AZ疫苗發揮極致 衛生所專注抽藥多',\n",
       "  '作者': 'FourOneJ (41j)',\n",
       "  '時間': 'Mon Jun  7 15:48:21 2021'},\n",
       " {'標題': '[問卦]台灣三級可能延長到中秋節或聖誕節嗎？',\n",
       "  '作者': 'ptt888 (op)',\n",
       "  '時間': 'Mon Jun  7 15:48:58 2021'},\n",
       " {'標題': '[問卦] 新加坡體制會不會比較適合台灣',\n",
       "  '作者': 'NinaQueen (nina)',\n",
       "  '時間': 'Mon Jun  7 15:49:37 2021'},\n",
       " {'標題': 'Re: [爆卦] 周玉蔻FB：中研院士要被吉了',\n",
       "  '作者': 'zainc (念湘)',\n",
       "  '時間': 'Mon Jun  7 15:50:19 2021'},\n",
       " {'標題': '[問卦] 病毒在台灣會怎麼演化',\n",
       "  '作者': 'assidiot (omega)',\n",
       "  '時間': 'Mon Jun  7 15:50:57 2021'},\n",
       " {'標題': '[問卦] 有沒有解盲的卦?',\n",
       "  '作者': 'kingtama (立志成為唬爛王)',\n",
       "  '時間': 'Mon Jun  7 15:51:18 2021'},\n",
       " {'標題': '[問卦] 疫苗施打政策應該學韓國還是日本？',\n",
       "  '作者': 'xup6eric8019 (おひさま)',\n",
       "  '時間': 'Mon Jun  7 15:51:25 2021'},\n",
       " {'標題': 'Re: [爆卦] 周玉蔻FB：中研院士要被吉了',\n",
       "  '作者': 'littlefalcon (熊出沒注意!!)',\n",
       "  '時間': 'Mon Jun  7 15:52:13 2021'},\n",
       " {'標題': '[問卦] 即將申辦房貸 那紓困十萬貸款要貸嗎?',\n",
       "  '作者': 'Ucse (天晴了沒)',\n",
       "  '時間': 'Mon Jun  7 15:52:28 2021'},\n",
       " {'標題': 'Re: [問卦] 巴哈傳的這個是真的嗎？(日本AZ八卦)',\n",
       "  '作者': 'archernua (望穿秋水)',\n",
       "  '時間': 'Mon Jun  7 15:52:41 2021'},\n",
       " {'標題': 'Re: [問卦] 什麼時候開始有\"滾動式\"這名詞',\n",
       "  '作者': 'larru (腳不是我的)',\n",
       "  '時間': 'Mon Jun  7 15:52:42 2021'},\n",
       " {'標題': '[問卦] 指考國考延期,這一個多月能在哪裡念書??',\n",
       "  '作者': 'YenFuOne (焉芙丸)',\n",
       "  '時間': 'Mon Jun  7 15:52:55 2021'},\n",
       " {'標題': 'Re: [問卦] 巴哈傳的這個是真的嗎？(日本AZ八卦)',\n",
       "  '作者': 'butten986 (白色的惡魔)',\n",
       "  '時間': 'Mon Jun  7 15:53:10 2021'},\n",
       " {'標題': 'Re: [問卦] 中央政府有考慮過國產疫苗不成功的可能嗎?',\n",
       "  '作者': 'LABOYS (洛城浪子)',\n",
       "  '時間': 'Mon Jun  7 15:53:27 2021'},\n",
       " {'標題': '[問卦] 何須搶先延後',\n",
       "  '作者': 'b13b46o2 (買槍買裝備)',\n",
       "  '時間': 'Mon Jun  7 15:54:40 2021'},\n",
       " {'標題': '[公告] 手機投票教學 附圖 板主投票及活動可用',\n",
       "  '作者': 'ubcs (覺★青年超冒險蓋)',\n",
       "  '時間': 'Sat Feb  6 15:09:20 2021'},\n",
       " {'標題': '[公告] ★卍☯2021年6月八卦板主徵選投票開始☯',\n",
       "  '作者': 'ubcs (覺★青年超冒險蓋被水桶)',\n",
       "  '時間': 'Sun Jun  6 19:44:29 2021'},\n",
       " {'標題': '[協尋] 內湖成美橋行車記錄0522上午11:40-12:00',\n",
       "  '作者': 'arsonlolita (蘿莉塔大魔王)',\n",
       "  '時間': 'Thu May 27 17:47:11 2021'},\n",
       " {'標題': '[公告] 八卦板板規(2021.05.11)',\n",
       "  '作者': 'arsonlolita (蘿莉塔大魔王)',\n",
       "  '時間': 'Tue May 11 15:03:06 2021'}]"
      ]
     },
     "execution_count": 17,
     "metadata": {},
     "output_type": "execute_result"
    }
   ],
   "source": [
    "# 我們發現這個時間好像不是正確的，原因是我們前面存到的時間，其實不是正確的格式\n",
    "\n",
    "import requests\n",
    "from bs4 import BeautifulSoup\n",
    "\n",
    "url = 'https://www.ptt.cc/bbs/Gossiping/index.html'\n",
    "r = requests.get(url, cookies={'over18': '1'})\n",
    "\n",
    "soup = BeautifulSoup(r.text, \"html5lib\")\n",
    "\n",
    "posts = []\n",
    "\n",
    "for d in soup.find_all(class_=\"title\"):\n",
    "    try:\n",
    "        post = {}\n",
    "        post['標題'] = d.text.replace('\\t', '').replace('\\n', '')\n",
    "        \n",
    "        r = BeautifulSoup(requests.get('https://www.ptt.cc'+d.find('a')['href'], cookies={'over18': '1'}).text, \"html5lib\")\n",
    "        post['作者'] = r.find(class_='article-meta-value').text\n",
    "        post['時間'] = r.find_all(class_='article-meta-value')[-1].text\n",
    "        #post['時間'] = datetime.strptime(post['時間'], \"%a %b %d %H:%M:%S %Y\")\n",
    "        # 時間轉換：https://stackoverflow.com/questions/10256093/how-to-convert-ctime-to-datetime-in-python\n",
    "        \n",
    "        posts.append(post)\n",
    "    except:\n",
    "        continue\n",
    "        \n",
    "posts = sorted(posts, key= lambda x: x['時間'])\n",
    "posts"
   ]
  },
  {
   "cell_type": "code",
   "execution_count": 18,
   "metadata": {},
   "outputs": [
    {
     "data": {
      "text/plain": [
       "{'標題': '[公告] 八卦板板規(2021.05.11)',\n",
       " '作者': 'arsonlolita (蘿莉塔大魔王)',\n",
       " '時間': 'Tue May 11 15:03:06 2021'}"
      ]
     },
     "execution_count": 18,
     "metadata": {},
     "output_type": "execute_result"
    }
   ],
   "source": [
    "posts[-1]"
   ]
  }
 ],
 "metadata": {
  "kernelspec": {
   "display_name": "Python 3",
   "language": "python",
   "name": "python3"
  },
  "language_info": {
   "codemirror_mode": {
    "name": "ipython",
    "version": 3
   },
   "file_extension": ".py",
   "mimetype": "text/x-python",
   "name": "python",
   "nbconvert_exporter": "python",
   "pygments_lexer": "ipython3",
   "version": "3.8.3"
  }
 },
 "nbformat": 4,
 "nbformat_minor": 2
}
