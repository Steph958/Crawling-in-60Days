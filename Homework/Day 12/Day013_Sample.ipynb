{
 "cells": [
  {
   "cell_type": "markdown",
   "metadata": {},
   "source": [
    "# PTT 網路爬蟲實作練習\n",
    "\n",
    "\n",
    "* 能夠利用 Request + BeatifulSour 撰寫爬蟲，並存放到合適的資料結構\n"
   ]
  },
  {
   "cell_type": "markdown",
   "metadata": {},
   "source": [
    "## PTT 網頁爬蟲"
   ]
  },
  {
   "cell_type": "code",
   "execution_count": 2,
   "metadata": {},
   "outputs": [
    {
     "name": "stdout",
     "output_type": "stream",
     "text": [
      "[新聞] 雷納德領袖風範 瑞佛斯：就像沉默版賈奈\n",
      "作者: lovea (lovea)\n",
      "[新聞] NBA》甜瓜急了？主動徵詢4隊加盟機會\n",
      "作者: BeardSmallGG (我鬍SGG)\n",
      "[新聞] 影／接地氣MVP！野生柯瑞與民眾街場鬥牛\n",
      "作者: dreamraidery (騫仔)\n",
      "[花邊] 杰倫布朗：必須帶著緊迫感打球\n",
      "作者: PttGod (PttGod)\n",
      "[新聞] 庫茲瑪無緣出征世界盃 波總：少了他很可\n",
      "作者: fack3170 (法克)\n",
      "[Live] 世界盃熱身賽 希臘 vs 多明尼加\n",
      "作者: jack19931993 (三無少年)\n",
      "[專欄] 戰勝美國的背後 澳洲世界盃軍團來勢洶洶\n",
      "作者: hvariables (Speculative Male)\n",
      "[BOX ] 世界盃熱身賽 USA 84:68 CAN\n",
      "作者: achernarsw (倒立澳客)\n",
      "(本文已被刪除) [ninebride]\n",
      "[情報] Dwight Howard 成為湖人隊史第一位穿39號\n",
      "作者: thnlkj0665 (灰色地帶)\n",
      "[情報] Howard將領日薪　待在名單上才有錢\n",
      "作者: USAGI0423 ()\n",
      "[新聞] 湖人新約0保障！魔獸「日薪」曝光\n",
      "作者: amancan (jerry)\n",
      "[花邊] KT父親：新賽季西決 是勇士對湖人\n",
      "作者: MadK17672 (大釣哥)\n",
      "[花邊] 勇士新場館大通中心掛上「死亡五小」畫像\n",
      "作者: s5880852 (鮪魚蛋餅)\n",
      "[情報]如何看待霍華德加盟湖人？奧尼爾：我不認\n",
      "作者: VeryGoodBoy (很棒的男孩)\n",
      "[新聞] 勇士新球場啟用！KD慘被製圖嘲諷…釣出本\n",
      "作者: USAGI0423 ()\n",
      "[公告] 板規v6.4\n",
      "[情報] 2019-20 自由球員市場異動 (表格 8/16)\n",
      "[情報] 2019-20 自由球員市場異動 (每日 文字)\n",
      "[公告] 樂透取消及未來不再開啟樂透\n",
      "作者: Vedan (味丹)\n",
      "Fw: [徵圖] PTT小天使 之 每月29號 P幣雨圖\n",
      "作者: ericf129 (☆小艾克★)\n"
     ]
    }
   ],
   "source": [
    "import requests\n",
    "from bs4 import BeautifulSoup\n",
    "\n",
    "url = 'https://www.ptt.cc/bbs/NBA/index.html'\n",
    "r = requests.get(url)\n",
    "\n",
    "soup = BeautifulSoup(r.text, \"html5lib\")\n",
    "\n",
    "for d in soup.find_all(class_=\"title\"):\n",
    "    print(d.text.replace('\\t', '').replace('\\n', ''))\n",
    "    try:\n",
    "        r = BeautifulSoup(requests.get('https://www.ptt.cc'+d.find('a')['href']).text, \"html5lib\")\n",
    "        print('作者: ' + r.find(class_='article-meta-value').text)\n",
    "    except:\n",
    "        continue\n"
   ]
  },
  {
   "cell_type": "markdown",
   "metadata": {},
   "source": [
    "## 作業目標\n",
    "\n",
    "根據範例 ，完成以下問題：\n",
    "\n",
    "* ① 印出最新文章的「作者」「標題」「時間」\n",
    "* ② 印出第一頁所有文章的「作者」「標題」「時間」\n",
    "* ③ 試著爬爬看其他版的文章\n"
   ]
  },
  {
   "cell_type": "code",
   "execution_count": null,
   "metadata": {},
   "outputs": [],
   "source": []
  }
 ],
 "metadata": {
  "kernelspec": {
   "display_name": "Python 3",
   "language": "python",
   "name": "python3"
  },
  "language_info": {
   "codemirror_mode": {
    "name": "ipython",
    "version": 3
   },
   "file_extension": ".py",
   "mimetype": "text/x-python",
   "name": "python",
   "nbconvert_exporter": "python",
   "pygments_lexer": "ipython3",
   "version": "3.6.5"
  }
 },
 "nbformat": 4,
 "nbformat_minor": 2
}
