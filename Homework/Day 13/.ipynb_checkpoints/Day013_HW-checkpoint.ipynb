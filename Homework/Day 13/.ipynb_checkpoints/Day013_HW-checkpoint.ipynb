{
 "cells": [
  {
   "cell_type": "markdown",
   "metadata": {},
   "source": [
    "# PTT 網路爬蟲實作練習\n",
    "\n",
    "\n",
    "* 能夠利用 Request + BeatifulSour 撰寫爬蟲，並存放到合適的資料結構\n"
   ]
  },
  {
   "cell_type": "markdown",
   "metadata": {},
   "source": [
    "## 作業目標\n",
    "\n",
    "根據範例 ，完成以下問題：\n",
    "\n",
    "* ① 印出最新文章的「作者」「標題」「時間」\n",
    "* ② 印出第一頁所有文章的「作者」「標題」「時間」\n"
   ]
  },
  {
   "cell_type": "code",
   "execution_count": 6,
   "metadata": {},
   "outputs": [
    {
     "name": "stdout",
     "output_type": "stream",
     "text": [
      "Re: [外絮] 推特AD影片引發馬刺迷群起支持Tim Duncan\n",
      "作者: skylion (溫暖的傳說)\n",
      "[BOX ] Hornets 114:121 Cavaliers 數據\n",
      "[BOX ] Knicks 107:121 Pacers 數據\n",
      "[BOX ] Heat 107:113 Magic 數據\n",
      "[BOX ] Wizards 107:113 Sixers 數據\n",
      "(本文已被刪除) [gogostars]\n",
      "[BOX ] Pelicans 113:99 Raptors 數據\n",
      "[Live] 獨行俠 vs 太陽\n",
      "作者: wangtinyu (江小開)\n",
      "Re: [外絮] 推特AD影片引發馬刺迷群起支持Tim Du\n",
      "作者: fenderrb ()\n",
      "[BOX ] Bucks 121:122 Celtics 數據\n",
      "[情報] 西河加盟巫師首戰大三元 史上第六人\n",
      "作者: avrild12 (78elic)\n",
      "[Live] 爵士 @ 拓荒者\n",
      "作者: thnlkj0665 (灰色地帶)\n",
      "[BOX ] Pistons 101:111 Timberwolves 數據\n",
      "[BOX ] Hawks 124:104 Bulls 數據\n",
      "[BOX ] Spurs 131:119 Grizzlies 數據\n",
      "[情報] Tatum面對字母哥打板三分命中，字母哥兩\n",
      "作者: VeryGoodBoy (很棒的男孩)\n",
      "[新聞] 「球三弟」初亮相0得分　歷史第4人前三\n",
      "作者: s27052705 (小飽)\n",
      "[公告] 板規v6.8\n",
      "[情報] 2020-21 自由球員市場異動 (表格)(12/10)\n",
      "[情報] 2020-21 自由球員市場異動 (每日文字)  \n",
      "[情報] PRE SEASON Schedule 賽程 20–21\n",
      "作者: Acetoxy (阿斯)\n"
     ]
    }
   ],
   "source": [
    "import requests\n",
    "from bs4 import BeautifulSoup\n",
    "\n",
    "url = 'https://www.ptt.cc/bbs/NBA/index.html'\n",
    "r = requests.get(url)\n",
    "\n",
    "soup = BeautifulSoup(r.text, \"html5lib\")\n",
    "\n",
    "for d in soup.find_all(class_=\"title\"):\n",
    "    #print(d.text)\n",
    "    print(d.text.replace('\\t', '').replace('\\n', ''))  #去掉換行(\\n)與Tab(\\t)\n",
    "    try:\n",
    "        r = BeautifulSoup(requests.get('https://www.ptt.cc'+d.find('a')['href']).text, \"html5lib\")\n",
    "        print('作者: ' + r.find(class_='article-meta-value').text)\n",
    "    except:\n",
    "        continue"
   ]
  },
  {
   "cell_type": "markdown",
   "metadata": {},
   "source": [
    "### ① 印出最新文章的「作者」「標題」「時間」"
   ]
  },
  {
   "cell_type": "code",
   "execution_count": null,
   "metadata": {},
   "outputs": [],
   "source": [
    "'''\n",
    "Your Code\n",
    "'''"
   ]
  },
  {
   "cell_type": "markdown",
   "metadata": {},
   "source": [
    "### ② 印出第一頁所有文章的「作者」「標題」「時間」"
   ]
  },
  {
   "cell_type": "code",
   "execution_count": null,
   "metadata": {},
   "outputs": [],
   "source": [
    "'''\n",
    "Your Code\n",
    "'''"
   ]
  },
  {
   "cell_type": "markdown",
   "metadata": {},
   "source": [
    "### ③ 試著爬爬看其他版的文章"
   ]
  },
  {
   "cell_type": "code",
   "execution_count": null,
   "metadata": {},
   "outputs": [],
   "source": [
    "'''\n",
    "Your Code\n",
    "'''"
   ]
  }
 ],
 "metadata": {
  "kernelspec": {
   "display_name": "Python 3",
   "language": "python",
   "name": "python3"
  },
  "language_info": {
   "codemirror_mode": {
    "name": "ipython",
    "version": 3
   },
   "file_extension": ".py",
   "mimetype": "text/x-python",
   "name": "python",
   "nbconvert_exporter": "python",
   "pygments_lexer": "ipython3",
   "version": "3.8.3"
  }
 },
 "nbformat": 4,
 "nbformat_minor": 2
}
