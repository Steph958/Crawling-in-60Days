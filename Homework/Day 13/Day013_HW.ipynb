{
 "cells": [
  {
   "cell_type": "markdown",
   "metadata": {},
   "source": [
    "# PTT 網路爬蟲實作練習\n",
    "\n",
    "\n",
    "* 能夠利用 Request + BeatifulSour 撰寫爬蟲，並存放到合適的資料結構\n"
   ]
  },
  {
   "cell_type": "markdown",
   "metadata": {},
   "source": [
    "## 作業目標\n",
    "\n",
    "根據範例 ，完成以下問題：\n",
    "\n",
    "* ① 印出最新文章的「作者」「標題」「時間」\n",
    "* ② 印出第一頁所有文章的「作者」「標題」「時間」\n"
   ]
  },
  {
   "cell_type": "code",
   "execution_count": 7,
   "metadata": {},
   "outputs": [
    {
     "name": "stdout",
     "output_type": "stream",
     "text": [
      "[情報] 狀元:我感覺我打得非常好,適應NBA並不難\n",
      "作者: sezna (sezna)\n",
      "[BOX ] Jazz 120:100 Blazers 數據\n",
      "[討論] Buddy絕殺後帶領隊友狂奔\n",
      "作者: humbler (獸人H)\n",
      "[BOX ] Mavericks 102:106 Suns 數據\n",
      "[情報] Kerr:開幕戰收到KT的訊息，需要這種聯繫\n",
      "作者: ckny (辛苦的歲月)\n",
      "[花邊] Jaylen與Tatum合照慶祝勝利：打板三分，\n",
      "作者: ckny (辛苦的歲月)\n",
      "Re: [BOX] Mavericks 102:106 Suns 數據\n",
      "作者: yokoogawa (Hey)\n",
      "[公告] 板規v6.8\n",
      "[情報] 2020-21 自由球員市場異動 (表格)(12/10)\n",
      "[情報] 2020-21 自由球員市場異動 (每日文字)  \n",
      "[情報] PRE SEASON Schedule 賽程 20–21\n",
      "作者: Acetoxy (阿斯)\n"
     ]
    }
   ],
   "source": [
    "import requests\n",
    "from bs4 import BeautifulSoup\n",
    "\n",
    "url = 'https://www.ptt.cc/bbs/NBA/index.html'\n",
    "r = requests.get(url)\n",
    "\n",
    "soup = BeautifulSoup(r.text, \"html5lib\")\n",
    "\n",
    "for d in soup.find_all(class_=\"title\"):\n",
    "    #print(d.text)\n",
    "    print(d.text.replace('\\t', '').replace('\\n', ''))  #去掉換行(\\n)與Tab(\\t)\n",
    "    try:\n",
    "        r = BeautifulSoup(requests.get('https://www.ptt.cc'+d.find('a')['href']).text, \"html5lib\")\n",
    "        print('作者: ' + r.find(class_='article-meta-value').text)\n",
    "    except:\n",
    "        continue"
   ]
  },
  {
   "cell_type": "markdown",
   "metadata": {},
   "source": [
    "### ① 印出最新文章的「作者」「標題」「時間」"
   ]
  },
  {
   "cell_type": "code",
   "execution_count": 12,
   "metadata": {},
   "outputs": [
    {
     "name": "stdout",
     "output_type": "stream",
     "text": [
      "{'標題': 'Re: [BOX] Mavericks 102:106 Suns 數據', '作者': 'yokoogawa (Hey)', '時間': 'Thu Dec 24 16:00:05 2020'}\n",
      "{'標題': 'Re: [BOX] Mavericks 102:106 Suns 數據', '作者': 'yokoogawa (Hey)', '時間': 'Thu Dec 24 16:00:05 2020'}\n",
      "{'標題': '[情報] PRE SEASON Schedule 賽程 20–21', '作者': 'Acetoxy (阿斯)', '時間': 'Sat Dec 12 01:59:46 2020'}\n"
     ]
    }
   ],
   "source": [
    "# 因為原始的資料難以判斷「新/舊」，因此我們必須進入內頁抓取詳細的時間，最終存成 List of Dict 的形式再自行排序。\n",
    "\n",
    "posts = []\n",
    "\n",
    "for d in soup.find_all(class_=\"title\"):\n",
    "    try:\n",
    "        post = {}\n",
    "        post['標題'] = d.text.replace('\\t', '').replace('\\n', '')\n",
    "        \n",
    "        r = BeautifulSoup(requests.get('https://www.ptt.cc'+d.find('a')['href']).text, \"html5lib\")\n",
    "        post['作者'] = r.find(class_='article-meta-value').text\n",
    "        post['時間'] = r.find_all(class_='article-meta-value')[-1].text\n",
    "        \n",
    "        posts.append(post)\n",
    "    except:\n",
    "        continue\n",
    "        \n",
    "posts = sorted(posts, key= lambda x: x['時間']) #預設 reverse=False，順序排列，最後一筆為最新資料\n",
    "posts_2 = sorted(posts, key= lambda x: x['時間'], reverse=False)\n",
    "posts_3 = sorted(posts, key= lambda x: x['時間'], reverse=True) #倒序排列，第一筆為最新資料\n",
    "\n",
    "# 補充：List of Dict 的排序方法\n",
    "# https://stackoverflow.com/questions/72899/how-do-i-sort-a-list-of-dictionaries-by-a-value-of-the-dictionary\n",
    "print(posts[-1])\n",
    "print(posts_2[-1])\n",
    "print(posts_3[-1])"
   ]
  },
  {
   "cell_type": "markdown",
   "metadata": {},
   "source": [
    "### ② 印出第一頁所有文章的「作者」「標題」「時間」"
   ]
  },
  {
   "cell_type": "code",
   "execution_count": 13,
   "metadata": {},
   "outputs": [
    {
     "name": "stdout",
     "output_type": "stream",
     "text": [
      "標題：  [情報] 狀元:我感覺我打得非常好,適應NBA並不難\n",
      "作者：  sezna\n",
      "時間：  12/24\n",
      "標題：  [BOX ] Jazz 120:100 Blazers 數據\n",
      "作者：  Rambo\n",
      "時間：  12/24\n",
      "標題：  [討論] Buddy絕殺後帶領隊友狂奔\n",
      "作者：  humbler\n",
      "時間：  12/24\n",
      "標題：  [BOX ] Mavericks 102:106 Suns 數據\n",
      "作者：  Rambo\n",
      "時間：  12/24\n",
      "標題：  [情報] Kerr:開幕戰收到KT的訊息，需要這種聯繫\n",
      "作者：  ckny\n",
      "時間：  12/24\n",
      "標題：  [花邊] Jaylen與Tatum合照慶祝勝利：打板三分，\n",
      "作者：  ckny\n",
      "時間：  12/24\n",
      "標題：  Re: [BOX] Mavericks 102:106 Suns 數據\n",
      "作者：  yokoogawa\n",
      "時間：  12/24\n",
      "標題：  [公告] 板規v6.8\n",
      "作者：  Vedan\n",
      "時間：   5/24\n",
      "標題：  [情報] 2020-21 自由球員市場異動 (表格)(12/10)\n",
      "作者：  laigei\n",
      "時間：  11/19\n",
      "標題：  [情報] 2020-21 自由球員市場異動 (每日文字)  \n",
      "作者：  laigei\n",
      "時間：  11/19\n",
      "標題：  [情報] PRE SEASON Schedule 賽程 20–21\n",
      "作者：  Acetoxy\n",
      "時間：  12/12\n"
     ]
    }
   ],
   "source": [
    "# 方法一：只從首頁\n",
    "for d in soup.find_all(class_=\"r-ent\"):\n",
    "    print('標題： ', d.find(class_='title').text.replace('\\t', '').replace('\\n', ''))\n",
    "    print('作者： ', d.find(class_='author').text.replace('\\t', '').replace('\\n', ''))\n",
    "    print('時間： ', d.find(class_='date').text.replace('\\t', '').replace('\\n', ''))\n",
    "    "
   ]
  },
  {
   "cell_type": "code",
   "execution_count": 14,
   "metadata": {},
   "outputs": [
    {
     "name": "stdout",
     "output_type": "stream",
     "text": [
      "標題：  [情報] 狀元:我感覺我打得非常好,適應NBA並不難\n",
      "作者： sezna (sezna)\n",
      "時間： Thu Dec 24 13:14:44 2020\n",
      "標題：  [BOX ] Jazz 120:100 Blazers 數據\n",
      "標題：  [討論] Buddy絕殺後帶領隊友狂奔\n",
      "作者： humbler (獸人H)\n",
      "時間： Thu Dec 24 13:26:06 2020\n",
      "標題：  [BOX ] Mavericks 102:106 Suns 數據\n",
      "標題：  [情報] Kerr:開幕戰收到KT的訊息，需要這種聯繫\n",
      "作者： ckny (辛苦的歲月)\n",
      "時間： Thu Dec 24 14:37:41 2020\n",
      "標題：  [花邊] Jaylen與Tatum合照慶祝勝利：打板三分，\n",
      "作者： ckny (辛苦的歲月)\n",
      "時間： Thu Dec 24 14:55:38 2020\n",
      "標題：  Re: [BOX] Mavericks 102:106 Suns 數據\n",
      "作者： yokoogawa (Hey)\n",
      "時間： Thu Dec 24 16:00:05 2020\n",
      "標題：  [公告] 板規v6.8\n",
      "標題：  [情報] 2020-21 自由球員市場異動 (表格)(12/10)\n",
      "標題：  [情報] 2020-21 自由球員市場異動 (每日文字)  \n",
      "標題：  [情報] PRE SEASON Schedule 賽程 20–21\n",
      "作者： Acetoxy (阿斯)\n",
      "時間： Sat Dec 12 01:59:46 2020\n"
     ]
    }
   ],
   "source": [
    "# 方法二：進入內頁抓\n",
    "for d in soup.find_all(class_=\"title\"):\n",
    "    try:\n",
    "        print('標題： ', d.text.replace('\\t', '').replace('\\n', ''))\n",
    "        \n",
    "        r = BeautifulSoup(requests.get('https://www.ptt.cc'+d.find('a')['href']).text, \"html5lib\")\n",
    "        print('作者： ' + r.find(class_='article-meta-value').text)\n",
    "        print('時間： ' + r.find_all(class_='article-meta-value')[-1].text)\n",
    "    except:\n",
    "        continue"
   ]
  },
  {
   "cell_type": "markdown",
   "metadata": {},
   "source": [
    "### ③ 試著爬爬看其他版的文章"
   ]
  },
  {
   "cell_type": "code",
   "execution_count": 16,
   "metadata": {},
   "outputs": [
    {
     "data": {
      "text/plain": [
       "{'標題': '[公告] 未滿1元之集點資訊集中文',\n",
       " '作者': 'medama ( )',\n",
       " '時間': 'Tue Dec  1 23:53:51 2020'}"
      ]
     },
     "execution_count": 16,
     "metadata": {},
     "output_type": "execute_result"
    }
   ],
   "source": [
    "# 改成 Lifeismoney 版，抓出最新一筆的文章\n",
    "\n",
    "import requests\n",
    "from bs4 import BeautifulSoup\n",
    "\n",
    "url = 'https://www.ptt.cc/bbs/Lifeismoney/index.html'\n",
    "r = requests.get(url)\n",
    "\n",
    "soup = BeautifulSoup(r.text, \"html5lib\")\n",
    "\n",
    "posts = []\n",
    "\n",
    "for d in soup.find_all(class_=\"title\"):\n",
    "    try:\n",
    "        post = {}\n",
    "        post['標題'] = d.text.replace('\\t', '').replace('\\n', '')\n",
    "        \n",
    "        r = BeautifulSoup(requests.get('https://www.ptt.cc'+d.find('a')['href']).text, \"html5lib\")\n",
    "        post['作者'] = r.find(class_='article-meta-value').text\n",
    "        post['時間'] = r.find_all(class_='article-meta-value')[-1].text\n",
    "        \n",
    "        posts.append(post)\n",
    "    except:\n",
    "        continue\n",
    "        \n",
    "posts = sorted(posts, key= lambda x: x['時間'])\n",
    "posts[-1]"
   ]
  },
  {
   "cell_type": "code",
   "execution_count": 23,
   "metadata": {},
   "outputs": [
    {
     "ename": "IndexError",
     "evalue": "list index out of range",
     "output_type": "error",
     "traceback": [
      "\u001b[1;31m---------------------------------------------------------------------------\u001b[0m",
      "\u001b[1;31mIndexError\u001b[0m                                Traceback (most recent call last)",
      "\u001b[1;32m<ipython-input-23-882a667cdde2>\u001b[0m in \u001b[0;36m<module>\u001b[1;34m\u001b[0m\n\u001b[0;32m     25\u001b[0m \u001b[1;33m\u001b[0m\u001b[0m\n\u001b[0;32m     26\u001b[0m \u001b[0mposts\u001b[0m \u001b[1;33m=\u001b[0m \u001b[0msorted\u001b[0m\u001b[1;33m(\u001b[0m\u001b[0mposts\u001b[0m\u001b[1;33m,\u001b[0m \u001b[0mkey\u001b[0m\u001b[1;33m=\u001b[0m \u001b[1;32mlambda\u001b[0m \u001b[0mx\u001b[0m\u001b[1;33m:\u001b[0m \u001b[0mx\u001b[0m\u001b[1;33m[\u001b[0m\u001b[1;34m'時間'\u001b[0m\u001b[1;33m]\u001b[0m\u001b[1;33m)\u001b[0m\u001b[1;33m\u001b[0m\u001b[1;33m\u001b[0m\u001b[0m\n\u001b[1;32m---> 27\u001b[1;33m \u001b[0mposts\u001b[0m\u001b[1;33m[\u001b[0m\u001b[1;33m-\u001b[0m\u001b[1;36m1\u001b[0m\u001b[1;33m]\u001b[0m\u001b[1;33m\u001b[0m\u001b[1;33m\u001b[0m\u001b[0m\n\u001b[0m",
      "\u001b[1;31mIndexError\u001b[0m: list index out of range"
     ]
    }
   ],
   "source": [
    "# 改成 Gossiping 版，發生錯誤，因為八卦版會跳轉到一個「十八歲的同意驗證頁面」導致錯誤。\n",
    "\n",
    "import requests\n",
    "from bs4 import BeautifulSoup\n",
    "\n",
    "url = 'https://www.ptt.cc/bbs/Gossiping/index.html'\n",
    "r = requests.get(url)\n",
    "\n",
    "soup = BeautifulSoup(r.text, \"html5lib\")\n",
    "\n",
    "posts = []\n",
    "\n",
    "for d in soup.find_all(class_=\"title\"):\n",
    "    try:\n",
    "        post = {}\n",
    "        post['標題'] = d.text.replace('\\t', '').replace('\\n', '')\n",
    "        \n",
    "        r = BeautifulSoup(requests.get('https://www.ptt.cc'+d.find('a')['href']).text, \"html5lib\")\n",
    "        post['作者'] = r.find(class_='article-meta-value').text\n",
    "        post['時間'] = r.find_all(class_='article-meta-value')[-1].text\n",
    "        \n",
    "        posts.append(post)\n",
    "    except:\n",
    "        continue\n",
    "        \n",
    "posts = sorted(posts, key= lambda x: x['時間'])\n",
    "posts[-1]"
   ]
  },
  {
   "cell_type": "code",
   "execution_count": 24,
   "metadata": {},
   "outputs": [
    {
     "data": {
      "text/plain": [
       "{'標題': '[公告] 線上聖誕夜活動閒聊&活動專區',\n",
       " '作者': 'ubcs (覺★青年超冒險蓋)',\n",
       " '時間': 'Tue Dec 22 20:12:50 2020'}"
      ]
     },
     "execution_count": 24,
     "metadata": {},
     "output_type": "execute_result"
    }
   ],
   "source": [
    "# 改成 Gossiping 版，發生錯誤，因為八卦版會跳轉到一個「十八歲的同意驗證頁面」導致錯誤。\n",
    "# 參考圖片下載時的解法，加上 cookies 繞過驗證（後面課程會再進行補充）\n",
    "\n",
    "import requests\n",
    "from bs4 import BeautifulSoup\n",
    "\n",
    "url = 'https://www.ptt.cc/bbs/Gossiping/index.html'\n",
    "r = requests.get(url, cookies={'over18': '1'})\n",
    "\n",
    "soup = BeautifulSoup(r.text, \"html5lib\")\n",
    "\n",
    "posts = []\n",
    "\n",
    "for d in soup.find_all(class_=\"title\"):\n",
    "    try:\n",
    "        post = {}\n",
    "        post['標題'] = d.text.replace('\\t', '').replace('\\n', '')\n",
    "        \n",
    "        r = BeautifulSoup(requests.get('https://www.ptt.cc'+d.find('a')['href'], cookies={'over18': '1'}).text, \"html5lib\")\n",
    "        post['作者'] = r.find(class_='article-meta-value').text\n",
    "        post['時間'] = r.find_all(class_='article-meta-value')[-1].text\n",
    "        \n",
    "        posts.append(post)\n",
    "    except:\n",
    "        continue\n",
    "        \n",
    "posts = sorted(posts, key= lambda x: x['時間'])\n",
    "posts[-1]"
   ]
  },
  {
   "cell_type": "code",
   "execution_count": 32,
   "metadata": {},
   "outputs": [
    {
     "data": {
      "text/plain": [
       "[{'標題': '[公告] 八卦板板規(2020.11.21)',\n",
       "  '作者': 'arsonlolita (蘿莉都布羅利)',\n",
       "  '時間': 'Sat Nov 21 23:11:42 2020'},\n",
       " {'標題': '[協尋] 11/23晚間 東勢往卓蘭行車記錄器',\n",
       "  '作者': 'ding88510 (丁丁)',\n",
       "  '時間': 'Sat Nov 28 01:54:24 2020'},\n",
       " {'標題': '[問卦] 健康滷肉飯去哪裡吃？',\n",
       "  '作者': 'TCMRYUTARO (TCMRYUTARO)',\n",
       "  '時間': 'Thu Dec 24 20:52:25 2020'},\n",
       " {'標題': 'Re: [問卦] 禿頭是不是可以信伊斯蘭教來掩飾',\n",
       "  '作者': 'drogoman (玉花驄)',\n",
       "  '時間': 'Thu Dec 24 20:53:00 2020'},\n",
       " {'標題': '[問卦] 為啥臺灣沒有老罈酸菜牛肉麵',\n",
       "  '作者': 'ltony01 (ltony01)',\n",
       "  '時間': 'Thu Dec 24 20:53:55 2020'},\n",
       " {'標題': '[問卦] 陳瑞振或陳江和打的過馬保國嗎？',\n",
       "  '作者': 'p69005103 (ANDY)',\n",
       "  '時間': 'Thu Dec 24 20:54:17 2020'},\n",
       " {'標題': '[問卦] 猛甲和狂甲哪個好',\n",
       "  '作者': 'InDer5566 (在這5566)',\n",
       "  '時間': 'Thu Dec 24 20:54:44 2020'},\n",
       " {'標題': '[問卦] 這題這樣選可以嗎 ?',\n",
       "  '作者': 'triumphant10 ()',\n",
       "  '時間': 'Thu Dec 24 20:55:24 2020'},\n",
       " {'標題': '[問卦] 今際之國最正女角色要選誰?',\n",
       "  '作者': 'coga4712 (海森堡)',\n",
       "  '時間': 'Thu Dec 24 20:55:54 2020'},\n",
       " {'標題': '[問卦] 客戶疑似想挖角我  如何處置？',\n",
       "  '作者': 'cc02040326 (茶包)',\n",
       "  '時間': 'Thu Dec 24 20:56:50 2020'},\n",
       " {'標題': 'Re: [問卦] 朋友女友突然說今晚可以內射',\n",
       "  '作者': 'emailcool (emailcool)',\n",
       "  '時間': 'Thu Dec 24 20:56:59 2020'},\n",
       " {'標題': 'Re: [新聞] 反對校園禁萊豬入法 吳思瑤：會讓中國得',\n",
       "  '作者': 'GoogleDocs (Google文件)',\n",
       "  '時間': 'Thu Dec 24 20:57:32 2020'},\n",
       " {'標題': '[問卦] 撲克牌剩最後一張要喊拉還是拉斯斗?',\n",
       "  '作者': 'sakeya (薩琪亞)',\n",
       "  '時間': 'Thu Dec 24 20:58:41 2020'},\n",
       " {'標題': '[新聞] 寶和會買兇價碼曝光 館長25萬最低',\n",
       "  '作者': 'LimYoHwan (gosu mage)',\n",
       "  '時間': 'Thu Dec 24 20:59:32 2020'},\n",
       " {'標題': '[問卦] 聖誕節單身是不是好爽',\n",
       "  '作者': 'Tommy92C (Devil)',\n",
       "  '時間': 'Thu Dec 24 20:59:41 2020'},\n",
       " {'標題': 'Re: [問卦] 為什麼台菜二世祖這幾天又被抓出來鞭了 ?',\n",
       "  '作者': 'owo0204 (禦史郎)',\n",
       "  '時間': 'Thu Dec 24 21:00:28 2020'},\n",
       " {'標題': '[問卦] 有沒有台男穿衣服很俗氣的八卦',\n",
       "  '作者': 'Eangel ()',\n",
       "  '時間': 'Thu Dec 24 21:00:40 2020'},\n",
       " {'標題': '[問卦] 平安夜要怎麼守護貞操',\n",
       "  '作者': 'sushi11 (偶像可以亂摸嗎peko)',\n",
       "  '時間': 'Thu Dec 24 21:01:37 2020'},\n",
       " {'標題': '[問卦] 奴隸人格的人也太多了',\n",
       "  '作者': 'eyesg (彌十郎)',\n",
       "  '時間': 'Thu Dec 24 21:02:00 2020'},\n",
       " {'標題': '[問卦] 乃木坂46的羊奶畢業是不是很可惜?',\n",
       "  '作者': 'afa5644ti (森田ひかる得第一)',\n",
       "  '時間': 'Thu Dec 24 21:02:58 2020'},\n",
       " {'標題': '[問卦] 為什麼今晚做愛可以很大聲？',\n",
       "  '作者': 'milkBK (blitzkrieg比較低)',\n",
       "  '時間': 'Thu Dec 24 21:03:14 2020'},\n",
       " {'標題': '[公告] 十二鬼月置底閒聊區',\n",
       "  '作者': 'ubcs (覺★青年超冒險蓋)',\n",
       "  '時間': 'Tue Dec  1 19:45:41 2020'},\n",
       " {'標題': '[公告] 線上聖誕夜活動閒聊&活動專區',\n",
       "  '作者': 'ubcs (覺★青年超冒險蓋)',\n",
       "  '時間': 'Tue Dec 22 20:12:50 2020'}]"
      ]
     },
     "execution_count": 32,
     "metadata": {},
     "output_type": "execute_result"
    }
   ],
   "source": [
    "# 我們發現這個時間好像不是正確的，原因是我們前面存到的時間，其實不是正確的格式\n",
    "\n",
    "import requests\n",
    "from bs4 import BeautifulSoup\n",
    "\n",
    "url = 'https://www.ptt.cc/bbs/Gossiping/index.html'\n",
    "r = requests.get(url, cookies={'over18': '1'})\n",
    "\n",
    "soup = BeautifulSoup(r.text, \"html5lib\")\n",
    "\n",
    "posts = []\n",
    "\n",
    "for d in soup.find_all(class_=\"title\"):\n",
    "    try:\n",
    "        post = {}\n",
    "        post['標題'] = d.text.replace('\\t', '').replace('\\n', '')\n",
    "        \n",
    "        r = BeautifulSoup(requests.get('https://www.ptt.cc'+d.find('a')['href'], cookies={'over18': '1'}).text, \"html5lib\")\n",
    "        post['作者'] = r.find(class_='article-meta-value').text\n",
    "        post['時間'] = r.find_all(class_='article-meta-value')[-1].text\n",
    "        #post['時間'] = datetime.strptime(post['時間'], \"%a %b %d %H:%M:%S %Y\")\n",
    "        # 時間轉換：https://stackoverflow.com/questions/10256093/how-to-convert-ctime-to-datetime-in-python\n",
    "        \n",
    "        posts.append(post)\n",
    "    except:\n",
    "        continue\n",
    "        \n",
    "posts = sorted(posts, key= lambda x: x['時間'])\n",
    "posts"
   ]
  },
  {
   "cell_type": "code",
   "execution_count": 34,
   "metadata": {},
   "outputs": [
    {
     "data": {
      "text/plain": [
       "{'標題': '[公告] 線上聖誕夜活動閒聊&活動專區',\n",
       " '作者': 'ubcs (覺★青年超冒險蓋)',\n",
       " '時間': 'Tue Dec 22 20:12:50 2020'}"
      ]
     },
     "execution_count": 34,
     "metadata": {},
     "output_type": "execute_result"
    }
   ],
   "source": [
    "posts[-1]"
   ]
  },
  {
   "cell_type": "code",
   "execution_count": null,
   "metadata": {},
   "outputs": [],
   "source": []
  }
 ],
 "metadata": {
  "kernelspec": {
   "display_name": "Python 3",
   "language": "python",
   "name": "python3"
  },
  "language_info": {
   "codemirror_mode": {
    "name": "ipython",
    "version": 3
   },
   "file_extension": ".py",
   "mimetype": "text/x-python",
   "name": "python",
   "nbconvert_exporter": "python",
   "pygments_lexer": "ipython3",
   "version": "3.8.3"
  }
 },
 "nbformat": 4,
 "nbformat_minor": 2
}
