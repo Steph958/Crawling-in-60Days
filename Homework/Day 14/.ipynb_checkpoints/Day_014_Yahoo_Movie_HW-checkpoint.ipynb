{
 "cells": [
  {
   "cell_type": "markdown",
   "metadata": {},
   "source": [
    "# YAHOO電影爬蟲練習\n",
    "## 練習爬取電影放映資訊。必須逐步獲取電影的代號、放映地區、放映日期後，再送出查詢給伺服器。"
   ]
  },
  {
   "cell_type": "code",
   "execution_count": 1,
   "metadata": {},
   "outputs": [],
   "source": [
    "import requests\n",
    "import re\n",
    "from bs4 import BeautifulSoup"
   ]
  },
  {
   "cell_type": "markdown",
   "metadata": {},
   "source": [
    "### 先搜尋全部的電影代號(ID)資訊"
   ]
  },
  {
   "cell_type": "code",
   "execution_count": 2,
   "metadata": {},
   "outputs": [
    {
     "name": "stdout",
     "output_type": "stream",
     "text": [
      "Movie: 幽靈戰場, ID: 11216\n",
      "Movie: 無邪, ID: 11168\n",
      "Movie: 騙騙愛上你, ID: 11165\n",
      "Movie: 龍貓, ID: 11163\n",
      "Movie: 養鬼人, ID: 11149\n",
      "Movie: 燕, ID: 11143\n",
      "Movie: 馬里蓋拉：革命先鋒, ID: 11118\n",
      "Movie: 緝魂, ID: 11113\n",
      "Movie: 海豚總動員, ID: 11068\n",
      "Movie: 細物警探, ID: 11161\n",
      "Movie: 午夜密令, ID: 11150\n",
      "Movie: 通靈駕訓班, ID: 11173\n",
      "Movie: 法蘭克, ID: 11158\n",
      "Movie: 天若有情, ID: 11157\n",
      "Movie: 我的虎斑貓爸爸, ID: 11154\n",
      "Movie: 愛慾每一天, ID: 11140\n",
      "Movie: 愛的亡靈, ID: 11120\n",
      "Movie: 哭悲, ID: 11115\n",
      "Movie: 劇場版超人力霸王大河—新世代終結黑暗, ID: 11091\n",
      "Movie: 想見你的愛, ID: 11064\n",
      "Movie: 她們玩到掛, ID: 11059\n",
      "Movie: 《屁屁偵探：咖哩香料事件》＋《屁屁偵探：瓢蟲遺蹟之謎》, ID: 11174\n",
      "Movie: 捍衛救援, ID: 11153\n",
      "Movie: 喬瑟與虎與魚群動畫版, ID: 11127\n",
      "Movie: 約定的夢幻島, ID: 11122\n",
      "Movie: 叱咤風雲, ID: 11181\n",
      "Movie: 馬德里金庫盜數90分鐘, ID: 11184\n",
      "Movie: 偷畫男孩, ID: 11172\n",
      "Movie: 李希特舒眠曲, ID: 11170\n",
      "Movie: 我在時間盡頭等你, ID: 11164\n",
      "Movie: 哲人王：李登輝對話篇, ID: 11144\n",
      "Movie: 末路狂奔, ID: 11141\n",
      "Movie: 凶宅怪談, ID: 11128\n",
      "Movie: 死亡醫生的遺產, ID: 11125\n",
      "Movie: 好好拍電影, ID: 11119\n",
      "Movie: 最美麗的歲月, ID: 11112\n",
      "Movie: 異種獵殺, ID: 11110\n",
      "Movie: 千年女優4K數位修復版, ID: 11062\n",
      "Movie: 俘虜, ID: 11146\n",
      "Movie: 妄想代理人：後篇, ID: 11103\n",
      "Movie: 迷失安狄, ID: 11085\n",
      "Movie: 破處那件小事, ID: 11029\n",
      "Movie: 妄想代理人：前篇, ID: 11102\n",
      "Movie: 午夜天鵝, ID: 11045\n",
      "Movie: 拆彈專家2, ID: 10986\n",
      "Movie: 杏林醫院, ID: 10781\n",
      "Movie: 靈魂急轉彎, ID: 11089\n",
      "Movie: 腿, ID: 10934\n",
      "Movie: 神力女超人1984, ID: 10413\n",
      "Movie: 魔物獵人, ID: 10983\n",
      "Movie: 用甜酒漱口, ID: 10895\n",
      "Movie: MISS, ID: 11036\n",
      "Movie: 緝毒風暴, ID: 11023\n",
      "Movie: 說不出的告別, ID: 11019\n",
      "Movie: 古魯家族：新石代, ID: 10958\n",
      "Movie: 盜墓同盟, ID: 11031\n",
      "Movie: 婊兄弟上路, ID: 11003\n",
      "Movie: 消失的星期三, ID: 10949\n",
      "Movie: 宅在瘟疫蔓延時, ID: 10974\n",
      "Movie: 換人殺砍砍, ID: 10933\n",
      "Movie: 孤味, ID: 10477\n",
      "Movie: 女巫們, ID: 10976\n",
      "Movie: 入魔, ID: 10989\n",
      "Movie: 鬼滅之刃劇場版 無限列車篇, ID: 10816\n",
      "Movie: 地下弒的秘密, ID: 10984\n",
      "Movie: 看不見的目擊者, ID: 10946\n",
      "Movie: 無聲, ID: 10926\n",
      "Movie: 倒數反擊, ID: 10906\n",
      "Movie: 刻在你心底的名字, ID: 10902\n",
      "Movie: 森林特攻隊：大腳ㄚ家族, ID: 10894\n",
      "Movie: 消失的情人節, ID: 10870\n",
      "Movie: TENET天能, ID: 10433\n",
      "Movie: 角落小夥伴電影版：魔法繪本裡的新朋友, ID: 10647\n",
      "Movie: 1917, ID: 10189\n",
      "Movie: 一首搖滾上月球, ID: 4887\n",
      "Movie: 消失打看, ID: 3819\n",
      "Movie: 錢不夠用2, ID: 3026\n"
     ]
    }
   ],
   "source": [
    "# 查看目前上映那些電影，並擷取出其ID資訊\n",
    "url = 'https://movies.yahoo.com.tw/'\n",
    "resp = requests.get(url)\n",
    "resp.encoding = 'utf-8'\n",
    "\n",
    "soup = BeautifulSoup(resp.text, 'lxml')\n",
    "html = soup.find(\"select\", attrs={'name':'movie_id'})\n",
    "movie_item = html.find_all(\"option\", attrs={'data-name':re.compile('.*')})\n",
    "\n",
    "for p in movie_item:\n",
    "    print(\"Movie: %s, ID: %s\" % (p[\"data-name\"], p[\"value\"]))"
   ]
  },
  {
   "cell_type": "markdown",
   "metadata": {},
   "source": [
    "### 指定你有興趣的電影其ID，然後查詢其放映地區資訊。"
   ]
  },
  {
   "cell_type": "code",
   "execution_count": 5,
   "metadata": {},
   "outputs": [],
   "source": [
    "# 參考前一個步驟中擷取到的ID資訊，並指定ID\n",
    "movie_id = 10902"
   ]
  },
  {
   "cell_type": "code",
   "execution_count": 6,
   "metadata": {},
   "outputs": [
    {
     "name": "stdout",
     "output_type": "stream",
     "text": [
      "放映地區: 新竹, 代號(area_id): 20\n",
      "放映地區: 台中, 代號(area_id): 2\n",
      "放映地區: 高雄, 代號(area_id): 17\n"
     ]
    }
   ],
   "source": [
    "url = 'https://movies.yahoo.com.tw/api/v1/areas_by_movie_theater'\n",
    "payload = {'movie_id':str(movie_id)}\n",
    "\n",
    "# 模擬一個header\n",
    "headers = {\n",
    "    'authority': 'movies.yahoo.com.tw',\n",
    "    'method': 'GET',\n",
    "    'path': '/api/v1/areas_by_movie_theater?movie_id=' + str(movie_id),\n",
    "    'scheme': 'https',\n",
    "    'accept': 'application/json, text/javascript, */*; q=0.01',\n",
    "    'accept-encoding': 'gzip, deflate, br',\n",
    "    'accept-language': 'zh-TW,zh;q=0.9,en-US;q=0.8,en;q=0.7,zh-CN;q=0.6',\n",
    "    'cookie': 'rxx=9s3x2fws06.1g16irnc&v=1; _ga=GA1.3.2056742944.1551651301; GUC=AQEBAQFczFpdm0IfmwSB&s=AQAAACoo4N5D&g=XMsVBw; BX=4hkdk1decm57t&b=3&s=mr; _ga=GA1.4.2056742944.1551651301; nexagesuid=82843256dd234e8e91aa73f2062f8218; browsed_movie=eyJpdiI6IlJXWWtiSWJaZlNGK2MxQnhscnVUYWc9PSIsInZhbHVlIjoiMXRhMmVHRXRIeUNjc1RBWDJzdGYwbnlIQURmWGsrcjJSMzhkbkcraDNJVUNIZEZsbzU3amlFcVZ1NzlmazJrTGpoMjVrbHk1YmpoRENXaHZTOUw1TmI2ZTZVWHdOejZQZm16RmVuMWlHTTJLaTZLVFZZVkFOMDlTd1wvSGltcytJIiwibWFjIjoiZWQ2ZjA4MmVjZmZlYjlmNjJmYmY2NGMyMDI0Njc0NWViYjVkOWE2NDg0N2RhODMxZjBjZDhiMmJhZTc2MDZhYiJ9; avi=eyJpdiI6Im1NeWFJRlVRWDR1endEcGRGUGJUbVE9PSIsInZhbHVlIjoickRpU3JuUytmcGl6cjF5OW0rNU9iZz09IiwibWFjIjoiY2VmY2NkNzZmM2NhNjY5YzlkOTcyNjE5OGEyMzU0NWYxOTdmMDRkMDY3OWNmMmZjOTMxYjc5MjI5N2Q5NGE5MiJ9; cmp=t=1559391030&j=0; _gid=GA1.4.779543841.1559391031; XSRF-TOKEN=eyJpdiI6IkhpS2hGcDRQaHlmWUJmaHdSS2Q2bHc9PSIsInZhbHVlIjoiOUVoNFk4OHI1UUZmUWRtYXhza0MyWjJSTlhlZ3RnT0VGeVJPN2JuczVRMGRFdWt2OUlsamVKeHRobFwvcHBGM0dhU3VyMXNGTHlsb2dVM2l0U1hpUGxBPT0iLCJtYWMiOiJkZWU4YzJhNjAxMTY3MzE4Y2ExNWIxYmE1ZjE1YWZlZTlhOTcyYjc4M2RlZGY4ZWNjZDYyMTA2NGYwZGViMzc2In0%3D; m_s=eyJpdiI6InpsZHZ2Tk1BZ0dxaHhETml1RjBnUXc9PSIsInZhbHVlIjoiSkNGeHUranRoXC85bDFiaDhySTJqNkJRcWdjWUxjeVRJSHVYZ1wvd2d4bWJZUTUrSHVDM0lUcW5KNHdETFZ4T1lieU81OUhzc1VoUXhZcWk0UDZSQXVFdz09IiwibWFjIjoiYmJkMDJkMDhlODIzMzcyMWY4M2NmYWNjNGVlOWRjMDIwZmVmNzAyMjE3Yzg3ZGY3ODBkZWEzZTI4MTI5ZWNmOSJ9; _gat=1; nexagesd=10',\n",
    "    'dnt': '1',\n",
    "    'mv-authorization': '21835b082e15b91a69b3851eec7b31b82ce82afb',\n",
    "    'referer': 'https://movies.yahoo.com.tw/',\n",
    "    'user-agent': 'Mozilla/5.0 (Windows NT 10.0; Win64; x64) AppleWebKit/537.36 (KHTML, like Gecko) Chrome/74.0.3729.169 Safari/537.36',\n",
    "    'x-requested-with': 'XMLHttpRequest',\n",
    "}\n",
    "    \n",
    "resp = requests.get(url, params=payload, headers=headers)\n",
    "#print(resp.json())  # 若有需要，列印出json原始碼\n",
    "\n",
    "# 這裡回傳的格式是JSON格式的資料，要解析JSON擷取資料\n",
    "for p in resp.json():\n",
    "    print('放映地區: {0}, 代號(area_id): {1}'.format(p['title'], p['area_id']))"
   ]
  },
  {
   "cell_type": "markdown",
   "metadata": {},
   "source": [
    "### 指定你想要觀看的放映地區，查詢有上映電影的場次日期"
   ]
  },
  {
   "cell_type": "code",
   "execution_count": 7,
   "metadata": {},
   "outputs": [],
   "source": [
    "# 指定放映地區\n",
    "area_id = 17"
   ]
  },
  {
   "cell_type": "code",
   "execution_count": 8,
   "metadata": {},
   "outputs": [
    {
     "name": "stdout",
     "output_type": "stream",
     "text": [
      "一月 29\n",
      "一月 30\n",
      "一月 31\n",
      "二月 1\n",
      "二月 2\n"
     ]
    }
   ],
   "source": [
    "# 向網站發送請求\n",
    "url = 'https://movies.yahoo.com.tw/movietime_result.html'\n",
    "payload = {'movie_id':str(movie_id), 'area_id':str(area_id)}\n",
    "resp = requests.get(url, params=payload)\n",
    "resp.encoding = 'utf-8'\n",
    "\n",
    "soup = BeautifulSoup(resp.text, 'lxml')\n",
    "movie_date = soup.find_all(\"label\", attrs={'for':re.compile(\"date_[\\d]\")})\n",
    "\n",
    "# 列印播放日期\n",
    "for date in movie_date:\n",
    "    print(\"%s %s\" % (date.p.string, date.h3.string))"
   ]
  },
  {
   "cell_type": "markdown",
   "metadata": {},
   "source": [
    "### 最後指定觀看的日期，查詢並列印出放映的電影院、放映類型(數位、3D、IMAX 3D...)、放映時間等資訊。"
   ]
  },
  {
   "cell_type": "code",
   "execution_count": 9,
   "metadata": {},
   "outputs": [],
   "source": [
    "# 選定要觀看的日期\n",
    "date = \"2021-01-31\""
   ]
  },
  {
   "cell_type": "code",
   "execution_count": 10,
   "metadata": {},
   "outputs": [],
   "source": [
    "# 向網站發送請求，獲取上映的電影院及時間資訊\n",
    "url = \"https://movies.yahoo.com.tw/ajax/pc/get_schedule_by_movie\"\n",
    "payload = {'movie_id':str(movie_id),\n",
    "           'date':date,\n",
    "           'area_id':str(area_id),\n",
    "           'theater_id':'',\n",
    "           'datetime':'',\n",
    "           'movie_type_id':''}\n",
    "\n",
    "resp = requests.get(url, params=payload)\n",
    "#print(resp.json()['view'])  # 若有需要，列印出json原始碼\n",
    "\n",
    "soup = BeautifulSoup(resp.json()['view'], 'lxml')\n",
    "html = soup.find_all(\"ul\", attrs={'data-theater_name':re.compile(\".*\")})"
   ]
  },
  {
   "cell_type": "code",
   "execution_count": 13,
   "metadata": {},
   "outputs": [],
   "source": [
    "#print(resp.json()['view'])"
   ]
  },
  {
   "cell_type": "code",
   "execution_count": 15,
   "metadata": {},
   "outputs": [
    {
     "ename": "AttributeError",
     "evalue": "'NoneType' object has no attribute 'find_all'",
     "output_type": "error",
     "traceback": [
      "\u001b[1;31m---------------------------------------------------------------------------\u001b[0m",
      "\u001b[1;31mAttributeError\u001b[0m                            Traceback (most recent call last)",
      "\u001b[1;32m<ipython-input-15-9bbbbd9573f3>\u001b[0m in \u001b[0;36m<module>\u001b[1;34m\u001b[0m\n\u001b[0;32m      7\u001b[0m '''\n\u001b[0;32m      8\u001b[0m \u001b[1;31m# 把電影介紹擷取出來\u001b[0m\u001b[1;33m\u001b[0m\u001b[1;33m\u001b[0m\u001b[1;33m\u001b[0m\u001b[0m\n\u001b[1;32m----> 9\u001b[1;33m \u001b[0mmovie_list\u001b[0m \u001b[1;33m=\u001b[0m \u001b[0msoup\u001b[0m\u001b[1;33m.\u001b[0m\u001b[0mfind\u001b[0m\u001b[1;33m(\u001b[0m\u001b[1;34m\"ul\"\u001b[0m\u001b[1;33m,\u001b[0m \u001b[0mattrs\u001b[0m\u001b[1;33m=\u001b[0m\u001b[1;33m{\u001b[0m\u001b[1;34m\"class\"\u001b[0m\u001b[1;33m:\u001b[0m\u001b[1;34m\"release_list\"\u001b[0m\u001b[1;33m}\u001b[0m\u001b[1;33m)\u001b[0m\u001b[1;33m.\u001b[0m\u001b[0mfind_all\u001b[0m\u001b[1;33m(\u001b[0m\u001b[1;34m\"li\"\u001b[0m\u001b[1;33m)\u001b[0m\u001b[1;33m\u001b[0m\u001b[1;33m\u001b[0m\u001b[0m\n\u001b[0m\u001b[0;32m     10\u001b[0m \u001b[1;32mfor\u001b[0m \u001b[0mp\u001b[0m \u001b[1;32min\u001b[0m \u001b[0mmovie_list\u001b[0m\u001b[1;33m:\u001b[0m\u001b[1;33m\u001b[0m\u001b[1;33m\u001b[0m\u001b[0m\n\u001b[0;32m     11\u001b[0m     \u001b[0mprint\u001b[0m\u001b[1;33m(\u001b[0m\u001b[1;34m\"----------------------------------------------------------------------\"\u001b[0m\u001b[1;33m)\u001b[0m\u001b[1;33m\u001b[0m\u001b[1;33m\u001b[0m\u001b[0m\n",
      "\u001b[1;31mAttributeError\u001b[0m: 'NoneType' object has no attribute 'find_all'"
     ]
    }
   ],
   "source": [
    "'''\n",
    "\n",
    "  試著從上一步驟回傳的電影院資料中，擷取電影院名稱、影片放映類型以及時間表\n",
    "  \n",
    "  Your code here.\n",
    "\n",
    "'''\n",
    "# 把電影介紹擷取出來\n",
    "movie_list = soup.find(\"ul\", attrs={\"class\":\"release_list\"}).find_all(\"li\")\n",
    "for p in movie_list:\n",
    "    print(\"----------------------------------------------------------------------\")\n",
    "        # 電影名稱\n",
    "    movie_name = p.find(\"div\", attrs={\"class\":\"release_movie_name\"})\n",
    "    print(\"電影名稱：\", movie_name.a.string)\n",
    "        \n",
    "        # 定位電影評價資訊欄位\n",
    "    level_box = movie_name.find(\"dl\", attrs={\"class\":\"levelbox\"})\n",
    "        \n",
    "        # 期待度\n",
    "    expectation = level_box.find(\"div\", attrs={\"class\":\"leveltext\"})\n",
    "    print(\"期待度：\", expectation.span.string)\n",
    "        \n",
    "        # 滿意度\n",
    "    satisfaction = level_box.find(\"div\", attrs={\"class\":\"leveltext starwithnum\"})\n",
    "    print(\"滿意度：\", satisfaction.span[\"data-num\"])  # 滿意度可以從\"data-num\"這個屬性擷取\n",
    "        \n",
    "        # 簡介\n",
    "    movie_info = p.find(\"div\", attrs={\"class\":\"release_text\"})\n",
    "    print(movie_info.span.string)"
   ]
  },
  {
   "cell_type": "code",
   "execution_count": null,
   "metadata": {},
   "outputs": [],
   "source": []
  }
 ],
 "metadata": {
  "kernelspec": {
   "display_name": "Python 3",
   "language": "python",
   "name": "python3"
  },
  "language_info": {
   "codemirror_mode": {
    "name": "ipython",
    "version": 3
   },
   "file_extension": ".py",
   "mimetype": "text/x-python",
   "name": "python",
   "nbconvert_exporter": "python",
   "pygments_lexer": "ipython3",
   "version": "3.8.3"
  }
 },
 "nbformat": 4,
 "nbformat_minor": 2
}
