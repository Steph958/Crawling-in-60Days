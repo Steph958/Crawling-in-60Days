{
 "cells": [
  {
   "cell_type": "markdown",
   "metadata": {},
   "source": [
    "# YAHOO電影爬蟲練習\n",
    "## 練習爬取電影放映資訊。必須逐步獲取電影的代號、放映地區、放映日期後，再送出查詢給伺服器。"
   ]
  },
  {
   "cell_type": "code",
   "execution_count": 1,
   "metadata": {},
   "outputs": [],
   "source": [
    "import requests\n",
    "import re\n",
    "from bs4 import BeautifulSoup"
   ]
  },
  {
   "cell_type": "markdown",
   "metadata": {},
   "source": [
    "### 先搜尋全部的電影代號(ID)資訊"
   ]
  },
  {
   "cell_type": "code",
   "execution_count": 2,
   "metadata": {},
   "outputs": [
    {
     "name": "stdout",
     "output_type": "stream",
     "text": [
      "Movie: 靈魂急轉彎, ID: 11089\n",
      "Movie: 瑰麗卡萊爾：浮華紐約, ID: 11129\n",
      "Movie: 愛是您・愛是我, ID: 11123\n",
      "Movie: 來者弒客, ID: 11107\n",
      "Movie: 真愛鄰距離, ID: 11101\n",
      "Movie: 坑爹大作戰, ID: 11082\n",
      "Movie: 生為女人, ID: 10977\n",
      "Movie: 一家之煮, ID: 10955\n",
      "Movie: 腿, ID: 10934\n",
      "Movie: 鬼巢, ID: 11105\n",
      "Movie: 高校棋蹟, ID: 11099\n",
      "Movie: 說唱藝人：希望之聲, ID: 11086\n",
      "Movie: 85年的夏天, ID: 11076\n",
      "Movie: 順其自然的日子, ID: 11066\n",
      "Movie: 總是有個人在愛你, ID: 11063\n",
      "Movie: 手塚治虫迷幻少女, ID: 10912\n",
      "Movie: 神力女超人1984, ID: 10413\n",
      "Movie: 人性爆走課, ID: 11075\n",
      "Movie: 喬瑟與老虎、魚, ID: 11058\n",
      "Movie: 新解釋・三國志, ID: 11050\n",
      "Movie: 信用詐欺師JP：公主篇, ID: 11021\n",
      "Movie: 怵目驚魂28天, ID: 10997\n",
      "Movie: 求婚好意外, ID: 10796\n",
      "Movie: 再見街貓BOB, ID: 11016\n",
      "Movie: 瑜珈怨, ID: 11077\n",
      "Movie: 只有悲傷才是美麗的, ID: 11055\n",
      "Movie: 愛在午夜希臘時, ID: 11054\n",
      "Movie: 愛在黎明破曉時, ID: 11053\n",
      "Movie: 愛在日落巴黎時, ID: 11052\n",
      "Movie: 魔物獵人, ID: 10983\n",
      "Movie: 親愛的殺手, ID: 10861\n",
      "Movie: 未來的我們, ID: 11046\n",
      "Movie: 十二夜2：回到第零天, ID: 11035\n",
      "Movie: 尋找小魔女Doremi, ID: 11027\n",
      "Movie: 緝毒風暴, ID: 11023\n",
      "Movie: 古魯家族：新石代, ID: 10958\n",
      "Movie: 你是豬, ID: 10995\n",
      "Movie: 同學麥娜絲, ID: 10935\n",
      "Movie: 名偵探柯南：紅之校外旅行 鮮紅篇&戀紅篇, ID: 10887\n",
      "Movie: 我的媽媽開GAYBAR, ID: 10973\n",
      "Movie: GIVEN~被贈與的未來劇場版, ID: 11022\n",
      "Movie: 紙花, ID: 10896\n",
      "Movie: 孤味, ID: 10477\n",
      "Movie: 聖荷西謀殺案, ID: 10990\n",
      "Movie: 入魔, ID: 10989\n",
      "Movie: 破碎的擁抱 經典數位修復, ID: 10924\n",
      "Movie: 高跟鞋經典數位修復, ID: 10918\n",
      "Movie: 鬼滅之刃劇場版 無限列車篇, ID: 10816\n",
      "Movie: 親愛的房客, ID: 10707\n",
      "Movie: 奪命守門人, ID: 10952\n",
      "Movie: 藥頭大媽, ID: 10951\n",
      "Movie: 看不見的目擊者, ID: 10946\n",
      "Movie: 無聲, ID: 10926\n",
      "Movie: 無價之保, ID: 10959\n",
      "Movie: 愛情列車長, ID: 10857\n",
      "Movie: 阿公當家, ID: 10914\n",
      "Movie: 刻在你心底的名字, ID: 10902\n",
      "Movie: 剪刀手愛德華, ID: 10901\n",
      "Movie: 森林特攻隊：大腳ㄚ家族, ID: 10894\n",
      "Movie: 急先鋒, ID: 10443\n",
      "Movie: 紫羅蘭永恆花園電影版, ID: 10431\n",
      "Movie: 殺戮荒村, ID: 10903\n",
      "Movie: 電影哆啦A夢：大雄的新恐龍, ID: 10891\n",
      "Movie: 皮諾丘的奇幻旅程, ID: 10921\n",
      "Movie: 寂寞調香師, ID: 10905\n",
      "Movie: 消失的情人節, ID: 10870\n",
      "Movie: 訂製幸福滋味, ID: 10908\n",
      "Movie: 海霧, ID: 10872\n",
      "Movie: 花木蘭, ID: 8632\n",
      "Movie: 馗降：粽邪2, ID: 10787\n",
      "Movie: TENET天能, ID: 10433\n",
      "Movie: 聖雅各的天空, ID: 10877\n",
      "Movie: 看不見的證人, ID: 10873\n",
      "Movie: 可不可以，你也剛好喜歡我, ID: 10473\n",
      "Movie: 東京教父：4K數位修復版, ID: 10860\n",
      "Movie: 怪胎, ID: 10733\n",
      "Movie: 不丹是教室, ID: 10789\n",
      "Movie: 明信片謀殺案, ID: 10724\n",
      "Movie: 計高一籌, ID: 10277\n",
      "Movie: 幫老爸拍張照, ID: 4966\n",
      "Movie: 一首搖滾上月球, ID: 4887\n",
      "Movie: 錢不夠用2, ID: 3026\n"
     ]
    }
   ],
   "source": [
    "# 查看目前上映那些電影，並擷取出其ID資訊\n",
    "url = 'https://movies.yahoo.com.tw/'\n",
    "resp = requests.get(url)\n",
    "resp.encoding = 'utf-8'\n",
    "\n",
    "soup = BeautifulSoup(resp.text, 'lxml')\n",
    "html = soup.find(\"select\", attrs={'name':'movie_id'})\n",
    "movie_item = html.find_all(\"option\", attrs={'data-name':re.compile('.*')})\n",
    "\n",
    "for p in movie_item:\n",
    "    print(\"Movie: %s, ID: %s\" % (p[\"data-name\"], p[\"value\"]))"
   ]
  },
  {
   "cell_type": "markdown",
   "metadata": {},
   "source": [
    "### 指定你有興趣的電影其ID，然後查詢其放映地區資訊。"
   ]
  },
  {
   "cell_type": "code",
   "execution_count": 7,
   "metadata": {},
   "outputs": [],
   "source": [
    "# 參考前一個步驟中擷取到的ID資訊，並指定ID\n",
    "movie_id = 11016"
   ]
  },
  {
   "cell_type": "code",
   "execution_count": 8,
   "metadata": {},
   "outputs": [
    {
     "name": "stdout",
     "output_type": "stream",
     "text": [
      "放映地區: 台北市, 代號(area_id): 28\n",
      "放映地區: 桃園, 代號(area_id): 16\n",
      "放映地區: 高雄, 代號(area_id): 17\n"
     ]
    }
   ],
   "source": [
    "url = 'https://movies.yahoo.com.tw/api/v1/areas_by_movie_theater'\n",
    "payload = {'movie_id':str(movie_id)}\n",
    "\n",
    "# 模擬一個header\n",
    "headers = {\n",
    "    'authority': 'movies.yahoo.com.tw',\n",
    "    'method': 'GET',\n",
    "    'path': '/api/v1/areas_by_movie_theater?movie_id=' + str(movie_id),\n",
    "    'scheme': 'https',\n",
    "    'accept': 'application/json, text/javascript, */*; q=0.01',\n",
    "    'accept-encoding': 'gzip, deflate, br',\n",
    "    'accept-language': 'zh-TW,zh;q=0.9,en-US;q=0.8,en;q=0.7,zh-CN;q=0.6',\n",
    "    'cookie': 'rxx=9s3x2fws06.1g16irnc&v=1; _ga=GA1.3.2056742944.1551651301; GUC=AQEBAQFczFpdm0IfmwSB&s=AQAAACoo4N5D&g=XMsVBw; BX=4hkdk1decm57t&b=3&s=mr; _ga=GA1.4.2056742944.1551651301; nexagesuid=82843256dd234e8e91aa73f2062f8218; browsed_movie=eyJpdiI6IlJXWWtiSWJaZlNGK2MxQnhscnVUYWc9PSIsInZhbHVlIjoiMXRhMmVHRXRIeUNjc1RBWDJzdGYwbnlIQURmWGsrcjJSMzhkbkcraDNJVUNIZEZsbzU3amlFcVZ1NzlmazJrTGpoMjVrbHk1YmpoRENXaHZTOUw1TmI2ZTZVWHdOejZQZm16RmVuMWlHTTJLaTZLVFZZVkFOMDlTd1wvSGltcytJIiwibWFjIjoiZWQ2ZjA4MmVjZmZlYjlmNjJmYmY2NGMyMDI0Njc0NWViYjVkOWE2NDg0N2RhODMxZjBjZDhiMmJhZTc2MDZhYiJ9; avi=eyJpdiI6Im1NeWFJRlVRWDR1endEcGRGUGJUbVE9PSIsInZhbHVlIjoickRpU3JuUytmcGl6cjF5OW0rNU9iZz09IiwibWFjIjoiY2VmY2NkNzZmM2NhNjY5YzlkOTcyNjE5OGEyMzU0NWYxOTdmMDRkMDY3OWNmMmZjOTMxYjc5MjI5N2Q5NGE5MiJ9; cmp=t=1559391030&j=0; _gid=GA1.4.779543841.1559391031; XSRF-TOKEN=eyJpdiI6IkhpS2hGcDRQaHlmWUJmaHdSS2Q2bHc9PSIsInZhbHVlIjoiOUVoNFk4OHI1UUZmUWRtYXhza0MyWjJSTlhlZ3RnT0VGeVJPN2JuczVRMGRFdWt2OUlsamVKeHRobFwvcHBGM0dhU3VyMXNGTHlsb2dVM2l0U1hpUGxBPT0iLCJtYWMiOiJkZWU4YzJhNjAxMTY3MzE4Y2ExNWIxYmE1ZjE1YWZlZTlhOTcyYjc4M2RlZGY4ZWNjZDYyMTA2NGYwZGViMzc2In0%3D; m_s=eyJpdiI6InpsZHZ2Tk1BZ0dxaHhETml1RjBnUXc9PSIsInZhbHVlIjoiSkNGeHUranRoXC85bDFiaDhySTJqNkJRcWdjWUxjeVRJSHVYZ1wvd2d4bWJZUTUrSHVDM0lUcW5KNHdETFZ4T1lieU81OUhzc1VoUXhZcWk0UDZSQXVFdz09IiwibWFjIjoiYmJkMDJkMDhlODIzMzcyMWY4M2NmYWNjNGVlOWRjMDIwZmVmNzAyMjE3Yzg3ZGY3ODBkZWEzZTI4MTI5ZWNmOSJ9; _gat=1; nexagesd=10',\n",
    "    'dnt': '1',\n",
    "    'mv-authorization': '21835b082e15b91a69b3851eec7b31b82ce82afb',\n",
    "    'referer': 'https://movies.yahoo.com.tw/',\n",
    "    'user-agent': 'Mozilla/5.0 (Windows NT 10.0; Win64; x64) AppleWebKit/537.36 (KHTML, like Gecko) Chrome/74.0.3729.169 Safari/537.36',\n",
    "    'x-requested-with': 'XMLHttpRequest',\n",
    "}\n",
    "    \n",
    "resp = requests.get(url, params=payload, headers=headers)\n",
    "#print(resp.json())  # 若有需要，列印出json原始碼\n",
    "\n",
    "# 這裡回傳的格式是JSON格式的資料，要解析JSON擷取資料\n",
    "for p in resp.json():\n",
    "    print('放映地區: {0}, 代號(area_id): {1}'.format(p['title'], p['area_id']))"
   ]
  },
  {
   "cell_type": "markdown",
   "metadata": {},
   "source": [
    "### 指定你想要觀看的放映地區，查詢有上映電影的場次日期"
   ]
  },
  {
   "cell_type": "code",
   "execution_count": 10,
   "metadata": {},
   "outputs": [],
   "source": [
    "# 指定放映地區\n",
    "area_id = 17"
   ]
  },
  {
   "cell_type": "code",
   "execution_count": 11,
   "metadata": {},
   "outputs": [
    {
     "name": "stdout",
     "output_type": "stream",
     "text": [
      "十二月 26\n",
      "十二月 27\n",
      "十二月 28\n",
      "十二月 29\n",
      "十二月 30\n"
     ]
    }
   ],
   "source": [
    "# 向網站發送請求\n",
    "url = 'https://movies.yahoo.com.tw/movietime_result.html'\n",
    "payload = {'movie_id':str(movie_id), 'area_id':str(area_id)}\n",
    "resp = requests.get(url, params=payload)\n",
    "resp.encoding = 'utf-8'\n",
    "\n",
    "soup = BeautifulSoup(resp.text, 'lxml')\n",
    "movie_date = soup.find_all(\"label\", attrs={'for':re.compile(\"date_[\\d]\")})\n",
    "\n",
    "# 列印播放日期\n",
    "for date in movie_date:\n",
    "    print(\"%s %s\" % (date.p.string, date.h3.string))"
   ]
  },
  {
   "cell_type": "markdown",
   "metadata": {},
   "source": [
    "### 最後指定觀看的日期，查詢並列印出放映的電影院、放映類型(數位、3D、IMAX 3D...)、放映時間等資訊。"
   ]
  },
  {
   "cell_type": "code",
   "execution_count": 16,
   "metadata": {},
   "outputs": [],
   "source": [
    "# 選定要觀看的日期\n",
    "date = \"2020-09-31\""
   ]
  },
  {
   "cell_type": "code",
   "execution_count": 18,
   "metadata": {},
   "outputs": [
    {
     "ename": "KeyError",
     "evalue": "'view'",
     "output_type": "error",
     "traceback": [
      "\u001b[1;31m---------------------------------------------------------------------------\u001b[0m",
      "\u001b[1;31mKeyError\u001b[0m                                  Traceback (most recent call last)",
      "\u001b[1;32m<ipython-input-18-c37f9139e2da>\u001b[0m in \u001b[0;36m<module>\u001b[1;34m\u001b[0m\n\u001b[0;32m      9\u001b[0m \u001b[1;33m\u001b[0m\u001b[0m\n\u001b[0;32m     10\u001b[0m \u001b[0mresp\u001b[0m \u001b[1;33m=\u001b[0m \u001b[0mrequests\u001b[0m\u001b[1;33m.\u001b[0m\u001b[0mget\u001b[0m\u001b[1;33m(\u001b[0m\u001b[0murl\u001b[0m\u001b[1;33m,\u001b[0m \u001b[0mparams\u001b[0m\u001b[1;33m=\u001b[0m\u001b[0mpayload\u001b[0m\u001b[1;33m)\u001b[0m\u001b[1;33m\u001b[0m\u001b[1;33m\u001b[0m\u001b[0m\n\u001b[1;32m---> 11\u001b[1;33m \u001b[0mprint\u001b[0m\u001b[1;33m(\u001b[0m\u001b[0mresp\u001b[0m\u001b[1;33m.\u001b[0m\u001b[0mjson\u001b[0m\u001b[1;33m(\u001b[0m\u001b[1;33m)\u001b[0m\u001b[1;33m[\u001b[0m\u001b[1;34m'view'\u001b[0m\u001b[1;33m]\u001b[0m\u001b[1;33m)\u001b[0m  \u001b[1;31m# 若有需要，列印出json原始碼\u001b[0m\u001b[1;33m\u001b[0m\u001b[1;33m\u001b[0m\u001b[0m\n\u001b[0m\u001b[0;32m     12\u001b[0m \u001b[1;33m\u001b[0m\u001b[0m\n\u001b[0;32m     13\u001b[0m \u001b[0msoup\u001b[0m \u001b[1;33m=\u001b[0m \u001b[0mBeautifulSoup\u001b[0m\u001b[1;33m(\u001b[0m\u001b[0mresp\u001b[0m\u001b[1;33m.\u001b[0m\u001b[0mjson\u001b[0m\u001b[1;33m(\u001b[0m\u001b[1;33m)\u001b[0m\u001b[1;33m[\u001b[0m\u001b[1;34m'view'\u001b[0m\u001b[1;33m]\u001b[0m\u001b[1;33m,\u001b[0m \u001b[1;34m'lxml'\u001b[0m\u001b[1;33m)\u001b[0m\u001b[1;33m\u001b[0m\u001b[1;33m\u001b[0m\u001b[0m\n",
      "\u001b[1;31mKeyError\u001b[0m: 'view'"
     ]
    }
   ],
   "source": [
    "# 向網站發送請求，獲取上映的電影院及時間資訊\n",
    "url = \"https://movies.yahoo.com.tw/ajax/pc/get_schedule_by_movie\"\n",
    "payload = {'movie_id':str(movie_id),\n",
    "           'date':date,\n",
    "           'area_id':str(area_id),\n",
    "           'theater_id':'',\n",
    "           'datetime':'',\n",
    "           'movie_type_id':''}\n",
    "\n",
    "resp = requests.get(url, params=payload)\n",
    "#print(resp.json()['view'])  # 若有需要，列印出json原始碼\n",
    "\n",
    "soup = BeautifulSoup(resp.json()['view'], 'lxml')\n",
    "html = soup.find_all(\"ul\", attrs={'data-theater_name':re.compile(\".*\")})"
   ]
  },
  {
   "cell_type": "code",
   "execution_count": 16,
   "metadata": {},
   "outputs": [
    {
     "name": "stdout",
     "output_type": "stream",
     "text": [
      "----------------------------------------------------------------------\n",
      "電影院:  台北美麗華大直影城\n",
      "放映類型:  數位\n",
      "2019-08-21 09:00:00\n",
      "2019-08-21 11:10:00\n",
      "2019-08-21 13:15:00\n",
      "2019-08-21 15:20:00\n",
      "2019-08-21 19:30:00\n",
      "2019-08-21 21:40:00\n",
      "2019-08-21 22:30:00\n",
      "----------------------------------------------------------------------\n",
      "電影院:  台北新光影城\n",
      "放映類型:  數位\n",
      "2019-08-21 10:00:00\n",
      "2019-08-21 14:50:00\n",
      "2019-08-21 19:30:00\n",
      "----------------------------------------------------------------------\n",
      "電影院:  台北in89豪華數位影城\n",
      "放映類型:  數位\n",
      "2019-08-21 09:30:00\n",
      "2019-08-21 11:20:00\n",
      "2019-08-21 13:15:00\n",
      "2019-08-21 15:10:00\n",
      "2019-08-21 16:10:00\n",
      "2019-08-21 17:10:00\n",
      "2019-08-21 18:05:00\n",
      "2019-08-21 19:10:00\n",
      "2019-08-21 21:10:00\n",
      "2019-08-21 23:10:00\n",
      "2019-08-22 01:10:00\n",
      "----------------------------------------------------------------------\n",
      "電影院:  台北日新威秀影城\n",
      "放映類型:  數位\n",
      "2019-08-21 09:00:00\n",
      "2019-08-21 10:55:00\n",
      "2019-08-21 12:50:00\n",
      "2019-08-21 14:45:00\n",
      "2019-08-21 16:40:00\n",
      "2019-08-21 18:35:00\n",
      "2019-08-21 20:35:00\n",
      "----------------------------------------------------------------------\n",
      "電影院:  喜滿客絕色影城\n",
      "放映類型:  數位\n",
      "2019-08-21 10:00:00\n",
      "2019-08-21 11:55:00\n",
      "2019-08-21 13:50:00\n",
      "2019-08-21 15:45:00\n",
      "2019-08-21 17:40:00\n",
      "2019-08-21 19:35:00\n",
      "2019-08-21 21:30:00\n",
      "----------------------------------------------------------------------\n",
      "電影院:  台北信義威秀影城\n",
      "放映類型:  數位\n",
      "2019-08-21 09:00:00\n",
      "2019-08-21 11:00:00\n",
      "2019-08-21 13:00:00\n",
      "2019-08-21 15:00:00\n",
      "2019-08-21 17:00:00\n",
      "2019-08-21 19:00:00\n",
      "2019-08-21 21:00:00\n",
      "2019-08-21 23:00:00\n",
      "----------------------------------------------------------------------\n",
      "電影院:  喜滿客京華影城\n",
      "放映類型:  數位\n",
      "2019-08-21 10:30:00\n",
      "2019-08-21 12:30:00\n",
      "2019-08-21 14:30:00\n",
      "2019-08-21 16:30:00\n",
      "2019-08-21 18:30:00\n",
      "2019-08-21 20:30:00\n",
      "2019-08-21 22:30:00\n",
      "----------------------------------------------------------------------\n",
      "電影院:  京站威秀影城\n",
      "放映類型:  數位\n",
      "2019-08-21 09:00:00\n",
      "2019-08-21 11:00:00\n",
      "2019-08-21 13:00:00\n",
      "2019-08-21 15:00:00\n",
      "2019-08-21 17:00:00\n",
      "2019-08-21 19:00:00\n",
      "2019-08-21 21:00:00\n",
      "----------------------------------------------------------------------\n",
      "電影院:  喜樂時代影城南港店\n",
      "放映類型:  數位\n",
      "2019-08-21 10:20:00\n",
      "2019-08-21 11:10:00\n",
      "2019-08-21 12:20:00\n",
      "2019-08-21 13:10:00\n",
      "2019-08-21 14:20:00\n",
      "2019-08-21 15:10:00\n",
      "2019-08-21 16:20:00\n",
      "2019-08-21 17:10:00\n",
      "2019-08-21 18:20:00\n",
      "2019-08-21 19:15:00\n",
      "2019-08-21 20:20:00\n",
      "2019-08-21 21:15:00\n",
      "2019-08-21 22:20:00\n"
     ]
    }
   ],
   "source": [
    "'''\n",
    "\n",
    "  試著從上一步驟回傳的電影院資料中，擷取電影院名稱、影片放映類型以及時間表\n",
    "  \n",
    "  Your code here.\n",
    "\n",
    "'''\n"
   ]
  },
  {
   "cell_type": "code",
   "execution_count": null,
   "metadata": {},
   "outputs": [],
   "source": []
  }
 ],
 "metadata": {
  "kernelspec": {
   "display_name": "Python 3",
   "language": "python",
   "name": "python3"
  },
  "language_info": {
   "codemirror_mode": {
    "name": "ipython",
    "version": 3
   },
   "file_extension": ".py",
   "mimetype": "text/x-python",
   "name": "python",
   "nbconvert_exporter": "python",
   "pygments_lexer": "ipython3",
   "version": "3.8.3"
  }
 },
 "nbformat": 4,
 "nbformat_minor": 2
}
