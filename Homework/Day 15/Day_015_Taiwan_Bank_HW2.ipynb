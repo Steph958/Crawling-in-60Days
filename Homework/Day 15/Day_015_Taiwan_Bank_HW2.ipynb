{
 "cells": [
  {
   "cell_type": "markdown",
   "metadata": {},
   "source": [
    "# 台灣銀行牌告匯率爬蟲練習\n",
    "## 範例1： 練習爬取台幣對其他貨幣匯率資料"
   ]
  },
  {
   "cell_type": "code",
   "execution_count": 1,
   "metadata": {},
   "outputs": [],
   "source": [
    "import requests\n",
    "from bs4 import BeautifulSoup\n",
    "from datetime import datetime\n",
    "import pandas as pd\n",
    "import matplotlib.pyplot as plt"
   ]
  },
  {
   "cell_type": "markdown",
   "metadata": {},
   "source": [
    "### 進入台灣銀行牌告匯率網頁：https://rate.bot.com.tw/xrt?Lang=zh-TW ，擷取當日台幣對美金的匯率資訊"
   ]
  },
  {
   "cell_type": "code",
   "execution_count": 2,
   "metadata": {},
   "outputs": [
    {
     "name": "stdout",
     "output_type": "stream",
     "text": [
      "\r\n",
      "美金(USD)\r\n",
      "\n",
      "即時現金買入: 27.99, 即時現金賣出: 28.66\n"
     ]
    }
   ],
   "source": [
    "# 進入台灣銀行牌告匯率網頁，查看當日匯率資料\n",
    "url = \"https://rate.bot.com.tw/xrt?Lang=zh-TW\"\n",
    "resp = requests.get(url)\n",
    "resp.encoding = 'utf-8'\n",
    "# print(resp.text)  # 如有需要，列印出網頁原始碼\n",
    "\n",
    "html = BeautifulSoup(resp.text, \"lxml\")\n",
    "rate_table = html.find(name='table', attrs={'title':'牌告匯率'}).find(name='tbody').find_all(name='tr')\n",
    "\n",
    "# 查詢美金(也就是匯率表的第一個元素)對台幣的匯率\n",
    "currency = rate_table[0].find(name='div', attrs={'class':'visible-phone print_hide'})\n",
    "print(currency.get_text().replace(\" \", \"\"))  # 去掉空白\n",
    "\n",
    "buy_rate = rate_table[0].find(name='td', attrs={'data-table':'本行現金買入'})\n",
    "sell_rate = rate_table[0].find(name='td', attrs={'data-table':'本行現金賣出'})\n",
    "print(\"即時現金買入: %s, 即時現金賣出: %s\" % (buy_rate.get_text(), sell_rate.get_text()))"
   ]
  },
  {
   "cell_type": "markdown",
   "metadata": {},
   "source": [
    "### 作業part 1：請參考上面的範例，試著爬取所有貨幣對台幣的匯率"
   ]
  },
  {
   "cell_type": "code",
   "execution_count": 3,
   "metadata": {},
   "outputs": [
    {
     "name": "stdout",
     "output_type": "stream",
     "text": [
      "\r\n",
      "美金(USD)\r\n",
      "\n",
      "即時現金買入: 27.99, 即時現金賣出: 28.66\n",
      "\r\n",
      "港幣(HKD)\r\n",
      "\n",
      "即時現金買入: 3.505, 即時現金賣出: 3.709\n",
      "\r\n",
      "英鎊(GBP)\r\n",
      "\n",
      "即時現金買入: 37.7, 即時現金賣出: 39.82\n",
      "\r\n",
      "澳幣(AUD)\r\n",
      "\n",
      "即時現金買入: 21.34, 即時現金賣出: 22.12\n",
      "\r\n",
      "加拿大幣(CAD)\r\n",
      "\n",
      "即時現金買入: 21.58, 即時現金賣出: 22.49\n",
      "\r\n",
      "新加坡幣(SGD)\r\n",
      "\n",
      "即時現金買入: 20.76, 即時現金賣出: 21.67\n",
      "\r\n",
      "瑞士法郎(CHF)\r\n",
      "\n",
      "即時現金買入: 31.1, 即時現金賣出: 32.3\n",
      "\r\n",
      "日圓(JPY)\r\n",
      "\n",
      "即時現金買入: 0.2623, 即時現金賣出: 0.2751\n",
      "\r\n",
      "南非幣(ZAR)\r\n",
      "\n",
      "即時現金買入: -, 即時現金賣出: -\n",
      "\r\n",
      "瑞典幣(SEK)\r\n",
      "\n",
      "即時現金買入: 3.01, 即時現金賣出: 3.53\n",
      "\r\n",
      "紐元(NZD)\r\n",
      "\n",
      "即時現金買入: 19.87, 即時現金賣出: 20.72\n",
      "\r\n",
      "泰幣(THB)\r\n",
      "\n",
      "即時現金買入: 0.8194, 即時現金賣出: 1.0094\n",
      "\r\n",
      "菲國比索(PHP)\r\n",
      "\n",
      "即時現金買入: 0.517, 即時現金賣出: 0.65\n",
      "\r\n",
      "印尼幣(IDR)\r\n",
      "\n",
      "即時現金買入: 0.00168, 即時現金賣出: 0.00238\n",
      "\r\n",
      "歐元(EUR)\r\n",
      "\n",
      "即時現金買入: 33.55, 即時現金賣出: 34.89\n",
      "\r\n",
      "韓元(KRW)\r\n",
      "\n",
      "即時現金買入: 0.02363, 即時現金賣出: 0.02753\n",
      "\r\n",
      "越南盾(VND)\r\n",
      "\n",
      "即時現金買入: 0.00086, 即時現金賣出: 0.00136\n",
      "\r\n",
      "馬來幣(MYR)\r\n",
      "\n",
      "即時現金買入: 5.897, 即時現金賣出: 7.522\n",
      "\r\n",
      "人民幣(CNY)\r\n",
      "\n",
      "即時現金買入: 4.287, 即時現金賣出: 4.449\n"
     ]
    }
   ],
   "source": [
    "'''\n",
    "\n",
    "  Your code here\n",
    "  \n",
    "'''\n",
    "# 擷取匯率表格，並把匯率資料擷取出來\n",
    "for p in rate_table:\n",
    "    #\n",
    "    # 查詢現金匯率\n",
    "    #\n",
    "    currency = p.find(name='div', attrs={'class':'visible-phone print_hide'})\n",
    "    print(currency.get_text().replace(\" \", \"\"))  # 貨幣種類\n",
    "    \n",
    "    buy_rate = p.find(name='td', attrs={'data-table':'本行現金買入'})\n",
    "    sell_rate = p.find(name='td', attrs={'data-table':'本行現金賣出'})\n",
    "    print(\"即時現金買入: %s, 即時現金賣出: %s\" % (buy_rate.get_text(), sell_rate.get_text()))\n"
   ]
  },
  {
   "cell_type": "markdown",
   "metadata": {},
   "source": [
    "## 範例2：爬取一個月的美金對台幣歷史匯率資料，並畫出趨勢圖"
   ]
  },
  {
   "cell_type": "code",
   "execution_count": 7,
   "metadata": {},
   "outputs": [
    {
     "name": "stdout",
     "output_type": "stream",
     "text": [
      "\r\n",
      "美金(USD)\r\n",
      "\n"
     ]
    }
   ],
   "source": [
    "# 先到牌告匯率首頁，爬取所有貨幣的種類\n",
    "url = \"https://rate.bot.com.tw/xrt?Lang=zh-TW\"\n",
    "resp = requests.get(url)\n",
    "resp.encoding = 'utf-8'\n",
    "html = BeautifulSoup(resp.text, \"lxml\")\n",
    "rate_table = html.find(name='table', attrs={'title':'牌告匯率'}).find(name='tbody').find_all(name='tr')\n",
    "\n",
    "# 擷取匯率表格，把美金(也就是匯率表的第一個元素)擷取出來，查詢其歷史匯率\n",
    "currency = rate_table[0].find(name='div', attrs={'class':'visible-phone print_hide'})\n",
    "print(currency.get_text().replace(\" \", \"\"))  # 貨幣種類\n",
    "\n",
    "# 針對美金，找到其「歷史匯率」的首頁 \n",
    "history_link = rate_table[0].find(name='td', attrs={'data-table':'歷史匯率'})\n",
    "history_rate_link = \"https://rate.bot.com.tw\" + history_link.a[\"href\"]  # 該貨幣的歷史資料首頁\n",
    "\n",
    "#\n",
    "# 到貨幣歷史匯率網頁，選則該貨幣的「歷史區間」，送出查詢後，觀察其網址變化情形，再試著抓取其歷史匯率資料\n",
    "#\n",
    "# 用「quote/年-月」去取代網址內容，就可以連到該貨幣的歷史資料\n",
    "quote_history_url = history_rate_link.replace(\"history\", \"quote/2021-01\")\n",
    "resp = requests.get(quote_history_url)\n",
    "resp.encoding = 'utf-8'\n",
    "history = BeautifulSoup(resp.text, \"lxml\")\n",
    "history_table = history.find(name='table', attrs={'title':'歷史本行營業時間牌告匯率'}).find(name='tbody').find_all(name='tr')\n",
    "\n",
    "\n",
    "#history_table"
   ]
  },
  {
   "cell_type": "code",
   "execution_count": 8,
   "metadata": {},
   "outputs": [
    {
     "data": {
      "text/plain": [
       "<Figure size 720x576 with 0 Axes>"
      ]
     },
     "metadata": {},
     "output_type": "display_data"
    },
    {
     "data": {
      "image/png": "[encoded data removed]",
      "text/plain": [
       "<Figure size 432x288 with 1 Axes>"
      ]
     },
     "metadata": {
      "needs_background": "light"
     },
     "output_type": "display_data"
    }
   ],
   "source": [
    "#\n",
    "# 擷取到歷史匯率資料後，把資料彙整起來並畫出趨勢圖\n",
    "#\n",
    "date_history = list()\n",
    "history_buy = list()\n",
    "history_sell = list()\n",
    "\n",
    "for history_rate in history_table:\n",
    "    # 擷取日期資料\n",
    "    date_string = history_rate.a.get_text()\n",
    "    date = datetime.strptime(date_string, '%Y/%M/%d').strftime('%Y/%M/%d')  # 轉換日期格式\n",
    "    date_history.append(date)  # 日期歷史資料\n",
    "\n",
    "    history_ex_rate = history_rate.find_all(name='td', attrs={'class':'rate-content-cash text-right print_table-cell'})\n",
    "    history_buy.append(float(history_ex_rate[0].get_text()))  # 歷史買入匯率\n",
    "    history_sell.append(float(history_ex_rate[1].get_text()))  # 歷史賣出匯率\n",
    "\n",
    "# 將匯率資料建成dataframe形式\n",
    "HistoryExchangeRate = pd.DataFrame({'date': date_history,\n",
    "                                    'buy_rate':history_buy,\n",
    "                                    'sell_rate':history_sell})\n",
    "\n",
    "HistoryExchangeRate = HistoryExchangeRate.set_index('date')  # 指定日期欄位為datafram的index\n",
    "HistoryExchangeRate = HistoryExchangeRate.sort_index(ascending=True)\n",
    "\n",
    "# 畫出歷史匯率軌跡圖\n",
    "plt.figure(figsize=(10, 8))\n",
    "HistoryExchangeRate[['buy_rate','sell_rate']].plot()  # x=['date'], y=[['buy_rate','sell_rate']] \n",
    "plt.legend(loc=\"upper left\")\n",
    "plt.show()"
   ]
  },
  {
   "cell_type": "markdown",
   "metadata": {},
   "source": [
    "### 作業part 2：爬取每種貨幣對台幣的一個月歷史匯率資料，並畫出趨勢圖"
   ]
  },
  {
   "cell_type": "code",
   "execution_count": 10,
   "metadata": {},
   "outputs": [
    {
     "data": {
      "text/plain": [
       "[<tr>\n",
       " <td class=\"currency phone-small-font\" data-table=\"幣別\">\n",
       " <div>\n",
       " <div class=\"sp-div sp-america-div\">\n",
       " <img alt=\"幣別國旗\" class=\"sp-img sp-america-img\" src=\"/Content/images/sprite_lateral.png\" title=\"幣別國旗\"/>\n",
       " </div>\n",
       " <br class=\"visible-phone print_hide\"/>\n",
       " <div class=\"visible-phone print_hide\">\n",
       "                                 美金 (USD)\n",
       "                             </div>\n",
       " <div class=\"hidden-phone print_show\" style=\"text-indent:30px;\">\n",
       "                                 美金 (USD)\n",
       "                             </div>\n",
       " </div>\n",
       " </td>\n",
       " <td class=\"rate-content-cash text-right print_hide\" data-table=\"本行現金買入\">27.605</td>\n",
       " <td class=\"rate-content-cash text-right print_hide\" data-table=\"本行現金賣出\">28.275</td>\n",
       " <td class=\"rate-content-sight text-right print_hide\" data-hide=\"phone\" data-table=\"本行即期買入\">\n",
       "                         27.93\n",
       "                     </td>\n",
       " <td class=\"rate-content-sight text-right print_hide\" data-hide=\"phone\" data-table=\"本行即期賣出\">\n",
       "                         28.08\n",
       "                     </td>\n",
       " <td class=\"text-center print_hide phone-small-font\" data-table=\"遠期匯率買入/賣出\"><a href=\"/xrt/forward/USD\" title=\"美金 遠期匯率\">查詢</a></td>\n",
       " <td class=\"text-center print_hide phone-small-font\" data-table=\"歷史匯率\"><a href=\"/xrt/history/USD?Lang=zh-TW\" target=\"_blank\" title=\"美金 歷史匯率 (另開視窗)\">查詢</a></td>\n",
       " <td class=\"text-right display_none_print_show print_width\" data-table=\"本行現金買入\">27.605</td>\n",
       " <td class=\"text-right display_none_print_show print_width\" data-table=\"本行現金賣出\">28.275</td>\n",
       " <td class=\"text-right display_none_print_show print_width\" data-table=\"本行即期買入\">27.93</td>\n",
       " <td class=\"text-right display_none_print_show print_width\" data-table=\"本行即期賣出\">28.08</td>\n",
       " </tr>,\n",
       " <tr>\n",
       " <td class=\"currency phone-small-font\" data-table=\"幣別\">\n",
       " <div>\n",
       " <div class=\"sp-div sp-hong-kong-div\">\n",
       " <img alt=\"幣別國旗\" class=\"sp-img sp-hong-kong-img\" src=\"/Content/images/sprite_lateral.png\" title=\"幣別國旗\"/>\n",
       " </div>\n",
       " <br class=\"visible-phone print_hide\"/>\n",
       " <div class=\"visible-phone print_hide\">\n",
       "                                 港幣 (HKD)\n",
       "                             </div>\n",
       " <div class=\"hidden-phone print_show\" style=\"text-indent:30px;\">\n",
       "                                 港幣 (HKD)\n",
       "                             </div>\n",
       " </div>\n",
       " </td>\n",
       " <td class=\"rate-content-cash text-right print_hide\" data-table=\"本行現金買入\">3.457</td>\n",
       " <td class=\"rate-content-cash text-right print_hide\" data-table=\"本行現金賣出\">3.661</td>\n",
       " <td class=\"rate-content-sight text-right print_hide\" data-hide=\"phone\" data-table=\"本行即期買入\">\n",
       "                         3.578\n",
       "                     </td>\n",
       " <td class=\"rate-content-sight text-right print_hide\" data-hide=\"phone\" data-table=\"本行即期賣出\">\n",
       "                         3.648\n",
       "                     </td>\n",
       " <td class=\"text-center print_hide phone-small-font\" data-table=\"遠期匯率買入/賣出\"><a href=\"/xrt/forward/HKD\" title=\"港幣 遠期匯率\">查詢</a></td>\n",
       " <td class=\"text-center print_hide phone-small-font\" data-table=\"歷史匯率\"><a href=\"/xrt/history/HKD?Lang=zh-TW\" target=\"_blank\" title=\"港幣 歷史匯率 (另開視窗)\">查詢</a></td>\n",
       " <td class=\"text-right display_none_print_show print_width\" data-table=\"本行現金買入\">3.457</td>\n",
       " <td class=\"text-right display_none_print_show print_width\" data-table=\"本行現金賣出\">3.661</td>\n",
       " <td class=\"text-right display_none_print_show print_width\" data-table=\"本行即期買入\">3.578</td>\n",
       " <td class=\"text-right display_none_print_show print_width\" data-table=\"本行即期賣出\">3.648</td>\n",
       " </tr>,\n",
       " <tr>\n",
       " <td class=\"currency phone-small-font\" data-table=\"幣別\">\n",
       " <div>\n",
       " <div class=\"sp-div sp-england-div\">\n",
       " <img alt=\"幣別國旗\" class=\"sp-img sp-england-img\" src=\"/Content/images/sprite_lateral.png\" title=\"幣別國旗\"/>\n",
       " </div>\n",
       " <br class=\"visible-phone print_hide\"/>\n",
       " <div class=\"visible-phone print_hide\">\n",
       "                                 英鎊 (GBP)\n",
       "                             </div>\n",
       " <div class=\"hidden-phone print_show\" style=\"text-indent:30px;\">\n",
       "                                 英鎊 (GBP)\n",
       "                             </div>\n",
       " </div>\n",
       " </td>\n",
       " <td class=\"rate-content-cash text-right print_hide\" data-table=\"本行現金買入\">37.13</td>\n",
       " <td class=\"rate-content-cash text-right print_hide\" data-table=\"本行現金賣出\">39.25</td>\n",
       " <td class=\"rate-content-sight text-right print_hide\" data-hide=\"phone\" data-table=\"本行即期買入\">\n",
       "                         38.025\n",
       "                     </td>\n",
       " <td class=\"rate-content-sight text-right print_hide\" data-hide=\"phone\" data-table=\"本行即期賣出\">\n",
       "                         38.655\n",
       "                     </td>\n",
       " <td class=\"text-center print_hide phone-small-font\" data-table=\"遠期匯率買入/賣出\"><a href=\"/xrt/forward/GBP\" title=\"英鎊 遠期匯率\">查詢</a></td>\n",
       " <td class=\"text-center print_hide phone-small-font\" data-table=\"歷史匯率\"><a href=\"/xrt/history/GBP?Lang=zh-TW\" target=\"_blank\" title=\"英鎊 歷史匯率 (另開視窗)\">查詢</a></td>\n",
       " <td class=\"text-right display_none_print_show print_width\" data-table=\"本行現金買入\">37.13</td>\n",
       " <td class=\"text-right display_none_print_show print_width\" data-table=\"本行現金賣出\">39.25</td>\n",
       " <td class=\"text-right display_none_print_show print_width\" data-table=\"本行即期買入\">38.025</td>\n",
       " <td class=\"text-right display_none_print_show print_width\" data-table=\"本行即期賣出\">38.655</td>\n",
       " </tr>,\n",
       " <tr>\n",
       " <td class=\"currency phone-small-font\" data-table=\"幣別\">\n",
       " <div>\n",
       " <div class=\"sp-div sp-australia-div\">\n",
       " <img alt=\"幣別國旗\" class=\"sp-img sp-australia-img\" src=\"/Content/images/sprite_lateral.png\" title=\"幣別國旗\"/>\n",
       " </div>\n",
       " <br class=\"visible-phone print_hide\"/>\n",
       " <div class=\"visible-phone print_hide\">\n",
       "                                 澳幣 (AUD)\n",
       "                             </div>\n",
       " <div class=\"hidden-phone print_show\" style=\"text-indent:30px;\">\n",
       "                                 澳幣 (AUD)\n",
       "                             </div>\n",
       " </div>\n",
       " </td>\n",
       " <td class=\"rate-content-cash text-right print_hide\" data-table=\"本行現金買入\">21.05</td>\n",
       " <td class=\"rate-content-cash text-right print_hide\" data-table=\"本行現金賣出\">21.83</td>\n",
       " <td class=\"rate-content-sight text-right print_hide\" data-hide=\"phone\" data-table=\"本行即期買入\">\n",
       "                         21.265\n",
       "                     </td>\n",
       " <td class=\"rate-content-sight text-right print_hide\" data-hide=\"phone\" data-table=\"本行即期賣出\">\n",
       "                         21.61\n",
       "                     </td>\n",
       " <td class=\"text-center print_hide phone-small-font\" data-table=\"遠期匯率買入/賣出\"><a href=\"/xrt/forward/AUD\" title=\"澳幣 遠期匯率\">查詢</a></td>\n",
       " <td class=\"text-center print_hide phone-small-font\" data-table=\"歷史匯率\"><a href=\"/xrt/history/AUD?Lang=zh-TW\" target=\"_blank\" title=\"澳幣 歷史匯率 (另開視窗)\">查詢</a></td>\n",
       " <td class=\"text-right display_none_print_show print_width\" data-table=\"本行現金買入\">21.05</td>\n",
       " <td class=\"text-right display_none_print_show print_width\" data-table=\"本行現金賣出\">21.83</td>\n",
       " <td class=\"text-right display_none_print_show print_width\" data-table=\"本行即期買入\">21.265</td>\n",
       " <td class=\"text-right display_none_print_show print_width\" data-table=\"本行即期賣出\">21.61</td>\n",
       " </tr>,\n",
       " <tr>\n",
       " <td class=\"currency phone-small-font\" data-table=\"幣別\">\n",
       " <div>\n",
       " <div class=\"sp-div sp-canada-div\">\n",
       " <img alt=\"幣別國旗\" class=\"sp-img sp-canada-img\" src=\"/Content/images/sprite_lateral.png\" title=\"幣別國旗\"/>\n",
       " </div>\n",
       " <br class=\"visible-phone print_hide\"/>\n",
       " <div class=\"visible-phone print_hide\">\n",
       "                                 加拿大幣 (CAD)\n",
       "                             </div>\n",
       " <div class=\"hidden-phone print_show\" style=\"text-indent:30px;\">\n",
       "                                 加拿大幣 (CAD)\n",
       "                             </div>\n",
       " </div>\n",
       " </td>\n",
       " <td class=\"rate-content-cash text-right print_hide\" data-table=\"本行現金買入\">21.29</td>\n",
       " <td class=\"rate-content-cash text-right print_hide\" data-table=\"本行現金賣出\">22.2</td>\n",
       " <td class=\"rate-content-sight text-right print_hide\" data-hide=\"phone\" data-table=\"本行即期買入\">\n",
       "                         21.62\n",
       "                     </td>\n",
       " <td class=\"rate-content-sight text-right print_hide\" data-hide=\"phone\" data-table=\"本行即期賣出\">\n",
       "                         21.95\n",
       "                     </td>\n",
       " <td class=\"text-center print_hide phone-small-font\" data-table=\"遠期匯率買入/賣出\"><a href=\"/xrt/forward/CAD\" title=\"加拿大幣 遠期匯率\">查詢</a></td>\n",
       " <td class=\"text-center print_hide phone-small-font\" data-table=\"歷史匯率\"><a href=\"/xrt/history/CAD?Lang=zh-TW\" target=\"_blank\" title=\"加拿大幣 歷史匯率 (另開視窗)\">查詢</a></td>\n",
       " <td class=\"text-right display_none_print_show print_width\" data-table=\"本行現金買入\">21.29</td>\n",
       " <td class=\"text-right display_none_print_show print_width\" data-table=\"本行現金賣出\">22.2</td>\n",
       " <td class=\"text-right display_none_print_show print_width\" data-table=\"本行即期買入\">21.62</td>\n",
       " <td class=\"text-right display_none_print_show print_width\" data-table=\"本行即期賣出\">21.95</td>\n",
       " </tr>,\n",
       " <tr>\n",
       " <td class=\"currency phone-small-font\" data-table=\"幣別\">\n",
       " <div>\n",
       " <div class=\"sp-div sp-singapore-div\">\n",
       " <img alt=\"幣別國旗\" class=\"sp-img sp-singapore-img\" src=\"/Content/images/sprite_lateral.png\" title=\"幣別國旗\"/>\n",
       " </div>\n",
       " <br class=\"visible-phone print_hide\"/>\n",
       " <div class=\"visible-phone print_hide\">\n",
       "                                 新加坡幣 (SGD)\n",
       "                             </div>\n",
       " <div class=\"hidden-phone print_show\" style=\"text-indent:30px;\">\n",
       "                                 新加坡幣 (SGD)\n",
       "                             </div>\n",
       " </div>\n",
       " </td>\n",
       " <td class=\"rate-content-cash text-right print_hide\" data-table=\"本行現金買入\">20.47</td>\n",
       " <td class=\"rate-content-cash text-right print_hide\" data-table=\"本行現金賣出\">21.38</td>\n",
       " <td class=\"rate-content-sight text-right print_hide\" data-hide=\"phone\" data-table=\"本行即期買入\">\n",
       "                         20.94\n",
       "                     </td>\n",
       " <td class=\"rate-content-sight text-right print_hide\" data-hide=\"phone\" data-table=\"本行即期賣出\">\n",
       "                         21.16\n",
       "                     </td>\n",
       " <td class=\"text-center print_hide phone-small-font\" data-table=\"遠期匯率買入/賣出\"><a href=\"/xrt/forward/SGD\" title=\"新加坡幣 遠期匯率\">查詢</a></td>\n",
       " <td class=\"text-center print_hide phone-small-font\" data-table=\"歷史匯率\"><a href=\"/xrt/history/SGD?Lang=zh-TW\" target=\"_blank\" title=\"新加坡幣 歷史匯率 (另開視窗)\">查詢</a></td>\n",
       " <td class=\"text-right display_none_print_show print_width\" data-table=\"本行現金買入\">20.47</td>\n",
       " <td class=\"text-right display_none_print_show print_width\" data-table=\"本行現金賣出\">21.38</td>\n",
       " <td class=\"text-right display_none_print_show print_width\" data-table=\"本行即期買入\">20.94</td>\n",
       " <td class=\"text-right display_none_print_show print_width\" data-table=\"本行即期賣出\">21.16</td>\n",
       " </tr>,\n",
       " <tr>\n",
       " <td class=\"currency phone-small-font\" data-table=\"幣別\">\n",
       " <div>\n",
       " <div class=\"sp-div sp-swiss-div\">\n",
       " <img alt=\"幣別國旗\" class=\"sp-img sp-swiss-img\" src=\"/Content/images/sprite_lateral.png\" title=\"幣別國旗\"/>\n",
       " </div>\n",
       " <br class=\"visible-phone print_hide\"/>\n",
       " <div class=\"visible-phone print_hide\">\n",
       "                                 瑞士法郎 (CHF)\n",
       "                             </div>\n",
       " <div class=\"hidden-phone print_show\" style=\"text-indent:30px;\">\n",
       "                                 瑞士法郎 (CHF)\n",
       "                             </div>\n",
       " </div>\n",
       " </td>\n",
       " <td class=\"rate-content-cash text-right print_hide\" data-table=\"本行現金買入\">30.7</td>\n",
       " <td class=\"rate-content-cash text-right print_hide\" data-table=\"本行現金賣出\">31.9</td>\n",
       " <td class=\"rate-content-sight text-right print_hide\" data-hide=\"phone\" data-table=\"本行即期買入\">\n",
       "                         31.31\n",
       "                     </td>\n",
       " <td class=\"rate-content-sight text-right print_hide\" data-hide=\"phone\" data-table=\"本行即期賣出\">\n",
       "                         31.7\n",
       "                     </td>\n",
       " <td class=\"text-center print_hide phone-small-font\" data-table=\"遠期匯率買入/賣出\"><a href=\"/xrt/forward/CHF\" title=\"瑞士法郎 遠期匯率\">查詢</a></td>\n",
       " <td class=\"text-center print_hide phone-small-font\" data-table=\"歷史匯率\"><a href=\"/xrt/history/CHF?Lang=zh-TW\" target=\"_blank\" title=\"瑞士法郎 歷史匯率 (另開視窗)\">查詢</a></td>\n",
       " <td class=\"text-right display_none_print_show print_width\" data-table=\"本行現金買入\">30.7</td>\n",
       " <td class=\"text-right display_none_print_show print_width\" data-table=\"本行現金賣出\">31.9</td>\n",
       " <td class=\"text-right display_none_print_show print_width\" data-table=\"本行即期買入\">31.31</td>\n",
       " <td class=\"text-right display_none_print_show print_width\" data-table=\"本行即期賣出\">31.7</td>\n",
       " </tr>,\n",
       " <tr>\n",
       " <td class=\"currency phone-small-font\" data-table=\"幣別\">\n",
       " <div>\n",
       " <div class=\"sp-div sp-japan-div\">\n",
       " <img alt=\"幣別國旗\" class=\"sp-img sp-japan-img\" src=\"/Content/images/sprite_lateral.png\" title=\"幣別國旗\"/>\n",
       " </div>\n",
       " <br class=\"visible-phone print_hide\"/>\n",
       " <div class=\"visible-phone print_hide\">\n",
       "                                 日圓 (JPY)\n",
       "                             </div>\n",
       " <div class=\"hidden-phone print_show\" style=\"text-indent:30px;\">\n",
       "                                 日圓 (JPY)\n",
       "                             </div>\n",
       " </div>\n",
       " </td>\n",
       " <td class=\"rate-content-cash text-right print_hide\" data-table=\"本行現金買入\">0.2586</td>\n",
       " <td class=\"rate-content-cash text-right print_hide\" data-table=\"本行現金賣出\">0.2714</td>\n",
       " <td class=\"rate-content-sight text-right print_hide\" data-hide=\"phone\" data-table=\"本行即期買入\">\n",
       "                         0.2656\n",
       "                     </td>\n",
       " <td class=\"rate-content-sight text-right print_hide\" data-hide=\"phone\" data-table=\"本行即期賣出\">\n",
       "                         0.2702\n",
       "                     </td>\n",
       " <td class=\"text-center print_hide phone-small-font\" data-table=\"遠期匯率買入/賣出\"><a href=\"/xrt/forward/JPY\" title=\"日圓 遠期匯率\">查詢</a></td>\n",
       " <td class=\"text-center print_hide phone-small-font\" data-table=\"歷史匯率\"><a href=\"/xrt/history/JPY?Lang=zh-TW\" target=\"_blank\" title=\"日圓 歷史匯率 (另開視窗)\">查詢</a></td>\n",
       " <td class=\"text-right display_none_print_show print_width\" data-table=\"本行現金買入\">0.2586</td>\n",
       " <td class=\"text-right display_none_print_show print_width\" data-table=\"本行現金賣出\">0.2714</td>\n",
       " <td class=\"text-right display_none_print_show print_width\" data-table=\"本行即期買入\">0.2656</td>\n",
       " <td class=\"text-right display_none_print_show print_width\" data-table=\"本行即期賣出\">0.2702</td>\n",
       " </tr>,\n",
       " <tr>\n",
       " <td class=\"currency phone-small-font\" data-table=\"幣別\">\n",
       " <div>\n",
       " <div class=\"sp-div sp-south-africa-div\">\n",
       " <img alt=\"幣別國旗\" class=\"sp-img sp-south-africa-img\" src=\"/Content/images/sprite_lateral.png\" title=\"幣別國旗\"/>\n",
       " </div>\n",
       " <br class=\"visible-phone print_hide\"/>\n",
       " <div class=\"visible-phone print_hide\">\n",
       "                                 南非幣 (ZAR)\n",
       "                             </div>\n",
       " <div class=\"hidden-phone print_show\" style=\"text-indent:30px;\">\n",
       "                                 南非幣 (ZAR)\n",
       "                             </div>\n",
       " </div>\n",
       " </td>\n",
       " <td class=\"rate-content-cash text-right print_hide\" data-table=\"本行現金買入\">-</td>\n",
       " <td class=\"rate-content-cash text-right print_hide\" data-table=\"本行現金賣出\">-</td>\n",
       " <td class=\"rate-content-sight text-right print_hide\" data-hide=\"phone\" data-table=\"本行即期買入\">\n",
       "                         1.799\n",
       "                     </td>\n",
       " <td class=\"rate-content-sight text-right print_hide\" data-hide=\"phone\" data-table=\"本行即期賣出\">\n",
       "                         1.889\n",
       "                     </td>\n",
       " <td class=\"text-center print_hide phone-small-font\" data-table=\"遠期匯率買入/賣出\"><a href=\"/xrt/forward/ZAR\" title=\"南非幣 遠期匯率\">查詢</a></td>\n",
       " <td class=\"text-center print_hide phone-small-font\" data-table=\"歷史匯率\"><a href=\"/xrt/history/ZAR?Lang=zh-TW\" target=\"_blank\" title=\"南非幣 歷史匯率 (另開視窗)\">查詢</a></td>\n",
       " <td class=\"text-right display_none_print_show print_width\" data-table=\"本行現金買入\">-</td>\n",
       " <td class=\"text-right display_none_print_show print_width\" data-table=\"本行現金賣出\">-</td>\n",
       " <td class=\"text-right display_none_print_show print_width\" data-table=\"本行即期買入\">1.799</td>\n",
       " <td class=\"text-right display_none_print_show print_width\" data-table=\"本行即期賣出\">1.889</td>\n",
       " </tr>,\n",
       " <tr>\n",
       " <td class=\"currency phone-small-font\" data-table=\"幣別\">\n",
       " <div>\n",
       " <div class=\"sp-div sp-sweden-div\">\n",
       " <img alt=\"幣別國旗\" class=\"sp-img sp-sweden-img\" src=\"/Content/images/sprite_lateral.png\" title=\"幣別國旗\"/>\n",
       " </div>\n",
       " <br class=\"visible-phone print_hide\"/>\n",
       " <div class=\"visible-phone print_hide\">\n",
       "                                 瑞典幣 (SEK)\n",
       "                             </div>\n",
       " <div class=\"hidden-phone print_show\" style=\"text-indent:30px;\">\n",
       "                                 瑞典幣 (SEK)\n",
       "                             </div>\n",
       " </div>\n",
       " </td>\n",
       " <td class=\"rate-content-cash text-right print_hide\" data-table=\"本行現金買入\">2.96</td>\n",
       " <td class=\"rate-content-cash text-right print_hide\" data-table=\"本行現金賣出\">3.48</td>\n",
       " <td class=\"rate-content-sight text-right print_hide\" data-hide=\"phone\" data-table=\"本行即期買入\">\n",
       "                         3.29\n",
       "                     </td>\n",
       " <td class=\"rate-content-sight text-right print_hide\" data-hide=\"phone\" data-table=\"本行即期賣出\">\n",
       "                         3.41\n",
       "                     </td>\n",
       " <td class=\"text-center print_hide phone-small-font\" data-table=\"遠期匯率買入/賣出\"><a href=\"/xrt/forward/SEK\" title=\"瑞典幣 遠期匯率\">查詢</a></td>\n",
       " <td class=\"text-center print_hide phone-small-font\" data-table=\"歷史匯率\"><a href=\"/xrt/history/SEK?Lang=zh-TW\" target=\"_blank\" title=\"瑞典幣 歷史匯率 (另開視窗)\">查詢</a></td>\n",
       " <td class=\"text-right display_none_print_show print_width\" data-table=\"本行現金買入\">2.96</td>\n",
       " <td class=\"text-right display_none_print_show print_width\" data-table=\"本行現金賣出\">3.48</td>\n",
       " <td class=\"text-right display_none_print_show print_width\" data-table=\"本行即期買入\">3.29</td>\n",
       " <td class=\"text-right display_none_print_show print_width\" data-table=\"本行即期賣出\">3.41</td>\n",
       " </tr>,\n",
       " <tr>\n",
       " <td class=\"currency phone-small-font\" data-table=\"幣別\">\n",
       " <div>\n",
       " <div class=\"sp-div sp-new-zealand-div\">\n",
       " <img alt=\"幣別國旗\" class=\"sp-img sp-new-zealand-img\" src=\"/Content/images/sprite_lateral.png\" title=\"幣別國旗\"/>\n",
       " </div>\n",
       " <br class=\"visible-phone print_hide\"/>\n",
       " <div class=\"visible-phone print_hide\">\n",
       "                                 紐元 (NZD)\n",
       "                             </div>\n",
       " <div class=\"hidden-phone print_show\" style=\"text-indent:30px;\">\n",
       "                                 紐元 (NZD)\n",
       "                             </div>\n",
       " </div>\n",
       " </td>\n",
       " <td class=\"rate-content-cash text-right print_hide\" data-table=\"本行現金買入\">19.59</td>\n",
       " <td class=\"rate-content-cash text-right print_hide\" data-table=\"本行現金賣出\">20.44</td>\n",
       " <td class=\"rate-content-sight text-right print_hide\" data-hide=\"phone\" data-table=\"本行即期買入\">\n",
       "                         19.92\n",
       "                     </td>\n",
       " <td class=\"rate-content-sight text-right print_hide\" data-hide=\"phone\" data-table=\"本行即期賣出\">\n",
       "                         20.22\n",
       "                     </td>\n",
       " <td class=\"text-center print_hide phone-small-font\" data-table=\"遠期匯率買入/賣出\"><a href=\"/xrt/forward/NZD\" title=\"紐元 遠期匯率\">查詢</a></td>\n",
       " <td class=\"text-center print_hide phone-small-font\" data-table=\"歷史匯率\"><a href=\"/xrt/history/NZD?Lang=zh-TW\" target=\"_blank\" title=\"紐元 歷史匯率 (另開視窗)\">查詢</a></td>\n",
       " <td class=\"text-right display_none_print_show print_width\" data-table=\"本行現金買入\">19.59</td>\n",
       " <td class=\"text-right display_none_print_show print_width\" data-table=\"本行現金賣出\">20.44</td>\n",
       " <td class=\"text-right display_none_print_show print_width\" data-table=\"本行即期買入\">19.92</td>\n",
       " <td class=\"text-right display_none_print_show print_width\" data-table=\"本行即期賣出\">20.22</td>\n",
       " </tr>,\n",
       " <tr>\n",
       " <td class=\"currency phone-small-font\" data-table=\"幣別\">\n",
       " <div>\n",
       " <div class=\"sp-div sp-thailand-div\">\n",
       " <img alt=\"幣別國旗\" class=\"sp-img sp-thailand-img\" src=\"/Content/images/sprite_lateral.png\" title=\"幣別國旗\"/>\n",
       " </div>\n",
       " <br class=\"visible-phone print_hide\"/>\n",
       " <div class=\"visible-phone print_hide\">\n",
       "                                 泰幣 (THB)\n",
       "                             </div>\n",
       " <div class=\"hidden-phone print_show\" style=\"text-indent:30px;\">\n",
       "                                 泰幣 (THB)\n",
       "                             </div>\n",
       " </div>\n",
       " </td>\n",
       " <td class=\"rate-content-cash text-right print_hide\" data-table=\"本行現金買入\">0.8065</td>\n",
       " <td class=\"rate-content-cash text-right print_hide\" data-table=\"本行現金賣出\">0.9965</td>\n",
       " <td class=\"rate-content-sight text-right print_hide\" data-hide=\"phone\" data-table=\"本行即期買入\">\n",
       "                         0.9159\n",
       "                     </td>\n",
       " <td class=\"rate-content-sight text-right print_hide\" data-hide=\"phone\" data-table=\"本行即期賣出\">\n",
       "                         0.9619\n",
       "                     </td>\n",
       " <td class=\"text-center print_hide phone-small-font\" data-table=\"遠期匯率買入/賣出\"><a href=\"/xrt/forward/THB\" title=\"泰幣 遠期匯率\">查詢</a></td>\n",
       " <td class=\"text-center print_hide phone-small-font\" data-table=\"歷史匯率\"><a href=\"/xrt/history/THB?Lang=zh-TW\" target=\"_blank\" title=\"泰幣 歷史匯率 (另開視窗)\">查詢</a></td>\n",
       " <td class=\"text-right display_none_print_show print_width\" data-table=\"本行現金買入\">0.8065</td>\n",
       " <td class=\"text-right display_none_print_show print_width\" data-table=\"本行現金賣出\">0.9965</td>\n",
       " <td class=\"text-right display_none_print_show print_width\" data-table=\"本行即期買入\">0.9159</td>\n",
       " <td class=\"text-right display_none_print_show print_width\" data-table=\"本行即期賣出\">0.9619</td>\n",
       " </tr>,\n",
       " <tr>\n",
       " <td class=\"currency phone-small-font\" data-table=\"幣別\">\n",
       " <div>\n",
       " <div class=\"sp-div sp-philippine-div\">\n",
       " <img alt=\"幣別國旗\" class=\"sp-img sp-philippine-img\" src=\"/Content/images/sprite_lateral.png\" title=\"幣別國旗\"/>\n",
       " </div>\n",
       " <br class=\"visible-phone print_hide\"/>\n",
       " <div class=\"visible-phone print_hide\">\n",
       "                                 菲國比索 (PHP)\n",
       "                             </div>\n",
       " <div class=\"hidden-phone print_show\" style=\"text-indent:30px;\">\n",
       "                                 菲國比索 (PHP)\n",
       "                             </div>\n",
       " </div>\n",
       " </td>\n",
       " <td class=\"rate-content-cash text-right print_hide\" data-table=\"本行現金買入\">0.509</td>\n",
       " <td class=\"rate-content-cash text-right print_hide\" data-table=\"本行現金賣出\">0.642</td>\n",
       " <td class=\"rate-content-sight text-right print_hide\" data-hide=\"phone\" data-table=\"本行即期買入\">\n",
       "                         -\n",
       "                     </td>\n",
       " <td class=\"rate-content-sight text-right print_hide\" data-hide=\"phone\" data-table=\"本行即期賣出\">\n",
       "                         -\n",
       "                     </td>\n",
       " <td class=\"text-center print_hide phone-small-font\" data-table=\"遠期匯率買入/賣出\"><a href=\"/xrt/forward/PHP\" title=\"菲國比索 遠期匯率\">查詢</a></td>\n",
       " <td class=\"text-center print_hide phone-small-font\" data-table=\"歷史匯率\"><a href=\"/xrt/history/PHP?Lang=zh-TW\" target=\"_blank\" title=\"菲國比索 歷史匯率 (另開視窗)\">查詢</a></td>\n",
       " <td class=\"text-right display_none_print_show print_width\" data-table=\"本行現金買入\">0.509</td>\n",
       " <td class=\"text-right display_none_print_show print_width\" data-table=\"本行現金賣出\">0.642</td>\n",
       " <td class=\"text-right display_none_print_show print_width\" data-table=\"本行即期買入\">-</td>\n",
       " <td class=\"text-right display_none_print_show print_width\" data-table=\"本行即期賣出\">-</td>\n",
       " </tr>,\n",
       " <tr>\n",
       " <td class=\"currency phone-small-font\" data-table=\"幣別\">\n",
       " <div>\n",
       " <div class=\"sp-div sp-indonesia-div\">\n",
       " <img alt=\"幣別國旗\" class=\"sp-img sp-indonesia-img\" src=\"/Content/images/sprite_lateral.png\" title=\"幣別國旗\"/>\n",
       " </div>\n",
       " <br class=\"visible-phone print_hide\"/>\n",
       " <div class=\"visible-phone print_hide\">\n",
       "                                 印尼幣 (IDR)\n",
       "                             </div>\n",
       " <div class=\"hidden-phone print_show\" style=\"text-indent:30px;\">\n",
       "                                 印尼幣 (IDR)\n",
       "                             </div>\n",
       " </div>\n",
       " </td>\n",
       " <td class=\"rate-content-cash text-right print_hide\" data-table=\"本行現金買入\">0.00158</td>\n",
       " <td class=\"rate-content-cash text-right print_hide\" data-table=\"本行現金賣出\">0.00228</td>\n",
       " <td class=\"rate-content-sight text-right print_hide\" data-hide=\"phone\" data-table=\"本行即期買入\">\n",
       "                         -\n",
       "                     </td>\n",
       " <td class=\"rate-content-sight text-right print_hide\" data-hide=\"phone\" data-table=\"本行即期賣出\">\n",
       "                         -\n",
       "                     </td>\n",
       " <td class=\"text-center print_hide phone-small-font\" data-table=\"遠期匯率買入/賣出\"><a href=\"/xrt/forward/IDR\" title=\"印尼幣 遠期匯率\">查詢</a></td>\n",
       " <td class=\"text-center print_hide phone-small-font\" data-table=\"歷史匯率\"><a href=\"/xrt/history/IDR?Lang=zh-TW\" target=\"_blank\" title=\"印尼幣 歷史匯率 (另開視窗)\">查詢</a></td>\n",
       " <td class=\"text-right display_none_print_show print_width\" data-table=\"本行現金買入\">0.00158</td>\n",
       " <td class=\"text-right display_none_print_show print_width\" data-table=\"本行現金賣出\">0.00228</td>\n",
       " <td class=\"text-right display_none_print_show print_width\" data-table=\"本行即期買入\">-</td>\n",
       " <td class=\"text-right display_none_print_show print_width\" data-table=\"本行即期賣出\">-</td>\n",
       " </tr>,\n",
       " <tr>\n",
       " <td class=\"currency phone-small-font\" data-table=\"幣別\">\n",
       " <div>\n",
       " <div class=\"sp-div sp-euro-div\">\n",
       " <img alt=\"幣別國旗\" class=\"sp-img sp-euro-img\" src=\"/Content/images/sprite_lateral.png\" title=\"幣別國旗\"/>\n",
       " </div>\n",
       " <br class=\"visible-phone print_hide\"/>\n",
       " <div class=\"visible-phone print_hide\">\n",
       "                                 歐元 (EUR)\n",
       "                             </div>\n",
       " <div class=\"hidden-phone print_show\" style=\"text-indent:30px;\">\n",
       "                                 歐元 (EUR)\n",
       "                             </div>\n",
       " </div>\n",
       " </td>\n",
       " <td class=\"rate-content-cash text-right print_hide\" data-table=\"本行現金買入\">33.11</td>\n",
       " <td class=\"rate-content-cash text-right print_hide\" data-table=\"本行現金賣出\">34.45</td>\n",
       " <td class=\"rate-content-sight text-right print_hide\" data-hide=\"phone\" data-table=\"本行即期買入\">\n",
       "                         33.625\n",
       "                     </td>\n",
       " <td class=\"rate-content-sight text-right print_hide\" data-hide=\"phone\" data-table=\"本行即期賣出\">\n",
       "                         34.225\n",
       "                     </td>\n",
       " <td class=\"text-center print_hide phone-small-font\" data-table=\"遠期匯率買入/賣出\"><a href=\"/xrt/forward/EUR\" title=\"歐元 遠期匯率\">查詢</a></td>\n",
       " <td class=\"text-center print_hide phone-small-font\" data-table=\"歷史匯率\"><a href=\"/xrt/history/EUR?Lang=zh-TW\" target=\"_blank\" title=\"歐元 歷史匯率 (另開視窗)\">查詢</a></td>\n",
       " <td class=\"text-right display_none_print_show print_width\" data-table=\"本行現金買入\">33.11</td>\n",
       " <td class=\"text-right display_none_print_show print_width\" data-table=\"本行現金賣出\">34.45</td>\n",
       " <td class=\"text-right display_none_print_show print_width\" data-table=\"本行即期買入\">33.625</td>\n",
       " <td class=\"text-right display_none_print_show print_width\" data-table=\"本行即期賣出\">34.225</td>\n",
       " </tr>,\n",
       " <tr>\n",
       " <td class=\"currency phone-small-font\" data-table=\"幣別\">\n",
       " <div>\n",
       " <div class=\"sp-div sp-korea-div\">\n",
       " <img alt=\"幣別國旗\" class=\"sp-img sp-korea-img\" src=\"/Content/images/sprite_lateral.png\" title=\"幣別國旗\"/>\n",
       " </div>\n",
       " <br class=\"visible-phone print_hide\"/>\n",
       " <div class=\"visible-phone print_hide\">\n",
       "                                 韓元 (KRW)\n",
       "                             </div>\n",
       " <div class=\"hidden-phone print_show\" style=\"text-indent:30px;\">\n",
       "                                 韓元 (KRW)\n",
       "                             </div>\n",
       " </div>\n",
       " </td>\n",
       " <td class=\"rate-content-cash text-right print_hide\" data-table=\"本行現金買入\">0.0233</td>\n",
       " <td class=\"rate-content-cash text-right print_hide\" data-table=\"本行現金賣出\">0.0272</td>\n",
       " <td class=\"rate-content-sight text-right print_hide\" data-hide=\"phone\" data-table=\"本行即期買入\">\n",
       "                         -\n",
       "                     </td>\n",
       " <td class=\"rate-content-sight text-right print_hide\" data-hide=\"phone\" data-table=\"本行即期賣出\">\n",
       "                         -\n",
       "                     </td>\n",
       " <td class=\"text-center print_hide phone-small-font\" data-table=\"遠期匯率買入/賣出\"><a href=\"/xrt/forward/KRW\" title=\"韓元 遠期匯率\">查詢</a></td>\n",
       " <td class=\"text-center print_hide phone-small-font\" data-table=\"歷史匯率\"><a href=\"/xrt/history/KRW?Lang=zh-TW\" target=\"_blank\" title=\"韓元 歷史匯率 (另開視窗)\">查詢</a></td>\n",
       " <td class=\"text-right display_none_print_show print_width\" data-table=\"本行現金買入\">0.0233</td>\n",
       " <td class=\"text-right display_none_print_show print_width\" data-table=\"本行現金賣出\">0.0272</td>\n",
       " <td class=\"text-right display_none_print_show print_width\" data-table=\"本行即期買入\">-</td>\n",
       " <td class=\"text-right display_none_print_show print_width\" data-table=\"本行即期賣出\">-</td>\n",
       " </tr>,\n",
       " <tr>\n",
       " <td class=\"currency phone-small-font\" data-table=\"幣別\">\n",
       " <div>\n",
       " <div class=\"sp-div sp-vietnam-div\">\n",
       " <img alt=\"幣別國旗\" class=\"sp-img sp-vietnam-img\" src=\"/Content/images/sprite_lateral.png\" title=\"幣別國旗\"/>\n",
       " </div>\n",
       " <br class=\"visible-phone print_hide\"/>\n",
       " <div class=\"visible-phone print_hide\">\n",
       "                                 越南盾 (VND)\n",
       "                             </div>\n",
       " <div class=\"hidden-phone print_show\" style=\"text-indent:30px;\">\n",
       "                                 越南盾 (VND)\n",
       "                             </div>\n",
       " </div>\n",
       " </td>\n",
       " <td class=\"rate-content-cash text-right print_hide\" data-table=\"本行現金買入\">0.00082</td>\n",
       " <td class=\"rate-content-cash text-right print_hide\" data-table=\"本行現金賣出\">0.00132</td>\n",
       " <td class=\"rate-content-sight text-right print_hide\" data-hide=\"phone\" data-table=\"本行即期買入\">\n",
       "                         -\n",
       "                     </td>\n",
       " <td class=\"rate-content-sight text-right print_hide\" data-hide=\"phone\" data-table=\"本行即期賣出\">\n",
       "                         -\n",
       "                     </td>\n",
       " <td class=\"text-center print_hide phone-small-font\" data-table=\"遠期匯率買入/賣出\"><a href=\"/xrt/forward/VND\" title=\"越南盾 遠期匯率\">查詢</a></td>\n",
       " <td class=\"text-center print_hide phone-small-font\" data-table=\"歷史匯率\"><a href=\"/xrt/history/VND?Lang=zh-TW\" target=\"_blank\" title=\"越南盾 歷史匯率 (另開視窗)\">查詢</a></td>\n",
       " <td class=\"text-right display_none_print_show print_width\" data-table=\"本行現金買入\">0.00082</td>\n",
       " <td class=\"text-right display_none_print_show print_width\" data-table=\"本行現金賣出\">0.00132</td>\n",
       " <td class=\"text-right display_none_print_show print_width\" data-table=\"本行即期買入\">-</td>\n",
       " <td class=\"text-right display_none_print_show print_width\" data-table=\"本行即期賣出\">-</td>\n",
       " </tr>,\n",
       " <tr>\n",
       " <td class=\"currency phone-small-font\" data-table=\"幣別\">\n",
       " <div>\n",
       " <div class=\"sp-div sp-malaysia-div\">\n",
       " <img alt=\"幣別國旗\" class=\"sp-img sp-malaysia-img\" src=\"/Content/images/sprite_lateral.png\" title=\"幣別國旗\"/>\n",
       " </div>\n",
       " <br class=\"visible-phone print_hide\"/>\n",
       " <div class=\"visible-phone print_hide\">\n",
       "                                 馬來幣 (MYR)\n",
       "                             </div>\n",
       " <div class=\"hidden-phone print_show\" style=\"text-indent:30px;\">\n",
       "                                 馬來幣 (MYR)\n",
       "                             </div>\n",
       " </div>\n",
       " </td>\n",
       " <td class=\"rate-content-cash text-right print_hide\" data-table=\"本行現金買入\">5.807</td>\n",
       " <td class=\"rate-content-cash text-right print_hide\" data-table=\"本行現金賣出\">7.432</td>\n",
       " <td class=\"rate-content-sight text-right print_hide\" data-hide=\"phone\" data-table=\"本行即期買入\">\n",
       "                         -\n",
       "                     </td>\n",
       " <td class=\"rate-content-sight text-right print_hide\" data-hide=\"phone\" data-table=\"本行即期賣出\">\n",
       "                         -\n",
       "                     </td>\n",
       " <td class=\"text-center print_hide phone-small-font\" data-table=\"遠期匯率買入/賣出\"><a href=\"/xrt/forward/MYR\" title=\"馬來幣 遠期匯率\">查詢</a></td>\n",
       " <td class=\"text-center print_hide phone-small-font\" data-table=\"歷史匯率\"><a href=\"/xrt/history/MYR?Lang=zh-TW\" target=\"_blank\" title=\"馬來幣 歷史匯率 (另開視窗)\">查詢</a></td>\n",
       " <td class=\"text-right display_none_print_show print_width\" data-table=\"本行現金買入\">5.807</td>\n",
       " <td class=\"text-right display_none_print_show print_width\" data-table=\"本行現金賣出\">7.432</td>\n",
       " <td class=\"text-right display_none_print_show print_width\" data-table=\"本行即期買入\">-</td>\n",
       " <td class=\"text-right display_none_print_show print_width\" data-table=\"本行即期賣出\">-</td>\n",
       " </tr>,\n",
       " <tr>\n",
       " <td class=\"currency phone-small-font\" data-table=\"幣別\">\n",
       " <div>\n",
       " <div class=\"sp-div sp-china-div\">\n",
       " <img alt=\"幣別國旗\" class=\"sp-img sp-china-img\" src=\"/Content/images/sprite_lateral.png\" title=\"幣別國旗\"/>\n",
       " </div>\n",
       " <br class=\"visible-phone print_hide\"/>\n",
       " <div class=\"visible-phone print_hide\">\n",
       "                                 人民幣 (CNY)\n",
       "                             </div>\n",
       " <div class=\"hidden-phone print_show\" style=\"text-indent:30px;\">\n",
       "                                 人民幣 (CNY)\n",
       "                             </div>\n",
       " </div>\n",
       " </td>\n",
       " <td class=\"rate-content-cash text-right print_hide\" data-table=\"本行現金買入\">4.231</td>\n",
       " <td class=\"rate-content-cash text-right print_hide\" data-table=\"本行現金賣出\">4.393</td>\n",
       " <td class=\"rate-content-sight text-right print_hide\" data-hide=\"phone\" data-table=\"本行即期買入\">\n",
       "                         4.298\n",
       "                     </td>\n",
       " <td class=\"rate-content-sight text-right print_hide\" data-hide=\"phone\" data-table=\"本行即期賣出\">\n",
       "                         4.358\n",
       "                     </td>\n",
       " <td class=\"text-center print_hide phone-small-font\" data-table=\"遠期匯率買入/賣出\"><a href=\"/xrt/forward/CNY\" title=\"人民幣 遠期匯率\">查詢</a></td>\n",
       " <td class=\"text-center print_hide phone-small-font\" data-table=\"歷史匯率\"><a href=\"/xrt/history/CNY?Lang=zh-TW\" target=\"_blank\" title=\"人民幣 歷史匯率 (另開視窗)\">查詢</a></td>\n",
       " <td class=\"text-right display_none_print_show print_width\" data-table=\"本行現金買入\">4.231</td>\n",
       " <td class=\"text-right display_none_print_show print_width\" data-table=\"本行現金賣出\">4.393</td>\n",
       " <td class=\"text-right display_none_print_show print_width\" data-table=\"本行即期買入\">4.298</td>\n",
       " <td class=\"text-right display_none_print_show print_width\" data-table=\"本行即期賣出\">4.358</td>\n",
       " </tr>]"
      ]
     },
     "execution_count": 10,
     "metadata": {},
     "output_type": "execute_result"
    }
   ],
   "source": [
    "# 先到牌告匯率首頁，爬取所有貨幣的種類\n",
    "url = \"https://rate.bot.com.tw/xrt?Lang=zh-TW\"\n",
    "resp = requests.get(url)\n",
    "resp.encoding = 'utf-8'\n",
    "html = BeautifulSoup(resp.text, \"lxml\")\n",
    "rate_table = html.find(name='table', attrs={'title':'牌告匯率'}).find(name='tbody').find_all(name='tr')\n",
    "\n",
    "rate_table"
   ]
  },
  {
   "cell_type": "code",
   "execution_count": null,
   "metadata": {},
   "outputs": [
    {
     "name": "stdout",
     "output_type": "stream",
     "text": [
      "\r\n",
      "美金(USD)\r\n",
      "\n"
     ]
    },
    {
     "data": {
      "text/plain": [
       "<Figure size 720x576 with 0 Axes>"
      ]
     },
     "metadata": {},
     "output_type": "display_data"
    },
    {
     "data": {
      "image/png": "[encoded data removed]",
      "text/plain": [
       "<Figure size 432x288 with 1 Axes>"
      ]
     },
     "metadata": {
      "needs_background": "light"
     },
     "output_type": "display_data"
    },
    {
     "name": "stdout",
     "output_type": "stream",
     "text": [
      "\r\n",
      "港幣(HKD)\r\n",
      "\n"
     ]
    },
    {
     "data": {
      "text/plain": [
       "<Figure size 720x576 with 0 Axes>"
      ]
     },
     "metadata": {},
     "output_type": "display_data"
    },
    {
     "data": {
      "image/png": "[encoded data removed]",
      "text/plain": [
       "<Figure size 432x288 with 1 Axes>"
      ]
     },
     "metadata": {
      "needs_background": "light"
     },
     "output_type": "display_data"
    },
    {
     "name": "stdout",
     "output_type": "stream",
     "text": [
      "\r\n",
      "英鎊(GBP)\r\n",
      "\n"
     ]
    },
    {
     "data": {
      "text/plain": [
       "<Figure size 720x576 with 0 Axes>"
      ]
     },
     "metadata": {},
     "output_type": "display_data"
    },
    {
     "data": {
      "image/png": "[encoded data removed]",
      "text/plain": [
       "<Figure size 432x288 with 1 Axes>"
      ]
     },
     "metadata": {
      "needs_background": "light"
     },
     "output_type": "display_data"
    },
    {
     "name": "stdout",
     "output_type": "stream",
     "text": [
      "\r\n",
      "澳幣(AUD)\r\n",
      "\n"
     ]
    },
    {
     "data": {
      "text/plain": [
       "<Figure size 720x576 with 0 Axes>"
      ]
     },
     "metadata": {},
     "output_type": "display_data"
    },
    {
     "data": {
      "image/png": "[encoded data removed]",
      "text/plain": [
       "<Figure size 432x288 with 1 Axes>"
      ]
     },
     "metadata": {
      "needs_background": "light"
     },
     "output_type": "display_data"
    },
    {
     "name": "stdout",
     "output_type": "stream",
     "text": [
      "\r\n",
      "加拿大幣(CAD)\r\n",
      "\n"
     ]
    },
    {
     "data": {
      "text/plain": [
       "<Figure size 720x576 with 0 Axes>"
      ]
     },
     "metadata": {},
     "output_type": "display_data"
    },
    {
     "data": {
      "image/png": "[encoded data removed]",
      "text/plain": [
       "<Figure size 432x288 with 1 Axes>"
      ]
     },
     "metadata": {
      "needs_background": "light"
     },
     "output_type": "display_data"
    },
    {
     "name": "stdout",
     "output_type": "stream",
     "text": [
      "\r\n",
      "新加坡幣(SGD)\r\n",
      "\n"
     ]
    },
    {
     "data": {
      "text/plain": [
       "<Figure size 720x576 with 0 Axes>"
      ]
     },
     "metadata": {},
     "output_type": "display_data"
    },
    {
     "data": {
      "image/png": "[encoded data removed]",
      "text/plain": [
       "<Figure size 432x288 with 1 Axes>"
      ]
     },
     "metadata": {
      "needs_background": "light"
     },
     "output_type": "display_data"
    },
    {
     "name": "stdout",
     "output_type": "stream",
     "text": [
      "\r\n",
      "瑞士法郎(CHF)\r\n",
      "\n"
     ]
    },
    {
     "data": {
      "text/plain": [
       "<Figure size 720x576 with 0 Axes>"
      ]
     },
     "metadata": {},
     "output_type": "display_data"
    },
    {
     "data": {
      "image/png": "[encoded data removed]",
      "text/plain": [
       "<Figure size 432x288 with 1 Axes>"
      ]
     },
     "metadata": {
      "needs_background": "light"
     },
     "output_type": "display_data"
    },
    {
     "name": "stdout",
     "output_type": "stream",
     "text": [
      "\r\n",
      "日圓(JPY)\r\n",
      "\n"
     ]
    },
    {
     "data": {
      "text/plain": [
       "<Figure size 720x576 with 0 Axes>"
      ]
     },
     "metadata": {},
     "output_type": "display_data"
    }
   ],
   "source": [
    "# 擷取匯率表格，把每種貨幣種類擷取出來，再針對貨幣種類，查詢其歷史匯率\n",
    "for p in rate_table:\n",
    "    currency = p.find(name='div', attrs={'class':'visible-phone print_hide'})\n",
    "    print(currency.get_text().replace(\" \", \"\"))  # 貨幣種類\n",
    "    \n",
    "    # 接下來針對每種貨幣，找到其「歷史匯率」的首頁 \n",
    "    history_link = p.find(name='td', attrs={'data-table':'歷史匯率'})\n",
    "    history_rate_link = \"https://rate.bot.com.tw\" + history_link.a[\"href\"]  # 該貨幣的歷史資料首頁\n",
    "    \n",
    "    #\n",
    "    # 回到貨幣歷史匯率網頁，點選該貨幣的「歷史區間」，觀察其網址變化情形，再試著抓取其歷史匯率資料\n",
    "    #\n",
    "    # 用「quote/年-月」去取代網址內容，就可以連到該貨幣的歷史資料\n",
    "    quote_history_url = history_rate_link.replace(\"history\", \"quote/2021-01\")\n",
    "    resp = requests.get(quote_history_url)\n",
    "    resp.encoding = 'utf-8'\n",
    "    history = BeautifulSoup(resp.text, \"lxml\")\n",
    "    history_table = history.find(name='table', attrs={'title':'歷史本行營業時間牌告匯率'}).find(name='tbody').find_all(name='tr')\n",
    "    \n",
    "    #\n",
    "    # 擷取到歷史匯率資料後，把資料彙整起來並畫出趨勢圖\n",
    "    #\n",
    "    date_history = list()\n",
    "    history_buy = list()\n",
    "    history_sell = list()\n",
    "    \n",
    "    for history_rate in history_table:\n",
    "        # 擷取日期資料\n",
    "        date_string = history_rate.a.get_text()\n",
    "        date = datetime.strptime(date_string, '%Y/%M/%d').strftime('%Y/%M/%d')  # 轉換日期格式\n",
    "        date_history.append(date)  # 日期歷史資料\n",
    "        \n",
    "        history_ex_rate = history_rate.find_all(name='td', attrs={'class':'rate-content-cash text-right print_table-cell'})\n",
    "        history_buy.append(float(history_ex_rate[0].get_text()))  # 歷史買入匯率\n",
    "        history_sell.append(float(history_ex_rate[1].get_text()))  # 歷史賣出匯率\n",
    "    \n",
    "    # 將匯率資料建成dataframe形式\n",
    "    HistoryExchangeRate = pd.DataFrame({'date': date_history,\n",
    "                                        'buy_rate':history_buy,\n",
    "                                        'sell_rate':history_sell})\n",
    "    \n",
    "    HistoryExchangeRate = HistoryExchangeRate.set_index('date')  # 指定日期欄位為datafram的index\n",
    "    HistoryExchangeRate = HistoryExchangeRate.sort_index(ascending=True)\n",
    "    \n",
    "    # 畫出歷史匯率軌跡圖\n",
    "    plt.figure(figsize=(10, 8))\n",
    "    HistoryExchangeRate[['buy_rate','sell_rate']].plot()  # x=['date'], y=[['buy_rate','sell_rate']] \n",
    "    plt.legend(loc=\"upper left\")\n",
    "    plt.show()"
   ]
  },
  {
   "cell_type": "code",
   "execution_count": null,
   "metadata": {},
   "outputs": [],
   "source": []
  }
 ],
 "metadata": {
  "kernelspec": {
   "display_name": "Python 3",
   "language": "python",
   "name": "python3"
  },
  "language_info": {
   "codemirror_mode": {
    "name": "ipython",
    "version": 3
   },
   "file_extension": ".py",
   "mimetype": "text/x-python",
   "name": "python",
   "nbconvert_exporter": "python",
   "pygments_lexer": "ipython3",
   "version": "3.8.3"
  }
 },
 "nbformat": 4,
 "nbformat_minor": 2
}
