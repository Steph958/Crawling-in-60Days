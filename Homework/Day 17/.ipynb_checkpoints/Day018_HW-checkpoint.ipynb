{
 "cells": [
  {
   "cell_type": "markdown",
   "metadata": {},
   "source": [
    "# 瀏覽器開發者工具介紹\n",
    "\n",
    "\n",
    "* 知道瀏覽器的開發者工具\n",
    "* 能夠使用瀏覽器的開發者工具觀察資料\n"
   ]
  },
  {
   "cell_type": "markdown",
   "metadata": {},
   "source": [
    "## 作業目標\n",
    "\n",
    "利用開發者工具去尋找「 https://www.zhihu.com/explore 」和「 http://aicoin.cn 」網站的 HTTP 網址，以及他所帶的 Headers 分別是哪些，試著用 request 去發送有沒有帶 Headers 的差異。\n"
   ]
  },
  {
   "cell_type": "markdown",
   "metadata": {},
   "source": [
    "### 1. https://www.zhihu.com/explore "
   ]
  },
  {
   "cell_type": "code",
   "execution_count": 1,
   "metadata": {
    "scrolled": true
   },
   "outputs": [
    {
     "name": "stdout",
     "output_type": "stream",
     "text": [
      "<html>\r\n",
      "<head><title>403 Forbidden</title></head>\r\n",
      "<body bgcolor=\"white\">\r\n",
      "<center><h1>403 Forbidden</h1></center>\r\n",
      "<hr><center>openresty</center>\r\n",
      "</body>\r\n",
      "</html>\r\n",
      "\n"
     ]
    }
   ],
   "source": [
    "import requests\n",
    "\n",
    "url = 'https://www.zhihu.com/explore'\n",
    "r = requests.get(url)\n",
    "r.encoding = 'utf-8'\n",
    "print(r.text)"
   ]
  },
  {
   "cell_type": "markdown",
   "metadata": {},
   "source": [
    "### 利用查看開發者工具觀察 Headers\n",
    "\n",
    "![](https://imgur.com/SJ66ajp.jpg)"
   ]
  },
  {
   "cell_type": "code",
   "execution_count": 2,
   "metadata": {},
   "outputs": [
    {
     "name": "stdout",
     "output_type": "stream",
     "text": [
      "<!doctype html>\n",
      "<html lang=\"zh\" data-hairline=\"true\" data-theme=\"light\"><head><meta charSet=\"utf-8\"/><title data-react-helmet=\"true\">知乎 - 有问题，就会有答案</title><meta name=\"viewport\" content=\"width=device-width,initial-scale=1,maximum-scale=1\"/><meta name=\"renderer\" content=\"webkit\"/><meta name=\"force-rendering\" content=\"webkit\"/><meta http-equiv=\"X-UA-Compatible\" content=\"IE=edge,chrome=1\"/><meta name=\"google-site-verification\" content=\"FTeR0c8arOPKh8c5DYh_9uu98_zJbaWw53J-Sch9MTg\"/><meta name=\"description\" property=\"og:description\" content=\"知乎，中文互联网高质量的问答社区和创作者聚集的原创内容平台，于 2011 年 1 月正式上线，以「让人们更好地分享知\n"
     ]
    }
   ],
   "source": [
    "import requests\n",
    "url = 'http://www.zhihu.com'\n",
    "\n",
    "# 不確定的話就放上去，經由測試發現只要 user-agent\n",
    "headers = {\n",
    "#     'accept': 'text/html,application/xhtml+xml,application/xml;q=0.9,image/webp,image/apng,*/*;q=0.8,application/signed-exchange;v=b3',\n",
    "#     'accept-encoding': 'gzip, deflate, br',\n",
    "#     'accept-language': 'zh-TW,zh;q=0.9,en-US;q=0.8,en;q=0.7,zh-CN;q=0.6,ja;q=0.5',\n",
    "#     'cache-control': 'no-cache',\n",
    "#     'cookie': '_zap=a5634a47-a806-4828-8ab4-2cbc03734bda; d_c0=\"AFBoGjc1fg6PTus2_H76YgMM3xvztVHRnCs=|1541767835\"; __gads=ID=18e1196642fc5994:T=1544975081:S=ALNI_MZ2lQjiLHPlLxjVqGGH6o-EiL2luQ; __utmv=51854390.100--|2=registration_date=20190226=1^3=entry_date=20181130=1; __utma=51854390.567487929.1560948518.1560950333.1562469680.3; __utmz=51854390.1562469680.3.3.utmcsr=localhost:8888|utmccn=(referral)|utmcmd=referral|utmcct=/notebooks/day2-example.ipynb; z_c0=\"2|1:0|10:1568132466|4:z_c0|92:Mi4xM1FkMERnQUFBQUFBVUdnYU56Vi1EaVlBQUFCZ0FsVk5jaHRsWGdEZnktdlNOVW9OQVhIVmdwSDhRQnBhZFJxdFZn|2a5c80e94bf2d0c3fe1ab599b0d7196bc802954d5ddc51b6ff448a11b066ccf5\"; _xsrf=Xiqr2GJtbvMqFt9KpGijOi6fiAGXUz1I; q_c1=aed50b9b158344d6ac78a230c8970d83|1575623212000|1543510922000; Hm_lvt_98beee57fd2ef70ccdd5ca52b9740c49=1576227640,1576255860,1576340395,1576340412; Hm_lpvt_98beee57fd2ef70ccdd5ca52b9740c49=1576340752; tgw_l7_route=80f350dcd7c650b07bd7b485fcab5bf7',\n",
    "#     'pragma': 'no-cache',\n",
    "#     'sec-fetch-mode': 'navigate',\n",
    "#     'sec-fetch-site': 'cross-site',\n",
    "#     'sec-fetch-user': '?1',\n",
    "#     'upgrade-insecure-requests': '1',\n",
    "    'user-agent': 'Mozilla/5.0 (Macintosh; Intel Mac OS X 10_13_6) AppleWebKit/537.36 (KHTML, like Gecko) Chrome/78.0.3904.108 Safari/537.36'\n",
    "}\n",
    "\n",
    "r = requests.get(url, headers=headers)\n",
    "\n",
    "r.encoding = 'utf-8'\n",
    "print(r.text[0:600])"
   ]
  },
  {
   "cell_type": "markdown",
   "metadata": {},
   "source": [
    "### 2. http://aicoin.cn"
   ]
  },
  {
   "cell_type": "code",
   "execution_count": 6,
   "metadata": {},
   "outputs": [
    {
     "name": "stdout",
     "output_type": "stream",
     "text": [
      "3062\n"
     ]
    }
   ],
   "source": [
    "import requests\n",
    "\n",
    "url = 'http://aicoin.cn/'\n",
    "r = requests.get(url)\n",
    "r.encoding = 'utf-8'\n",
    "#print(r.text)\n",
    "print(len(r.text))\n"
   ]
  },
  {
   "cell_type": "markdown",
   "metadata": {},
   "source": [
    "### 利用查看開發者工具觀察 Headers\n",
    "\n",
    "![](https://imgur.com/52CGVoq.jpg)"
   ]
  },
  {
   "cell_type": "code",
   "execution_count": 5,
   "metadata": {},
   "outputs": [
    {
     "name": "stdout",
     "output_type": "stream",
     "text": [
      "217716\n"
     ]
    }
   ],
   "source": [
    "import requests\n",
    "url = 'http://aicoin.cn/'\n",
    "\n",
    "# 不確定的話就放上去，經由測試發現只要 user-agent\n",
    "headers = {\n",
    "#     'Accept': 'text/html,application/xhtml+xml,application/xml;q=0.9,image/webp,image/apng,*/*;q=0.8,application/signed-exchange;v=b3',\n",
    "#     'Accept-Encoding': 'gzip, deflate, br',\n",
    "#     'Accept-Language': 'zh-TW,zh;q=0.9,en-US;q=0.8,en;q=0.7,zh-CN;q=0.6,ja;q=0.5',\n",
    "#     'Cache-Control': 'max-age=0',\n",
    "#     'Connection': 'keep-alive',\n",
    "#     'Cookie': 'HWWAFSESID=9ac609dc8860802e9e; HWWAFSESTIME=1555660103975; _ga=GA1.3.94203977.1555660106; _gid=GA1.3.1203042209.1555660106; _gat_gtag_UA_108140256_2=1; Hm_lvt_3c606e4c5bc6e9ff490f59ae4106beb4=1555660106; Hm_lpvt_3c606e4c5bc6e9ff490f59ae4106beb4=1555660106; _pk_id.2.cac6=8ef0dd206a8c2b75.1555660106.1.1555660106.1555660106.; _pk_ses.2.cac6=1; aicoin_session=eyJpdiI6IjdKTEx2WVBvc3o0SjdjTU1SVXBkR2c9PSIsInZhbHVlIjoiNHhZNFBmRUxERTc2d002dHAxeVRRTll5YmdLejVrT2lJT1ZheElrclVkdHpZNkZCWWlCMHk4XC84SFpzaEdXQVZjbVByMFJQWmxQWjl6dStZbU5JUFl3PT0iLCJtYWMiOiJiMjhjY2E4ZjgzMDMwNmRhYzE3NWYwYjMzNmI3NDE4YWY4ZGRmZWIxZWEzMDI4MDI2ODE1NjRhMWUyYzU1NGI0In0%3D',\n",
    "#     'Host': 'www.aicoin.net.cn',\n",
    "#     'If-None-Match': 'W/\"9020a-lD5br353ZpSb7dlj59oCbvjQXFE\"',\n",
    "#     'Upgrade-Insecure-Requests': '1',\n",
    "    'User-Agent': 'Mozilla/5.0 (Macintosh; Intel Mac OS X 10_13_6) AppleWebKit/537.36 (KHTML, like Gecko) Chrome/73.0.3683.103 Safari/537.36'\n",
    "}\n",
    "r = requests.get(url, headers=headers)\n",
    "#print(r.text)\n",
    "print(len(r.text))\n"
   ]
  },
  {
   "cell_type": "code",
   "execution_count": null,
   "metadata": {},
   "outputs": [],
   "source": []
  }
 ],
 "metadata": {
  "kernelspec": {
   "display_name": "Python 3",
   "language": "python",
   "name": "python3"
  },
  "language_info": {
   "codemirror_mode": {
    "name": "ipython",
    "version": 3
   },
   "file_extension": ".py",
   "mimetype": "text/x-python",
   "name": "python",
   "nbconvert_exporter": "python",
   "pygments_lexer": "ipython3",
   "version": "3.8.3"
  }
 },
 "nbformat": 4,
 "nbformat_minor": 2
}
