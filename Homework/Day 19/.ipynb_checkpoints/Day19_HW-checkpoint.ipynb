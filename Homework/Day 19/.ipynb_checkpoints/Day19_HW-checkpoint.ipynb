{
 "cells": [
  {
   "cell_type": "markdown",
   "metadata": {},
   "source": [
    "# 動態網頁爬蟲 - API Request\n",
    "\n",
    "* 了解 API Request 用於動態網頁爬蟲的原理\n",
    "* 能夠使用 API Request 撰寫動態網頁爬蟲\n",
    "\n",
    "\n",
    "\n",
    "\n"
   ]
  },
  {
   "cell_type": "markdown",
   "metadata": {},
   "source": [
    "## 作業目標\n",
    "\n",
    "* 根據範例的教學，去找出 Dcard 中呼叫的 API 當中，有一個跟「取得所有看板」是哪一個？並且利用 Requests 呼叫。\n"
   ]
  },
  {
   "cell_type": "markdown",
   "metadata": {},
   "source": [
    "![jupyter](https://imgur.com/PAhDefO.jpg)\n"
   ]
  },
  {
   "cell_type": "markdown",
   "metadata": {},
   "source": [
    "![](https://imgur.com/EIHAUle.jpg)"
   ]
  },
  {
   "cell_type": "code",
   "execution_count": 4,
   "metadata": {},
   "outputs": [
    {
     "data": {
      "text/plain": [
       "[{'id': '79aadca3-9389-4a53-ba81-e4918a2daac6',\n",
       "  'name': '📢 最新看板 - 防疫生活 | 魔物獵人'},\n",
       " {'id': 'b7f715ce-e6a3-4fa9-83bb-70bd18fda0ce',\n",
       "  'name': '💄 美容保養 - 美妝 | 醫美 | 生理用品'},\n",
       " {'id': 'a69babed-0fbd-49fb-9116-a4a5ceaf193a',\n",
       "  'name': '👚️ 穿搭時尚 - 穿搭 | 香氛 | 僞娘'},\n",
       " {'id': '071e15b3-8a21-40c4-ba52-60c29a1ba38d',\n",
       "  'name': '🛍️ 購物支付 - 網購 | 省錢 | 超商'},\n",
       " {'id': '541bec6c-a85f-4110-a35d-8ec5976eb3a1',\n",
       "  'name': '💗️ 感情生活 - 女孩 | 感情 | 結婚'},\n",
       " {'id': '11b6bf63-31d2-4db8-8407-b43934e25e6e',\n",
       "  'name': '🔮 星座占卜 - 星座 | 塔羅 | 水晶礦石'},\n",
       " {'id': 'c2041177-566b-4a0b-8939-7a264481fc6f',\n",
       "  'name': '🌈️ LGBTQ -  Les | 彩虹 | 跨性別'},\n",
       " {'id': '0c0c5c47-edff-4a54-82e1-ec1e62f405ec',\n",
       "  'name': '🗣️ 閒聊心情 - 問答 | 結婚 | 心情'},\n",
       " {'id': '683dcd2c-a405-4446-b5b7-c324701e12e5',\n",
       "  'name': '😄️ 有趣笑話 - 梗圖 | 笑話 | 心情'},\n",
       " {'id': '596e9f3b-3543-4fd0-aad1-ff56149db4fc',\n",
       "  'name': '📰️ 議題時事 - 時事 | COVID-19 | 防疫生活'},\n",
       " {'id': 'c0878907-6aec-4df4-96e0-4e16e4e0bc68', 'name': '📅️ 期間限定'},\n",
       " {'id': 'f6677a70-5ffd-4793-96ee-56e505ec5b98',\n",
       "  'name': '🎵️ 音樂相關 - 嘻哈 | 獨立音樂 | 音樂活動'},\n",
       " {'id': 'c4e3b541-ed2d-4dd0-bf11-de9551f22c59',\n",
       "  'name': '💿️ 影音娛樂 - 電影 | 戲劇綜藝 | Netflix'},\n",
       " {'id': 'a8558c92-1d1e-4d3a-bd34-84698cedef12',\n",
       "  'name': '🎙️ 偶像明星 - 韓星 | BTS | YouTuber'},\n",
       " {'id': 'a6fd7db6-48de-48d2-bb59-f0c05da6f19d',\n",
       "  'name': '🎨️ 藝術設計 - 手作 | 文具 | 建築'},\n",
       " {'id': '54feddb3-ec30-47c1-8a53-4be8fc619a87',\n",
       "  'name': '🍷️ 生活品味 - 烹飪 | 芳療 | 居家生活'},\n",
       " {'id': '8eb909df-028b-4186-b5c6-98f0ee5554e3',\n",
       "  'name': '👜 收藏精品 - 精品 | 香氛 | 品酒'},\n",
       " {'id': '391b0659-75c7-4182-b822-f21a4d9dcc11',\n",
       "  'name': '🐈️ 寵物植物 - 寵物 | 曬貓 | 爬蟲'},\n",
       " {'id': 'bacc5c97-b4d8-44e8-a96a-6c963e08012e',\n",
       "  'name': '🍴️ 吃遍美食 - 美食 | 烹飪 | 手搖'},\n",
       " {'id': '814f9a90-a83d-4ce2-88e4-072b08a5a096',\n",
       "  'name': '✈️️ 海外生活 - 留學 | 海外工作 | 歐洲生活'},\n",
       " {'id': '02a5207c-52d1-4ca2-bf5a-26b8b23c7ad8',\n",
       "  'name': '🧳 旅遊攝影 - 航空 | 攝影 | 鐵道'},\n",
       " {'id': '4f03d6fd-7453-4246-ab2f-ad09f6f34d2c',\n",
       "  'name': '🇯🇵 日本 - 日劇 | 日本明星 | 日本生活'},\n",
       " {'id': '79551dac-d2e7-4a4f-b067-3928d4618ebe',\n",
       "  'name': '🇰🇷 韓國 - 韓星 | 韓綜 | 韓國留學'},\n",
       " {'id': 'f3ef4381-af9c-4e64-bb48-2b015961f2a0',\n",
       "  'name': '🎮️ 遊戲相關 - LOL | \\x08APEX | 西斯遊戲'},\n",
       " {'id': 'e6d14d0f-33b4-406c-983f-6dadb7c1a67d',\n",
       "  'name': '🎬️ 休閒娛樂 - 電影 | 中職 | 單車'},\n",
       " {'id': '246a691b-fa45-43ec-8a55-8e821cca70ba', 'name': '🍖 動漫卡通 - 動漫 | 咒術迴戰'},\n",
       " {'id': '70a99152-0dbc-4f27-aebc-b16a790a9b1c',\n",
       "  'name': '📱 3C 產品 - 3C | Apple | Google'},\n",
       " {'id': 'e5ad5e00-b994-4b7a-bbee-3fc3cdf461ac',\n",
       "  'name': '📡 科技科學 - 科學 | 科技業 | 軟體工程師'},\n",
       " {'id': 'ae3166db-3b80-42c2-a51e-e3c16e17799a',\n",
       "  'name': '💳️ 金融財務 - 會計 | 省錢 | 信用卡'},\n",
       " {'id': '7d555399-7d7a-486f-888b-ca009f6aab9a',\n",
       "  'name': '🚗️ 交通運輸 - 重機 | 汽機車 | 行車記錄器'},\n",
       " {'id': '055a512c-1004-48a1-9dbe-7bcebfcb6c4d',\n",
       "  'name': '👟 體育健身 - 減肥 | 籃球 | 中職'},\n",
       " {'id': '12c47c86-63d4-43ba-8436-6de2e5ea7805',\n",
       "  'name': '🏥️ 醫療保健 - 醫美 | 生理用品 | 牙齒矯正'},\n",
       " {'id': '40e0ccb8-120f-41f4-9a73-966fee385d6a',\n",
       "  'name': '🏢 工作相關 - 軍旅 | 打工 | 法律人'},\n",
       " {'id': 'abe2c863-e9d9-403e-a0fe-5f0bac786257',\n",
       "  'name': '🏫️ 學生相關 - 考試 | 語言 | 研究所'},\n",
       " {'id': 'b0ea48a5-cb07-444c-8fe7-7c0ec97b5c48',\n",
       "  'name': '📖️ 閱讀寫作 - 小說 | 書籍 | 西斯文學'},\n",
       " {'id': '4db8b2dc-349a-45ac-a0f1-aa9844f0673d',\n",
       "  'name': '👻️ 神祕領域 - 靈異 | 星座 | 塔羅'},\n",
       " {'id': '9dbbec67-a280-4558-b9eb-df71d9abd94a', 'name': '🏙 地區看板 - 台中 | 台南｜新竹'},\n",
       " {'id': 'c5274b5f-be16-483d-a07d-c456a6eeb655',\n",
       "  'name': '🕛 Dcard - 官方公告 | 建議回饋'},\n",
       " {'id': '3e17ea44-eb79-4221-91e0-f55f1287a1c4',\n",
       "  'name': '🔞 NSFW - 西斯 | 表特 | 色情漫畫'},\n",
       " {'id': '653472f0-d8b7-4584-88cb-2abb6249bfde', 'name': '📜 學校看板 - 北部'},\n",
       " {'id': '2ebcbbfb-bc46-4c63-bd43-9955aad89864', 'name': '📜 學校看板 - 東部｜外島'},\n",
       " {'id': 'bd4caf0b-3c4b-481a-ace4-114375c3483f', 'name': '📜 學校看板 - 中部'},\n",
       " {'id': '4cc93b4c-8f13-49b4-ac89-0708dfa1f8f8', 'name': '📜 學校看板 - 南部'}]"
      ]
     },
     "execution_count": 4,
     "metadata": {},
     "output_type": "execute_result"
    }
   ],
   "source": [
    "import requests, json\n",
    "r = requests.get('https://www.dcard.tw/service/api/v2/categorization/countries?country=TW&nsfw=true&noFallback=true')\n",
    "d = json.loads(r.text)\n",
    "d"
   ]
  },
  {
   "cell_type": "code",
   "execution_count": null,
   "metadata": {},
   "outputs": [],
   "source": []
  }
 ],
 "metadata": {
  "kernelspec": {
   "display_name": "Python 3",
   "language": "python",
   "name": "python3"
  },
  "language_info": {
   "codemirror_mode": {
    "name": "ipython",
    "version": 3
   },
   "file_extension": ".py",
   "mimetype": "text/x-python",
   "name": "python",
   "nbconvert_exporter": "python",
   "pygments_lexer": "ipython3",
   "version": "3.8.3"
  }
 },
 "nbformat": 4,
 "nbformat_minor": 2
}
