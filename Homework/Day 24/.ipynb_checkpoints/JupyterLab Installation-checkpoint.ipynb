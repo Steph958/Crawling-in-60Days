{
 "cells": [
  {
   "cell_type": "code",
   "execution_count": 1,
   "metadata": {},
   "outputs": [
    {
     "name": "stdout",
     "output_type": "stream",
     "text": [
      "Requirement already satisfied: jupyterlab in c:\\users\\vincentlee1231995\\anaconda3\\lib\\site-packages (2.1.5)\n",
      "Requirement already satisfied: notebook>=4.3.1 in c:\\users\\vincentlee1231995\\anaconda3\\lib\\site-packages (from jupyterlab) (6.0.3)\n",
      "Requirement already satisfied: tornado!=6.0.0,!=6.0.1,!=6.0.2 in c:\\users\\vincentlee1231995\\anaconda3\\lib\\site-packages (from jupyterlab) (6.1)\n",
      "Requirement already satisfied: jupyterlab_server<2.0,>=1.1.0 in c:\\users\\vincentlee1231995\\anaconda3\\lib\\site-packages (from jupyterlab) (1.2.0)\n",
      "Requirement already satisfied: jinja2>=2.10 in c:\\users\\vincentlee1231995\\anaconda3\\lib\\site-packages (from jupyterlab) (2.11.2)\n",
      "Requirement already satisfied: jupyter-client>=5.3.4 in c:\\users\\vincentlee1231995\\anaconda3\\lib\\site-packages (from notebook>=4.3.1->jupyterlab) (6.1.6)\n",
      "Requirement already satisfied: terminado>=0.8.1 in c:\\users\\vincentlee1231995\\anaconda3\\lib\\site-packages (from notebook>=4.3.1->jupyterlab) (0.8.3)\n",
      "Requirement already satisfied: nbformat in c:\\users\\vincentlee1231995\\anaconda3\\lib\\site-packages (from notebook>=4.3.1->jupyterlab) (5.0.7)\n",
      "Requirement already satisfied: ipykernel in c:\\users\\vincentlee1231995\\anaconda3\\lib\\site-packages (from notebook>=4.3.1->jupyterlab) (5.3.2)\n",
      "Requirement already satisfied: ipython-genutils in c:\\users\\vincentlee1231995\\anaconda3\\lib\\site-packages (from notebook>=4.3.1->jupyterlab) (0.2.0)\n",
      "Requirement already satisfied: prometheus-client in c:\\users\\vincentlee1231995\\anaconda3\\lib\\site-packages (from notebook>=4.3.1->jupyterlab) (0.8.0)\n",
      "Requirement already satisfied: jupyter-core>=4.6.1 in c:\\users\\vincentlee1231995\\anaconda3\\lib\\site-packages (from notebook>=4.3.1->jupyterlab) (4.6.3)\n",
      "Requirement already satisfied: Send2Trash in c:\\users\\vincentlee1231995\\anaconda3\\lib\\site-packages (from notebook>=4.3.1->jupyterlab) (1.5.0)\n",
      "Requirement already satisfied: nbconvert in c:\\users\\vincentlee1231995\\anaconda3\\lib\\site-packages (from notebook>=4.3.1->jupyterlab) (5.6.1)\n",
      "Requirement already satisfied: pyzmq>=17 in c:\\users\\vincentlee1231995\\anaconda3\\lib\\site-packages (from notebook>=4.3.1->jupyterlab) (19.0.1)\n",
      "Requirement already satisfied: traitlets>=4.2.1 in c:\\users\\vincentlee1231995\\anaconda3\\lib\\site-packages (from notebook>=4.3.1->jupyterlab) (4.3.3)\n",
      "Requirement already satisfied: json5 in c:\\users\\vincentlee1231995\\anaconda3\\lib\\site-packages (from jupyterlab_server<2.0,>=1.1.0->jupyterlab) (0.9.5)\n",
      "Requirement already satisfied: requests in c:\\users\\vincentlee1231995\\anaconda3\\lib\\site-packages (from jupyterlab_server<2.0,>=1.1.0->jupyterlab) (2.24.0)\n",
      "Requirement already satisfied: jsonschema>=3.0.1 in c:\\users\\vincentlee1231995\\anaconda3\\lib\\site-packages (from jupyterlab_server<2.0,>=1.1.0->jupyterlab) (3.2.0)\n",
      "Requirement already satisfied: MarkupSafe>=0.23 in c:\\users\\vincentlee1231995\\anaconda3\\lib\\site-packages (from jinja2>=2.10->jupyterlab) (1.1.1)\n",
      "Requirement already satisfied: python-dateutil>=2.1 in c:\\users\\vincentlee1231995\\anaconda3\\lib\\site-packages (from jupyter-client>=5.3.4->notebook>=4.3.1->jupyterlab) (2.8.1)\n",
      "Requirement already satisfied: ipython>=5.0.0 in c:\\users\\vincentlee1231995\\anaconda3\\lib\\site-packages (from ipykernel->notebook>=4.3.1->jupyterlab) (7.16.1)\n",
      "Requirement already satisfied: pywin32>=1.0; sys_platform == \"win32\" in c:\\users\\vincentlee1231995\\anaconda3\\lib\\site-packages (from jupyter-core>=4.6.1->notebook>=4.3.1->jupyterlab) (227)\n",
      "Requirement already satisfied: testpath in c:\\users\\vincentlee1231995\\anaconda3\\lib\\site-packages (from nbconvert->notebook>=4.3.1->jupyterlab) (0.4.4)\n",
      "Requirement already satisfied: pygments in c:\\users\\vincentlee1231995\\anaconda3\\lib\\site-packages (from nbconvert->notebook>=4.3.1->jupyterlab) (2.6.1)\n",
      "Requirement already satisfied: defusedxml in c:\\users\\vincentlee1231995\\anaconda3\\lib\\site-packages (from nbconvert->notebook>=4.3.1->jupyterlab) (0.6.0)\n",
      "Requirement already satisfied: pandocfilters>=1.4.1 in c:\\users\\vincentlee1231995\\anaconda3\\lib\\site-packages (from nbconvert->notebook>=4.3.1->jupyterlab) (1.4.2)\n",
      "Requirement already satisfied: entrypoints>=0.2.2 in c:\\users\\vincentlee1231995\\anaconda3\\lib\\site-packages (from nbconvert->notebook>=4.3.1->jupyterlab) (0.3)\n",
      "Requirement already satisfied: bleach in c:\\users\\vincentlee1231995\\anaconda3\\lib\\site-packages (from nbconvert->notebook>=4.3.1->jupyterlab) (3.1.5)\n",
      "Requirement already satisfied: mistune<2,>=0.8.1 in c:\\users\\vincentlee1231995\\anaconda3\\lib\\site-packages (from nbconvert->notebook>=4.3.1->jupyterlab) (0.8.4)\n",
      "Requirement already satisfied: six in c:\\users\\vincentlee1231995\\anaconda3\\lib\\site-packages (from traitlets>=4.2.1->notebook>=4.3.1->jupyterlab) (1.15.0)\n",
      "Requirement already satisfied: decorator in c:\\users\\vincentlee1231995\\anaconda3\\lib\\site-packages (from traitlets>=4.2.1->notebook>=4.3.1->jupyterlab) (4.4.2)\n",
      "Requirement already satisfied: chardet<4,>=3.0.2 in c:\\users\\vincentlee1231995\\anaconda3\\lib\\site-packages (from requests->jupyterlab_server<2.0,>=1.1.0->jupyterlab) (3.0.4)\n",
      "Requirement already satisfied: idna<3,>=2.5 in c:\\users\\vincentlee1231995\\anaconda3\\lib\\site-packages (from requests->jupyterlab_server<2.0,>=1.1.0->jupyterlab) (2.10)\n",
      "Requirement already satisfied: certifi>=2017.4.17 in c:\\users\\vincentlee1231995\\anaconda3\\lib\\site-packages (from requests->jupyterlab_server<2.0,>=1.1.0->jupyterlab) (2020.6.20)\n",
      "Requirement already satisfied: urllib3!=1.25.0,!=1.25.1,<1.26,>=1.21.1 in c:\\users\\vincentlee1231995\\anaconda3\\lib\\site-packages (from requests->jupyterlab_server<2.0,>=1.1.0->jupyterlab) (1.25.9)\n",
      "Requirement already satisfied: pyrsistent>=0.14.0 in c:\\users\\vincentlee1231995\\anaconda3\\lib\\site-packages (from jsonschema>=3.0.1->jupyterlab_server<2.0,>=1.1.0->jupyterlab) (0.16.0)\n",
      "Requirement already satisfied: attrs>=17.4.0 in c:\\users\\vincentlee1231995\\anaconda3\\lib\\site-packages (from jsonschema>=3.0.1->jupyterlab_server<2.0,>=1.1.0->jupyterlab) (19.3.0)\n",
      "Requirement already satisfied: setuptools in c:\\users\\vincentlee1231995\\anaconda3\\lib\\site-packages (from jsonschema>=3.0.1->jupyterlab_server<2.0,>=1.1.0->jupyterlab) (49.2.0.post20200714)\n",
      "Requirement already satisfied: colorama; sys_platform == \"win32\" in c:\\users\\vincentlee1231995\\anaconda3\\lib\\site-packages (from ipython>=5.0.0->ipykernel->notebook>=4.3.1->jupyterlab) (0.4.3)\n",
      "Requirement already satisfied: jedi>=0.10 in c:\\users\\vincentlee1231995\\anaconda3\\lib\\site-packages (from ipython>=5.0.0->ipykernel->notebook>=4.3.1->jupyterlab) (0.17.1)\n",
      "Requirement already satisfied: backcall in c:\\users\\vincentlee1231995\\anaconda3\\lib\\site-packages (from ipython>=5.0.0->ipykernel->notebook>=4.3.1->jupyterlab) (0.2.0)\n",
      "Requirement already satisfied: pickleshare in c:\\users\\vincentlee1231995\\anaconda3\\lib\\site-packages (from ipython>=5.0.0->ipykernel->notebook>=4.3.1->jupyterlab) (0.7.5)\n",
      "Requirement already satisfied: prompt-toolkit!=3.0.0,!=3.0.1,<3.1.0,>=2.0.0 in c:\\users\\vincentlee1231995\\anaconda3\\lib\\site-packages (from ipython>=5.0.0->ipykernel->notebook>=4.3.1->jupyterlab) (3.0.5)\n",
      "Requirement already satisfied: packaging in c:\\users\\vincentlee1231995\\anaconda3\\lib\\site-packages (from bleach->nbconvert->notebook>=4.3.1->jupyterlab) (20.4)\n",
      "Requirement already satisfied: webencodings in c:\\users\\vincentlee1231995\\anaconda3\\lib\\site-packages (from bleach->nbconvert->notebook>=4.3.1->jupyterlab) (0.5.1)\n",
      "Requirement already satisfied: parso<0.8.0,>=0.7.0 in c:\\users\\vincentlee1231995\\anaconda3\\lib\\site-packages (from jedi>=0.10->ipython>=5.0.0->ipykernel->notebook>=4.3.1->jupyterlab) (0.7.0)\n",
      "Requirement already satisfied: wcwidth in c:\\users\\vincentlee1231995\\anaconda3\\lib\\site-packages (from prompt-toolkit!=3.0.0,!=3.0.1,<3.1.0,>=2.0.0->ipython>=5.0.0->ipykernel->notebook>=4.3.1->jupyterlab) (0.2.5)\n",
      "Requirement already satisfied: pyparsing>=2.0.2 in c:\\users\\vincentlee1231995\\anaconda3\\lib\\site-packages (from packaging->bleach->nbconvert->notebook>=4.3.1->jupyterlab) (2.4.7)\n",
      "Note: you may need to restart the kernel to use updated packages.\n"
     ]
    }
   ],
   "source": [
    "pip install jupyterlab"
   ]
  },
  {
   "cell_type": "code",
   "execution_count": null,
   "metadata": {},
   "outputs": [],
   "source": []
  }
 ],
 "metadata": {
  "kernelspec": {
   "display_name": "Python 3",
   "language": "python",
   "name": "python3"
  },
  "language_info": {
   "codemirror_mode": {
    "name": "ipython",
    "version": 3
   },
   "file_extension": ".py",
   "mimetype": "text/x-python",
   "name": "python",
   "nbconvert_exporter": "python",
   "pygments_lexer": "ipython3",
   "version": "3.8.3"
  }
 },
 "nbformat": 4,
 "nbformat_minor": 4
}
