{
 "cells": [
  {
   "cell_type": "markdown",
   "metadata": {
    "colab_type": "text",
    "id": "uSf0mVenUdOf"
   },
   "source": [
    "# 利用 Python 存取 API\n",
    "\n",
    "\n",
    "* 了解 Server Client 的架構與溝通方法\n",
    "* 知道 HTTP Request & Response 的內容\n",
    "* 什麼是 API？如何用 Python 程式存取 API 資料\n"
   ]
  },
  {
   "cell_type": "markdown",
   "metadata": {
    "colab_type": "text",
    "id": "FwvxVPZuUdOh"
   },
   "source": [
    "## 作業目標\n",
    "\n",
    "* 比較一下範例檔案中的「r.text」與「json.loads(r.text)」讀出來的內容有什麼差異\n",
    "* 自行尋找一個合適的 API 接口做練習，並且查看其回傳內容\n",
    "    * https://cat-fact.herokuapp.com/facts (來源：https://alexwohlbruck.github.io/cat-facts/)\n",
    "    * http://odata.wra.gov.tw/v4/RealtimeWaterLevel (來源：https://data.gov.tw/dataset/25768)\n",
    "\n"
   ]
  },
  {
   "cell_type": "markdown",
   "metadata": {
    "colab_type": "text",
    "id": "r5GIjwYuUdOi"
   },
   "source": [
    "### 比較一下範例檔案中的「r.text」與「json.loads(r.text)」讀出來的內容有什麼差異"
   ]
  },
  {
   "cell_type": "code",
   "execution_count": 2,
   "metadata": {},
   "outputs": [
    {
     "data": {
      "text/plain": [
       "'[{\"status\":{\"verified\":true,\"sentCount\":1,\"feedback\":\"\"},\"type\":\"cat\",\"deleted\":false,\"_id\":\"5887e1d85c873e0011036889\",\"user\":\"5a9ac18c7478810ea6c06381\",\"text\":\"Cats make about 100 different sounds. Dogs make only about 10.\",\"__v\":0,\"source\":\"user\",\"updatedAt\":\"2020-09-03T16:39:39.578Z\",\"createdAt\":\"2018-01-15T21:20:00.003Z\",\"used\":true},{\"status\":{\"verified\":true,\"sentCount\":1},\"type\":\"cat\",\"deleted\":false,\"_id\":\"588e746706ac2b00110e59ff\",\"user\":\"588e6e8806ac2b00110e59c3\",\"text\":\"Domestic cats spend about 70 percent of the day sleeping and 15 percent of the day grooming.\",\"__v\":0,\"source\":\"user\",\"updatedAt\":\"2020-08-26T20:20:02.359Z\",\"createdAt\":\"2018-01-14T21:20:02.750Z\",\"used\":true},{\"status\":{\"verified\":true,\"sentCount\":1},\"type\":\"cat\",\"deleted\":false,\"_id\":\"58923f2fc3878c0011784c79\",\"user\":\"5887e9f65c873e001103688d\",\"text\":\"I don\\'t know anything about cats.\",\"__v\":0,\"source\":\"user\",\"updatedAt\":\"2020-08-23T20:20:01.611Z\",\"createdAt\":\"2018-02-25T21:20:03.060Z\",\"used\":false},{\"status\":{\"verified\":true,\"sentCount\":1},\"type\":\"cat\",\"deleted\":false,\"_id\":\"5894af975cdc7400113ef7f9\",\"user\":\"5a9ac18c7478810ea6c06381\",\"text\":\"The technical term for a cat’s hairball is a bezoar.\",\"__v\":0,\"source\":\"user\",\"updatedAt\":\"2020-11-25T21:20:03.895Z\",\"createdAt\":\"2018-02-27T21:20:02.854Z\",\"used\":true},{\"status\":{\"verified\":true,\"sentCount\":1},\"type\":\"cat\",\"deleted\":false,\"_id\":\"58e007cc0aac31001185ecf5\",\"user\":\"58e007480aac31001185ecef\",\"text\":\"Cats are the most popular pet in the United States: There are 88 million pet cats and 74 million dogs.\",\"__v\":0,\"source\":\"user\",\"updatedAt\":\"2020-08-23T20:20:01.611Z\",\"createdAt\":\"2018-03-01T21:20:02.713Z\",\"used\":false}]'"
      ]
     },
     "execution_count": 2,
     "metadata": {},
     "output_type": "execute_result"
    }
   ],
   "source": [
    "# r.text\n",
    "\n",
    "import requests\n",
    "\n",
    "r = requests.get('https://cat-fact.herokuapp.com/facts')\n",
    "r.text"
   ]
  },
  {
   "cell_type": "code",
   "execution_count": 4,
   "metadata": {
    "scrolled": true
   },
   "outputs": [
    {
     "data": {
      "text/plain": [
       "[{'status': {'verified': True, 'sentCount': 1, 'feedback': ''},\n",
       "  'type': 'cat',\n",
       "  'deleted': False,\n",
       "  '_id': '5887e1d85c873e0011036889',\n",
       "  'user': '5a9ac18c7478810ea6c06381',\n",
       "  'text': 'Cats make about 100 different sounds. Dogs make only about 10.',\n",
       "  '__v': 0,\n",
       "  'source': 'user',\n",
       "  'updatedAt': '2020-09-03T16:39:39.578Z',\n",
       "  'createdAt': '2018-01-15T21:20:00.003Z',\n",
       "  'used': True},\n",
       " {'status': {'verified': True, 'sentCount': 1},\n",
       "  'type': 'cat',\n",
       "  'deleted': False,\n",
       "  '_id': '588e746706ac2b00110e59ff',\n",
       "  'user': '588e6e8806ac2b00110e59c3',\n",
       "  'text': 'Domestic cats spend about 70 percent of the day sleeping and 15 percent of the day grooming.',\n",
       "  '__v': 0,\n",
       "  'source': 'user',\n",
       "  'updatedAt': '2020-08-26T20:20:02.359Z',\n",
       "  'createdAt': '2018-01-14T21:20:02.750Z',\n",
       "  'used': True},\n",
       " {'status': {'verified': True, 'sentCount': 1},\n",
       "  'type': 'cat',\n",
       "  'deleted': False,\n",
       "  '_id': '58923f2fc3878c0011784c79',\n",
       "  'user': '5887e9f65c873e001103688d',\n",
       "  'text': \"I don't know anything about cats.\",\n",
       "  '__v': 0,\n",
       "  'source': 'user',\n",
       "  'updatedAt': '2020-08-23T20:20:01.611Z',\n",
       "  'createdAt': '2018-02-25T21:20:03.060Z',\n",
       "  'used': False},\n",
       " {'status': {'verified': True, 'sentCount': 1},\n",
       "  'type': 'cat',\n",
       "  'deleted': False,\n",
       "  '_id': '5894af975cdc7400113ef7f9',\n",
       "  'user': '5a9ac18c7478810ea6c06381',\n",
       "  'text': 'The technical term for a cat’s hairball is a bezoar.',\n",
       "  '__v': 0,\n",
       "  'source': 'user',\n",
       "  'updatedAt': '2020-11-25T21:20:03.895Z',\n",
       "  'createdAt': '2018-02-27T21:20:02.854Z',\n",
       "  'used': True},\n",
       " {'status': {'verified': True, 'sentCount': 1},\n",
       "  'type': 'cat',\n",
       "  'deleted': False,\n",
       "  '_id': '58e007cc0aac31001185ecf5',\n",
       "  'user': '58e007480aac31001185ecef',\n",
       "  'text': 'Cats are the most popular pet in the United States: There are 88 million pet cats and 74 million dogs.',\n",
       "  '__v': 0,\n",
       "  'source': 'user',\n",
       "  'updatedAt': '2020-08-23T20:20:01.611Z',\n",
       "  'createdAt': '2018-03-01T21:20:02.713Z',\n",
       "  'used': False}]"
      ]
     },
     "execution_count": 4,
     "metadata": {},
     "output_type": "execute_result"
    }
   ],
   "source": [
    "# json.loads(r.text)\n",
    "\n",
    "import json\n",
    "json.loads(r.text)"
   ]
  },
  {
   "cell_type": "markdown",
   "metadata": {
    "colab_type": "text",
    "id": "eJwMGD6XUdOn"
   },
   "source": [
    "### 自行尋找一個合適的 API 接口做練習，並且查看其回傳內容\n",
    "\n",
    "* https://cat-fact.herokuapp.com/facts (來源：https://alexwohlbruck.github.io/cat-facts/)\n",
    "* http://odata.wra.gov.tw/v4/RealtimeWaterLevel (來源：https://data.gov.tw/dataset/25768)\n"
   ]
  },
  {
   "cell_type": "code",
   "execution_count": 5,
   "metadata": {
    "colab": {},
    "colab_type": "code",
    "id": "XDvzxwA0UdOn",
    "outputId": "154b29e6-cd0d-48b9-e659-6e9a3f55e274"
   },
   "outputs": [
    {
     "data": {
      "text/plain": [
       "'{\"@odata.context\": \"http://odata.wra.gov.tw/v4/$metadata#RealtimeWaterLevel\",\\n\"@odata.count\": 0,\\n\"value\": []}'"
      ]
     },
     "execution_count": 5,
     "metadata": {},
     "output_type": "execute_result"
    }
   ],
   "source": [
    "import requests\n",
    "\n",
    "R = requests.get('http://odata.wra.gov.tw/v4/RealtimeWaterLevel')\n",
    "R.text"
   ]
  },
  {
   "cell_type": "code",
   "execution_count": 7,
   "metadata": {
    "colab": {},
    "colab_type": "code",
    "id": "RPISC-Y4UdOq"
   },
   "outputs": [
    {
     "data": {
      "text/plain": [
       "{'@odata.context': 'http://odata.wra.gov.tw/v4/$metadata#RealtimeWaterLevel',\n",
       " '@odata.count': 0,\n",
       " 'value': []}"
      ]
     },
     "execution_count": 7,
     "metadata": {},
     "output_type": "execute_result"
    }
   ],
   "source": [
    "import json\n",
    "json.loads(R.text)"
   ]
  },
  {
   "cell_type": "markdown",
   "metadata": {},
   "source": [
    "# Request 可以分成幾種方法\n",
    "\n",
    "HTTP 將請求（Request）依據使用情境分成兩種方法：GET & POST。\n",
    "\n",
    "GET 方法將要傳送的資料以 Query String 的方式接在網址後面。Query String 是一種Key-Vaule 的組成。POST 方法則是將傳送的資料寫在傳送的封包當中，從網址上看不到。\n",
    "\n",
    "\n",
    "① GET：將資料帶在網址上，利用 ?Key=Value 接在網址之後\n",
    "\n",
    "② POST：用 form 的方式帶資料"
   ]
  },
  {
   "cell_type": "code",
   "execution_count": 8,
   "metadata": {},
   "outputs": [
    {
     "data": {
      "text/plain": [
       "'{\\r\\n  \"error\":{\\r\\n    \"code\":\"\",\"message\":\"No HTTP resource was found that matches the request URI \\'http://wrisp2:88/odata/dataset/RealtimeWaterLevel\\'.\"\\r\\n  }\\r\\n}'"
      ]
     },
     "execution_count": 8,
     "metadata": {},
     "output_type": "execute_result"
    }
   ],
   "source": [
    "import requests\n",
    "\n",
    "R = requests.post('http://odata.wra.gov.tw/v4/RealtimeWaterLevel')\n",
    "R.text"
   ]
  },
  {
   "cell_type": "code",
   "execution_count": 9,
   "metadata": {},
   "outputs": [
    {
     "data": {
      "text/plain": [
       "{'error': {'code': '',\n",
       "  'message': \"No HTTP resource was found that matches the request URI 'http://wrisp2:88/odata/dataset/RealtimeWaterLevel'.\"}}"
      ]
     },
     "execution_count": 9,
     "metadata": {},
     "output_type": "execute_result"
    }
   ],
   "source": [
    "import json\n",
    "json.loads(R.text)"
   ]
  },
  {
   "cell_type": "code",
   "execution_count": null,
   "metadata": {},
   "outputs": [],
   "source": []
  }
 ],
 "metadata": {
  "colab": {
   "name": "homework.ipynb",
   "provenance": []
  },
  "kernelspec": {
   "display_name": "Python 3",
   "language": "python",
   "name": "python3"
  },
  "language_info": {
   "codemirror_mode": {
    "name": "ipython",
    "version": 3
   },
   "file_extension": ".py",
   "mimetype": "text/x-python",
   "name": "python",
   "nbconvert_exporter": "python",
   "pygments_lexer": "ipython3",
   "version": "3.8.3"
  }
 },
 "nbformat": 4,
 "nbformat_minor": 1
}
