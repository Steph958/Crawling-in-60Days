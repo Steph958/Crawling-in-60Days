{
 "cells": [
  {
   "cell_type": "markdown",
   "metadata": {
    "colab_type": "text",
    "id": "uSf0mVenUdOf"
   },
   "source": [
    "# 利用 Python 存取 API\n",
    "\n",
    "\n",
    "* 了解 Server Client 的架構與溝通方法\n",
    "* 知道 HTTP Request & Response 的內容\n",
    "* 什麼是 API？如何用 Python 程式存取 API 資料\n"
   ]
  },
  {
   "cell_type": "markdown",
   "metadata": {
    "colab_type": "text",
    "id": "FwvxVPZuUdOh"
   },
   "source": [
    "## 作業目標\n",
    "\n",
    "* 比較一下範例檔案中的「r.text」與「json.loads(r.text)」讀出來的內容有什麼差異\n",
    "* 自行尋找一個合適的 API 接口做練習，並且查看其回傳內容\n",
    "    * https://cat-fact.herokuapp.com/facts (來源：https://alexwohlbruck.github.io/cat-facts/)\n",
    "    * http://odata.wra.gov.tw/v4/RealtimeWaterLevel (來源：https://data.gov.tw/dataset/25768)\n",
    "\n"
   ]
  },
  {
   "cell_type": "markdown",
   "metadata": {
    "colab_type": "text",
    "id": "r5GIjwYuUdOi"
   },
   "source": [
    "### 比較一下範例檔案中的「r.text」與「json.loads(r.text)」讀出來的內容有什麼差異"
   ]
  },
  {
   "cell_type": "code",
   "execution_count": 5,
   "metadata": {},
   "outputs": [
    {
     "data": {
      "text/plain": [
       "'[{\"status\":{\"verified\":true,\"sentCount\":1},\"type\":\"cat\",\"deleted\":false,\"_id\":\"58e008800aac31001185ed07\",\"user\":\"58e007480aac31001185ecef\",\"text\":\"Wikipedia has a recording of a cat meowing, because why not?\",\"__v\":0,\"source\":\"user\",\"updatedAt\":\"2020-08-23T20:20:01.611Z\",\"createdAt\":\"2018-03-06T21:20:03.505Z\",\"used\":false},{\"status\":{\"verified\":true,\"sentCount\":1},\"type\":\"cat\",\"deleted\":false,\"_id\":\"58e008630aac31001185ed01\",\"user\":\"58e007480aac31001185ecef\",\"text\":\"When cats grimace, they are usually \\\\\"taste-scenting.\\\\\" They have an extra organ that, with some breathing control, allows the cats to taste-sense the air.\",\"__v\":0,\"source\":\"user\",\"updatedAt\":\"2020-08-23T20:20:01.611Z\",\"createdAt\":\"2018-02-07T21:20:02.903Z\",\"used\":false},{\"status\":{\"verified\":true,\"sentCount\":1},\"type\":\"cat\",\"deleted\":false,\"_id\":\"58e00a090aac31001185ed16\",\"user\":\"58e007480aac31001185ecef\",\"text\":\"Cats make more than 100 different sounds whereas dogs make around 10.\",\"__v\":0,\"source\":\"user\",\"updatedAt\":\"2020-08-23T20:20:01.611Z\",\"createdAt\":\"2018-02-11T21:20:03.745Z\",\"used\":false},{\"status\":{\"verified\":true,\"sentCount\":1},\"type\":\"cat\",\"deleted\":false,\"_id\":\"58e009390aac31001185ed10\",\"user\":\"58e007480aac31001185ecef\",\"text\":\"Most cats are lactose intolerant, and milk can cause painful stomach cramps and diarrhea. It\\'s best to forego the milk and just give your cat the standard: clean, cool drinking water.\",\"__v\":0,\"source\":\"user\",\"updatedAt\":\"2020-08-23T20:20:01.611Z\",\"createdAt\":\"2018-03-04T21:20:02.979Z\",\"used\":false},{\"status\":{\"verified\":true,\"sentCount\":1},\"type\":\"cat\",\"deleted\":false,\"_id\":\"58e008780aac31001185ed05\",\"user\":\"58e007480aac31001185ecef\",\"text\":\"Owning a cat can reduce the risk of stroke and heart attack by a third.\",\"__v\":0,\"source\":\"user\",\"updatedAt\":\"2020-08-23T20:20:01.611Z\",\"createdAt\":\"2018-03-29T20:20:03.844Z\",\"used\":false}]'"
      ]
     },
     "execution_count": 5,
     "metadata": {},
     "output_type": "execute_result"
    }
   ],
   "source": [
    "# r.text\n",
    "\n",
    "import requests\n",
    "\n",
    "r = requests.get('https://cat-fact.herokuapp.com/facts')\n",
    "r.text\n",
    "\n",
    "#print(r.text.dtype) #AttributeError: 'str' object has no attribute 'dtype'"
   ]
  },
  {
   "cell_type": "code",
   "execution_count": 7,
   "metadata": {
    "scrolled": true
   },
   "outputs": [
    {
     "data": {
      "text/plain": [
       "[{'status': {'verified': True, 'sentCount': 1},\n",
       "  'type': 'cat',\n",
       "  'deleted': False,\n",
       "  '_id': '58e008800aac31001185ed07',\n",
       "  'user': '58e007480aac31001185ecef',\n",
       "  'text': 'Wikipedia has a recording of a cat meowing, because why not?',\n",
       "  '__v': 0,\n",
       "  'source': 'user',\n",
       "  'updatedAt': '2020-08-23T20:20:01.611Z',\n",
       "  'createdAt': '2018-03-06T21:20:03.505Z',\n",
       "  'used': False},\n",
       " {'status': {'verified': True, 'sentCount': 1},\n",
       "  'type': 'cat',\n",
       "  'deleted': False,\n",
       "  '_id': '58e008630aac31001185ed01',\n",
       "  'user': '58e007480aac31001185ecef',\n",
       "  'text': 'When cats grimace, they are usually \"taste-scenting.\" They have an extra organ that, with some breathing control, allows the cats to taste-sense the air.',\n",
       "  '__v': 0,\n",
       "  'source': 'user',\n",
       "  'updatedAt': '2020-08-23T20:20:01.611Z',\n",
       "  'createdAt': '2018-02-07T21:20:02.903Z',\n",
       "  'used': False},\n",
       " {'status': {'verified': True, 'sentCount': 1},\n",
       "  'type': 'cat',\n",
       "  'deleted': False,\n",
       "  '_id': '58e00a090aac31001185ed16',\n",
       "  'user': '58e007480aac31001185ecef',\n",
       "  'text': 'Cats make more than 100 different sounds whereas dogs make around 10.',\n",
       "  '__v': 0,\n",
       "  'source': 'user',\n",
       "  'updatedAt': '2020-08-23T20:20:01.611Z',\n",
       "  'createdAt': '2018-02-11T21:20:03.745Z',\n",
       "  'used': False},\n",
       " {'status': {'verified': True, 'sentCount': 1},\n",
       "  'type': 'cat',\n",
       "  'deleted': False,\n",
       "  '_id': '58e009390aac31001185ed10',\n",
       "  'user': '58e007480aac31001185ecef',\n",
       "  'text': \"Most cats are lactose intolerant, and milk can cause painful stomach cramps and diarrhea. It's best to forego the milk and just give your cat the standard: clean, cool drinking water.\",\n",
       "  '__v': 0,\n",
       "  'source': 'user',\n",
       "  'updatedAt': '2020-08-23T20:20:01.611Z',\n",
       "  'createdAt': '2018-03-04T21:20:02.979Z',\n",
       "  'used': False},\n",
       " {'status': {'verified': True, 'sentCount': 1},\n",
       "  'type': 'cat',\n",
       "  'deleted': False,\n",
       "  '_id': '58e008780aac31001185ed05',\n",
       "  'user': '58e007480aac31001185ecef',\n",
       "  'text': 'Owning a cat can reduce the risk of stroke and heart attack by a third.',\n",
       "  '__v': 0,\n",
       "  'source': 'user',\n",
       "  'updatedAt': '2020-08-23T20:20:01.611Z',\n",
       "  'createdAt': '2018-03-29T20:20:03.844Z',\n",
       "  'used': False}]"
      ]
     },
     "execution_count": 7,
     "metadata": {},
     "output_type": "execute_result"
    }
   ],
   "source": [
    "# json.loads(r.text)\n",
    "\n",
    "import json\n",
    "json.loads(r.text)\n",
    "\n",
    "#print(r.text.dtype) #AttributeError: 'str' object has no attribute 'dtype'"
   ]
  },
  {
   "cell_type": "markdown",
   "metadata": {
    "colab_type": "text",
    "id": "eJwMGD6XUdOn"
   },
   "source": [
    "### 自行尋找一個合適的 API 接口做練習，並且查看其回傳內容\n",
    "\n",
    "* https://cat-fact.herokuapp.com/facts (來源：https://alexwohlbruck.github.io/cat-facts/)\n",
    "* http://odata.wra.gov.tw/v4/RealtimeWaterLevel (來源：https://data.gov.tw/dataset/25768)\n"
   ]
  },
  {
   "cell_type": "code",
   "execution_count": 10,
   "metadata": {
    "colab": {},
    "colab_type": "code",
    "id": "XDvzxwA0UdOn",
    "outputId": "154b29e6-cd0d-48b9-e659-6e9a3f55e274"
   },
   "outputs": [
    {
     "data": {
      "text/plain": [
       "'[{\"status\":{\"verified\":true,\"sentCount\":1},\"type\":\"cat\",\"deleted\":false,\"_id\":\"58e008800aac31001185ed07\",\"user\":\"58e007480aac31001185ecef\",\"text\":\"Wikipedia has a recording of a cat meowing, because why not?\",\"__v\":0,\"source\":\"user\",\"updatedAt\":\"2020-08-23T20:20:01.611Z\",\"createdAt\":\"2018-03-06T21:20:03.505Z\",\"used\":false},{\"status\":{\"verified\":true,\"sentCount\":1},\"type\":\"cat\",\"deleted\":false,\"_id\":\"58e008630aac31001185ed01\",\"user\":\"58e007480aac31001185ecef\",\"text\":\"When cats grimace, they are usually \\\\\"taste-scenting.\\\\\" They have an extra organ that, with some breathing control, allows the cats to taste-sense the air.\",\"__v\":0,\"source\":\"user\",\"updatedAt\":\"2020-08-23T20:20:01.611Z\",\"createdAt\":\"2018-02-07T21:20:02.903Z\",\"used\":false},{\"status\":{\"verified\":true,\"sentCount\":1},\"type\":\"cat\",\"deleted\":false,\"_id\":\"58e00a090aac31001185ed16\",\"user\":\"58e007480aac31001185ecef\",\"text\":\"Cats make more than 100 different sounds whereas dogs make around 10.\",\"__v\":0,\"source\":\"user\",\"updatedAt\":\"2020-08-23T20:20:01.611Z\",\"createdAt\":\"2018-02-11T21:20:03.745Z\",\"used\":false},{\"status\":{\"verified\":true,\"sentCount\":1},\"type\":\"cat\",\"deleted\":false,\"_id\":\"58e009390aac31001185ed10\",\"user\":\"58e007480aac31001185ecef\",\"text\":\"Most cats are lactose intolerant, and milk can cause painful stomach cramps and diarrhea. It\\'s best to forego the milk and just give your cat the standard: clean, cool drinking water.\",\"__v\":0,\"source\":\"user\",\"updatedAt\":\"2020-08-23T20:20:01.611Z\",\"createdAt\":\"2018-03-04T21:20:02.979Z\",\"used\":false},{\"status\":{\"verified\":true,\"sentCount\":1},\"type\":\"cat\",\"deleted\":false,\"_id\":\"58e008780aac31001185ed05\",\"user\":\"58e007480aac31001185ecef\",\"text\":\"Owning a cat can reduce the risk of stroke and heart attack by a third.\",\"__v\":0,\"source\":\"user\",\"updatedAt\":\"2020-08-23T20:20:01.611Z\",\"createdAt\":\"2018-03-29T20:20:03.844Z\",\"used\":false}]'"
      ]
     },
     "execution_count": 10,
     "metadata": {},
     "output_type": "execute_result"
    }
   ],
   "source": [
    "import requests\n",
    "\n",
    "R = requests.get('https://cat-fact.herokuapp.com/facts')\n",
    "R.text"
   ]
  },
  {
   "cell_type": "code",
   "execution_count": 11,
   "metadata": {
    "colab": {},
    "colab_type": "code",
    "id": "RPISC-Y4UdOq"
   },
   "outputs": [
    {
     "data": {
      "text/plain": [
       "[{'status': {'verified': True, 'sentCount': 1},\n",
       "  'type': 'cat',\n",
       "  'deleted': False,\n",
       "  '_id': '58e008800aac31001185ed07',\n",
       "  'user': '58e007480aac31001185ecef',\n",
       "  'text': 'Wikipedia has a recording of a cat meowing, because why not?',\n",
       "  '__v': 0,\n",
       "  'source': 'user',\n",
       "  'updatedAt': '2020-08-23T20:20:01.611Z',\n",
       "  'createdAt': '2018-03-06T21:20:03.505Z',\n",
       "  'used': False},\n",
       " {'status': {'verified': True, 'sentCount': 1},\n",
       "  'type': 'cat',\n",
       "  'deleted': False,\n",
       "  '_id': '58e008630aac31001185ed01',\n",
       "  'user': '58e007480aac31001185ecef',\n",
       "  'text': 'When cats grimace, they are usually \"taste-scenting.\" They have an extra organ that, with some breathing control, allows the cats to taste-sense the air.',\n",
       "  '__v': 0,\n",
       "  'source': 'user',\n",
       "  'updatedAt': '2020-08-23T20:20:01.611Z',\n",
       "  'createdAt': '2018-02-07T21:20:02.903Z',\n",
       "  'used': False},\n",
       " {'status': {'verified': True, 'sentCount': 1},\n",
       "  'type': 'cat',\n",
       "  'deleted': False,\n",
       "  '_id': '58e00a090aac31001185ed16',\n",
       "  'user': '58e007480aac31001185ecef',\n",
       "  'text': 'Cats make more than 100 different sounds whereas dogs make around 10.',\n",
       "  '__v': 0,\n",
       "  'source': 'user',\n",
       "  'updatedAt': '2020-08-23T20:20:01.611Z',\n",
       "  'createdAt': '2018-02-11T21:20:03.745Z',\n",
       "  'used': False},\n",
       " {'status': {'verified': True, 'sentCount': 1},\n",
       "  'type': 'cat',\n",
       "  'deleted': False,\n",
       "  '_id': '58e009390aac31001185ed10',\n",
       "  'user': '58e007480aac31001185ecef',\n",
       "  'text': \"Most cats are lactose intolerant, and milk can cause painful stomach cramps and diarrhea. It's best to forego the milk and just give your cat the standard: clean, cool drinking water.\",\n",
       "  '__v': 0,\n",
       "  'source': 'user',\n",
       "  'updatedAt': '2020-08-23T20:20:01.611Z',\n",
       "  'createdAt': '2018-03-04T21:20:02.979Z',\n",
       "  'used': False},\n",
       " {'status': {'verified': True, 'sentCount': 1},\n",
       "  'type': 'cat',\n",
       "  'deleted': False,\n",
       "  '_id': '58e008780aac31001185ed05',\n",
       "  'user': '58e007480aac31001185ecef',\n",
       "  'text': 'Owning a cat can reduce the risk of stroke and heart attack by a third.',\n",
       "  '__v': 0,\n",
       "  'source': 'user',\n",
       "  'updatedAt': '2020-08-23T20:20:01.611Z',\n",
       "  'createdAt': '2018-03-29T20:20:03.844Z',\n",
       "  'used': False}]"
      ]
     },
     "execution_count": 11,
     "metadata": {},
     "output_type": "execute_result"
    }
   ],
   "source": [
    "import json\n",
    "json.loads(R.text)"
   ]
  },
  {
   "cell_type": "markdown",
   "metadata": {},
   "source": [
    "# Request 可以分成幾種方法\n",
    "\n",
    "HTTP 將請求（Request）依據使用情境分成兩種方法：GET & POST。\n",
    "\n",
    "GET 方法將要傳送的資料以 Query String 的方式接在網址後面。Query String 是一種Key-Vaule 的組成。POST 方法則是將傳送的資料寫在傳送的封包當中，從網址上看不到。\n",
    "\n",
    "\n",
    "① GET：將資料帶在網址上，利用 ?Key=Value 接在網址之後\n",
    "\n",
    "② POST：用 form 的方式帶資料"
   ]
  },
  {
   "cell_type": "code",
   "execution_count": 8,
   "metadata": {},
   "outputs": [
    {
     "data": {
      "text/plain": [
       "'{\\r\\n  \"error\":{\\r\\n    \"code\":\"\",\"message\":\"No HTTP resource was found that matches the request URI \\'http://wrisp2:88/odata/dataset/RealtimeWaterLevel\\'.\"\\r\\n  }\\r\\n}'"
      ]
     },
     "execution_count": 8,
     "metadata": {},
     "output_type": "execute_result"
    }
   ],
   "source": [
    "import requests\n",
    "\n",
    "R = requests.post('http://odata.wra.gov.tw/v4/RealtimeWaterLevel')\n",
    "R.text"
   ]
  },
  {
   "cell_type": "code",
   "execution_count": 9,
   "metadata": {},
   "outputs": [
    {
     "data": {
      "text/plain": [
       "{'error': {'code': '',\n",
       "  'message': \"No HTTP resource was found that matches the request URI 'http://wrisp2:88/odata/dataset/RealtimeWaterLevel'.\"}}"
      ]
     },
     "execution_count": 9,
     "metadata": {},
     "output_type": "execute_result"
    }
   ],
   "source": [
    "import json\n",
    "json.loads(R.text)"
   ]
  },
  {
   "cell_type": "code",
   "execution_count": null,
   "metadata": {},
   "outputs": [],
   "source": []
  }
 ],
 "metadata": {
  "colab": {
   "name": "homework.ipynb",
   "provenance": []
  },
  "kernelspec": {
   "display_name": "Python 3",
   "language": "python",
   "name": "python3"
  },
  "language_info": {
   "codemirror_mode": {
    "name": "ipython",
    "version": 3
   },
   "file_extension": ".py",
   "mimetype": "text/x-python",
   "name": "python",
   "nbconvert_exporter": "python",
   "pygments_lexer": "ipython3",
   "version": "3.8.3"
  }
 },
 "nbformat": 4,
 "nbformat_minor": 1
}
