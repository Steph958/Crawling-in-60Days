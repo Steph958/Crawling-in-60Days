{
 "cells": [
  {
   "cell_type": "code",
   "execution_count": 2,
   "metadata": {},
   "outputs": [],
   "source": [
    "import requests\n",
    "import os\n",
    "\n",
    "from bs4 import BeautifulSoup\n",
    "from PIL import Image"
   ]
  },
  {
   "cell_type": "code",
   "execution_count": 3,
   "metadata": {},
   "outputs": [],
   "source": [
    "url = 'https://www.setn.com/News.aspx?NewsID=761628'\n",
    "resp = requests.get(url)\n",
    "soup = BeautifulSoup(resp.text)"
   ]
  },
  {
   "cell_type": "code",
   "execution_count": 9,
   "metadata": {},
   "outputs": [
    {
     "name": "stdout",
     "output_type": "stream",
     "text": [
      "None\n"
     ]
    }
   ],
   "source": [
    "# 決定要儲存的資料夾\n",
    "output_dir = '../Day 9/downloads2' #在 Day 9資料夾的下一層新增一個downloads資料夾\n",
    "\n",
    "# 假如資料夾不存在就新增一個資料夾\n",
    "if not os.path.exists(output_dir):\n",
    "    os.makedirs(output_dir)\n",
    "\n",
    "    \n",
    "#定位所有圖片的 tag\n",
    "#看網頁原始碼\n",
    "image_tags = soup.find('img',alt='ID-2608806')\n",
    "print(image_tags)\n",
    "https://attach.setn.com/newsimages/2020/06/14/2608806-XXL.jpg"
   ]
  },
  {
   "cell_type": "code",
   "execution_count": 8,
   "metadata": {},
   "outputs": [
    {
     "name": "stdout",
     "output_type": "stream",
     "text": [
      "Cgb5oo1\n",
      "MgjHY4f\n",
      "yeoRtAs\n",
      "wsauNEW\n",
      "IjiETcs\n"
     ]
    }
   ],
   "source": [
    "for image_tag in image_tags:\n",
    "    H = image_tag['href'].split('/')[-1]\n",
    "    print(H)"
   ]
  },
  {
   "cell_type": "code",
   "execution_count": 13,
   "metadata": {},
   "outputs": [
    {
     "name": "stdout",
     "output_type": "stream",
     "text": [
      "https://i.imgur.com/Cgb5oo1.jpg\n",
      "Save image ../Day 9/downloads/Cgb5oo1.jpeg\n",
      "https://i.imgur.com/MgjHY4f.jpg\n",
      "Save image ../Day 9/downloads/MgjHY4f.jpeg\n",
      "https://i.imgur.com/yeoRtAs.jpg\n",
      "Save image ../Day 9/downloads/yeoRtAs.jpeg\n",
      "https://i.imgur.com/wsauNEW.jpg\n",
      "Save image ../Day 9/downloads/wsauNEW.jpeg\n",
      "https://i.imgur.com/IjiETcs.jpg\n",
      "Save image ../Day 9/downloads/IjiETcs.jpeg\n"
     ]
    }
   ],
   "source": [
    "for img_tag in image_tags:\n",
    "    \n",
    "    # 取得所有圖片在第三方服務的 id\n",
    "    if 'imgur' not in img_tag['href']:\n",
    "        continue\n",
    "    img_id = img_tag['href'].split('/')[-1]\n",
    "    \n",
    "    # 組合圖片而非網站的網址\n",
    "    img_url = 'https://i.imgur.com/{}.jpg'.format(img_id)\n",
    "    \n",
    "    print(img_url)\n",
    "    \n",
    "    \n",
    "    # 對圖片送出請求\n",
    "    with requests.get(img_url, stream=True) as r:\n",
    "        \n",
    "        r.raise_for_status()\n",
    "        \n",
    "        # 檢查圖片副檔名\n",
    "        from PIL import Image\n",
    "        #resp = requests.get(img_url, stream=True)\n",
    "        #image = Image.open(resp.raw)\n",
    "        #print(image.format)\n",
    "        # 假設我們重新組合圖片檔名與副檔名 logo.jpeg 之後\n",
    "        # 可以用 requests 的方式也可以用 PIL 儲存圖片\n",
    "        #image.save('logo.jpeg') \n",
    "\n",
    "        img = Image.open(r.raw)\n",
    "\n",
    "        img_savename = '{outdir}/{img_id}.{img_ext}'.format(\n",
    "            outdir=output_dir, #先前設定的存取路徑\n",
    "            img_id=img_id,    #先前處理好的圖片網址\n",
    "            img_ext=img.format.lower())  #圖片格式/副檔名\n",
    "        \n",
    "        img.save(img_savename)\n",
    "        print('Save image {}'.format(img_savename))"
   ]
  },
  {
   "cell_type": "code",
   "execution_count": null,
   "metadata": {},
   "outputs": [],
   "source": []
  }
 ],
 "metadata": {
  "kernelspec": {
   "display_name": "Python 3",
   "language": "python",
   "name": "python3"
  },
  "language_info": {
   "codemirror_mode": {
    "name": "ipython",
    "version": 3
   },
   "file_extension": ".py",
   "mimetype": "text/x-python",
   "name": "python",
   "nbconvert_exporter": "python",
   "pygments_lexer": "ipython3",
   "version": "3.8.3"
  }
 },
 "nbformat": 4,
 "nbformat_minor": 2
}
