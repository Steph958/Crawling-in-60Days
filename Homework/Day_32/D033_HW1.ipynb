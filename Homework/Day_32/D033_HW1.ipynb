{
 "cells": [
  {
   "cell_type": "code",
   "execution_count": 1,
   "metadata": {},
   "outputs": [],
   "source": [
    "import requests\n",
    "from bs4 import BeautifulSoup"
   ]
  },
  {
   "cell_type": "code",
   "execution_count": 2,
   "metadata": {},
   "outputs": [
    {
     "name": "stdout",
     "output_type": "stream",
     "text": [
      "token： MmCEmmL17Dh+F3P0tlG3lIcE4hcwpcG5zQae/aDQxW+vAO4jdEpAn2HJ0Ek0InaS1Z4+Bdcb+115c0koWbEFCg==\n"
     ]
    }
   ],
   "source": [
    "response_login = requests.get('https://github.com/login')\n",
    "soup = BeautifulSoup(response_login.text, 'lxml')\n",
    "token = soup.find('input', {'name':'authenticity_token'})['value']\n",
    "print('token：',token)"
   ]
  },
  {
   "cell_type": "code",
   "execution_count": 3,
   "metadata": {},
   "outputs": [
    {
     "name": "stdout",
     "output_type": "stream",
     "text": [
      "{'_octo': 'GH1.1.61528323.1628660985', 'logged_in': 'no', '_device_id': 'f5ec808ebd3cd2be803a78604248a413', '_gh_sess': '9%2BcryPEOQZgcZeDFmCHM8RlRnZf6y6v1wAqkmmAmEDCJ2sGI0RkhlWccP2G6mjeUMN63dFM1gIWqFdrT7NDROIUSrj%2BlhEf0s2IoHTYBChWKdJENq%2BFHWRcoivrDUcyk6huKqweRsF12McCF1A9rXodNzCyg7UyS4GBawSATKLojDrDzL1u66xJgD4kOKSi%2FJe%2BVITqCuUcRWK15lidL0i0w1p6QB1ZFAsmesFxt0BCR563ciNH8X%2BQcRwlmVrsTqpqZrZ5LZP7eNjxPPLsR4A%3D%3D--B5M8HsewjkIdmiQr--BIXzwI%2BvRunXVBZ2e%2FZtMQ%3D%3D'}\n"
     ]
    }
   ],
   "source": [
    "cookies_login=response_login.cookies.get_dict()\n",
    "print(cookies_login)"
   ]
  },
  {
   "cell_type": "code",
   "execution_count": 5,
   "metadata": {},
   "outputs": [],
   "source": [
    "D = {'commit':'Sign in',\n",
    "     'authenticity_token':token,\n",
    "     'login':'slony958@gmail.com',#帳號#,\n",
    "     'password':'Curry1231995'#密碼#\n",
    "    }"
   ]
  },
  {
   "cell_type": "code",
   "execution_count": 6,
   "metadata": {},
   "outputs": [],
   "source": [
    "response_session = requests.post('https://github.com/session',\n",
    "                                data = D ,\n",
    "                                cookies = cookies_login\n",
    "                                )"
   ]
  },
  {
   "cell_type": "code",
   "execution_count": 7,
   "metadata": {},
   "outputs": [
    {
     "name": "stdout",
     "output_type": "stream",
     "text": [
      "{'logged_in': 'yes', '_gh_sess': 'w%2BbOKfANbqhnW9sOIABCNAcDHZW3oFxnv7e7ieujMBSRx8rHVwKagIWhhpxs1sMMLP8TMh%2FcJfC7MenRrS%2FOxuVc1F3WUxjGXzu71vpshnyVhWsuSlZ01c1B9cg0jt1m%2BNrrsv3R5atw2LPYJCMUZBJcSWAl09sfhojGrd9F2IFFU4gZ1MWdzuj9pL%2BhpLPOG1ArXrRD4k9aCtCEiNM7oDAQyHPTWvkev5RbvqmXlOQ5ECDnxDbUOJizA8NKh%2BQdwauUFvvauwYF0TYSAjFOiahUG4alUsCcI07cA03cZEt8jojo--tTy%2B7uxTttj8ts6s--0i3Kz11x6nVrwy%2BFJ%2BtOCw%3D%3D', 'has_recent_activity': '1'}\n"
     ]
    }
   ],
   "source": [
    "cookies_session = response_session.cookies.get_dict()\n",
    "print(cookies_session)"
   ]
  },
  {
   "cell_type": "code",
   "execution_count": 8,
   "metadata": {},
   "outputs": [],
   "source": [
    "response = requests.get('https://github.com/', cookies = cookies_session)\n",
    "soup = BeautifulSoup(response.text, 'lxml')"
   ]
  },
  {
   "cell_type": "code",
   "execution_count": 40,
   "metadata": {},
   "outputs": [
    {
     "name": "stdout",
     "output_type": "stream",
     "text": [
      "<img alt=\"YouTube icon\" class=\"d-block\" decoding=\"async\" height=\"16\" loading=\"lazy\" src=\"https://github.githubassets.com/images/modules/site/icons/footer/youtube.svg\" width=\"23\"/>\n",
      "\n",
      "\n",
      "login_account: YouTube icon\n"
     ]
    }
   ],
   "source": [
    "print(soup.find_all('img')[-3])\n",
    "print('\\n')\n",
    "print('login_account:',soup.find_all('img')[-3]['alt'])"
   ]
  },
  {
   "cell_type": "code",
   "execution_count": 41,
   "metadata": {},
   "outputs": [
    {
     "name": "stdout",
     "output_type": "stream",
     "text": [
      "login_account: <div class=\"d-lg-none css-truncate css-truncate-target width-fit p-2\">\n",
      "</div>\n"
     ]
    }
   ],
   "source": [
    "print('login_account:',soup.find(class_=\"css-truncate-target\"))"
   ]
  },
  {
   "cell_type": "code",
   "execution_count": null,
   "metadata": {},
   "outputs": [],
   "source": []
  }
 ],
 "metadata": {
  "kernelspec": {
   "display_name": "Python 3",
   "language": "python",
   "name": "python3"
  },
  "language_info": {
   "codemirror_mode": {
    "name": "ipython",
    "version": 3
   },
   "file_extension": ".py",
   "mimetype": "text/x-python",
   "name": "python",
   "nbconvert_exporter": "python",
   "pygments_lexer": "ipython3",
   "version": "3.8.3"
  }
 },
 "nbformat": 4,
 "nbformat_minor": 4
}
