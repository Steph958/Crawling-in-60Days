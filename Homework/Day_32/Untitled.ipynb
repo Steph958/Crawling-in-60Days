{
 "cells": [
  {
   "cell_type": "code",
   "execution_count": 1,
   "metadata": {},
   "outputs": [],
   "source": [
    "import requests\n",
    "from bs4 import BeautifulSoup"
   ]
  },
  {
   "cell_type": "code",
   "execution_count": 2,
   "metadata": {},
   "outputs": [
    {
     "name": "stdout",
     "output_type": "stream",
     "text": [
      "token： ijM0Zn/hFNufUHoaDG27UFvDvKDMNRHkQwjbJECWxbmC+Aycz4vCQ8BQTSn5m5lxgEXfGzngqpFzyn8Wvda4cA==\n"
     ]
    }
   ],
   "source": [
    "response_login = requests.get('https://github.com/login')\n",
    "soup = BeautifulSoup(response_login.text, 'lxml')\n",
    "token = soup.find('input', {'name':'authenticity_token'})['value']\n",
    "print('token：',token)"
   ]
  },
  {
   "cell_type": "code",
   "execution_count": 3,
   "metadata": {},
   "outputs": [
    {
     "name": "stdout",
     "output_type": "stream",
     "text": [
      "{'_octo': 'GH1.1.1439611286.1628662842', 'logged_in': 'no', '_device_id': 'bd8de165a9b27fecce0904f87980eed7', '_gh_sess': 'y8Gc0A6G8mT1uh%2FsDb8WsGs4YLPZ2ZI%2F59MHlaYZgt1iWI5iS4It%2BuFCFBqa00ybz2hOUV9ZOe8Xir4ohnOacQJkcsex0D%2Fo%2FEyxwuDSxQ3h4GlTDLHuCiimtaPH%2FRhqyXEGFWw0PSaBNnnO7m4DDrBW6%2BZ05ls7ODHR9saYnWqSl%2BiDAUeFyh%2BH5jES5Sd8s%2FKPVnmECHan10jf%2By5Pc6cVEaXDPdrTZcw8JwSHI22aDkzZY1XIQbOiR9GwGAJGDmt01aIo1GosMMMNJDosug%3D%3D--QwdjXgDJDj8XYfff--JH1fdbXcj37YNuZ6wf8rYA%3D%3D'}\n"
     ]
    }
   ],
   "source": [
    "cookies_login=response_login.cookies.get_dict()\n",
    "print(cookies_login)"
   ]
  },
  {
   "cell_type": "code",
   "execution_count": 4,
   "metadata": {},
   "outputs": [],
   "source": [
    "D = {'commit':'Sign in',\n",
    "     'authenticity_token':token,\n",
    "     'login':'slony958@gmail.com',#帳號#,\n",
    "     'password':'Curry1231995'#密碼#\n",
    "    }"
   ]
  },
  {
   "cell_type": "code",
   "execution_count": 5,
   "metadata": {},
   "outputs": [],
   "source": [
    "response_session = requests.post('https://github.com/session',\n",
    "                                data = D ,\n",
    "                                cookies = cookies_login\n",
    "                                )"
   ]
  },
  {
   "cell_type": "code",
   "execution_count": 6,
   "metadata": {},
   "outputs": [
    {
     "name": "stdout",
     "output_type": "stream",
     "text": [
      "{'logged_in': 'yes', '_gh_sess': 'VMFXd0zyNqebHrA7EhhkXf0ZADByfay7ZPsue9%2Fk87ELZ05i9E4ygnBzYMG0uBTjzfwQQ8rxcW7azPdE%2FITHw6kKMtA6A%2FRoq6THe5jTw4EAmH6yjoKIjag1EjAK%2FxB5n8DqfgialZbLMrqfph3uU7qNR2AKkGJqzgvRydUg4jV%2FaY2nUVSSoRLXx9EniIXImo4ZgaNZuvfX1Q92Oz1nkTvaJ8kTQNo7FACgDhmzLtWtI3sMkyMQQpINDmCNVLMEBzpU%2Fpt8srLL1AhGI9G%2B2useUTzd4MNDRPlPcOlhVFF5tg1e--xF0XF7eq%2FUBgz1oN--Z8Cp%2FJ4%2FFswS2AUI7F30vw%3D%3D', 'has_recent_activity': '1'}\n"
     ]
    }
   ],
   "source": [
    "cookies_session = response_session.cookies.get_dict()\n",
    "print(cookies_session)"
   ]
  },
  {
   "cell_type": "code",
   "execution_count": 7,
   "metadata": {},
   "outputs": [],
   "source": [
    "response = requests.get('https://github.com/', cookies = cookies_session)\n",
    "soup = BeautifulSoup(response.text, 'lxml')"
   ]
  },
  {
   "cell_type": "code",
   "execution_count": 11,
   "metadata": {},
   "outputs": [
    {
     "name": "stdout",
     "output_type": "stream",
     "text": [
      "login_account: <div class=\"d-lg-none css-truncate css-truncate-target width-fit p-2\">\n",
      "</div>\n"
     ]
    }
   ],
   "source": [
    "print('login_account:',soup.find(class_=\"css-truncate-target\"))"
   ]
  },
  {
   "cell_type": "code",
   "execution_count": null,
   "metadata": {},
   "outputs": [],
   "source": [
    "<strong class=\"css-truncate-target\">Steph958</strong>"
   ]
  }
 ],
 "metadata": {
  "kernelspec": {
   "display_name": "Python 3",
   "language": "python",
   "name": "python3"
  },
  "language_info": {
   "codemirror_mode": {
    "name": "ipython",
    "version": 3
   },
   "file_extension": ".py",
   "mimetype": "text/x-python",
   "name": "python",
   "nbconvert_exporter": "python",
   "pygments_lexer": "ipython3",
   "version": "3.8.3"
  }
 },
 "nbformat": 4,
 "nbformat_minor": 4
}
