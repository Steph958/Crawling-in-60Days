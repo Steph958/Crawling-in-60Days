{
 "cells": [
  {
   "cell_type": "code",
   "execution_count": 1,
   "metadata": {},
   "outputs": [],
   "source": [
    "import requests\n",
    "from bs4 import BeautifulSoup"
   ]
  },
  {
   "cell_type": "markdown",
   "metadata": {},
   "source": [
    "於登入介面先取得token和cookies資訊¶\n",
    "由於無法在'https://github.com/login' 直接登入，因此先儲存原先的token和cookies"
   ]
  },
  {
   "cell_type": "code",
   "execution_count": 2,
   "metadata": {},
   "outputs": [
    {
     "name": "stdout",
     "output_type": "stream",
     "text": [
      "token： UbZSiVZLXKYimZcXnQjwnv4C1VngbbomlwqtTqcoGyIethp0PAYrFwttPECS/Y3TExgD0mkGq0694grHyInZbw==\n"
     ]
    }
   ],
   "source": [
    "response_login = requests.get('https://github.com/login')\n",
    "soup = BeautifulSoup(response_login.text, 'lxml')\n",
    "token = soup.find('input', {'name':'authenticity_token'})['value']\n",
    "print('token：',token)"
   ]
  },
  {
   "cell_type": "code",
   "execution_count": 4,
   "metadata": {},
   "outputs": [
    {
     "name": "stdout",
     "output_type": "stream",
     "text": [
      "{'_octo': 'GH1.1.986638066.1629128633', 'logged_in': 'no', '_device_id': 'd8968d6fef3df2f4bc1b06db7a10e543', '_gh_sess': 'uBN9xz%2FvNxQDGdlzuEtv7dfhHEeABPbv%2FHpgoIkNu1GZL0GkpPaZLs9TdmBKG3vN45OsPm%2FcsQYz1IoizT2%2Bgy942l7pEjskddHrUfn4hyqFx62yimJ9nAxx9PdqyCO37mcvrN9Q4il%2B1wtM2bEpaR9%2F%2BHp015d4uXgdazvcji9j8y4Q2hKBoApPLEAhNOKcSxzAuYkTqydsLDxE46vVQa1xpBGzkxESSn4BIxCfZydSJkT63hHsviuwFjks6qYIC054dJyLSYRwt3FtczH%2FjA%3D%3D--A0Gm15GxvpV4DXDs--C2zR7hEPimq16Wk6ZE4nRg%3D%3D'}\n"
     ]
    }
   ],
   "source": [
    "cookies_login=response_login.cookies.get_dict()\n",
    "print(cookies_login)"
   ]
  },
  {
   "cell_type": "markdown",
   "metadata": {},
   "source": [
    "至Github重新輸入的介面\n",
    "發現輸入錯誤的帳密後將移至'https://github.com/session' 網頁，此網頁的headers將轉為post方法，且headers中多了Form Data。 可以將Form Data覺得必要的值丟至data中，像是本身正確的帳密和token以及cookies，而token與cookies用剛剛取的，如果token與cookies是用 session這個網頁的headers提供的，將無法登入。"
   ]
  },
  {
   "cell_type": "code",
   "execution_count": 5,
   "metadata": {},
   "outputs": [
    {
     "name": "stdout",
     "output_type": "stream",
     "text": [
      "{'logged_in': 'yes', '_gh_sess': 'MP1uYDOC%2FClfP%2FkLO1cXDKB0kb2vz2inEflkHBVVllIRy0GUpX1B5GmBkVWfVp8Pz697HHCw6wyOP5U9QdOqBplnPN5hjaLBV41rog%2BitrOEtFt8E04DlOsraf7GdEDy88jJfbtIYDsi36M6lm6CV87gW2B567oNcthaOlaq5dd4BLnphCsDgkgoSjfn27GfdSgP9Nc6fI4awp0cjV3qXRxTLthYu2UjDvT79jvNr7TRyvTPT%2B24kPq1upW4FafVCsX%2FBAYvA%2BkX5Hws8gNuW0NnqnnP9Y3%2FHwqYm25Qc3EHBv6d--vakfJOW03dTSoQpi--dRKuXYsSoTUloKquVZQmsg%3D%3D', 'has_recent_activity': '1'}\n"
     ]
    }
   ],
   "source": [
    "D = {'commit':'Sign in',\n",
    "     'authenticity_token':token,\n",
    "     'login':'Slony958@gmail.com',#帳號#,\n",
    "     'password':'Curry1231995'#密碼#\n",
    "    }\n",
    "\n",
    "response_session = requests.post('https://github.com/session',\n",
    "                                data = D ,\n",
    "                                cookies = cookies_login\n",
    "                                )\n",
    "\n",
    "cookies_session = response_session.cookies.get_dict()\n",
    "print(cookies_session)"
   ]
  },
  {
   "cell_type": "markdown",
   "metadata": {},
   "source": [
    "logged_in: yes (成功登入)\n",
    "if用session網頁headers所提供的token和cookies，logged_in將為no"
   ]
  },
  {
   "cell_type": "code",
   "execution_count": 6,
   "metadata": {},
   "outputs": [],
   "source": [
    "response = requests.get('https://github.com/', cookies = cookies_session)\n",
    "soup = BeautifulSoup(response.text, 'lxml')"
   ]
  },
  {
   "cell_type": "code",
   "execution_count": 7,
   "metadata": {},
   "outputs": [
    {
     "name": "stdout",
     "output_type": "stream",
     "text": [
      "<img alt=\"YouTube icon\" class=\"d-block\" decoding=\"async\" height=\"16\" loading=\"lazy\" src=\"https://github.githubassets.com/images/modules/site/icons/footer/youtube.svg\" width=\"23\"/>\n",
      "\n",
      "\n",
      "login_account: YouTube icon\n"
     ]
    }
   ],
   "source": [
    "print(soup.find_all('img')[-3])\n",
    "print('\\n')\n",
    "print('login_account:',soup.find_all('img')[-3]['alt'])"
   ]
  },
  {
   "cell_type": "code",
   "execution_count": null,
   "metadata": {},
   "outputs": [],
   "source": []
  },
  {
   "cell_type": "code",
   "execution_count": null,
   "metadata": {},
   "outputs": [],
   "source": []
  }
 ],
 "metadata": {
  "kernelspec": {
   "display_name": "Python 3",
   "language": "python",
   "name": "python3"
  },
  "language_info": {
   "codemirror_mode": {
    "name": "ipython",
    "version": 3
   },
   "file_extension": ".py",
   "mimetype": "text/x-python",
   "name": "python",
   "nbconvert_exporter": "python",
   "pygments_lexer": "ipython3",
   "version": "3.8.3"
  }
 },
 "nbformat": 4,
 "nbformat_minor": 4
}
