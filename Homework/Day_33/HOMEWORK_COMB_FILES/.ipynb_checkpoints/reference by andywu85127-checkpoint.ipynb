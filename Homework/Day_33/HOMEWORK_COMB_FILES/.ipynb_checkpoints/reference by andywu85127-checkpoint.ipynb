{
 "cells": [
  {
   "cell_type": "code",
   "execution_count": 1,
   "metadata": {},
   "outputs": [],
   "source": [
    "from bs4 import BeautifulSoup\n",
    "import requests\n",
    "import random\n",
    "import time\n",
    "import re"
   ]
  },
  {
   "cell_type": "code",
   "execution_count": 2,
   "metadata": {},
   "outputs": [],
   "source": [
    "r = requests.get('https://free-proxy-list.net/')\n",
    "soup = BeautifulSoup(r.text,'lxml')\n",
    "#print(soup.prettify())"
   ]
  },
  {
   "cell_type": "code",
   "execution_count": 3,
   "metadata": {},
   "outputs": [
    {
     "name": "stdout",
     "output_type": "stream",
     "text": [
      "有300個ip\n",
      "['194.213.43.166:60530', '154.79.244.62:58792', '140.227.71.95:6000', '109.193.195.14:8080', '134.3.255.3:3128', '124.40.252.182:8080', '134.3.255.2:8080', '169.57.1.84:80', '187.94.61.248:80', '89.20.48.118:8080']\n"
     ]
    }
   ],
   "source": [
    "proxy_list=[]\n",
    "t = soup.find_all('td')\n",
    "rex = re.compile('\\d{1,3}\\.\\d{1,3}\\.\\d{1,3}\\.\\d{1,3}')\n",
    "port=False\n",
    "#port的位置都在ip的下個位置\n",
    "for i in t:\n",
    "    if port==True:\n",
    "        proxy_list.append(IP+':'+i.text)\n",
    "        port=False\n",
    "    \n",
    "    if re.search(rex,i.text)!=None:\n",
    "        IP=re.search(rex,i.text).group()\n",
    "        #讀取的下一個為port選項\n",
    "        port=True\n",
    "\n",
    "#此網站總共有300個ip\n",
    "print('有{}個ip'.format(len(proxy_list)))\n",
    "print(proxy_list[0:10])"
   ]
  },
  {
   "cell_type": "code",
   "execution_count": 4,
   "metadata": {},
   "outputs": [
    {
     "name": "stdout",
     "output_type": "stream",
     "text": [
      "Use 51.15.8.75:3738\n",
      "Failed result:\n",
      " HTTPConnectionPool(host='51.15.8.75', port=3738): Max retries exceeded with url: http://ip.filefab.com/index.php (Caused by ConnectTimeoutError(<urllib3.connection.HTTPConnection object at 0x000001F8D15072E0>, 'Connection to 51.15.8.75 timed out. (connect timeout=10)'))\n",
      "wait for 4 seconds...\n",
      "\n",
      "Use 14.97.2.105:80\n",
      "Failed result:\n",
      " 'NoneType' object has no attribute 'text'\n",
      "wait for 9 seconds...\n",
      "\n",
      "Use 181.10.230.100:57148\n",
      "Failed result:\n",
      " 'NoneType' object has no attribute 'text'\n",
      "wait for 7 seconds...\n",
      "\n",
      "Use 194.213.43.166:60530\n",
      "Failed result:\n",
      " 'NoneType' object has no attribute 'text'\n",
      "wait for 4 seconds...\n",
      "\n",
      "Use 68.106.116.250:3128\n",
      "Failed result:\n",
      " HTTPConnectionPool(host='68.106.116.250', port=3128): Max retries exceeded with url: http://ip.filefab.com/index.php (Caused by ConnectTimeoutError(<urllib3.connection.HTTPConnection object at 0x000001F8D1523F70>, 'Connection to 68.106.116.250 timed out. (connect timeout=10)'))\n",
      "wait for 9 seconds...\n",
      "\n",
      "Use 47.241.250.250:12345\n",
      "Failed result:\n",
      " HTTPConnectionPool(host='47.241.250.250', port=12345): Max retries exceeded with url: http://ip.filefab.com/index.php (Caused by ConnectTimeoutError(<urllib3.connection.HTTPConnection object at 0x000001F8D152D820>, 'Connection to 47.241.250.250 timed out. (connect timeout=10)'))\n",
      "wait for 4 seconds...\n",
      "\n",
      "Use 49.49.47.76:8080\n",
      "Failed result:\n",
      " HTTPConnectionPool(host='49.49.47.76', port=8080): Max retries exceeded with url: http://ip.filefab.com/index.php (Caused by ConnectTimeoutError(<urllib3.connection.HTTPConnection object at 0x000001F8D1519070>, 'Connection to 49.49.47.76 timed out. (connect timeout=10)'))\n",
      "wait for 9 seconds...\n",
      "\n",
      "Use 203.33.113.233:80\n",
      "Failed result:\n",
      " 'NoneType' object has no attribute 'text'\n",
      "wait for 4 seconds...\n",
      "\n",
      "Use 81.18.34.98:42535\n",
      "Failed result:\n",
      " HTTPConnectionPool(host='81.18.34.98', port=42535): Max retries exceeded with url: http://ip.filefab.com/index.php (Caused by ConnectTimeoutError(<urllib3.connection.HTTPConnection object at 0x000001F8D15360D0>, 'Connection to 81.18.34.98 timed out. (connect timeout=10)'))\n",
      "wait for 8 seconds...\n",
      "\n",
      "Use 192.109.165.203:80\n",
      "Failed result:\n",
      " 'NoneType' object has no attribute 'text'\n",
      "----------------------------------------------------------------------------------------------------\n",
      "Done\n"
     ]
    }
   ],
   "source": [
    "for i in range(10):\n",
    "    ip = random.choice(proxy_list)\n",
    "    print('Use', ip)\n",
    "    try:\n",
    "        resp = requests.get('http://ip.filefab.com/index.php',\n",
    "                        proxies={'http': ip, 'https': ip}, timeout=10)\n",
    "        soup = BeautifulSoup(resp.text, 'lxml')\n",
    "        #if success print->Your IP address:~~~\n",
    "        print(soup.find('h1', id='ipd').text.strip())\n",
    "    except Exception as f:\n",
    "        print('Failed result:\\n',f)\n",
    "        pass\n",
    "    \n",
    "    n = random.choice(range(4,10))\n",
    "    if i==9:\n",
    "        print('-'*100)\n",
    "        print('Done')\n",
    "    else:\n",
    "        print('wait for {} seconds...'.format(n))\n",
    "        print()\n",
    "        time.sleep(n)"
   ]
  },
  {
   "cell_type": "code",
   "execution_count": null,
   "metadata": {},
   "outputs": [],
   "source": []
  }
 ],
 "metadata": {
  "kernelspec": {
   "display_name": "Python 3",
   "language": "python",
   "name": "python3"
  },
  "language_info": {
   "codemirror_mode": {
    "name": "ipython",
    "version": 3
   },
   "file_extension": ".py",
   "mimetype": "text/x-python",
   "name": "python",
   "nbconvert_exporter": "python",
   "pygments_lexer": "ipython3",
   "version": "3.8.3"
  }
 },
 "nbformat": 4,
 "nbformat_minor": 4
}
