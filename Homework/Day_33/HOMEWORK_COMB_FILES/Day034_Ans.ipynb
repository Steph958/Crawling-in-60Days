{
 "cells": [
  {
   "cell_type": "markdown",
   "metadata": {
    "colab_type": "text",
    "id": "IX8KUwndVkg2"
   },
   "source": [
    "# 反爬：代理伺服器/IP\n",
    "\n",
    "* 了解「IP 黑/白名單」的反爬蟲機制\n",
    "* 「IP 黑/白名單」反爬蟲的因應策略"
   ]
  },
  {
   "cell_type": "markdown",
   "metadata": {
    "colab_type": "text",
    "id": "DP-sCoO2Vkg5"
   },
   "source": [
    "## 作業目標\n",
    "\n",
    "* 目前程式中的 proxy_ips 是手動輸入的，請根據 https://free-proxy-list.net/ 寫一個可自動化抓取可用 Proxy 的 proxy_ips。\n",
    "\n",
    "\n"
   ]
  },
  {
   "cell_type": "code",
   "execution_count": 26,
   "metadata": {
    "colab": {},
    "colab_type": "code",
    "id": "Tcn5GfmLVkg5"
   },
   "outputs": [],
   "source": [
    "from bs4 import BeautifulSoup\n",
    "import requests\n",
    "import random"
   ]
  },
  {
   "cell_type": "code",
   "execution_count": 42,
   "metadata": {},
   "outputs": [],
   "source": [
    "proxy_ips = []\n",
    "\n",
    "# 對 https://free-proxy-list.net/ 發送請求，並從表格中整理出免費的代理伺服器\n",
    "\n",
    "#headers = {'User-Agent': 'Mozilla/5.0 (Macintosh; Intel Mac OS X 10_11_5) AppleWebKit/537.36 (KHTML, like Gecko) Cafari/537.36'}\n",
    "url = 'https://free-proxy-list.net/'\n",
    "#response = requests.get(url, headers=headers)\n",
    "response = requests.get(url)\n",
    "soup = BeautifulSoup(response.text, 'lxml')\n",
    "#print(soup.prettify())"
   ]
  },
  {
   "cell_type": "code",
   "execution_count": 28,
   "metadata": {},
   "outputs": [
    {
     "ename": "AttributeError",
     "evalue": "'list' object has no attribute 'find'",
     "output_type": "error",
     "traceback": [
      "\u001b[1;31m---------------------------------------------------------------------------\u001b[0m",
      "\u001b[1;31mAttributeError\u001b[0m                            Traceback (most recent call last)",
      "\u001b[1;32m<ipython-input-28-614c85d3b629>\u001b[0m in \u001b[0;36m<module>\u001b[1;34m\u001b[0m\n\u001b[0;32m      1\u001b[0m \u001b[0mtr\u001b[0m \u001b[1;33m=\u001b[0m \u001b[0msoup\u001b[0m\u001b[1;33m.\u001b[0m\u001b[0mfind\u001b[0m\u001b[1;33m(\u001b[0m\u001b[1;34m'tbody'\u001b[0m\u001b[1;33m)\u001b[0m\u001b[1;33m.\u001b[0m\u001b[0mfind_all\u001b[0m\u001b[1;33m(\u001b[0m\u001b[1;34m'tr'\u001b[0m\u001b[1;33m)\u001b[0m\u001b[1;33m[\u001b[0m\u001b[1;33m:\u001b[0m\u001b[1;36m100\u001b[0m\u001b[1;33m]\u001b[0m\u001b[1;33m\u001b[0m\u001b[1;33m\u001b[0m\u001b[0m\n\u001b[1;32m----> 2\u001b[1;33m \u001b[0mtr\u001b[0m\u001b[1;33m.\u001b[0m\u001b[0mfind\u001b[0m\u001b[1;33m(\u001b[0m\u001b[1;34m'td'\u001b[0m\u001b[1;33m)\u001b[0m\u001b[1;33m\u001b[0m\u001b[1;33m\u001b[0m\u001b[0m\n\u001b[0m\u001b[0;32m      3\u001b[0m \u001b[0mtr\u001b[0m\u001b[1;33m.\u001b[0m\u001b[0mfind_all\u001b[0m\u001b[1;33m(\u001b[0m\u001b[1;34m'td'\u001b[0m\u001b[1;33m)\u001b[0m\u001b[1;33m\u001b[0m\u001b[1;33m\u001b[0m\u001b[0m\n",
      "\u001b[1;31mAttributeError\u001b[0m: 'list' object has no attribute 'find'"
     ]
    }
   ],
   "source": [
    "tr = soup.find('tbody').find_all('tr')[:100]\n",
    "tr.find('td')\n",
    "tr.find_all('td')"
   ]
  },
  {
   "cell_type": "code",
   "execution_count": 38,
   "metadata": {},
   "outputs": [
    {
     "name": "stdout",
     "output_type": "stream",
     "text": [
      "['46.229.187.169:53281', '65.21.3.120:80', '190.186.1.46:55830', '31.173.94.93:43539', '105.208.44.183:53480', '140.227.56.28:6000', '140.227.29.25:6000', '1.32.59.217:47045', '213.230.127.143:3128', '178.151.34.43:8080', '203.193.131.74:3128', '81.163.52.39:41258', '37.1.22.6:53281', '150.129.250.28:33846', '116.80.45.7:80', '177.91.111.253:8080', '177.66.112.221:57945', '176.62.188.158:56351', '158.46.127.222:52574', '78.92.231.44:55443', '131.221.98.98:55443', '197.210.217.66:34808', '140.227.58.32:6000', '191.101.39.147:80', '140.227.53.204:6000', '187.63.224.13:6666', '85.237.230.197:80', '167.71.212.156:8083', '180.71.165.82:8080', '112.78.170.27:8080', '103.92.213.253:43399', '103.107.92.1:52827', '109.70.189.70:56408', '176.9.75.42:8080', '185.170.215.228:80', '193.149.225.244:80', '103.110.91.242:3128', '46.4.96.137:3128', '139.59.116.113:80', '193.149.225.56:80', '113.160.119.161:55443', '165.16.54.235:7777', '92.118.92.107:8181', '47.245.62.239:12345', '193.149.225.116:80', '190.152.5.126:53040', '136.243.211.104:80', '192.109.165.85:80', '103.162.205.100:8181', '181.129.138.114:30838', '200.105.215.18:33630', '193.242.151.43:8080', '93.76.213.77:42803', '149.172.255.14:8080', '103.109.59.242:53281', '194.163.132.232:3128', '168.196.211.10:55443', '71.19.146.218:80', '95.208.208.231:8080', '191.101.39.196:80', '103.115.14.125:80', '103.115.14.41:80', '201.150.32.60:10566', '41.191.226.86:55443', '45.174.70.18:53281', '192.109.165.26:80', '191.101.39.27:80', '193.149.225.35:80', '103.26.130.156:55443', '170.83.60.125:55443', '192.109.165.87:80', '193.149.225.141:80', '200.192.211.246:36240', '193.149.225.242:80', '140.227.55.221:6000', '194.233.67.98:443', '190.145.200.126:53281', '212.175.55.46:53281', '140.227.71.95:6000', '124.121.112.128:8213', '91.89.89.8:8080', '103.148.79.107:8080', '89.24.76.185:32842', '200.116.198.180:32605', '91.216.66.70:32306', '80.106.247.145:53410', '177.87.174.21:53281', '114.7.27.98:8080', '111.118.135.132:56627', '191.100.20.14:8080', '37.49.127.229:8080', '89.111.105.91:41258', '81.95.131.10:44292', '223.255.133.34:8080', '190.95.214.185:8080', '27.116.51.186:6666', '192.109.165.143:80', '192.158.15.201:60684', '178.217.172.206:55443', '202.212.123.44:80']\n"
     ]
    }
   ],
   "source": [
    "for tr in soup.find('tbody').find_all('tr')[:100]:\n",
    "    #print(tr) #非list，可再使用find()或find_all()\n",
    "    #單一一個tr印出來像這樣:\n",
    "    #<tr><td>1.186.40.2</td><td>54754</td><td>IN</td><td class=\"hm\">India</td><td>transparent</td><td class=\"hm\">no</td><td class=\"hx\">no</td><td class=\"hm\">1 min ago</td></tr>\n",
    "    proxy = tr.find_all('td')[0].text + ':' + tr.find_all('td')[1].text #第一個是IP address，第二個是Port\n",
    "    #print(proxy)\n",
    "    proxy_ips.append(proxy)\n",
    "    \n",
    "print(proxy_ips) #this is a list"
   ]
  },
  {
   "cell_type": "code",
   "execution_count": 31,
   "metadata": {},
   "outputs": [
    {
     "ename": "AttributeError",
     "evalue": "'NoneType' object has no attribute 'text'",
     "output_type": "error",
     "traceback": [
      "\u001b[1;31m---------------------------------------------------------------------------\u001b[0m",
      "\u001b[1;31mAttributeError\u001b[0m                            Traceback (most recent call last)",
      "\u001b[1;32m<ipython-input-31-29d27df59744>\u001b[0m in \u001b[0;36m<module>\u001b[1;34m\u001b[0m\n\u001b[0;32m      5\u001b[0m \u001b[1;33m\u001b[0m\u001b[0m\n\u001b[0;32m      6\u001b[0m \u001b[0msoup\u001b[0m \u001b[1;33m=\u001b[0m \u001b[0mBeautifulSoup\u001b[0m\u001b[1;33m(\u001b[0m\u001b[0mresp\u001b[0m\u001b[1;33m.\u001b[0m\u001b[0mtext\u001b[0m\u001b[1;33m,\u001b[0m \u001b[1;34m'html5lib'\u001b[0m\u001b[1;33m)\u001b[0m\u001b[1;33m\u001b[0m\u001b[1;33m\u001b[0m\u001b[0m\n\u001b[1;32m----> 7\u001b[1;33m \u001b[0mprint\u001b[0m\u001b[1;33m(\u001b[0m\u001b[0msoup\u001b[0m\u001b[1;33m.\u001b[0m\u001b[0mfind\u001b[0m\u001b[1;33m(\u001b[0m\u001b[1;34m'h1'\u001b[0m\u001b[1;33m,\u001b[0m \u001b[0mid\u001b[0m\u001b[1;33m=\u001b[0m\u001b[1;34m'ipd'\u001b[0m\u001b[1;33m)\u001b[0m\u001b[1;33m.\u001b[0m\u001b[0mtext\u001b[0m\u001b[1;33m.\u001b[0m\u001b[0mstrip\u001b[0m\u001b[1;33m(\u001b[0m\u001b[1;33m)\u001b[0m\u001b[1;33m)\u001b[0m\u001b[1;33m\u001b[0m\u001b[1;33m\u001b[0m\u001b[0m\n\u001b[0m",
      "\u001b[1;31mAttributeError\u001b[0m: 'NoneType' object has no attribute 'text'"
     ]
    }
   ],
   "source": [
    "ip = '203.33.113.145:80'\n",
    "\n",
    "resp = requests.get('http://ip.filefab.com/index.php',\n",
    "                        proxies={'http': ip, 'https': ip}, timeout=10)\n",
    "        \n",
    "soup = BeautifulSoup(resp.text, 'html5lib')\n",
    "print(soup.find('h1', id='ipd').text.strip())"
   ]
  },
  {
   "cell_type": "code",
   "execution_count": 39,
   "metadata": {
    "colab": {},
    "colab_type": "code",
    "id": "sXotLl8mVkg9"
   },
   "outputs": [
    {
     "name": "stdout",
     "output_type": "stream",
     "text": [
      "Use 46.229.187.169:53281\n",
      "Fail\n",
      "Use 65.21.3.120:80\n",
      "Fail\n",
      "Use 190.186.1.46:55830\n",
      "Fail\n",
      "Use 31.173.94.93:43539\n",
      "Fail\n",
      "Use 105.208.44.183:53480\n",
      "Fail\n",
      "Use 140.227.56.28:6000\n",
      "Fail\n",
      "Use 140.227.29.25:6000\n",
      "Fail\n",
      "Use 1.32.59.217:47045\n",
      "Fail\n",
      "Use 213.230.127.143:3128\n",
      "Fail\n",
      "Use 178.151.34.43:8080\n",
      "Fail\n",
      "Use 203.193.131.74:3128\n",
      "Fail\n",
      "Use 81.163.52.39:41258\n",
      "Fail\n",
      "Use 37.1.22.6:53281\n",
      "Fail\n",
      "Use 150.129.250.28:33846\n",
      "Fail\n",
      "Use 116.80.45.7:80\n",
      "Fail\n",
      "Use 177.91.111.253:8080\n",
      "Fail\n",
      "Use 177.66.112.221:57945\n",
      "Fail\n",
      "Use 176.62.188.158:56351\n",
      "Fail\n",
      "Use 158.46.127.222:52574\n",
      "Fail\n",
      "Use 78.92.231.44:55443\n",
      "Fail\n",
      "Use 131.221.98.98:55443\n",
      "Fail\n",
      "Use 197.210.217.66:34808\n",
      "Fail\n",
      "Use 140.227.58.32:6000\n",
      "Fail\n",
      "Use 191.101.39.147:80\n",
      "Fail\n",
      "Use 140.227.53.204:6000\n",
      "Fail\n",
      "Use 187.63.224.13:6666\n",
      "Fail\n",
      "Use 85.237.230.197:80\n",
      "Fail\n",
      "Use 167.71.212.156:8083\n",
      "Fail\n",
      "Use 180.71.165.82:8080\n",
      "Fail\n",
      "Use 112.78.170.27:8080\n",
      "Fail\n",
      "Use 103.92.213.253:43399\n",
      "Fail\n",
      "Use 103.107.92.1:52827\n",
      "Fail\n",
      "Use 109.70.189.70:56408\n",
      "Fail\n",
      "Use 176.9.75.42:8080\n",
      "Fail\n",
      "Use 185.170.215.228:80\n",
      "Fail\n",
      "Use 193.149.225.244:80\n",
      "Fail\n",
      "Use 103.110.91.242:3128\n",
      "Fail\n",
      "Use 46.4.96.137:3128\n",
      "Fail\n",
      "Use 139.59.116.113:80\n",
      "Fail\n",
      "Use 193.149.225.56:80\n",
      "Fail\n",
      "Use 113.160.119.161:55443\n",
      "Fail\n",
      "Use 165.16.54.235:7777\n",
      "Fail\n",
      "Use 92.118.92.107:8181\n",
      "Fail\n",
      "Use 47.245.62.239:12345\n",
      "Fail\n",
      "Use 193.149.225.116:80\n",
      "Fail\n",
      "Use 190.152.5.126:53040\n",
      "Fail\n",
      "Use 136.243.211.104:80\n",
      "Fail\n",
      "Use 192.109.165.85:80\n",
      "Fail\n",
      "Use 103.162.205.100:8181\n",
      "Fail\n",
      "Use 181.129.138.114:30838\n",
      "Fail\n",
      "Use 200.105.215.18:33630\n",
      "Fail\n",
      "Use 193.242.151.43:8080\n",
      "Fail\n",
      "Use 93.76.213.77:42803\n",
      "Fail\n",
      "Use 149.172.255.14:8080\n",
      "Fail\n",
      "Use 103.109.59.242:53281\n",
      "Fail\n",
      "Use 194.163.132.232:3128\n",
      "Fail\n",
      "Use 168.196.211.10:55443\n",
      "Fail\n",
      "Use 71.19.146.218:80\n",
      "Fail\n",
      "Use 95.208.208.231:8080\n",
      "Fail\n",
      "Use 191.101.39.196:80\n",
      "Fail\n",
      "Use 103.115.14.125:80\n",
      "Fail\n",
      "Use 103.115.14.41:80\n",
      "Fail\n",
      "Use 201.150.32.60:10566\n",
      "Fail\n",
      "Use 41.191.226.86:55443\n",
      "Fail\n",
      "Use 45.174.70.18:53281\n",
      "Fail\n",
      "Use 192.109.165.26:80\n",
      "Fail\n",
      "Use 191.101.39.27:80\n",
      "Fail\n",
      "Use 193.149.225.35:80\n",
      "Fail\n",
      "Use 103.26.130.156:55443\n",
      "Fail\n",
      "Use 170.83.60.125:55443\n",
      "Fail\n",
      "Use 192.109.165.87:80\n",
      "Fail\n",
      "Use 193.149.225.141:80\n",
      "Fail\n",
      "Use 200.192.211.246:36240\n",
      "Fail\n",
      "Use 193.149.225.242:80\n",
      "Fail\n",
      "Use 140.227.55.221:6000\n",
      "Fail\n",
      "Use 194.233.67.98:443\n",
      "Fail\n",
      "Use 190.145.200.126:53281\n",
      "Fail\n",
      "Use 212.175.55.46:53281\n",
      "Fail\n",
      "Use 140.227.71.95:6000\n",
      "Fail\n",
      "Use 124.121.112.128:8213\n",
      "Fail\n",
      "Use 91.89.89.8:8080\n",
      "Fail\n",
      "Use 103.148.79.107:8080\n",
      "Fail\n",
      "Use 89.24.76.185:32842\n",
      "Fail\n",
      "Use 200.116.198.180:32605\n",
      "Fail\n",
      "Use 91.216.66.70:32306\n",
      "Fail\n",
      "Use 80.106.247.145:53410\n",
      "Fail\n",
      "Use 177.87.174.21:53281\n",
      "Fail\n",
      "Use 114.7.27.98:8080\n",
      "Fail\n",
      "Use 111.118.135.132:56627\n",
      "Fail\n",
      "Use 191.100.20.14:8080\n",
      "Fail\n",
      "Use 37.49.127.229:8080\n",
      "Fail\n",
      "Use 89.111.105.91:41258\n",
      "Fail\n",
      "Use 81.95.131.10:44292\n",
      "Fail\n",
      "Use 223.255.133.34:8080\n",
      "Fail\n",
      "Use 190.95.214.185:8080\n",
      "Fail\n",
      "Use 27.116.51.186:6666\n",
      "Fail\n",
      "Use 192.109.165.143:80\n",
      "Fail\n",
      "Use 192.158.15.201:60684\n",
      "Fail\n",
      "Use 178.217.172.206:55443\n",
      "Fail\n",
      "Use 202.212.123.44:80\n",
      "Fail\n",
      "[]\n"
     ]
    }
   ],
   "source": [
    "# 將免費的代理伺服器，發送至 http://ip.filefab.com/index.php 找出可用的代理伺服器\n",
    "\n",
    "available_proxies = []\n",
    "\n",
    "for i in range(100):\n",
    "    ip = proxy_ips[i]\n",
    "    print('Use', ip)\n",
    "    try:\n",
    "        resp = requests.get('http://ip.filefab.com/index.php',\n",
    "                        proxies={'http': ip, 'https': ip}, timeout=10)\n",
    "        soup = BeautifulSoup(resp.text, 'html5lib')\n",
    "        print(soup.find('h1', id='ipd').text.strip())\n",
    "        available_proxies.append(ip)\n",
    "        if len(available_proxies) > 5:\n",
    "            break\n",
    "    except:\n",
    "        print('Fail')\n",
    "    \n",
    "print(available_proxies)"
   ]
  },
  {
   "cell_type": "code",
   "execution_count": 40,
   "metadata": {},
   "outputs": [],
   "source": [
    "# 將前面找出的可用代理伺服器，再發送至 https://httpbin.org/ip 查看是否代理（偷換 IP）成功\n",
    "\n",
    "for ip in available_proxies:\n",
    "    print('Use', ip)\n",
    "    try:\n",
    "        resp = requests.get('https://httpbin.org/ip',\n",
    "                        proxies={'http': ip, 'https': ip}, timeout=10)\n",
    "        print(resp.json())\n",
    "    except:\n",
    "        print('Fail')"
   ]
  },
  {
   "cell_type": "code",
   "execution_count": null,
   "metadata": {},
   "outputs": [],
   "source": []
  }
 ],
 "metadata": {
  "colab": {
   "name": "homework.solution.ipynb",
   "provenance": []
  },
  "kernelspec": {
   "display_name": "Python 3",
   "language": "python",
   "name": "python3"
  },
  "language_info": {
   "codemirror_mode": {
    "name": "ipython",
    "version": 3
   },
   "file_extension": ".py",
   "mimetype": "text/x-python",
   "name": "python",
   "nbconvert_exporter": "python",
   "pygments_lexer": "ipython3",
   "version": "3.8.3"
  }
 },
 "nbformat": 4,
 "nbformat_minor": 4
}
