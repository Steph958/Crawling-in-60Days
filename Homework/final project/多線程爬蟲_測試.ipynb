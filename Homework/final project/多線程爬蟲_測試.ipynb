{
 "cells": [
  {
   "cell_type": "markdown",
   "metadata": {},
   "source": [
    "# 1._thread.start_new_thread"
   ]
  },
  {
   "cell_type": "code",
   "execution_count": 1,
   "metadata": {},
   "outputs": [
    {
     "data": {
      "text/html": [
       "<div>\n",
       "<style scoped>\n",
       "    .dataframe tbody tr th:only-of-type {\n",
       "        vertical-align: middle;\n",
       "    }\n",
       "\n",
       "    .dataframe tbody tr th {\n",
       "        vertical-align: top;\n",
       "    }\n",
       "\n",
       "    .dataframe thead th {\n",
       "        text-align: right;\n",
       "    }\n",
       "</style>\n",
       "<table border=\"1\" class=\"dataframe\">\n",
       "  <thead>\n",
       "    <tr style=\"text-align: right;\">\n",
       "      <th></th>\n",
       "      <th>title</th>\n",
       "      <th>url</th>\n",
       "      <th>origin</th>\n",
       "    </tr>\n",
       "  </thead>\n",
       "  <tbody>\n",
       "    <tr>\n",
       "      <th>0</th>\n",
       "      <td>想開咖啡廳，不是只要沖咖啡而已！專家曝8大開店地雷，經營美店絕對比你想的還要累-風傳媒</td>\n",
       "      <td>https://www.storm.mg/lifestyle/3689600?page=1</td>\n",
       "      <td>https://www.storm.mg</td>\n",
       "    </tr>\n",
       "    <tr>\n",
       "      <th>1</th>\n",
       "      <td>指揮中心公佈配戴口罩放寬規定，爬山、海邊活動可不用戴口罩 | T客邦</td>\n",
       "      <td>https://www.techbang.com/posts/90420-the-comma...</td>\n",
       "      <td>https://www.techbang.com</td>\n",
       "    </tr>\n",
       "    <tr>\n",
       "      <th>2</th>\n",
       "      <td>中國東北限電限到只有 2G 訊號，紅綠燈罷工、行動支付不能用連買飯都困難 | T客邦</td>\n",
       "      <td>https://www.techbang.com/posts/90380-there-are...</td>\n",
       "      <td>https://www.techbang.com</td>\n",
       "    </tr>\n",
       "    <tr>\n",
       "      <th>3</th>\n",
       "      <td>NETSCOUT威脅情報報告：DDoS攻擊達540萬次較去年同期增11% | T客邦</td>\n",
       "      <td>https://www.techbang.com/posts/90274-netscout-...</td>\n",
       "      <td>https://www.techbang.com</td>\n",
       "    </tr>\n",
       "    <tr>\n",
       "      <th>4</th>\n",
       "      <td>休旅車華麗變身「音樂戰車」，紐約街頭「惡名昭彰」的多明尼加汽車音響文化 - The News...</td>\n",
       "      <td>https://www.thenewslens.com/article/157149</td>\n",
       "      <td>https://www.thenewslens.com</td>\n",
       "    </tr>\n",
       "  </tbody>\n",
       "</table>\n",
       "</div>"
      ],
      "text/plain": [
       "                                               title  \\\n",
       "0        想開咖啡廳，不是只要沖咖啡而已！專家曝8大開店地雷，經營美店絕對比你想的還要累-風傳媒   \n",
       "1                 指揮中心公佈配戴口罩放寬規定，爬山、海邊活動可不用戴口罩 | T客邦   \n",
       "2         中國東北限電限到只有 2G 訊號，紅綠燈罷工、行動支付不能用連買飯都困難 | T客邦   \n",
       "3         NETSCOUT威脅情報報告：DDoS攻擊達540萬次較去年同期增11% | T客邦   \n",
       "4  休旅車華麗變身「音樂戰車」，紐約街頭「惡名昭彰」的多明尼加汽車音響文化 - The News...   \n",
       "\n",
       "                                                 url  \\\n",
       "0      https://www.storm.mg/lifestyle/3689600?page=1   \n",
       "1  https://www.techbang.com/posts/90420-the-comma...   \n",
       "2  https://www.techbang.com/posts/90380-there-are...   \n",
       "3  https://www.techbang.com/posts/90274-netscout-...   \n",
       "4         https://www.thenewslens.com/article/157149   \n",
       "\n",
       "                        origin  \n",
       "0         https://www.storm.mg  \n",
       "1     https://www.techbang.com  \n",
       "2     https://www.techbang.com  \n",
       "3     https://www.techbang.com  \n",
       "4  https://www.thenewslens.com  "
      ]
     },
     "execution_count": 1,
     "metadata": {},
     "output_type": "execute_result"
    }
   ],
   "source": [
    "# 讀取 csv\n",
    "import pandas as pd\n",
    "\n",
    "news_info = pd.read_csv('news_info.csv')\n",
    "news_info.head()"
   ]
  },
  {
   "cell_type": "code",
   "execution_count": 36,
   "metadata": {},
   "outputs": [
    {
     "name": "stdout",
     "output_type": "stream",
     "text": [
      "500\n"
     ]
    }
   ],
   "source": [
    "news_url = list(news_info['url'].values)\n",
    "print(len(news_url))"
   ]
  },
  {
   "cell_type": "code",
   "execution_count": 3,
   "metadata": {},
   "outputs": [
    {
     "name": "stdout",
     "output_type": "stream",
     "text": [
      "0 50 \n",
      "\n",
      "50 100 \n",
      "\n",
      "100 150 \n",
      "\n",
      "150 200 \n",
      "\n",
      "200 250 \n",
      "\n",
      "250 300 \n",
      "\n",
      "300 350 \n",
      "\n",
      "350 400 \n",
      "\n",
      "400 450 \n",
      "\n",
      "450 500 \n",
      "\n"
     ]
    }
   ],
   "source": [
    "N=500\n",
    "n_thread=10\n",
    "\n",
    "for num in range(10):\n",
    "    start = int(N/n_thread)*num                     # 設定此項 job 所負責的起始和終點序號              \n",
    "    end = int(N/n_thread)*(num+1)\n",
    "    print(start, end, '\\n')"
   ]
  },
  {
   "cell_type": "code",
   "execution_count": 37,
   "metadata": {},
   "outputs": [],
   "source": [
    "import requests\n",
    "from bs4 import BeautifulSoup\n",
    "import re"
   ]
  },
  {
   "cell_type": "code",
   "execution_count": 38,
   "metadata": {},
   "outputs": [],
   "source": [
    "outcome=[]"
   ]
  },
  {
   "cell_type": "code",
   "execution_count": 40,
   "metadata": {},
   "outputs": [],
   "source": [
    "#封裝成函式\n",
    "\n",
    "def job(news_url, start, end):\n",
    "\n",
    "    headers={'user-agent':'Mozilla/5.0 (Windows NT 10.0; Win64; x64) AppleWebKit/537.36 (KHTML, like Gecko) Chrome/94.0.4606.61 Safari/537.36 Edg/94.0.992.37'}\n",
    "\n",
    "    multi_content=[]\n",
    "\n",
    "    for i in news_url[start:end]:\n",
    "    \n",
    "        single_content='' #存每個url讀取到的最終結果\n",
    "    \n",
    "        response = requests.get(i, headers=headers)  \n",
    "        response.encoding='utf-8'\n",
    "        soup = BeautifulSoup(response.text, 'html.parser')\n",
    "        \n",
    "        paragraphs = []     #第一手爬到的資料\n",
    "            \n",
    "        if soup.find('p'):                                         # 新聞內文有些在 section 標籤，有些在 p 標籤\n",
    "            paragraphs.append(soup.find_all('p'))                 \n",
    "                                                                             \n",
    "        if soup.find('section'):\n",
    "            paragraphs.append(soup.find_all('section'))\n",
    "\n",
    "        for pars in paragraphs:                                    \n",
    "            for par in pars:\n",
    "                text = re.sub('[\\W]+', ' ', par.text)                   # 找出特殊字元 (\\n,\\t,...等) 替換成空白      \n",
    "                single_content += text\n",
    "            \n",
    "        multi_content.append(single_content)\n",
    "        \n",
    "    outcome.append(multi_content)"
   ]
  },
  {
   "cell_type": "code",
   "execution_count": 41,
   "metadata": {},
   "outputs": [
    {
     "name": "stdout",
     "output_type": "stream",
     "text": [
      "1\n"
     ]
    }
   ],
   "source": [
    "job(news_url, 0, 5)\n",
    "\n",
    "print(len(outcome))"
   ]
  },
  {
   "cell_type": "code",
   "execution_count": 42,
   "metadata": {},
   "outputs": [
    {
     "name": "stdout",
     "output_type": "stream",
     "text": [
      "Finish the 0 of 10 jobs.\n",
      "Finish the 1 of 10 jobs.\n",
      "Finish the 2 of 10 jobs.\n",
      "Finish the 3 of 10 jobs.\n",
      "Finish the 4 of 10 jobs.\n",
      "Finish the 5 of 10 jobs.\n",
      "Finish the 6 of 10 jobs.\n",
      "Finish the 7 of 10 jobs.\n",
      "Finish the 8 of 10 jobs.\n",
      "Finish the 9 of 10 jobs.\n",
      "=====================================================================================================\n",
      "Done!\n",
      "total_time: 1633400954.253185 s\n"
     ]
    }
   ],
   "source": [
    "import _thread\n",
    "import time\n",
    "\n",
    "start=time.time()\n",
    "\n",
    "for num in range(10):\n",
    "    start = int(N/n_thread)*num                     # 設定此項 job 所負責的起始和終點序號              \n",
    "    end = int(N/n_thread)*(num+1)\n",
    "    _thread.start_new_thread(job, (news_url,start,end ) )\n",
    "    print('Finish the', num, 'of 10 jobs.')\n",
    "        \n",
    "done=time.time()\n",
    "print('=====================================================================================================')\n",
    "print('Done!')\n",
    "print('total_time:',done-start,'s')"
   ]
  },
  {
   "cell_type": "code",
   "execution_count": 43,
   "metadata": {},
   "outputs": [
    {
     "name": "stdout",
     "output_type": "stream",
     "text": [
      "1\n"
     ]
    }
   ],
   "source": [
    "print(len(outcome))"
   ]
  },
  {
   "cell_type": "markdown",
   "metadata": {},
   "source": [
    "# 2.threading.Thread"
   ]
  },
  {
   "cell_type": "code",
   "execution_count": null,
   "metadata": {},
   "outputs": [],
   "source": [
    "import threading\n",
    "import time\n",
    "\n",
    "# 子執行緒的工作函數\n",
    "def job(num):\n",
    "    print(\"Thread\", num)\n",
    "    time.sleep(1)\n",
    "\n",
    "# 建立 5 個子執行緒\n",
    "threads = []\n",
    "for i in range(5):\n",
    "    threads.append(threading.Thread(target = job, args = (i,)))\n",
    "    threads[i].start()\n",
    "\n",
    "# 主執行緒繼續執行自己的工作\n",
    "print('Just try it, you genius!')\n",
    "\n",
    "# 等待所有子執行緒結束\n",
    "for i in range(5):\n",
    "    threads[i].join()\n",
    "\n",
    "print(\"Done.\")"
   ]
  },
  {
   "cell_type": "code",
   "execution_count": null,
   "metadata": {},
   "outputs": [],
   "source": []
  },
  {
   "cell_type": "markdown",
   "metadata": {},
   "source": [
    "# reference:\n",
    "\n",
    "python 實現多線程的三種方法總結: https://walkonnet.com/archives/53877\n",
    "\n",
    "Python 多執行緒 threading 模組平行化程式設計教學: https://blog.gtwang.org/programming/python-threading-multithreaded-programming-tutorial/\n",
    "\n",
    "https://github.com/brianooo/PyCrawlerMarathon/blob/master/homework/Day038_Final_project.ipynb\n",
    "\n",
    "Python Requests 台灣人版 實戰指南: https://water-1.gitbook.io/requests/an-li-pchome24h-pa-chong-sou-suo-gong-neng-duo-ye-sou-suo/an-li-pchome24h-pa-chong-sou-suo-gong-neng-duo-xian-cheng-pa-chong\n"
   ]
  },
  {
   "cell_type": "code",
   "execution_count": null,
   "metadata": {},
   "outputs": [],
   "source": []
  },
  {
   "cell_type": "code",
   "execution_count": null,
   "metadata": {},
   "outputs": [],
   "source": []
  }
 ],
 "metadata": {
  "kernelspec": {
   "display_name": "Python 3",
   "language": "python",
   "name": "python3"
  },
  "language_info": {
   "codemirror_mode": {
    "name": "ipython",
    "version": 3
   },
   "file_extension": ".py",
   "mimetype": "text/x-python",
   "name": "python",
   "nbconvert_exporter": "python",
   "pygments_lexer": "ipython3",
   "version": "3.8.3"
  }
 },
 "nbformat": 4,
 "nbformat_minor": 4
}
