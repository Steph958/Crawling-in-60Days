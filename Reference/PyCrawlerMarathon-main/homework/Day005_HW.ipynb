{
 "cells": [
  {
   "cell_type": "markdown",
   "metadata": {},
   "source": [
    "# API 資料串接 - 以 Dcard API 實作範例\n",
    "\n",
    "* 了解 Dcard API 使用方式與回傳內容\n",
    "* 撰寫程式存取 API 且解析 JSON 格式資料\n"
   ]
  },
  {
   "cell_type": "markdown",
   "metadata": {},
   "source": [
    "## 作業目標\n",
    "\n",
    "* 請利用 API: https://www.dcard.tw/_api/forums/pet/posts?popular=true 回答下列問題：\n",
    "\n",
    "1. 這個 API 一次會回傳幾筆資料？每一筆資料包含哪些欄位？\n",
    "2. 取出每一筆資料的「標題」、「貼文時間」、「留言人數」、「按讚人數」\n",
    "3. 計算熱門/非熱門文章的「平均留言人數」與「平均按讚人數」"
   ]
  },
  {
   "cell_type": "code",
   "execution_count": 1,
   "metadata": {},
   "outputs": [
    {
     "name": "stdout",
     "output_type": "stream",
     "text": [
      "這個API會回傳30筆資料\n",
      "------------------------------\n",
      "以下為每筆資料包含的欄位：\n",
      "id\n",
      "title\n",
      "excerpt\n",
      "anonymousSchool\n",
      "anonymousDepartment\n",
      "pinned\n",
      "forumId\n",
      "replyId\n",
      "createdAt\n",
      "updatedAt\n",
      "commentCount\n",
      "likeCount\n",
      "withNickname\n",
      "tags\n",
      "topics\n",
      "meta\n",
      "forumName\n",
      "forumAlias\n",
      "nsfw\n",
      "gender\n",
      "school\n",
      "department\n",
      "replyTitle\n",
      "mediaMeta\n",
      "reactions\n",
      "hidden\n",
      "customStyle\n",
      "isSuspiciousAccount\n",
      "isModerator\n",
      "layout\n",
      "spoilerAlert\n",
      "withImages\n",
      "withVideos\n",
      "media\n",
      "reportReasonText\n",
      "excerptComments\n",
      "postAvatar\n",
      "verifiedBadge\n",
      "memberType\n"
     ]
    }
   ],
   "source": [
    "# 1. 這個 API 一次會回傳幾筆資料？每一筆資料包含哪些欄位？\n",
    "\n",
    "import requests\n",
    "import json\n",
    "\n",
    "r = requests.get('https://www.dcard.tw/_api/forums/pet/posts?popular=true')\n",
    "response = r.text\n",
    "data = json.loads(response)\n",
    "print('這個API會回傳{}筆資料'.format(len(data)))\n",
    "print('-'*30)\n",
    "print('以下為每筆資料包含的欄位：')\n",
    "for i in data[0]:\n",
    "    print(i)"
   ]
  },
  {
   "cell_type": "code",
   "execution_count": 2,
   "metadata": {},
   "outputs": [
    {
     "data": {
      "text/plain": [
       "[['橘貓power永不讓你失望', '2021-03-30T03:26:25.380Z', 5, 223],\n",
       " ['這麼可愛的貓貓到底哪裡像猴子！', '2021-03-30T14:26:32.006Z', 16, 174],\n",
       " ['家人未經同意把11隻貓送走原主目前正在尋貓', '2021-03-30T15:11:01.474Z', 19, 147],\n",
       " ['我要睡哪？', '2021-03-30T04:20:01.539Z', 8, 113],\n",
       " ['我的貓用生命在開門Part2😼', '2021-03-31T05:01:44.561Z', 16, 95],\n",
       " ['差點把跳蚤咬當過敏', '2021-03-30T06:10:35.454Z', 17, 95],\n",
       " ['終於放過鍵盤，但還有滑鼠..', '2021-03-30T02:35:52.208Z', 12, 91],\n",
       " ['哪有寵物保姆平台這麼像交友軟體的啦！快被笑死了', '2021-03-30T07:32:51.450Z', 6, 85],\n",
       " ['白色的貓一定都是品種嗎？', '2021-03-30T01:19:33.693Z', 42, 70],\n",
       " ['我今天又把奴才氣到咪咪貓貓😠', '2021-03-30T09:50:03.119Z', 10, 63],\n",
       " ['想看大家可愛的橘貓', '2021-03-30T17:21:27.420Z', 23, 60],\n",
       " ['如何調適失去寵物的心情', '2021-03-30T11:19:48.551Z', 16, 54],\n",
       " ['天天帶著寵物出遊~~', '2021-03-30T12:46:51.908Z', 4, 39],\n",
       " ['竟然你們都霸佔我的枕頭', '2021-03-30T04:24:13.566Z', 1, 36],\n",
       " ['幫我家倉鼠畫上眉毛後', '2021-03-31T06:33:45.431Z', 4, 33],\n",
       " ['我家貓貓也是小三🤣雖然是公公', '2021-03-31T01:30:47.155Z', 1, 31],\n",
       " ['我的單眼妹😺', '2021-03-30T20:44:43.812Z', 6, 27],\n",
       " ['關於某星球的波浪澎罐瑕疵', '2021-03-30T15:23:19.131Z', 7, 27],\n",
       " ['棉花糖小公主', '2021-03-30T16:53:56.460Z', 4, 24],\n",
       " ['有關貓咪亂拉叭叭！！求助', '2021-03-30T11:32:53.439Z', 13, 22],\n",
       " ['🐈\\u200d⬛認養虎斑小乖乖一隻🐈成貓', '2021-03-31T03:11:28.488Z', 1, 20],\n",
       " ['終於達成人生目標：養狗🐶', '2021-03-30T05:46:16.713Z', 9, 20],\n",
       " ['養二胎了', '2021-03-31T02:26:38.689Z', 4, 19],\n",
       " ['小眾貓咪飼料評比', '2021-03-31T10:04:55.144Z', 4, 14],\n",
       " ['奴才以後再也不會被吼了（圖很多慎入）', '2021-03-31T08:49:52.724Z', 0, 14],\n",
       " ['每天都被他萌到', '2021-03-30T17:12:12.869Z', 0, 14],\n",
       " ['求推薦寵物外出包❗️', '2021-03-30T09:21:59.277Z', 15, 13],\n",
       " ['燈魚愛好者🙋\\u200d♂️', '2021-03-30T03:44:55.372Z', 11, 13],\n",
       " ['貓的報恩？主子總是抓生物來獻禮\\u3000醫揭都市傳說…別再腦補了', '2021-03-30T03:45:30.847Z', 6, 12],\n",
       " ['求認養：花蓮遠雄飯店發現8隻小奶狗', '2021-03-31T07:08:01.466Z', 5, 10]]"
      ]
     },
     "execution_count": 2,
     "metadata": {},
     "output_type": "execute_result"
    }
   ],
   "source": [
    "# 2. 取出每一筆資料的「標題」、「貼文時間」、「留言人數」、「按讚人數」\n",
    "D=[]\n",
    "for i in data:\n",
    "    L=[]\n",
    "    L.append(i['title'])\n",
    "    L.append(i['createdAt'])\n",
    "    L.append(i['commentCount'])\n",
    "    L.append(i['likeCount'])\n",
    "    D.append(L)\n",
    "D"
   ]
  },
  {
   "cell_type": "code",
   "execution_count": 3,
   "metadata": {},
   "outputs": [
    {
     "name": "stdout",
     "output_type": "stream",
     "text": [
      "熱門_平均留言人數 9.5\n",
      "熱門_平均按讚人數 55.266666666666666\n"
     ]
    }
   ],
   "source": [
    "# 3. 計算熱門/非熱門文章的「平均留言人數」與「平均按讚人數」\n",
    "\n",
    "#熱門\n",
    "com1=0\n",
    "like1=0\n",
    "for i in data:\n",
    "    com1+=i['commentCount']\n",
    "    like1+=i['likeCount']\n",
    "print('熱門_平均留言人數',com1/len(data))\n",
    "print('熱門_平均按讚人數',like1/len(data))\n",
    "    "
   ]
  },
  {
   "cell_type": "code",
   "execution_count": 4,
   "metadata": {},
   "outputs": [
    {
     "name": "stdout",
     "output_type": "stream",
     "text": [
      "非熱門_平均留言人數 2.966666666666667\n",
      "非熱門_平均按讚人數 14.466666666666667\n"
     ]
    }
   ],
   "source": [
    "#非熱門\n",
    "#URL->popular=false\n",
    "r1 = requests.get('https://www.dcard.tw/_api/forums/pet/posts?popular=false')\n",
    "response1 = r1.text\n",
    "data1 = json.loads(response1)\n",
    "\n",
    "com2=0\n",
    "like2=0\n",
    "for i in data1:\n",
    "    com2+=i['commentCount']\n",
    "    like2+=i['likeCount']\n",
    "print('非熱門_平均留言人數',com2/len(data1))\n",
    "print('非熱門_平均按讚人數',like2/len(data1))"
   ]
  },
  {
   "cell_type": "code",
   "execution_count": null,
   "metadata": {},
   "outputs": [],
   "source": []
  }
 ],
 "metadata": {
  "kernelspec": {
   "display_name": "Python 3",
   "language": "python",
   "name": "python3"
  },
  "language_info": {
   "codemirror_mode": {
    "name": "ipython",
    "version": 3
   },
   "file_extension": ".py",
   "mimetype": "text/x-python",
   "name": "python",
   "nbconvert_exporter": "python",
   "pygments_lexer": "ipython3",
   "version": "3.6.8"
  }
 },
 "nbformat": 4,
 "nbformat_minor": 2
}
