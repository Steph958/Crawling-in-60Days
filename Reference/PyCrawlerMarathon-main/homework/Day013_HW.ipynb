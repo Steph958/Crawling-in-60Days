{
 "cells": [
  {
   "cell_type": "markdown",
   "metadata": {},
   "source": [
    "# PTT 網路爬蟲實作練習\n",
    "\n",
    "\n",
    "* 能夠利用 Request + BeatifulSour 撰寫爬蟲，並存放到合適的資料結構\n"
   ]
  },
  {
   "cell_type": "markdown",
   "metadata": {},
   "source": [
    "## 作業目標\n",
    "\n",
    "根據範例 ，完成以下問題：\n",
    "\n",
    "* ① 印出最新文章的「作者」「標題」「時間」\n",
    "* ② 印出第一頁所有文章的「作者」「標題」「時間」\n"
   ]
  },
  {
   "cell_type": "markdown",
   "metadata": {},
   "source": [
    "### ① 印出最新文章的「作者」「標題」「時間」"
   ]
  },
  {
   "cell_type": "code",
   "execution_count": 1,
   "metadata": {},
   "outputs": [],
   "source": [
    "'''\n",
    "Your Code\n",
    "'''\n",
    "import requests\n",
    "from bs4 import BeautifulSoup\n",
    "\n",
    "url = 'https://www.ptt.cc/bbs/NBA/index.html'\n",
    "r = requests.get(url)\n",
    "\n",
    "soup = BeautifulSoup(r.text)\n",
    "#print(soup.prettify())       "
   ]
  },
  {
   "cell_type": "code",
   "execution_count": 2,
   "metadata": {},
   "outputs": [
    {
     "name": "stdout",
     "output_type": "stream",
     "text": [
      "[{'標題': 'Re: [討論] LeBron James 的帶隊能力是不是很糟糕？', '作者': 'ATXATX (....)', '時間': 'Thu Feb 25 17:42:50 2021'}, {'標題': '[花邊] 表弟之前不滿擔任Wood身後的替補中鋒，想', '作者': 'VeryGoodBoy (很棒的男孩)', '時間': 'Thu Feb 25 17:54:31 2021'}, {'標題': '[花邊] 詹姆斯談衛冕：每年都有各自的挑戰，我一', '作者': 'KyrieIrving1 (King of New York)', '時間': 'Thu Feb 25 17:55:05 2021'}, {'標題': 'Re: [花邊]Ingram：從未與我相同天賦的球員打過球', '作者': 'jungKK (Sadism)', '時間': 'Thu Feb 25 19:05:28 2021'}, {'標題': '[討論] Zion+IG已經是聯盟第三鋒線組合了吧?', '作者': 'k7202001 ()', '時間': 'Thu Feb 25 19:10:27 2021'}, {'標題': '[情報] SEASON Schedule 賽程 February 20–21', '作者': 'laptic (靜夜聖林彼岸花)', '時間': 'Fri Jan 29 20:30:58 2021'}]\n"
     ]
    }
   ],
   "source": [
    "P = []\n",
    "for d in soup.find_all(class_=\"r-ent\"):\n",
    "    try:\n",
    "        \n",
    "        post={}\n",
    "        r = BeautifulSoup(requests.get('https://www.ptt.cc{}'.format(d.find(class_='title').find('a')['href'])).text)\n",
    "        post['標題'] = r.find_all(class_='article-meta-value')[2].text.replace('\\t', '').replace('\\n', '')\n",
    "        post['作者'] = r.find(class_='article-meta-value').text\n",
    "        post['時間'] = r.find_all(class_='article-meta-value')[-1].text\n",
    "        \n",
    "        P.append(post)\n",
    "    except:\n",
    "        continue\n",
    "print(P)"
   ]
  },
  {
   "cell_type": "code",
   "execution_count": 3,
   "metadata": {},
   "outputs": [
    {
     "name": "stdout",
     "output_type": "stream",
     "text": [
      "Fri Jan 29 20:30:58 2021\n",
      "Thu Feb 25 17:42:50 2021\n",
      "Thu Feb 25 17:54:31 2021\n",
      "Thu Feb 25 17:55:05 2021\n",
      "Thu Feb 25 19:05:28 2021\n",
      "Thu Feb 25 19:10:27 2021\n",
      "------------------\n",
      "最新\n",
      "------------------\n",
      "標題： [討論] Zion+IG已經是聯盟第三鋒線組合了吧?\n",
      "作者： k7202001 ()\n",
      "時間： Thu Feb 25 19:10:27 2021\n"
     ]
    }
   ],
   "source": [
    "P = sorted(P, key=lambda k: k['時間']) \n",
    "for i in P:\n",
    "    print(i['時間'])\n",
    "print('------------------')\n",
    "print('最新')\n",
    "print('------------------')\n",
    "print('標題：',P[-1]['標題'])\n",
    "print('作者：',P[-1]['作者'])\n",
    "print('時間：',P[-1]['時間'])"
   ]
  },
  {
   "cell_type": "markdown",
   "metadata": {},
   "source": [
    "### ② 印出第一頁所有文章的「作者」「標題」「時間」"
   ]
  },
  {
   "cell_type": "code",
   "execution_count": 4,
   "metadata": {},
   "outputs": [
    {
     "name": "stdout",
     "output_type": "stream",
     "text": [
      "標題： Re: [討論] LeBron James 的帶隊能力是不是很糟糕？\n",
      "作者： ATXATX (....)\n",
      "時間： Thu Feb 25 17:42:50 2021\n",
      "\n",
      "\n",
      "標題： [花邊] 表弟之前不滿擔任Wood身後的替補中鋒，想\n",
      "作者： VeryGoodBoy (很棒的男孩)\n",
      "時間： Thu Feb 25 17:54:31 2021\n",
      "\n",
      "\n",
      "標題： [花邊] 詹姆斯談衛冕：每年都有各自的挑戰，我一\n",
      "作者： KyrieIrving1 (King of New York)\n",
      "時間： Thu Feb 25 17:55:05 2021\n",
      "\n",
      "\n",
      "標題： Re: [花邊]Ingram：從未與我相同天賦的球員打過球\n",
      "作者： jungKK (Sadism)\n",
      "時間： Thu Feb 25 19:05:28 2021\n",
      "\n",
      "\n",
      "標題： [討論] Zion+IG已經是聯盟第三鋒線組合了吧?\n",
      "作者： k7202001 ()\n",
      "時間： Thu Feb 25 19:10:27 2021\n",
      "\n",
      "\n",
      "標題： [情報] SEASON Schedule 賽程 February 20–21\n",
      "作者： laptic (靜夜聖林彼岸花)\n",
      "時間： Fri Jan 29 20:30:58 2021\n",
      "\n",
      "\n"
     ]
    }
   ],
   "source": [
    "'''\n",
    "Your Code\n",
    "'''\n",
    "for d in soup.find_all(class_=\"r-ent\"):\n",
    "   \n",
    "    try:\n",
    "       \n",
    "        r = BeautifulSoup(requests.get('https://www.ptt.cc{}'.format(d.find(class_='title').find('a')['href'])).text)\n",
    "        print('標題：',r.find_all(class_='article-meta-value')[2].text.replace('\\t', '').replace('\\n', ''))\n",
    "        print('作者：',r.find(class_='article-meta-value').text)\n",
    "        print('時間：',r.find_all(class_='article-meta-value')[-1].text)\n",
    "        \n",
    "    except:\n",
    "        continue\n",
    "    print('\\n')"
   ]
  },
  {
   "cell_type": "markdown",
   "metadata": {},
   "source": [
    "### ③ 試著爬爬看其他版的文章"
   ]
  },
  {
   "cell_type": "code",
   "execution_count": 5,
   "metadata": {},
   "outputs": [],
   "source": [
    "'''\n",
    "Your Code\n",
    "'''\n",
    "#PTT八卦版\n",
    "url2 = 'https://www.ptt.cc/bbs/Gossiping/index.html'\n",
    "#八卦版須加cookies\n",
    "r1 = requests.get(url2,cookies={'over18':'1'})\n",
    "soup1 = BeautifulSoup(r1.text)\n",
    "#print(soup1.prettify())"
   ]
  },
  {
   "cell_type": "code",
   "execution_count": 15,
   "metadata": {},
   "outputs": [
    {
     "name": "stdout",
     "output_type": "stream",
     "text": [
      "標題： [問卦] 全身刺青8+9竟然點草莓冰淇淋？\n",
      "作者： NTULioner (112延畢魯蛇廢物就是我)\n",
      "時間： Thu Feb 25 19:09:01 2021\n",
      "\n",
      "\n",
      "標題： [問卦] 不婚不生=宅，為什麼很多人要當宅?\n",
      "作者： CrazyKill (crazykill)\n",
      "時間： Thu Feb 25 19:11:30 2021\n",
      "\n",
      "\n",
      "標題： [新聞] 狠殺老闆還焚屍　錢莊3員工下場出爐　判\n",
      "作者： starken (再次驚蟄)\n",
      "時間： Thu Feb 25 19:14:56 2021\n",
      "\n",
      "\n",
      "標題： Re: [新聞] 一日北高挨轟 柯文哲反嗆:議員邏輯與智商\n",
      "作者： urban (經營職棒要有良心)\n",
      "時間： Thu Feb 25 19:15:38 2021\n",
      "\n",
      "\n",
      "標題： [問卦] 到職不到一星期就想離職該注意什麼蛤\n",
      "作者： james7890 (零用錢)\n",
      "時間： Thu Feb 25 19:17:26 2021\n",
      "\n",
      "\n",
      "標題： [問卦] 日本豬排丼要台幣105？？圖\n",
      "作者： Dumbbbb (ㄏㄏ)\n",
      "時間： Thu Feb 25 19:17:30 2021\n",
      "\n",
      "\n",
      "標題： [問卦] 平權團體是不是住海邊啊？\n",
      "作者： vigorhsieh ( )\n",
      "時間： Thu Feb 25 19:17:57 2021\n",
      "\n",
      "\n",
      "標題： [問卦] 有沒有智棋77終於回應愛莉莎莎的八卦\n",
      "作者： Wardyal (Wardyal)\n",
      "時間： Thu Feb 25 19:18:11 2021\n",
      "\n",
      "\n",
      "標題： [問卦] 這隻空銀子夠婆嗎，要不要買？？？\n",
      "作者： miss80423 (自宅警備員)\n",
      "時間： Thu Feb 25 19:18:14 2021\n",
      "\n",
      "\n",
      "標題： Re: [問卦] 窮人如何快速致富?\n",
      "作者： xox5678 (幼幼班)\n",
      "時間： Thu Feb 25 19:19:08 2021\n",
      "\n",
      "\n",
      "標題： [問卦] 海軍的學長學弟制會很重嗎\n",
      "作者： patagonia (刺激1995)\n",
      "時間： Thu Feb 25 19:19:09 2021\n",
      "\n",
      "\n",
      "標題： [新聞] 還原謝和弦崩潰始末！　未婚妻痛揭內幕\n",
      "作者： fur (英國研究真有趣)\n",
      "時間： Thu Feb 25 19:19:43 2021\n",
      "\n",
      "\n",
      "標題： [問卦] 為什麼很多手遊不直接移植電腦遊戲？\n",
      "作者： s3122762120 (栗悟飯とカメハメ波)\n",
      "時間： Thu Feb 25 19:20:12 2021\n",
      "\n",
      "\n",
      "標題： Re: [新聞] 吳宗憲不甘受辱告館長求償200萬 飆罵：你\n",
      "作者： z753951zxc (這是ID)\n",
      "時間： Thu Feb 25 19:19:57 2021\n",
      "\n",
      "\n",
      "標題： [問卦] 社會上真的有不討厭的人嗎?\n",
      "作者： Silent (夢想)\n",
      "時間： Thu Feb 25 19:21:15 2021\n",
      "\n",
      "\n",
      "標題： [問卦] 卡牌彎了怎麼辦\n",
      "作者： a741085 (向前一鏢)\n",
      "時間： Thu Feb 25 19:21:22 2021\n",
      "\n",
      "\n",
      "標題： Re: [問卦] 台灣年薪百萬等於其他國家年薪多少啊?\n",
      "作者： greenblue (綠藍)\n",
      "時間： Thu Feb 25 19:21:47 2021\n",
      "\n",
      "\n",
      "標題： [問卦] 半導體廠電不夠為啥不蓋電廠呢?\n",
      "作者： andrewkuo ()\n",
      "時間： Thu Feb 25 19:22:49 2021\n",
      "\n",
      "\n",
      "標題： [公告] 八卦板板規(2020.11.21)\n",
      "作者： arsonlolita (蘿莉都布羅利)\n",
      "時間： Sat Nov 21 23:11:42 2020\n",
      "\n",
      "\n",
      "標題： [協尋] 2/14早上九點到10點鳳山鳳林路車禍影像\n",
      "作者： mo0219 (哇細阿誠)\n",
      "時間： Sun Feb 14 23:39:00 2021\n",
      "\n",
      "\n",
      "標題： [協尋] 2/19 國道3號新竹89公里車禍影像\n",
      "作者： yiwin23 (louisabeauty)\n",
      "時間： Sat Feb 20 18:27:33 2021\n",
      "\n",
      "\n",
      "標題： [公告] 歌唱大賽置底投票 本篇推文投票\n",
      "作者： arsonlolita (蘿莉塔大魔王)\n",
      "時間： Mon Feb 22 13:55:02 2021\n",
      "\n",
      "\n",
      "標題： [協尋] 02/15/08:00~10:00首都客運-電子耳遺失\n",
      "作者： alittlekoa (卍Oo櫻民威武ㄉ喵太oO卍)\n",
      "時間： Tue Feb 16 11:56:52 2021\n",
      "\n",
      "\n"
     ]
    }
   ],
   "source": [
    "#第二次requests還要再加一次cookies\n",
    "P1=[]\n",
    "for d in soup1.find_all(class_=\"r-ent\"):\n",
    "   \n",
    "    try:\n",
    "        post1={}\n",
    "        r1 = BeautifulSoup(requests.get('https://www.ptt.cc{}'.format(d.find('a')['href']),cookies={'over18':'1'}).text)\n",
    "        \n",
    "        post1['標題'] = r1.find_all(class_='article-meta-value')[2].text.replace('\\t', '').replace('\\n', '')\n",
    "        post1['作者'] = r1.find(class_='article-meta-value').text\n",
    "        post1['時間'] = r1.find_all(class_='article-meta-value')[-1].text\n",
    "        \n",
    "        P1.append(post1)\n",
    "        print('標題：',post1['標題'])\n",
    "        print('作者：',post1['作者'])\n",
    "        print('時間：',post1['時間'])\n",
    "        print('\\n')\n",
    "    \n",
    "    except:\n",
    "        continue"
   ]
  },
  {
   "cell_type": "code",
   "execution_count": 16,
   "metadata": {},
   "outputs": [],
   "source": [
    "import datetime \n",
    "#轉換時間格式\n",
    "for i in P1:\n",
    "    i['時間']= datetime.datetime.strptime(i['時間'], \"%a %b %d %H:%M:%S %Y\")\n",
    "    \n",
    "    #print(i['時間'])\n",
    "    \n",
    "#print('--------------------')\n",
    "#依時間排序\n",
    "P1 = sorted(P1, key=lambda x: x['時間']) \n",
    "#for i in P1:\n",
    "    #print(i['時間'])"
   ]
  },
  {
   "cell_type": "code",
   "execution_count": 17,
   "metadata": {},
   "outputs": [
    {
     "name": "stdout",
     "output_type": "stream",
     "text": [
      "標題： [問卦] 半導體廠電不夠為啥不蓋電廠呢?\n",
      "作者： andrewkuo ()\n",
      "時間： 2021-02-25 19:22:49\n"
     ]
    }
   ],
   "source": [
    "print('標題：',P1[-1]['標題'])\n",
    "print('作者：',P1[-1]['作者'])\n",
    "print('時間：',P1[-1]['時間'])"
   ]
  },
  {
   "cell_type": "code",
   "execution_count": null,
   "metadata": {},
   "outputs": [],
   "source": []
  }
 ],
 "metadata": {
  "kernelspec": {
   "display_name": "Python 3",
   "language": "python",
   "name": "python3"
  },
  "language_info": {
   "codemirror_mode": {
    "name": "ipython",
    "version": 3
   },
   "file_extension": ".py",
   "mimetype": "text/x-python",
   "name": "python",
   "nbconvert_exporter": "python",
   "pygments_lexer": "ipython3",
   "version": "3.6.8"
  }
 },
 "nbformat": 4,
 "nbformat_minor": 2
}
