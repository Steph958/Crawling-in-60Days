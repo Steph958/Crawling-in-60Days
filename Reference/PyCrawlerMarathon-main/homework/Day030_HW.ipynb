{
 "cells": [
  {
   "cell_type": "markdown",
   "metadata": {},
   "source": [
    "# 實務上的爬蟲與挑戰\n",
    "\n",
    "\n",
    "* 實務上爬蟲可能遇到的問題有哪些\n",
    "* 淺談常見防爬蟲機制與處理策略\n",
    "* 如何建構一個可以自動持續更新的爬蟲程式\n",
    "\n",
    "\n"
   ]
  },
  {
   "cell_type": "markdown",
   "metadata": {},
   "source": [
    "## 作業目標\n",
    "\n",
    "* （簡答題）試著舉出一到三個爬蟲可能會遇到的問題導致無法抓取的？\n"
   ]
  },
  {
   "cell_type": "markdown",
   "metadata": {},
   "source": [
    "### （簡答題）試著舉出一到三個爬蟲可能會遇到的問題導致無法抓取的？"
   ]
  },
  {
   "cell_type": "markdown",
   "metadata": {},
   "source": [
    " * 訪問頻率：爬取速度過快，或是爬取頁面較多時，都使用相同時間在每頁爬取，容易被server辨別是機器人。\n",
    "   \n",
    "   解決辦法：限制訪問頻率->隨機化每頁的訪問時間"
   ]
  },
  {
   "cell_type": "markdown",
   "metadata": {},
   "source": [
    " * 被判斷不是瀏覽器訪問。\n",
    "   解決辦法：header中至少提交user-agent"
   ]
  },
  {
   "cell_type": "markdown",
   "metadata": {},
   "source": [
    " * 蜜罐技術：網頁上會故意留下一些人類看不到或者絕對不會點選的連結。\n",
    "           由於爬蟲會從原始碼中獲取內容，所以爬蟲可能會訪問到這些連結。\n",
    "           只要網站發現了有IP訪問這個連結，立刻永久封禁該IP+User-Agent+Mac地址等等可以用於識別訪問者身份的所有資訊。\n",
    "           即便訪問者把IP換了，也沒有辦法訪問這個網站了。\n",
    "   解決辦法：定向爬蟲"
   ]
  },
  {
   "cell_type": "code",
   "execution_count": null,
   "metadata": {},
   "outputs": [],
   "source": []
  }
 ],
 "metadata": {
  "kernelspec": {
   "display_name": "Python 3",
   "language": "python",
   "name": "python3"
  },
  "language_info": {
   "codemirror_mode": {
    "name": "ipython",
    "version": 3
   },
   "file_extension": ".py",
   "mimetype": "text/x-python",
   "name": "python",
   "nbconvert_exporter": "python",
   "pygments_lexer": "ipython3",
   "version": "3.6.8"
  }
 },
 "nbformat": 4,
 "nbformat_minor": 2
}
