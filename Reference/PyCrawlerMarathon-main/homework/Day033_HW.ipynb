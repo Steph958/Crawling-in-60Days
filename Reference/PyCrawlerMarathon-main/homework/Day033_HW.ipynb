{
 "cells": [
  {
   "cell_type": "markdown",
   "metadata": {},
   "source": [
    "# 反爬：登入授權模擬\n",
    "\n",
    "* 了解「登入權限機制」的反爬蟲機制\n",
    "* 「登入權限機制」反爬蟲的因應策略"
   ]
  },
  {
   "cell_type": "markdown",
   "metadata": {},
   "source": [
    "## 作業目標\n",
    "\n",
    "* 找一個需要登入的網站試試看，並說明思考流程\n",
    "（如果不知道要用哪個網站的話，可以試試看 https://github.com/new 網址，未登入時會被導向登入頁）\n",
    "\n"
   ]
  },
  {
   "cell_type": "code",
   "execution_count": 1,
   "metadata": {},
   "outputs": [],
   "source": [
    "import requests\n",
    "from bs4 import BeautifulSoup"
   ]
  },
  {
   "cell_type": "markdown",
   "metadata": {},
   "source": [
    "# 於登入介面先取得token和cookies資訊\n",
    "* 由於無法在'https://github.com/login' 直接登入，因此先儲存原先的token和cookies"
   ]
  },
  {
   "cell_type": "code",
   "execution_count": 2,
   "metadata": {},
   "outputs": [
    {
     "name": "stdout",
     "output_type": "stream",
     "text": [
      "token： htbKt8wlFUU4YjBC4tTscX7zw9EQXkVaBPYRel7dK1ioWyu/7+HhIkui1RPfJSTewFOUT+LurWuJ2NY+7xV5sQ==\n"
     ]
    }
   ],
   "source": [
    "response_login = requests.get('https://github.com/login')\n",
    "soup = BeautifulSoup(response_login.text, 'lxml')\n",
    "token = soup.find('input', {'name':'authenticity_token'})['value']\n",
    "print('token：',token)"
   ]
  },
  {
   "cell_type": "code",
   "execution_count": 3,
   "metadata": {},
   "outputs": [],
   "source": [
    "#print(soup.prettify())"
   ]
  },
  {
   "cell_type": "code",
   "execution_count": 3,
   "metadata": {},
   "outputs": [
    {
     "name": "stdout",
     "output_type": "stream",
     "text": [
      "{'_octo': 'GH1.1.661938731.1615376113', 'logged_in': 'no', '_device_id': 'fe0df5b260bca46a31d51ec5cf7c90bf', '_gh_sess': 'RA5E8txe1WHD3TEoNfI%2FbipDGtt0Y%2Fi73RRDyniU%2B2rfuGRyMR0W%2F0PmAv3MCyUpyBpn%2FVvFBFd2pTpp3fjlvXe5MuZH9PRsXNY0k7amv5nAjZP3obVdOJofnLb8QXF0eB6xF6Oh8jf0Hh7rZgwpmL4ghrXoTvB0eLH%2BPGP4qJe4Nr5jFMju5szoKP2A4SCkZKHpH%2FG%2FQZhTquvtrWEXl9GvxoNai9XqvYNdeKLoK7Eo8gspq90Ac%2BFfDmizC4xArduJkRZQr86G5Hjubwpp2g%3D%3D--hIkWYoziLiTNfrCx--dNHN7Bv9kXVvv6e0%2Fkzc%2FA%3D%3D'}\n"
     ]
    }
   ],
   "source": [
    "cookies_login=response_login.cookies.get_dict()\n",
    "print(cookies_login)"
   ]
  },
  {
   "cell_type": "markdown",
   "metadata": {},
   "source": [
    "# 至Github重新輸入的介面\n",
    "* 發現輸入錯誤的帳密後將移至'https://github.com/session' 網頁，此網頁的headers將轉為post方法，且headers中多了Form Data。\n",
    "  可以將Form Data覺得必要的值丟至data中，像是本身正確的帳密和token以及cookies，而token與cookies用剛剛取的，如果token與cookies是用\n",
    "  session這個網頁的headers提供的，將無法登入。"
   ]
  },
  {
   "cell_type": "code",
   "execution_count": 5,
   "metadata": {},
   "outputs": [
    {
     "name": "stdout",
     "output_type": "stream",
     "text": [
      "{'logged_in': 'yes', '__Host-user_session_same_site': 'uU4V7fLxTSwdmuxr_X440kY8InxIljfdyeTuhCzzvngw8QV3', '_gh_sess': '5SJ17ZXfoC1obhlYV08i9c3pb8J0N4cbKHL8QPoM3JT09P8ZK9LgwU8eeYbo9DqUkRrfIt3jVlOyczBXdG3%2F%2BvW5hVx1it2qH65RUlrMsECHCdtuOr03EgHldhvJOGOgWqinfWM5CJRiQfBq1QYjhzgf%2FZ5NjS8dl6pTcJhvMHYmx18GN9ApVUAPGE8xv69XgXF8QWYuVHtbq7ikUZ4bJhhCG63nzE0QwBcU7O%2FydIegYEIK6D1%2BDXCNa1zd5DNYtGQ5G2mbHw%2FjSsjhnojvpVYIZ0lyOGwQnnFlaF7movueO3ms--7VESDtPtEZMheRsH--WiHa7ztENoZ16uIQLkjfrg%3D%3D', 'has_recent_activity': '1', 'user_session': 'uU4V7fLxTSwdmuxr_X440kY8InxIljfdyeTuhCzzvngw8QV3'}\n"
     ]
    }
   ],
   "source": [
    "D = {'commit':'Sign in',\n",
    "     'authenticity_token':token,\n",
    "     'login':#帳號#,\n",
    "     'password':#密碼#\n",
    "    }\n",
    "\n",
    "response_session = requests.post('https://github.com/session',\n",
    "                                data = D ,\n",
    "                                cookies = cookies_login\n",
    "                                )\n",
    "\n",
    "cookies_session = response_session.cookies.get_dict()\n",
    "print(cookies_session)"
   ]
  },
  {
   "cell_type": "markdown",
   "metadata": {},
   "source": [
    "# logged_in: yes (成功登入)\n",
    "* if用session網頁headers所提供的token和cookies，logged_in將為no"
   ]
  },
  {
   "cell_type": "code",
   "execution_count": 7,
   "metadata": {},
   "outputs": [],
   "source": [
    "response = requests.get('https://github.com/', cookies = cookies_session)\n",
    "soup = BeautifulSoup(response.text, 'lxml')\n",
    "#print(soup.prettif())"
   ]
  },
  {
   "cell_type": "code",
   "execution_count": 8,
   "metadata": {},
   "outputs": [
    {
     "name": "stdout",
     "output_type": "stream",
     "text": [
      "<img alt=\"@andywu85127\" class=\"avatar avatar-user\" height=\"20\" src=\"https://avatars.githubusercontent.com/u/78463626?s=40&amp;v=4\" width=\"20\"/>\n",
      "\n",
      "\n",
      "login_account: @andywu85127\n"
     ]
    }
   ],
   "source": [
    "print(soup.find_all('img')[-3])\n",
    "print('\\n')\n",
    "print('login_account:',soup.find_all('img')[-3]['alt'])"
   ]
  },
  {
   "cell_type": "code",
   "execution_count": null,
   "metadata": {},
   "outputs": [],
   "source": []
  }
 ],
 "metadata": {
  "kernelspec": {
   "display_name": "Python 3",
   "language": "python",
   "name": "python3"
  },
  "language_info": {
   "codemirror_mode": {
    "name": "ipython",
    "version": 3
   },
   "file_extension": ".py",
   "mimetype": "text/x-python",
   "name": "python",
   "nbconvert_exporter": "python",
   "pygments_lexer": "ipython3",
   "version": "3.6.8"
  }
 },
 "nbformat": 4,
 "nbformat_minor": 2
}
