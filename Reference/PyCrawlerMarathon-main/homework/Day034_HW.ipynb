{
 "cells": [
  {
   "cell_type": "markdown",
   "metadata": {
    "colab_type": "text",
    "id": "I8CoX4R7VoCd"
   },
   "source": [
    "# 反爬：代理伺服器/IP\n",
    "\n",
    "* 了解「IP 黑/白名單」的反爬蟲機制\n",
    "* 「IP 黑/白名單」反爬蟲的因應策略"
   ]
  },
  {
   "cell_type": "markdown",
   "metadata": {
    "colab_type": "text",
    "id": "n-3DZ_r5VoCe"
   },
   "source": [
    "## 作業目標\n",
    "\n",
    "* 目前程式中的 proxy_ips 是手動輸入的，請根據 https://free-proxy-list.net/ 寫一個可自動化抓取可用 Proxy 的 proxy_ips。\n",
    "\n",
    "\n"
   ]
  },
  {
   "cell_type": "code",
   "execution_count": 6,
   "metadata": {},
   "outputs": [],
   "source": [
    "from bs4 import BeautifulSoup\n",
    "import requests\n",
    "import random\n",
    "import time\n",
    "import re"
   ]
  },
  {
   "cell_type": "code",
   "execution_count": 2,
   "metadata": {
    "colab": {},
    "colab_type": "code",
    "id": "iny-9heBVoCf"
   },
   "outputs": [],
   "source": [
    "r = requests.get('https://free-proxy-list.net/')\n",
    "soup = BeautifulSoup(r.text,'lxml')\n",
    "#print(soup.prettify())"
   ]
  },
  {
   "cell_type": "code",
   "execution_count": 3,
   "metadata": {},
   "outputs": [
    {
     "name": "stdout",
     "output_type": "stream",
     "text": [
      "有300個ip\n",
      "['103.146.176.124:80', '81.182.185.208:8080', '160.238.227.153:30222', '103.78.252.97:8080', '175.111.181.26:56297', '43.248.24.157:51166', '103.57.70.231:39143', '51.75.147.41:3128', '189.113.217.35:49733', '35.246.19.118:3128']\n"
     ]
    }
   ],
   "source": [
    "proxy_list=[]\n",
    "t = soup.find_all('td')\n",
    "rex = re.compile('\\d{1,3}\\.\\d{1,3}\\.\\d{1,3}\\.\\d{1,3}')\n",
    "port=False\n",
    "#port的位置都在ip的下個位置\n",
    "for i in t:\n",
    "    if port==True:\n",
    "        proxy_list.append(IP+':'+i.text)\n",
    "        port=False\n",
    "    \n",
    "    if re.search(rex,i.text)!=None:\n",
    "        IP=re.search(rex,i.text).group()\n",
    "        #讀取的下一個為port選項\n",
    "        port=True\n",
    "\n",
    "#此網站總共有300個ip\n",
    "print('有{}個ip'.format(len(proxy_list)))\n",
    "print(proxy_list[0:10])"
   ]
  },
  {
   "cell_type": "code",
   "execution_count": 11,
   "metadata": {
    "colab": {},
    "colab_type": "code",
    "id": "75dIsHjiVoCi"
   },
   "outputs": [
    {
     "name": "stdout",
     "output_type": "stream",
     "text": [
      "Use 151.232.72.15:80\n",
      "Failed result:\n",
      " HTTPConnectionPool(host='151.232.72.15', port=80): Read timed out. (read timeout=10)\n",
      "wait for 9 seconds...\n",
      "\n",
      "Use 85.133.210.42:3128\n",
      "Your IP address: 85.133.210.42\n",
      "wait for 4 seconds...\n",
      "\n",
      "Use 101.109.255.18:50538\n",
      "Failed result:\n",
      " HTTPConnectionPool(host='101.109.255.18', port=50538): Max retries exceeded with url: http://ip.filefab.com/index.php (Caused by ConnectTimeoutError(<urllib3.connection.HTTPConnection object at 0x111ec4048>, 'Connection to 101.109.255.18 timed out. (connect timeout=10)'))\n",
      "wait for 7 seconds...\n",
      "\n",
      "Use 13.231.68.213:8081\n",
      "Your IP address: 13.231.68.213\n",
      "wait for 5 seconds...\n",
      "\n",
      "Use 37.152.176.47:8118\n",
      "Failed result:\n",
      " (\"Connection broken: ConnectionResetError(54, 'Connection reset by peer')\", ConnectionResetError(54, 'Connection reset by peer'))\n",
      "wait for 8 seconds...\n",
      "\n",
      "Use 46.175.70.69:44239\n",
      "Failed result:\n",
      " HTTPConnectionPool(host='46.175.70.69', port=44239): Max retries exceeded with url: http://ip.filefab.com/index.php (Caused by ConnectTimeoutError(<urllib3.connection.HTTPConnection object at 0x111edf390>, 'Connection to 46.175.70.69 timed out. (connect timeout=10)'))\n",
      "wait for 6 seconds...\n",
      "\n",
      "Use 136.233.215.140:80\n",
      "Your IP address: 136.232.53.166\n",
      "wait for 4 seconds...\n",
      "\n",
      "Use 183.89.184.86:8080\n",
      "Failed result:\n",
      " HTTPConnectionPool(host='183.89.184.86', port=8080): Read timed out. (read timeout=10)\n",
      "wait for 7 seconds...\n",
      "\n",
      "Use 103.113.197.11:8080\n",
      "Your IP address: 103.113.197.11\n",
      "wait for 7 seconds...\n",
      "\n",
      "Use 62.23.15.92:3128\n",
      "Failed result:\n",
      " HTTPConnectionPool(host='62.23.15.92', port=3128): Read timed out. (read timeout=10)\n",
      "----------------------------------------------------------------------------------------------------\n",
      "Done\n"
     ]
    }
   ],
   "source": [
    "for i in range(10):\n",
    "    ip = random.choice(proxy_list)\n",
    "    print('Use', ip)\n",
    "    try:\n",
    "        resp = requests.get('http://ip.filefab.com/index.php',\n",
    "                        proxies={'http': ip, 'https': ip}, timeout=10)\n",
    "        soup = BeautifulSoup(resp.text, 'lxml')\n",
    "        #if success print->Your IP address:~~~\n",
    "        print(soup.find('h1', id='ipd').text.strip())\n",
    "    except Exception as f:\n",
    "        print('Failed result:\\n',f)\n",
    "        pass\n",
    "    \n",
    "    n = random.choice(range(4,10))\n",
    "    if i==9:\n",
    "        print('-'*100)\n",
    "        print('Done')\n",
    "    else:\n",
    "        print('wait for {} seconds...'.format(n))\n",
    "        print()\n",
    "        time.sleep(n)"
   ]
  },
  {
   "cell_type": "code",
   "execution_count": null,
   "metadata": {},
   "outputs": [],
   "source": []
  }
 ],
 "metadata": {
  "colab": {
   "name": "homework.ipynb",
   "provenance": []
  },
  "kernelspec": {
   "display_name": "Python 3",
   "language": "python",
   "name": "python3"
  },
  "language_info": {
   "codemirror_mode": {
    "name": "ipython",
    "version": 3
   },
   "file_extension": ".py",
   "mimetype": "text/x-python",
   "name": "python",
   "nbconvert_exporter": "python",
   "pygments_lexer": "ipython3",
   "version": "3.6.8"
  }
 },
 "nbformat": 4,
 "nbformat_minor": 1
}
