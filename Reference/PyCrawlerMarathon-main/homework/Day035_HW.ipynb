{
 "cells": [
  {
   "cell_type": "markdown",
   "metadata": {},
   "source": [
    "# 加速：多線程爬蟲\n",
    "\n",
    "\n",
    "\n",
    "* 了解知乎 API 使用方式與回傳內容\n",
    "* 撰寫程式存取 API 且添加標頭"
   ]
  },
  {
   "cell_type": "markdown",
   "metadata": {},
   "source": [
    "## 作業目標\n",
    "\n",
    "* 找一個之前實作過的爬蟲改用多線程改寫，比較前後時間的差異。\n",
    "\n",
    "\n",
    "\n"
   ]
  },
  {
   "cell_type": "code",
   "execution_count": 2,
   "metadata": {},
   "outputs": [],
   "source": [
    "import requests\n",
    "from bs4 import BeautifulSoup\n",
    "import _thread\n",
    "import time"
   ]
  },
  {
   "cell_type": "markdown",
   "metadata": {},
   "source": [
    "# 爬PTT3頁中每個文章標題的連結網址之網頁"
   ]
  },
  {
   "cell_type": "code",
   "execution_count": 4,
   "metadata": {},
   "outputs": [
    {
     "name": "stdout",
     "output_type": "stream",
     "text": [
      "Page:1\n",
      "Page:2\n",
      "Page:3\n",
      "Done!\n",
      "total_time: 20.500139951705933\n"
     ]
    }
   ],
   "source": [
    "start=time.time()\n",
    "\n",
    "cookies = {'over18':'1'}\n",
    "url='https://www.ptt.cc/bbs/Gossiping/index.html'\n",
    "r = requests.get(url,cookies=cookies)\n",
    "soup = BeautifulSoup(r.text,'lxml')\n",
    "\n",
    "for n in range(3):\n",
    "    print(\"Page:{}\".format(n+1))\n",
    "    for i in soup.find('div',class_='btn-group btn-group-paging').find_all('a'):\n",
    "        if i.text=='‹ 上頁':\n",
    "            new_page=i['href']\n",
    "   \n",
    "    for i in soup.find_all('div',class_='title'):\n",
    "        if i.find('a')!=None:\n",
    "            t_page=i.find('a')['href']\n",
    "            url_page=url.replace('/bbs/Gossiping/index.html',t_page)\n",
    "            #print(url_page)\n",
    "\n",
    "            r1 = requests.get(url_page,cookies=cookies)\n",
    "    \n",
    "    url=url.replace('/bbs/Gossiping/index.html',new_page)\n",
    "    r = requests.get(url,cookies=cookies)\n",
    "    soup = BeautifulSoup(r.text,'lxml')\n",
    "\n",
    "done=time.time()\n",
    "print('Done!')\n",
    "print('total_time:',done-start)"
   ]
  },
  {
   "cell_type": "markdown",
   "metadata": {},
   "source": [
    "# 多線程->每個title使用_thread.start_new_thread"
   ]
  },
  {
   "cell_type": "code",
   "execution_count": 5,
   "metadata": {},
   "outputs": [
    {
     "name": "stdout",
     "output_type": "stream",
     "text": [
      "Page:1\n",
      "Page:2\n",
      "Page:3\n",
      "Done!\n",
      "total_time: 1.9096710681915283\n"
     ]
    }
   ],
   "source": [
    "start=time.time()\n",
    "cookies = {'over18':'1'}\n",
    "url='https://www.ptt.cc/bbs/Gossiping/index.html'\n",
    "r = requests.get(url,cookies=cookies)\n",
    "soup = BeautifulSoup(r.text,'lxml')\n",
    "\n",
    "for n in range(3):\n",
    "    print(\"Page:{}\".format(n+1))\n",
    "    for i in soup.find('div',class_='btn-group btn-group-paging').find_all('a'):\n",
    "        if i.text=='‹ 上頁':\n",
    "            new_page=i['href']\n",
    "    \n",
    "    \n",
    "\n",
    "    for i in soup.find_all('div',class_='title'):\n",
    "        if i.find('a')!=None:\n",
    "            t_page=i.find('a')['href']\n",
    "            url_page=url.replace('/bbs/Gossiping/index.html',t_page)\n",
    "            #print(url_page)\n",
    "            _thread.start_new_thread( requests.get, (url_page, ) )\n",
    "\n",
    "            \n",
    "\n",
    "           \n",
    "    \n",
    "    url=url.replace('/bbs/Gossiping/index.html',new_page)\n",
    "    r = requests.get(url,cookies=cookies)\n",
    "    soup = BeautifulSoup(r.text,'lxml')\n",
    "\n",
    "done=time.time()\n",
    "print('Done!')\n",
    "print('total_time:',done-start)"
   ]
  },
  {
   "cell_type": "markdown",
   "metadata": {},
   "source": [
    "# 非多線程：20.5(s);多線程：1.91(s)"
   ]
  },
  {
   "cell_type": "code",
   "execution_count": null,
   "metadata": {},
   "outputs": [],
   "source": []
  }
 ],
 "metadata": {
  "colab": {
   "name": "homework.ipynb",
   "provenance": []
  },
  "kernelspec": {
   "display_name": "Python 3",
   "language": "python",
   "name": "python3"
  },
  "language_info": {
   "codemirror_mode": {
    "name": "ipython",
    "version": 3
   },
   "file_extension": ".py",
   "mimetype": "text/x-python",
   "name": "python",
   "nbconvert_exporter": "python",
   "pygments_lexer": "ipython3",
   "version": "3.6.8"
  }
 },
 "nbformat": 4,
 "nbformat_minor": 1
}
