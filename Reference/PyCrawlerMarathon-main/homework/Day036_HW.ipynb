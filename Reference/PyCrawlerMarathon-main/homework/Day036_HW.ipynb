{
 "cells": [
  {
   "cell_type": "markdown",
   "metadata": {},
   "source": [
    "# 加速：非同步爬蟲\n",
    "\n",
    "* 了解非同步爬蟲加速原理與實作"
   ]
  },
  {
   "cell_type": "markdown",
   "metadata": {},
   "source": [
    "## 作業目標\n",
    "\n",
    "* 比較一下非同步爬蟲跟多線程爬蟲的差異是什麼？各自的優缺點為何？"
   ]
  },
  {
   "cell_type": "markdown",
   "metadata": {},
   "source": [
    "# 非同步"
   ]
  },
  {
   "cell_type": "code",
   "execution_count": 1,
   "metadata": {},
   "outputs": [],
   "source": [
    "URL = 'https://morvanzhou.github.io/'"
   ]
  },
  {
   "cell_type": "code",
   "execution_count": 4,
   "metadata": {
    "scrolled": true
   },
   "outputs": [
    {
     "name": "stdout",
     "output_type": "stream",
     "text": [
      "['https://morvanzhou.github.io/', 'https://morvanzhou.github.io/']\n",
      "Async total time: 0.39005208015441895\n"
     ]
    }
   ],
   "source": [
    "import aiohttp, asyncio\n",
    "import nest_asyncio\n",
    "import time\n",
    "nest_asyncio.apply()\n",
    "\n",
    "\n",
    "async def job(session):\n",
    "    response = await session.get(URL)                               #等待並切換\n",
    "    return str(response.url)\n",
    "\n",
    "async def main(loop):\n",
    "    async with aiohttp.ClientSession() as session:                  #官網推薦建立Session的形式,也可以直接用request\n",
    "        tasks = [loop.create_task(job(session)) for _ in range(2)]\n",
    "        finished, unfinished = await asyncio.wait(tasks)            #收集完成的結果,會返回完成的和沒完成的,等全部都完成了才返回\n",
    "        all_results = [r.result() for r in finished]                #獲取所有結果\n",
    "        print(all_results)\n",
    "\n",
    "t1 = time.time()\n",
    "loop = asyncio.get_event_loop()\n",
    "loop.run_until_complete(main(loop))\n",
    "#loop.close()\n",
    "print(\"Async total time:\", time.time() - t1)"
   ]
  },
  {
   "cell_type": "markdown",
   "metadata": {},
   "source": [
    "# 多線程"
   ]
  },
  {
   "cell_type": "code",
   "execution_count": 6,
   "metadata": {},
   "outputs": [
    {
     "name": "stderr",
     "output_type": "stream",
     "text": [
      "Unclosed connection\n",
      "client_connection: Connection<ConnectionKey(host='morvanzhou.github.io', port=443, is_ssl=True, ssl=None, proxy=None, proxy_auth=None, proxy_headers_hash=None)>\n"
     ]
    },
    {
     "name": "stdout",
     "output_type": "stream",
     "text": [
      "https://morvanzhou.github.io/\n",
      "https://morvanzhou.github.io/\n",
      "0.0006830692291259766\n"
     ]
    }
   ],
   "source": [
    "import requests\n",
    "import _thread\n",
    "\n",
    "startTime = time.time()\n",
    "\n",
    "for i in range(2):\n",
    "    _thread.start_new_thread( requests.get, (URL, ) )\n",
    "    print(URL)\n",
    "\n",
    "finishTime = time.time()\n",
    "print(finishTime - startTime)"
   ]
  },
  {
   "cell_type": "markdown",
   "metadata": {},
   "source": [
    "* 非同步是利用程式等待回應的時間，使用CPU處理額外步驟，是單線程，較不會出現額外等待時間。\n",
    "* 多線程為平行運算，假如其中一線執行完，需要在等待其他線的完成，因此還是有額外等待的時間。\n",
    "* 非同步使用CPU額外處裡較能利用額外的等待時間，但是多線程的平行處理會比較快，兩個合併使用為最佳。\n",
    "* 多線程的缺點是會帶給系統上下文的切換造成額外負擔，執行多線程也會使共享變數出現鎖死的情況。"
   ]
  },
  {
   "cell_type": "code",
   "execution_count": null,
   "metadata": {},
   "outputs": [],
   "source": []
  }
 ],
 "metadata": {
  "colab": {
   "name": "homework.ipynb",
   "provenance": []
  },
  "kernelspec": {
   "display_name": "Python 3",
   "language": "python",
   "name": "python3"
  },
  "language_info": {
   "codemirror_mode": {
    "name": "ipython",
    "version": 3
   },
   "file_extension": ".py",
   "mimetype": "text/x-python",
   "name": "python",
   "nbconvert_exporter": "python",
   "pygments_lexer": "ipython3",
   "version": "3.6.8"
  }
 },
 "nbformat": 4,
 "nbformat_minor": 1
}
