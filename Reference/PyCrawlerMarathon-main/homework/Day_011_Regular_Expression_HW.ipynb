{
 "cells": [
  {
   "cell_type": "markdown",
   "metadata": {},
   "source": [
    "# 正規表達式練習\n",
    "## 在網路爬蟲當中，正規表達式常常用來過濾以及搜尋特定的pattern字串。\n",
    "## 今天要來練習過濾IP address，以及URL。"
   ]
  },
  {
   "cell_type": "code",
   "execution_count": 2,
   "metadata": {},
   "outputs": [],
   "source": [
    "import re  #載入re模組"
   ]
  },
  {
   "cell_type": "code",
   "execution_count": 3,
   "metadata": {},
   "outputs": [],
   "source": [
    "# 定義一個函數，用來測試是否能匹配正規表達式\n",
    "def RegexMatchingTest(regex, input_text):\n",
    "    #將正規表達式轉換成pattern\n",
    "    pattern = re.compile(regex)\n",
    "    \n",
    "    # 使轉換後的pattern，來測試是否匹配\n",
    "    result = re.search(pattern, input_text)\n",
    "\n",
    "    if result:\n",
    "        # 匹配完的結果會儲存在group()的屬性中，我們可以把匹配的結果列印出來\n",
    "        print(\"Matched: %s\" % (result.group()))\n",
    "        \n",
    "        if result.lastindex is not None:\n",
    "            # group(0)代表整個字串，group(1)、group(2)...代表分組中，匹配的內容\n",
    "            for i in range(0, result.lastindex+1):\n",
    "                print(\"  group(%d): %s\" % (i, result.group(i)))\n",
    "    else:\n",
    "        print(\"Not matched.\")"
   ]
  },
  {
   "cell_type": "markdown",
   "metadata": {},
   "source": [
    "## 用正規表達式過濾IP address。\n",
    "#### 一個合法的網路IP address，其格式為：X.X.X.X, 其中X是0~255的數字。我們可以用一個regex，來表達IP address的內容。"
   ]
  },
  {
   "cell_type": "code",
   "execution_count": 4,
   "metadata": {},
   "outputs": [
    {
     "name": "stdout",
     "output_type": "stream",
     "text": [
      "Matched: 216.58.200.227\n",
      "  group(0): 216.58.200.227\n",
      "  group(1): 216\n",
      "  group(2): 58\n",
      "  group(3): 200\n",
      "  group(4): 227\n"
     ]
    }
   ],
   "source": [
    "test_string = \"Google IP address is 216.58.200.227\"\n",
    "\n",
    "# 過濾IP address的regex pattern\n",
    "regex = '(\\d{1,3}).(\\d{1,3}).(\\d{1,3}).(\\d{1,3})'\n",
    "RegexMatchingTest(regex, test_string)"
   ]
  },
  {
   "cell_type": "markdown",
   "metadata": {},
   "source": [
    "#### 以上是最簡單的regex寫法。但深入思考，上面的regex也能夠匹配444.555.666.777這種無效的IP address。\n",
    "#### 我們必須再雕琢regex，只接受[0~255].[0~255].[0~255].[0~255]這種合法的IP address，而過濾不合法的IP。"
   ]
  },
  {
   "cell_type": "code",
   "execution_count": 5,
   "metadata": {},
   "outputs": [
    {
     "name": "stdout",
     "output_type": "stream",
     "text": [
      "Matched: 216.58.200.227\n",
      "  group(0): 216.58.200.227\n",
      "  group(1): 216\n",
      "  group(2): 58\n",
      "  group(3): 200\n",
      "  group(4): 227\n",
      "Not matched.\n"
     ]
    }
   ],
   "source": [
    "'''\n",
    "    Your code here.\n",
    "    hint: 把IP可能出現的數字範圍，分開來思考\n",
    "          1. 000 ~ 199\n",
    "          2. 200 ~ 249\n",
    "          3. 250 ~ 255\n",
    "'''\n",
    "#[1-9]?為出現0或1個\n",
    "#[1-9]?[0-9]為0~99\n",
    "#從大到小開始檢測先3位數再2位數 如果先檢測到了就會顯示\n",
    "regex = '(25[0-5]|2[0-4][[0-9]|1[0-9][0-9]|[1-9]?[0-9])\\.(25[0-5]|2[0-4][[0-9]|1[0-9][0-9]|[1-9]?[0-9])\\.(25[0-5]|2[0-4][[0-9]|1[0-9][0-9]|[1-9]?[0-9])\\.(25[0-5]|2[0-4][[0-9]|1[0-9][0-9]|[1-9]?[0-9])'\n",
    "\n",
    "test_string1 = \"Test IP 216.58.200.227\"\n",
    "RegexMatchingTest(regex, test_string1)  #測試表達式是否會匹配此合法IP\n",
    "\n",
    "test_string2 = \"Test IP 999.888.777.666\"\n",
    "RegexMatchingTest(regex, test_string2)  #測試表達式是否會匹配此不合法IP"
   ]
  },
  {
   "cell_type": "code",
   "execution_count": 6,
   "metadata": {},
   "outputs": [
    {
     "name": "stdout",
     "output_type": "stream",
     "text": [
      "Matched: 216.58.200.227\n",
      "  group(0): 216.58.200.227\n",
      "  group(1): 216\n",
      "  group(2): 58\n",
      "  group(3): 200\n",
      "  group(4): 7\n",
      "Not matched.\n",
      "Matched: 216.58.200.260\n",
      "  group(0): 216.58.200.260\n",
      "  group(1): 216\n",
      "  group(2): 58\n",
      "  group(3): 200\n",
      "  group(4): 0\n"
     ]
    }
   ],
   "source": [
    "#檢驗順序調換\n",
    "#由個位數和十位數開始檢\n",
    "#最後一組要加＋才能檢驗初我們要的答案,不過最後一組如果更換為255以上就會出錯\n",
    "regex = '([1-9]?[0-9]|1[0-9][0-9]|2[0-4][0-9]|25[0-5])\\.([1-9]?[0-9]|1[0-9][0-9]|2[0-4][0-9]|25[0-5])\\.([1-9]?[0-9]|1[0-9][0-9]|2[0-4][0-9]|25[0-5])\\.([1-9]?[0-9]|1[0-9][0-9]|2[0-4][0-9]|25[0-5])+'\n",
    "\n",
    "test_string1 = \"Test IP 216.58.200.227\"\n",
    "RegexMatchingTest(regex, test_string1)  #測試表達式是否會匹配此合法IP\n",
    "\n",
    "test_string2 = \"Test IP 999.888.777.666\"\n",
    "RegexMatchingTest(regex, test_string2)\n",
    "\n",
    "test_string3 = \"Test IP 216.58.200.260\" #最後一組260不應該檢驗出來\n",
    "RegexMatchingTest(regex, test_string3)  "
   ]
  },
  {
   "cell_type": "markdown",
   "metadata": {},
   "source": [
    "## 用正規表達式過濾URL。\n",
    "#### 在網頁爬蟲中，常常會有外部連結的A tag，例如：\n",
    "< a href=\"https://movies.yahoo.com.tw/movietime_result.html/id=9467\"> 時刻表 < /a >\n",
    "#### 我們要把\"href=\"之後的URL擷取出來，用來做後續處理。"
   ]
  },
  {
   "cell_type": "code",
   "execution_count": 7,
   "metadata": {},
   "outputs": [
    {
     "name": "stdout",
     "output_type": "stream",
     "text": [
      "Matched: https://movies.yahoo.com.tw/movietime_result.html/id=9467> \n",
      "  group(0): https://movies.yahoo.com.tw/movietime_result.html/id=9467> \n",
      "  group(1): https://movies.yahoo.com.tw/movietime_result.html/id=9467\n"
     ]
    }
   ],
   "source": [
    "html_a_tag = \"<a href=https://movies.yahoo.com.tw/movietime_result.html/id=9467> 時刻表 </a>\"\n",
    "\n",
    "'''\n",
    "    Your code here.\n",
    "    過濾URL的regex pattern\n",
    "'''\n",
    "#.+任何字元的後面全部\n",
    "regex = '(https:.+)>\\s'\n",
    "RegexMatchingTest(regex, html_a_tag)"
   ]
  },
  {
   "cell_type": "code",
   "execution_count": null,
   "metadata": {},
   "outputs": [],
   "source": []
  }
 ],
 "metadata": {
  "kernelspec": {
   "display_name": "Python 3",
   "language": "python",
   "name": "python3"
  },
  "language_info": {
   "codemirror_mode": {
    "name": "ipython",
    "version": 3
   },
   "file_extension": ".py",
   "mimetype": "text/x-python",
   "name": "python",
   "nbconvert_exporter": "python",
   "pygments_lexer": "ipython3",
   "version": "3.6.8"
  }
 },
 "nbformat": 4,
 "nbformat_minor": 2
}
