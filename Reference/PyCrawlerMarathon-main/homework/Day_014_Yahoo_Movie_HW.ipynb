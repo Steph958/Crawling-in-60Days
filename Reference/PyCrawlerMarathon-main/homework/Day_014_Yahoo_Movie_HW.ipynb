{
 "cells": [
  {
   "cell_type": "markdown",
   "metadata": {},
   "source": [
    "# YAHOO電影爬蟲練習\n",
    "## 練習爬取電影放映資訊。必須逐步獲取電影的代號、放映地區、放映日期後，再送出查詢給伺服器。"
   ]
  },
  {
   "cell_type": "code",
   "execution_count": 1,
   "metadata": {},
   "outputs": [],
   "source": [
    "import requests\n",
    "import re\n",
    "from bs4 import BeautifulSoup"
   ]
  },
  {
   "cell_type": "markdown",
   "metadata": {},
   "source": [
    "### 先搜尋全部的電影代號(ID)資訊"
   ]
  },
  {
   "cell_type": "code",
   "execution_count": 2,
   "metadata": {},
   "outputs": [
    {
     "name": "stdout",
     "output_type": "stream",
     "text": [
      "Movie: 複身犯, ID: 11160\n",
      "Movie: 結婚計念日, ID: 11208\n",
      "Movie: 迴路追殺令, ID: 11207\n",
      "Movie: 墮落天使, ID: 11197\n",
      "Movie: 小小的戀愛情事, ID: 11193\n",
      "Movie: 皇家賓館, ID: 11151\n",
      "Movie: 牛宰褲, ID: 10939\n",
      "Movie: 鬼影, ID: 11224\n",
      "Movie: 鬼鄰居, ID: 11194\n",
      "Movie: 溫蒂, ID: 11189\n",
      "Movie: 偷天行動, ID: 11187\n",
      "Movie: 男兒王, ID: 11186\n",
      "Movie: 跟你老婆去旅行, ID: 11183\n",
      "Movie: STAND BY ME 哆啦A夢2, ID: 11179\n",
      "Movie: 我沒有談的那場戀愛, ID: 11159\n",
      "Movie: 銀龍出任務, ID: 11156\n",
      "Movie: 金不厭詐, ID: 11090\n",
      "Movie: 湯姆貓與傑利鼠, ID: 11072\n",
      "Movie: 角頭–浪流連, ID: 11162\n",
      "Movie: 諾亞方舟大冒險, ID: 11155\n",
      "Movie: 我啊，走自己的路, ID: 11088\n",
      "Movie: T-34：玩命坦克, ID: 11178\n",
      "Movie: 天空鯊：納粹終極武器, ID: 11111\n",
      "Movie: 無邪, ID: 11168\n",
      "Movie: 騙騙愛上你, ID: 11165\n",
      "Movie: 龍貓, ID: 11163\n",
      "Movie: 緝魂, ID: 11113\n",
      "Movie: 海豚總動員, ID: 11068\n",
      "Movie: 細物警探, ID: 11161\n",
      "Movie: 午夜密令, ID: 11150\n",
      "Movie: 哭悲, ID: 11115\n",
      "Movie: 劇場版超人力霸王大河—新世代終結黑暗, ID: 11091\n",
      "Movie: 想見你的愛, ID: 11064\n",
      "Movie: 《屁屁偵探：咖哩香料事件》＋《屁屁偵探：瓢蟲遺蹟之謎》, ID: 11174\n",
      "Movie: 捍衛救援, ID: 11153\n",
      "Movie: 喬瑟與虎與魚群動畫版, ID: 11127\n",
      "Movie: 約定的夢幻島, ID: 11122\n",
      "Movie: 叱咤風雲, ID: 11181\n",
      "Movie: 馬德里金庫盜數90分鐘, ID: 11184\n",
      "Movie: 蠢蛋告別式, ID: 11166\n",
      "Movie: 冰血驚魂, ID: 11142\n",
      "Movie: 一步一步的愛, ID: 11117\n",
      "Movie: 俘虜, ID: 11146\n",
      "Movie: 聖誕殺戮日, ID: 11067\n",
      "Movie: 破處那件小事, ID: 11029\n",
      "Movie: 空中謎航, ID: 11152\n",
      "Movie: 拆彈專家2, ID: 10986\n",
      "Movie: 杏林醫院, ID: 10781\n",
      "Movie: 靈魂急轉彎, ID: 11089\n",
      "Movie: 真愛鄰距離, ID: 11101\n",
      "Movie: 高校棋蹟, ID: 11099\n",
      "Movie: 85年的夏天, ID: 11076\n",
      "Movie: 信用詐欺師JP：公主篇, ID: 11021\n",
      "Movie: 求婚好意外, ID: 10796\n",
      "Movie: 愛在黎明破曉時, ID: 11053\n",
      "Movie: 愛在日落巴黎時, ID: 11052\n",
      "Movie: 親愛的殺手, ID: 10861\n",
      "Movie: 古魯家族：新石代, ID: 10958\n",
      "Movie: 盜墓同盟, ID: 11031\n",
      "Movie: 婊兄弟上路, ID: 11003\n",
      "Movie: 消失的星期三, ID: 10949\n",
      "Movie: 同學麥娜絲, ID: 10935\n",
      "Movie: 弒膽遊戲, ID: 10988\n",
      "Movie: 孤味, ID: 10477\n",
      "Movie: 女巫們, ID: 10976\n",
      "Movie: 鬼滅之刃劇場版 無限列車篇, ID: 10816\n",
      "Movie: 親愛的房客, ID: 10707\n",
      "Movie: 倒數反擊, ID: 10906\n",
      "Movie: 刻在你心底的名字, ID: 10902\n",
      "Movie: 消失的情人節, ID: 10870\n",
      "Movie: 中央車站：數位修復版, ID: 10907\n",
      "Movie: 花木蘭, ID: 8632\n",
      "Movie: 角落小夥伴電影版：魔法繪本裡的新朋友, ID: 10647\n",
      "Movie: 紅鞋公主與七矮人, ID: 10417\n",
      "Movie: 1917, ID: 10189\n",
      "Movie: 仙戒奇緣, ID: 10211\n",
      "Movie: 一首搖滾上月球, ID: 4887\n",
      "Movie: 超時空甩尾, ID: 3783\n",
      "Movie: 錢不夠用2, ID: 3026\n"
     ]
    }
   ],
   "source": [
    "# 查看目前上映那些電影，並擷取出其ID資訊\n",
    "url = 'https://movies.yahoo.com.tw/'\n",
    "resp = requests.get(url)\n",
    "resp.encoding = 'utf-8'\n",
    "\n",
    "soup = BeautifulSoup(resp.text, 'lxml')\n",
    "html = soup.find(\"select\", attrs={'name':'movie_id'})\n",
    "\n",
    "movie_item = html.find_all(\"option\", attrs={'data-name':re.compile('.*')})\n",
    "\n",
    "for p in movie_item:\n",
    "    print(\"Movie: %s, ID: %s\" % (p[\"data-name\"], p[\"value\"]))"
   ]
  },
  {
   "cell_type": "markdown",
   "metadata": {},
   "source": [
    "### 指定你有興趣的電影其ID，然後查詢其放映地區資訊。"
   ]
  },
  {
   "cell_type": "code",
   "execution_count": 3,
   "metadata": {},
   "outputs": [],
   "source": [
    "# 參考前一個步驟中擷取到的ID資訊，並指定ID\n",
    "movie_id = 10816"
   ]
  },
  {
   "cell_type": "code",
   "execution_count": 4,
   "metadata": {},
   "outputs": [
    {
     "name": "stdout",
     "output_type": "stream",
     "text": [
      "放映地區: 台北市, 代號(area_id): 28\n",
      "放映地區: 新北市, 代號(area_id): 8\n",
      "放映地區: 桃園, 代號(area_id): 16\n",
      "放映地區: 新竹, 代號(area_id): 20\n",
      "放映地區: 苗栗, 代號(area_id): 15\n",
      "放映地區: 台中, 代號(area_id): 2\n",
      "放映地區: 台南, 代號(area_id): 10\n",
      "放映地區: 高雄, 代號(area_id): 17\n",
      "放映地區: 花蓮, 代號(area_id): 12\n"
     ]
    }
   ],
   "source": [
    "url = 'https://movies.yahoo.com.tw/api/v1/areas_by_movie_theater'\n",
    "payload = {'movie_id':str(movie_id)}\n",
    "\n",
    "# 模擬一個header\n",
    "headers = {\n",
    "    'authority': 'movies.yahoo.com.tw',\n",
    "    'method': 'GET',\n",
    "    'path': '/api/v1/areas_by_movie_theater?movie_id=' + str(movie_id),\n",
    "    'scheme': 'https',\n",
    "    'accept': 'application/json, text/javascript, */*; q=0.01',\n",
    "    'accept-encoding': 'gzip, deflate, br',\n",
    "    'accept-language': 'zh-TW,zh;q=0.9,en-US;q=0.8,en;q=0.7,zh-CN;q=0.6',\n",
    "    'cookie': 'rxx=9s3x2fws06.1g16irnc&v=1; _ga=GA1.3.2056742944.1551651301; GUC=AQEBAQFczFpdm0IfmwSB&s=AQAAACoo4N5D&g=XMsVBw; BX=4hkdk1decm57t&b=3&s=mr; _ga=GA1.4.2056742944.1551651301; nexagesuid=82843256dd234e8e91aa73f2062f8218; browsed_movie=eyJpdiI6IlJXWWtiSWJaZlNGK2MxQnhscnVUYWc9PSIsInZhbHVlIjoiMXRhMmVHRXRIeUNjc1RBWDJzdGYwbnlIQURmWGsrcjJSMzhkbkcraDNJVUNIZEZsbzU3amlFcVZ1NzlmazJrTGpoMjVrbHk1YmpoRENXaHZTOUw1TmI2ZTZVWHdOejZQZm16RmVuMWlHTTJLaTZLVFZZVkFOMDlTd1wvSGltcytJIiwibWFjIjoiZWQ2ZjA4MmVjZmZlYjlmNjJmYmY2NGMyMDI0Njc0NWViYjVkOWE2NDg0N2RhODMxZjBjZDhiMmJhZTc2MDZhYiJ9; avi=eyJpdiI6Im1NeWFJRlVRWDR1endEcGRGUGJUbVE9PSIsInZhbHVlIjoickRpU3JuUytmcGl6cjF5OW0rNU9iZz09IiwibWFjIjoiY2VmY2NkNzZmM2NhNjY5YzlkOTcyNjE5OGEyMzU0NWYxOTdmMDRkMDY3OWNmMmZjOTMxYjc5MjI5N2Q5NGE5MiJ9; cmp=t=1559391030&j=0; _gid=GA1.4.779543841.1559391031; XSRF-TOKEN=eyJpdiI6IkhpS2hGcDRQaHlmWUJmaHdSS2Q2bHc9PSIsInZhbHVlIjoiOUVoNFk4OHI1UUZmUWRtYXhza0MyWjJSTlhlZ3RnT0VGeVJPN2JuczVRMGRFdWt2OUlsamVKeHRobFwvcHBGM0dhU3VyMXNGTHlsb2dVM2l0U1hpUGxBPT0iLCJtYWMiOiJkZWU4YzJhNjAxMTY3MzE4Y2ExNWIxYmE1ZjE1YWZlZTlhOTcyYjc4M2RlZGY4ZWNjZDYyMTA2NGYwZGViMzc2In0%3D; m_s=eyJpdiI6InpsZHZ2Tk1BZ0dxaHhETml1RjBnUXc9PSIsInZhbHVlIjoiSkNGeHUranRoXC85bDFiaDhySTJqNkJRcWdjWUxjeVRJSHVYZ1wvd2d4bWJZUTUrSHVDM0lUcW5KNHdETFZ4T1lieU81OUhzc1VoUXhZcWk0UDZSQXVFdz09IiwibWFjIjoiYmJkMDJkMDhlODIzMzcyMWY4M2NmYWNjNGVlOWRjMDIwZmVmNzAyMjE3Yzg3ZGY3ODBkZWEzZTI4MTI5ZWNmOSJ9; _gat=1; nexagesd=10',\n",
    "    \n",
    "    'dnt': '1',\n",
    "    'mv-authorization': '21835b082e15b91a69b3851eec7b31b82ce82afb',\n",
    "    'referer': 'https://movies.yahoo.com.tw/',\n",
    "    'user-agent': 'Mozilla/5.0 (Windows NT 10.0; Win64; x64) AppleWebKit/537.36 (KHTML, like Gecko) Chrome/74.0.3729.169 Safari/537.36',\n",
    "    'x-requested-with': 'XMLHttpRequest',\n",
    "}\n",
    "    \n",
    "resp = requests.get(url, params=payload, headers=headers)\n",
    "#print(resp.json())  # 若有需要，列印出json原始碼\n",
    "\n",
    "# 這裡回傳的格式是JSON格式的資料，要解析JSON擷取資料\n",
    "for p in resp.json():\n",
    "    print('放映地區: {0}, 代號(area_id): {1}'.format(p['title'], p['area_id']))"
   ]
  },
  {
   "cell_type": "markdown",
   "metadata": {},
   "source": [
    "### 指定你想要觀看的放映地區，查詢有上映電影的場次日期"
   ]
  },
  {
   "cell_type": "code",
   "execution_count": 5,
   "metadata": {},
   "outputs": [],
   "source": [
    "# 指定放映地區\n",
    "area_id = 28"
   ]
  },
  {
   "cell_type": "code",
   "execution_count": 6,
   "metadata": {},
   "outputs": [
    {
     "name": "stdout",
     "output_type": "stream",
     "text": [
      "二月 25\n",
      "二月 26\n",
      "二月 27\n",
      "二月 28\n",
      "三月 1\n"
     ]
    }
   ],
   "source": [
    "# 向網站發送請求\n",
    "url = 'https://movies.yahoo.com.tw/movietime_result.html'\n",
    "payload = {'movie_id':str(movie_id), 'area_id':str(area_id)}\n",
    "resp = requests.get(url, params=payload)\n",
    "resp.encoding = 'utf-8'\n",
    "\n",
    "soup = BeautifulSoup(resp.text, 'lxml')\n",
    "\n",
    "movie_date = soup.find_all(\"label\", attrs={'for':re.compile(\"date_[\\d]\")})\n",
    "\n",
    "# 列印播放日期\n",
    "for date in movie_date:\n",
    "    print(\"%s %s\" % (date.p.string, date.h3.string))"
   ]
  },
  {
   "cell_type": "markdown",
   "metadata": {},
   "source": [
    "### 最後指定觀看的日期，查詢並列印出放映的電影院、放映類型(數位、3D、IMAX 3D...)、放映時間等資訊。"
   ]
  },
  {
   "cell_type": "code",
   "execution_count": 7,
   "metadata": {},
   "outputs": [],
   "source": [
    "# 選定要觀看的日期\n",
    "date = \"2021-02-28\""
   ]
  },
  {
   "cell_type": "code",
   "execution_count": 14,
   "metadata": {},
   "outputs": [],
   "source": [
    "# 向網站發送請求，獲取上映的電影院及時間資訊\n",
    "url = \"https://movies.yahoo.com.tw/ajax/pc/get_schedule_by_movie\"\n",
    "payload = {'movie_id':str(movie_id),\n",
    "           'date':date,\n",
    "           'area_id':str(area_id),\n",
    "           'theater_id':'',\n",
    "           'datetime':'',\n",
    "           'movie_type_id':''}\n",
    "\n",
    "resp = requests.get(url, params=payload)\n",
    "#print(resp.json()['view'])  # 若有需要，列印出json原始碼\n",
    "\n",
    "soup = BeautifulSoup(resp.json()['view'])\n",
    "#print(soup.prettify())\n",
    "html = soup.find_all(\"ul\", attrs={'data-theater_name':re.compile(\".*\")})"
   ]
  },
  {
   "cell_type": "code",
   "execution_count": 15,
   "metadata": {},
   "outputs": [
    {
     "name": "stdout",
     "output_type": "stream",
     "text": [
      "<ul class=\"area_time _c jq_area_time\" data-theater_name=\"台北美麗華大直影城\" data-theater_schedules=\"https://movies.yahoo.com.tw/theater_result.html/id=32\" data-theater_url=\"http://www.miramarcinemas.tw/\" id=\"theater_id_32\">\n",
      "<li class=\"adds\">\n",
      "<a href=\"https://movies.yahoo.com.tw/theater_result.html/id=32\">台北美麗華大直影城</a>\n",
      "<span>02-85022208</span>\n",
      "</li>\n",
      "<li class=\"taps\">\n",
      "<span class=\"tapR\">IMAX</span> </li>\n",
      "<li class=\"time _c\">\n",
      "<div class=\"input_picker jq_input_picker\">\n",
      "<input class=\"gabtn\" data-cinema=\"40288eb0050f31210ada0f55676b1bbc\" data-date=\"1614441600\" data-ezding=\"ezding\" data-ga=\"['電影頁_時刻表', '電影頁_時刻表_場次', '鬼滅之刃劇場版 無限列車篇']\" data-movie=\"0b9d82e0aafc4e118d833fba4ede2fd9\" data-movie_date=\"02.28\" data-movie_time=\"11:40\" data-movie_title=\"鬼滅之刃劇場版 無限列車篇\" data-movie_type=\"IMAX\" data-session=\"ce38db2fa4af416482b9acf3e919acbb\" data-time=\"1614483600\" id=\"75048577\" name=\"schedule_list\" type=\"radio\" value=\"2021-02-28 11:40:00\"/>\n",
      "<label class=\"select\" for=\"75048577\">11:40</label>\n",
      "<input class=\"gabtn\" data-cinema=\"40288eb0050f31210ada0f55676b1bbc\" data-date=\"1614441600\" data-ezding=\"ezding\" data-ga=\"['電影頁_時刻表', '電影頁_時刻表_場次', '鬼滅之刃劇場版 無限列車篇']\" data-movie=\"0b9d82e0aafc4e118d833fba4ede2fd9\" data-movie_date=\"02.28\" data-movie_time=\"18:00\" data-movie_title=\"鬼滅之刃劇場版 無限列車篇\" data-movie_type=\"IMAX\" data-session=\"ce06037d07b24c0ab6bb3efe19088dea\" data-time=\"1614506400\" id=\"75048578\" name=\"schedule_list\" type=\"radio\" value=\"2021-02-28 18:00:00\"/>\n",
      "<label class=\"select\" for=\"75048578\">18:00</label>\n",
      "</div>\n",
      "</li>\n",
      "</ul>\n",
      "<ul class=\"area_time _c jq_area_time\" data-theater_name=\"京站威秀影城\" data-theater_schedules=\"https://movies.yahoo.com.tw/theater_result.html/id=118\" data-theater_url=\"http://www.vscinemas.com.tw/\" id=\"theater_id_118\">\n",
      "<li class=\"adds\">\n",
      "<a href=\"https://movies.yahoo.com.tw/theater_result.html/id=118\">京站威秀影城</a>\n",
      "<span>02-25525511</span>\n",
      "</li>\n",
      "<li class=\"taps\">\n",
      "<span class=\"tapR\">數位</span> </li>\n",
      "<li class=\"time _c\">\n",
      "<div class=\"input_picker jq_input_picker\">\n",
      "<input class=\"gabtn\" data-cinema=\"5f60dacd-45b3-102d-8d74-e400529c\" data-date=\"1614441600\" data-ezding=\"ezding\" data-ga=\"['電影頁_時刻表', '電影頁_時刻表_場次', '鬼滅之刃劇場版 無限列車篇']\" data-movie=\"63b182763a244c749e3b7bf8b1efbba1\" data-movie_date=\"02.28\" data-movie_time=\"09:40\" data-movie_title=\"鬼滅之刃劇場版 無限列車篇\" data-movie_type=\"數位\" data-session=\"54f4ea3e17ce4f21bf2a886780db55c2\" data-time=\"1614476400\" id=\"75047890\" name=\"schedule_list\" type=\"radio\" value=\"2021-02-28 09:40:00\"/>\n",
      "<label class=\"select\" for=\"75047890\">09:40</label>\n",
      "<input class=\"gabtn\" data-cinema=\"5f60dacd-45b3-102d-8d74-e400529c\" data-date=\"1614441600\" data-ezding=\"ezding\" data-ga=\"['電影頁_時刻表', '電影頁_時刻表_場次', '鬼滅之刃劇場版 無限列車篇']\" data-movie=\"63b182763a244c749e3b7bf8b1efbba1\" data-movie_date=\"02.28\" data-movie_time=\"17:35\" data-movie_title=\"鬼滅之刃劇場版 無限列車篇\" data-movie_type=\"數位\" data-session=\"f914b0b888b542a6a6d3f35e3d8670ab\" data-time=\"1614504900\" id=\"75047891\" name=\"schedule_list\" type=\"radio\" value=\"2021-02-28 17:35:00\"/>\n",
      "<label class=\"select\" for=\"75047891\">17:35</label>\n",
      "</div>\n",
      "</li>\n",
      "</ul>\n",
      "<ul class=\"area_time _c jq_area_time\" data-theater_name=\"喜樂時代影城南港店\" data-theater_schedules=\"https://movies.yahoo.com.tw/theater_result.html/id=186\" data-theater_url=\"http://www.centuryasia.com.tw/default.aspx\" id=\"theater_id_186\">\n",
      "<li class=\"adds\">\n",
      "<a href=\"https://movies.yahoo.com.tw/theater_result.html/id=186\">喜樂時代影城南港店</a>\n",
      "<span>02-27888185</span>\n",
      "</li>\n",
      "<li class=\"taps\">\n",
      "<span class=\"tapR\">數位</span> <span class=\"tapB\">中文</span> </li>\n",
      "<li class=\"time _c\">\n",
      "<div class=\"input_picker jq_input_picker\">\n",
      "<input class=\"gabtn\" data-cinema=\"40288eb0050f542401050f5681782dc5\" data-date=\"1614441600\" data-ezding=\"ezding\" data-ga=\"['電影頁_時刻表', '電影頁_時刻表_場次', '鬼滅之刃劇場版 無限列車篇']\" data-movie=\"0b82ffd5fe8e4e859bee59b02403a8f5\" data-movie_date=\"02.28\" data-movie_time=\"12:25\" data-movie_title=\"鬼滅之刃劇場版 無限列車篇\" data-movie_type=\"數位\" data-session=\"77bc767e42bf45af8559e74b344aaa07\" data-time=\"1614486300\" id=\"75053366\" name=\"schedule_list\" type=\"radio\" value=\"2021-02-28 12:25:00\"/>\n",
      "<label class=\"select\" for=\"75053366\">12:25</label>\n",
      "</div>\n",
      "</li>\n",
      "<li class=\"taps\">\n",
      "<span class=\"tapR\">數位</span> </li>\n",
      "<li class=\"time _c\">\n",
      "<div class=\"input_picker jq_input_picker\">\n",
      "<input class=\"gabtn\" data-cinema=\"40288eb0050f542401050f5681782dc5\" data-date=\"1614441600\" data-ezding=\"ezding\" data-ga=\"['電影頁_時刻表', '電影頁_時刻表_場次', '鬼滅之刃劇場版 無限列車篇']\" data-movie=\"7a1edbc1d76e4e84b4c7be194d728e54\" data-movie_date=\"02.28\" data-movie_time=\"18:00\" data-movie_title=\"鬼滅之刃劇場版 無限列車篇\" data-movie_type=\"數位\" data-session=\"9adfc817a59d475a91465882947d5e19\" data-time=\"1614506400\" id=\"75053367\" name=\"schedule_list\" type=\"radio\" value=\"2021-02-28 18:00:00\"/>\n",
      "<label class=\"select\" for=\"75053367\">18:00</label>\n",
      "</div>\n",
      "</li>\n",
      "</ul>\n"
     ]
    }
   ],
   "source": [
    "'''\n",
    "\n",
    "  試著從上一步驟回傳的電影院資料中，擷取電影院名稱、影片放映類型以及時間表\n",
    "  \n",
    "  Your code here.\n",
    "\n",
    "'''\n",
    "for h in html:\n",
    "    print(h)"
   ]
  },
  {
   "cell_type": "code",
   "execution_count": 16,
   "metadata": {},
   "outputs": [
    {
     "name": "stdout",
     "output_type": "stream",
     "text": [
      "------------------------------\n",
      "電影院:  台北美麗華大直影城\n",
      "放映類型:  IMAX\n",
      "2021-02-28 11:40:00\n",
      "放映類型:  IMAX\n",
      "2021-02-28 18:00:00\n",
      "------------------------------\n",
      "電影院:  京站威秀影城\n",
      "放映類型:  數位\n",
      "2021-02-28 09:40:00\n",
      "放映類型:  數位\n",
      "2021-02-28 17:35:00\n",
      "------------------------------\n",
      "電影院:  喜樂時代影城南港店\n",
      "放映類型:  數位\n",
      "2021-02-28 12:25:00\n",
      "放映類型:  數位\n",
      "2021-02-28 18:00:00\n"
     ]
    }
   ],
   "source": [
    "for i in html:\n",
    "    print('-'*30)\n",
    "    print('電影院: ', i.find('a').text)\n",
    "    #print(len(i.find_all('input')))\n",
    "    for t in i.find_all('input'):\n",
    "        print('放映類型: ',t['data-movie_type'])\n",
    "        print(t['value'])"
   ]
  },
  {
   "cell_type": "code",
   "execution_count": null,
   "metadata": {},
   "outputs": [],
   "source": []
  }
 ],
 "metadata": {
  "kernelspec": {
   "display_name": "Python 3",
   "language": "python",
   "name": "python3"
  },
  "language_info": {
   "codemirror_mode": {
    "name": "ipython",
    "version": 3
   },
   "file_extension": ".py",
   "mimetype": "text/x-python",
   "name": "python",
   "nbconvert_exporter": "python",
   "pygments_lexer": "ipython3",
   "version": "3.6.8"
  }
 },
 "nbformat": 4,
 "nbformat_minor": 2
}
