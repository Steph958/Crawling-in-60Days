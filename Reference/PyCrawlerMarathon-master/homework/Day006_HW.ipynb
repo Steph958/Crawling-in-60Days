{
 "cells": [
  {
   "cell_type": "markdown",
   "metadata": {},
   "source": [
    "# API 資料串接 - 以 知乎 API 實作範例\n",
    "\n",
    "\n",
    "\n",
    "* 了解知乎 API 使用方式與回傳內容\n",
    "* 撰寫程式存取 API 且添加標頭\n",
    "\n",
    "\n"
   ]
  },
  {
   "cell_type": "markdown",
   "metadata": {},
   "source": [
    "## 作業目標\n",
    "\n",
    "* 根據範例提供的 API ，完成以下問題：\n",
    "\n",
    "    1. 取出知乎問題發問時間\n",
    "    2. 取出第一筆與最後一筆回答的時間\n"
   ]
  },
  {
   "cell_type": "markdown",
   "metadata": {},
   "source": [
    "### 1. 取出知乎問題發問時間"
   ]
  },
  {
   "cell_type": "code",
   "execution_count": 1,
   "metadata": {},
   "outputs": [
    {
     "name": "stdout",
     "output_type": "stream",
     "text": [
      "{'is_end': False, 'is_start': True, 'next': 'https://www.zhihu.com/api/v4/questions/55493026/answers?limit=5&offset=5', 'previous': 'https://www.zhihu.com/api/v4/questions/55493026/answers?limit=5&offset=0', 'totals': 605}\n",
      "\n"
     ]
    },
    {
     "data": {
      "text/plain": [
       "{'id': 637938925,\n",
       " 'type': 'answer',\n",
       " 'answer_type': 'normal',\n",
       " 'question': {'type': 'question',\n",
       "  'id': 55493026,\n",
       "  'title': '你们都是怎么学 Python 的？',\n",
       "  'question_type': 'normal',\n",
       "  'created': 1486390229,\n",
       "  'updated_time': 1582533957,\n",
       "  'url': 'https://www.zhihu.com/api/v4/questions/55493026',\n",
       "  'relationship': {}},\n",
       " 'author': {'id': 'e8c4768eaa41e3749f7e8bc5ac6aa74b',\n",
       "  'url_token': 'Lanyuneet',\n",
       "  'name': 'Slumbers',\n",
       "  'avatar_url': 'https://pic3.zhimg.com/v2-f950cfef511d33500177be90030dcd3d_l.jpg',\n",
       "  'avatar_url_template': 'https://pic1.zhimg.com/v2-f950cfef511d33500177be90030dcd3d.jpg',\n",
       "  'is_org': False,\n",
       "  'type': 'people',\n",
       "  'url': 'https://www.zhihu.com/api/v4/people/e8c4768eaa41e3749f7e8bc5ac6aa74b',\n",
       "  'user_type': 'people',\n",
       "  'headline': '算法工程师',\n",
       "  'badge': [],\n",
       "  'badge_v2': {'title': '', 'merged_badges': [], 'detail_badges': []},\n",
       "  'gender': 0,\n",
       "  'is_advertiser': False,\n",
       "  'is_privacy': False},\n",
       " 'url': 'https://www.zhihu.com/api/v4/answers/637938925',\n",
       " 'is_collapsed': False,\n",
       " 'created_time': 1554085028,\n",
       " 'updated_time': 1558451618,\n",
       " 'extras': '',\n",
       " 'is_copyable': True,\n",
       " 'relationship': {'upvoted_followees': []},\n",
       " 'ad_answer': None}"
      ]
     },
     "execution_count": 1,
     "metadata": {},
     "output_type": "execute_result"
    }
   ],
   "source": [
    "import requests\n",
    "import json\n",
    "\n",
    "headers = {'user-agent': 'my-app/0.0.1'}\n",
    "r = requests.get('https://www.zhihu.com/api/v4/questions/55493026/answers',headers=headers)\n",
    "\n",
    "data = json.loads(r.text)['data']\n",
    "page_info = json.loads(r.text)['paging']\n",
    "print(page_info)\n",
    "print()\n",
    "data[0]"
   ]
  },
  {
   "cell_type": "code",
   "execution_count": 2,
   "metadata": {},
   "outputs": [
    {
     "name": "stdout",
     "output_type": "stream",
     "text": [
      "發問時間:  Mon Feb  6 22:10:29 2017\n"
     ]
    }
   ],
   "source": [
    "# 1. 取出知乎問題發問時間\n",
    "\n",
    "'''\n",
    "Your Code\n",
    "'''\n",
    "import time\n",
    "q_time = data[0]['question']['created']\n",
    "print('發問時間: ', time.ctime(q_time))"
   ]
  },
  {
   "cell_type": "markdown",
   "metadata": {},
   "source": [
    "### 2. 取出第一筆與最後一筆回答的時間"
   ]
  },
  {
   "cell_type": "code",
   "execution_count": 3,
   "metadata": {},
   "outputs": [
    {
     "name": "stdout",
     "output_type": "stream",
     "text": [
      "https://www.zhihu.com/api/v4/questions/55493026/answers?limit=20&offset=5\n"
     ]
    },
    {
     "data": {
      "text/plain": [
       "605"
      ]
     },
     "execution_count": 3,
     "metadata": {},
     "output_type": "execute_result"
    }
   ],
   "source": [
    "# 2. 取出第一筆與最後一筆回答的時間\n",
    "\n",
    "'''\n",
    "Your Code\n",
    "'''\n",
    "# 改寫 next_page\n",
    "next_page = page_info['next'].replace('limit=5', 'limit=20')\n",
    "print(next_page)\n",
    "\n",
    "# 讀取到最後的判斷標準\n",
    "is_end = page_info['is_end']\n",
    "\n",
    "while not is_end:\n",
    "    res = requests.get(next_page, headers=headers)\n",
    "    data.extend(json.loads(res.text)['data'])\n",
    "    next_page = json.loads(res.text)['paging']['next']\n",
    "    is_end = json.loads(res.text)['paging']['is_end']\n",
    "    \n",
    "len(data)\n"
   ]
  },
  {
   "cell_type": "code",
   "execution_count": 4,
   "metadata": {},
   "outputs": [
    {
     "name": "stdout",
     "output_type": "stream",
     "text": [
      "默認排序:\n",
      "  第一筆回答時間  :  Mon Apr  1 10:17:08 2019\n",
      "  最後一筆回答時間:  Mon Jun 24 18:20:20 2019\n",
      "時間排序:\n",
      "  第一筆回答時間  :  Tue Feb  7 09:12:49 2017\n",
      "  最後一筆回答時間:  Sun May 31 18:14:16 2020\n"
     ]
    }
   ],
   "source": [
    "import numpy as np\n",
    "\n",
    "# 默認排序, 第一筆和最後一筆回答的時間\n",
    "\n",
    "print('默認排序:')\n",
    "print('  第一筆回答時間  : ', time.ctime(data[0]['created_time']))\n",
    "print('  最後一筆回答時間: ', time.ctime(data[-1]['created_time']))\n",
    "\n",
    "# 時間排序, 第一筆和最後一筆回答的時間\n",
    "times = []\n",
    "\n",
    "for d in data:\n",
    "    times.append(d['created_time'])\n",
    "\n",
    "first = np.min(times)\n",
    "last = np.max(times)\n",
    "\n",
    "print('時間排序:')\n",
    "print('  第一筆回答時間  : ', time.ctime(first))\n",
    "print('  最後一筆回答時間: ', time.ctime(last))"
   ]
  },
  {
   "cell_type": "code",
   "execution_count": null,
   "metadata": {},
   "outputs": [],
   "source": []
  }
 ],
 "metadata": {
  "kernelspec": {
   "display_name": "Python 3",
   "language": "python",
   "name": "python3"
  },
  "language_info": {
   "codemirror_mode": {
    "name": "ipython",
    "version": 3
   },
   "file_extension": ".py",
   "mimetype": "text/x-python",
   "name": "python",
   "nbconvert_exporter": "python",
   "pygments_lexer": "ipython3",
   "version": "3.7.4"
  }
 },
 "nbformat": 4,
 "nbformat_minor": 2
}
