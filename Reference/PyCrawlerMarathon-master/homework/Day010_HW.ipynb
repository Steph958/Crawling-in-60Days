{
 "cells": [
  {
   "cell_type": "markdown",
   "metadata": {},
   "source": [
    "# 其他工具：Grab、PyQuery\n",
    "\n",
    "\n",
    "* 利用 Grab 套件的存取 HTML 資源\n",
    "* 利用 PyQuery 套件的解析 HTML 格式\n"
   ]
  },
  {
   "cell_type": "markdown",
   "metadata": {},
   "source": [
    "## 作業目標\n",
    "\n",
    "將之前用 requests + beatifulsoup 實作的方式，改寫成 grab + pyquery，並且比較有哪些地方不同。\n",
    "\n",
    "\n",
    "\n"
   ]
  },
  {
   "cell_type": "markdown",
   "metadata": {},
   "source": [
    "## requests + BeautifulSoup\n"
   ]
  },
  {
   "cell_type": "code",
   "execution_count": 1,
   "metadata": {},
   "outputs": [
    {
     "name": "stdout",
     "output_type": "stream",
     "text": [
      "<a href=\"https://imgur.com/Cgb5oo1\" rel=\"nofollow\" target=\"_blank\">https://imgur.com/Cgb5oo1</a>\n",
      "<a href=\"https://imgur.com/MgjHY4f\" rel=\"nofollow\" target=\"_blank\">https://imgur.com/MgjHY4f</a>\n",
      "<a href=\"https://imgur.com/yeoRtAs\" rel=\"nofollow\" target=\"_blank\">https://imgur.com/yeoRtAs</a>\n",
      "<a href=\"https://imgur.com/wsauNEW\" rel=\"nofollow\" target=\"_blank\">https://imgur.com/wsauNEW</a>\n",
      "<a href=\"https://imgur.com/IjiETcs\" rel=\"nofollow\" target=\"_blank\">https://imgur.com/IjiETcs</a>\n"
     ]
    }
   ],
   "source": [
    "'''\n",
    "Your Code\n",
    "'''\n",
    "\n",
    "import requests\n",
    "\n",
    "from bs4 import BeautifulSoup\n",
    "\n",
    "url = 'https://www.ptt.cc/bbs/Beauty/M.1556291059.A.75A.html'\n",
    "resp = requests.get(url, cookies={'over18': '1'})\n",
    "soup = BeautifulSoup(resp.text)\n",
    "\n",
    "image_tags = soup.find('div', {'id':'main-content'}).find_all('a', recursive=False)\n",
    "\n",
    "for img_tag in image_tags:\n",
    "    print(img_tag)"
   ]
  },
  {
   "cell_type": "markdown",
   "metadata": {},
   "source": [
    "## Grab + PyQuery"
   ]
  },
  {
   "cell_type": "code",
   "execution_count": 2,
   "metadata": {
    "scrolled": false
   },
   "outputs": [
    {
     "name": "stdout",
     "output_type": "stream",
     "text": [
      "<a href=\"https://imgur.com/Cgb5oo1\" target=\"_blank\" rel=\"nofollow\">https://imgur.com/Cgb5oo1</a>\n",
      "\n",
      "<a href=\"https://imgur.com/MgjHY4f\" target=\"_blank\" rel=\"nofollow\">https://imgur.com/MgjHY4f</a>\n",
      "\n",
      "<a href=\"https://imgur.com/yeoRtAs\" target=\"_blank\" rel=\"nofollow\">https://imgur.com/yeoRtAs</a>\n",
      "\n",
      "<a href=\"https://imgur.com/wsauNEW\" target=\"_blank\" rel=\"nofollow\">https://imgur.com/wsauNEW</a>\n",
      "\n",
      "<a href=\"https://imgur.com/IjiETcs\" target=\"_blank\" rel=\"nofollow\">https://imgur.com/IjiETcs</a>\n",
      "\n"
     ]
    }
   ],
   "source": [
    "'''\n",
    "Your Code\n",
    "'''\n",
    "from grab import Grab\n",
    "from pyquery import PyQuery as pq\n",
    "\n",
    "g = Grab()\n",
    "res = g.go(url, cookies={'over18':'1'})\n",
    "\n",
    "doc = pq(res.body)\n",
    "image_tags = doc('#main-content').children('a')\n",
    "\n",
    "for image_tag in image_tags.items():\n",
    "    print(image_tag)"
   ]
  },
  {
   "cell_type": "code",
   "execution_count": null,
   "metadata": {},
   "outputs": [],
   "source": []
  }
 ],
 "metadata": {
  "kernelspec": {
   "display_name": "Python 3",
   "language": "python",
   "name": "python3"
  },
  "language_info": {
   "codemirror_mode": {
    "name": "ipython",
    "version": 3
   },
   "file_extension": ".py",
   "mimetype": "text/x-python",
   "name": "python",
   "nbconvert_exporter": "python",
   "pygments_lexer": "ipython3",
   "version": "3.7.4"
  }
 },
 "nbformat": 4,
 "nbformat_minor": 2
}
