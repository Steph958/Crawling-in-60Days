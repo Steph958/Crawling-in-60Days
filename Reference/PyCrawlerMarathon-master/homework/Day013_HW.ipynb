{
 "cells": [
  {
   "cell_type": "markdown",
   "metadata": {},
   "source": [
    "# PTT 網路爬蟲實作練習\n",
    "\n",
    "\n",
    "* 能夠利用 Request + BeatifulSour 撰寫爬蟲，並存放到合適的資料結構\n"
   ]
  },
  {
   "cell_type": "markdown",
   "metadata": {},
   "source": [
    "## 作業目標\n",
    "\n",
    "根據範例 ，完成以下問題：\n",
    "\n",
    "* ① 印出最新文章的「作者」「標題」「時間」\n",
    "* ② 印出第一頁所有文章的「作者」「標題」「時間」\n"
   ]
  },
  {
   "cell_type": "markdown",
   "metadata": {},
   "source": [
    "### ① 印出最新文章的「作者」「標題」「時間」"
   ]
  },
  {
   "cell_type": "code",
   "execution_count": 1,
   "metadata": {},
   "outputs": [
    {
     "name": "stdout",
     "output_type": "stream",
     "text": [
      "最新文章:\n",
      "  作者:  ghost069 (阿鬼)\n",
      "  標題:  [情報] 湖人、熱火和鵜鶘有興趣交易得到B.Beal\n",
      "  時間:  Wed Jun 10 08:45:00 2020\n"
     ]
    }
   ],
   "source": [
    "'''\n",
    "Your Code\n",
    "'''\n",
    "import requests\n",
    "from bs4 import BeautifulSoup\n",
    "\n",
    "url = 'https://www.ptt.cc/bbs/NBA/index.html'\n",
    "res = requests.get(url)\n",
    "\n",
    "soup = BeautifulSoup(res.text, 'html5lib')\n",
    "\n",
    "d = soup.find(class_='title')\n",
    "r = BeautifulSoup(requests.get('https://www.ptt.cc'+d.a['href']).text, 'html5lib')\n",
    "lt = r.find_all(class_='article-meta-value')\n",
    "\n",
    "print('最新文章:')\n",
    "print('  作者: ', lt[0].text)\n",
    "print('  標題: ', lt[2].text.replace('\\t', '').replace('\\n', ''))\n",
    "print('  時間: ', lt[3].text)"
   ]
  },
  {
   "cell_type": "markdown",
   "metadata": {},
   "source": [
    "### ② 印出第一頁所有文章的「作者」「標題」「時間」"
   ]
  },
  {
   "cell_type": "code",
   "execution_count": 2,
   "metadata": {},
   "outputs": [
    {
     "name": "stdout",
     "output_type": "stream",
     "text": [
      "第 0 篇文章:\n",
      "      作者:  ghost069 (阿鬼)\n",
      "      標題:  [情報] 湖人、熱火和鵜鶘有興趣交易得到B.Beal\n",
      "      時間:  Wed Jun 10 08:45:00 2020\n",
      "第 1 篇文章:\n",
      "      作者:  lwy012018 (shift man)\n",
      "      標題:  [討論] 如果2010年的FMVP叫爭議，那2005年是？\n",
      "      時間:  Wed Jun 10 09:29:32 2020\n",
      "第 2 篇文章:\n",
      "      作者:  qazwsx879345 (Rajon Rondo)\n",
      "      標題:  [公告] 版主上任相關事項\n",
      "      時間:  Fri Oct 25 10:44:03 2019\n",
      "第 3 篇文章:\n",
      "      作者:  Acetoxy (阿斯)\n",
      "      標題:  [情報] SEASON Schedule 賽程 March 19–20\n",
      "      時間:  Mon Mar  2 01:19:40 2020\n",
      "第 4 篇文章:\n",
      "      作者:  Vedan (味丹)\n",
      "      標題:  [公告] 第一次被退文，可在三天後刪除退文\n",
      "      時間:  Mon Mar  9 11:44:26 2020\n",
      "第 5 篇文章:\n",
      "      作者:  Vedan (味丹)\n",
      "      標題:  [公告] 板務說明\n",
      "      時間:  Fri Apr  3 01:28:00 2020\n"
     ]
    }
   ],
   "source": [
    "'''\n",
    "Your Code\n",
    "'''\n",
    "dt = soup.find_all(class_='title')\n",
    "\n",
    "flag = 0\n",
    "\n",
    "for d in dt:\n",
    "    try:\n",
    "        r = BeautifulSoup(requests.get('https://www.ptt.cc'+d.a['href']).text, 'html5lib')\n",
    "        lt = r.find_all(class_='article-meta-value')\n",
    "\n",
    "        if len(lt) != 0:\n",
    "            print('第 {} 篇文章:'.format(str(flag)))\n",
    "            print('      作者: ', lt[0].text)\n",
    "            print('      標題: ', lt[2].text.replace('\\t', '').replace('\\n', ''))\n",
    "            print('      時間: ', lt[3].text)\n",
    "\n",
    "            flag += 1\n",
    "    except:\n",
    "        continue\n"
   ]
  },
  {
   "cell_type": "markdown",
   "metadata": {},
   "source": [
    "### ③ 試著爬爬看其他版的文章"
   ]
  },
  {
   "cell_type": "code",
   "execution_count": 4,
   "metadata": {},
   "outputs": [
    {
     "name": "stdout",
     "output_type": "stream",
     "text": [
      "第 0 篇文章:\n",
      "      作者:  HSNU1151XU (下一個天亮)\n",
      "      標題:  [ＸＤ] 富翁\n",
      "      時間:  Tue Jun  9 23:33:51 2020\n",
      "第 1 篇文章:\n",
      "      作者:  yk1789 (yk)\n",
      "      標題:  [影音] 生活中那些愛計較的朋友\n",
      "      時間:  Wed Jun 10 00:01:41 2020\n",
      "第 2 篇文章:\n",
      "      作者:  et633 (楓之吻)\n",
      "      標題:  Fw: [閒聊] 韓是否有資格立銅像\n",
      "      時間:  Wed Jun 10 01:09:22 2020\n",
      "第 3 篇文章:\n",
      "      作者:  love9115566 (玖壹壹)\n",
      "      標題:  [猜謎] 鬼怪給黃氏兄弟演？\n",
      "      時間:  Wed Jun 10 03:15:20 2020\n",
      "第 4 篇文章:\n",
      "      作者:  william83060 (我需要安打)\n",
      "      標題:  [耍冷] 地震時的冰箱\n",
      "      時間:  Wed Jun 10 07:24:50 2020\n",
      "第 5 篇文章:\n",
      "      作者:  O300 (歐三百)\n",
      "      標題:  [趣圖] 韓粉吃屎\n",
      "      時間:  Wed Jun 10 07:53:03 2020\n",
      "第 6 篇文章:\n",
      "      作者:  as5863910 (Tohka)\n",
      "      標題:  [猜謎] 很影的片？\n",
      "      時間:  Wed Jun 10 07:54:12 2020\n",
      "第 7 篇文章:\n",
      "      作者:  as5863910 (Tohka)\n",
      "      標題:  [猜謎] 很影的片？\n",
      "      時間:  Wed Jun 10 07:54:25 2020\n",
      "第 8 篇文章:\n",
      "      作者:  j940666 (GJ)\n",
      "      標題:  [猜謎] 不能賭博的歌手\n",
      "      時間:  Wed Jun 10 08:33:09 2020\n",
      "第 9 篇文章:\n",
      "      作者:  homeruntiger ()\n",
      "      標題:  [地獄] 憲憲訪問議長\n",
      "      時間:  Wed Jun 10 08:53:13 2020\n",
      "第 10 篇文章:\n",
      "      作者:  songgood (ilovegoodgame)\n",
      "      標題:  [猜謎] 那塊地 最中立 猜一不能說的魔王\n",
      "      時間:  Wed Jun 10 09:08:32 2020\n",
      "第 11 篇文章:\n",
      "      作者:  winnie0414 (眉喪牛海)\n",
      "      標題:  [耍冷] 誰打炮咕咕叫\n",
      "      時間:  Wed Jun 10 09:13:07 2020\n",
      "第 12 篇文章:\n",
      "      作者:  hoanbeh (初入江湖淨添堵)\n",
      "      標題:  [影音] 東漢最騷張飛 呂布大寶貝罪惡一生！\n",
      "      時間:  Wed Jun 10 09:15:02 2020\n",
      "第 13 篇文章:\n",
      "      作者:  hoanbeh (初入江湖淨添堵)\n",
      "      標題:  [影音] 數學鬼才\n",
      "      時間:  Wed Jun 10 09:16:36 2020\n",
      "第 14 篇文章:\n",
      "      作者:  achun3399 (AChun)\n",
      "      標題:  Re: [ＸＤ] 蛋餅how朋友\n",
      "      時間:  Wed Jun 10 09:46:29 2020\n",
      "第 15 篇文章:\n",
      "      作者:  Elivanta (沉思鬼)\n",
      "      標題:  [公告] Joke板規\n",
      "      時間:  Mon Nov  4 20:57:14 2019\n"
     ]
    }
   ],
   "source": [
    "'''\n",
    "Your Code\n",
    "'''\n",
    "\n",
    "url2 = 'https://www.ptt.cc/bbs/joke/index.html'\n",
    "res2 = requests.get(url2)\n",
    "\n",
    "soup2 = BeautifulSoup(res2.text, 'html5lib')\n",
    "\n",
    "flag = 0\n",
    "\n",
    "for d in soup2.find_all(class_='title'):\n",
    "    try:\n",
    "        r = BeautifulSoup(requests.get('https://www.ptt.cc/'+d.find('a')['href']).text, 'html5lib')\n",
    "        lt = r.find_all(class_='article-meta-value')\n",
    "        \n",
    "        if len(lt) != 0:\n",
    "            print('第 {} 篇文章:'.format(str(flag)))\n",
    "            print('      作者: ', lt[0].text)\n",
    "            print('      標題: ', lt[2].text.replace('\\t', '').replace('\\n', ''))\n",
    "            print('      時間: ', lt[3].text)\n",
    "\n",
    "            flag += 1\n",
    "    except:\n",
    "        continue \n"
   ]
  },
  {
   "cell_type": "code",
   "execution_count": null,
   "metadata": {},
   "outputs": [],
   "source": []
  }
 ],
 "metadata": {
  "kernelspec": {
   "display_name": "Python 3",
   "language": "python",
   "name": "python3"
  },
  "language_info": {
   "codemirror_mode": {
    "name": "ipython",
    "version": 3
   },
   "file_extension": ".py",
   "mimetype": "text/x-python",
   "name": "python",
   "nbconvert_exporter": "python",
   "pygments_lexer": "ipython3",
   "version": "3.7.4"
  }
 },
 "nbformat": 4,
 "nbformat_minor": 2
}
