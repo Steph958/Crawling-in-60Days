{
 "cells": [
  {
   "cell_type": "markdown",
   "metadata": {},
   "source": [
    "# 反爬：登入授權模擬\n",
    "\n",
    "* 了解「登入權限機制」的反爬蟲機制\n",
    "* 「登入權限機制」反爬蟲的因應策略"
   ]
  },
  {
   "cell_type": "markdown",
   "metadata": {},
   "source": [
    "## 作業目標\n",
    "\n",
    "* 找一個需要登入的網站試試看，並說明思考流程\n",
    "（如果不知道要用哪個網站的話，可以試試看 https://github.com/new 網址，未登入時會被導向登入頁）\n",
    "\n"
   ]
  },
  {
   "cell_type": "code",
   "execution_count": 1,
   "metadata": {},
   "outputs": [],
   "source": [
    "import requests\n",
    "from bs4 import BeautifulSoup"
   ]
  },
  {
   "cell_type": "markdown",
   "metadata": {},
   "source": [
    "# 1. 在登入頁中取得 token 和 cookies"
   ]
  },
  {
   "cell_type": "code",
   "execution_count": 3,
   "metadata": {},
   "outputs": [
    {
     "name": "stdout",
     "output_type": "stream",
     "text": [
      "jRghNazxBV0EgTWupEIaE1rkcMLm7phpEvcMeXLuVKRzxkFEeJib+tUDoYCWVSBhAdChqlX1BVtCsQXa8SmNpQ==\n"
     ]
    }
   ],
   "source": [
    "response_login = requests.get('https://github.com/login')\n",
    "soup = BeautifulSoup(response_login.text, 'html.parser')\n",
    "token = soup.find('input', {'name':'authenticity_token'})['value']\n",
    "print(token)"
   ]
  },
  {
   "cell_type": "code",
   "execution_count": 4,
   "metadata": {},
   "outputs": [
    {
     "name": "stdout",
     "output_type": "stream",
     "text": [
      "{'_octo': 'GH1.1.1558640360.1605064704', 'logged_in': 'no', '_gh_sess': 'z2EOXhxlDoiY2gijR3WeCJ52An%2FM%2BdC7umqcyVQU%2BgfZC60Oqc6p9QVMiOMUCnm3e9HGwoT8t2Wnb0zTEeowy6SPSzn9EQh%2BeBDO%2F26a7om4A98j%2FW5ADrqab%2B85X3xpgld2R0jXWzCA8Gordm8JIWAUfk8dWMy10tCBiMBhqwDpzd%2BmiJpsYT2wFyIqTI4MgKaRjuAw4TmcAEyGMylCIr2YDxYwmB7JbCkYcoCVRlM%2Fg1oiAfa9iQ819%2BAmOUW1aqgIzHbIRmNHFNiC1Dg9ZQ%3D%3D--HCzj021ZbCreYioD--gfVMICBYKudI5bs9nQ%2FroA%3D%3D'}\n"
     ]
    }
   ],
   "source": [
    "cookies_login = response_login.cookies.get_dict()\n",
    "print(cookies_login)"
   ]
  },
  {
   "cell_type": "markdown",
   "metadata": {},
   "source": [
    "# 2. 先輸入錯誤帳號密碼取得轉接的頁面網址和需要帶入的資訊(包括正確的帳密)並在 post 之後取得新的 cookies"
   ]
  },
  {
   "cell_type": "code",
   "execution_count": 5,
   "metadata": {},
   "outputs": [
    {
     "name": "stdout",
     "output_type": "stream",
     "text": [
      "{'logged_in': 'yes', '__Host-user_session_same_site': 'yZWsOgLF-aDKZbrRECdFN3zve8fok2Xh3nSgk9qbtW2I_Ps9', '_gh_sess': 'ZW%2BMwCx76pSDK%2Fs45J7beyzhEGbr%2FtD1BNpJ8TkEB7EptNQMzzbh9qWnRfxG0IqrvHfQoRj0NS2%2Fy1rCmamTDPGRMaLogXGqBNhiMbkd9j3iMlmwV1TelH4sBAWNHF2923NX5m8ybP1CmMQl5Jg%2BBgRLrGbcKgIuj%2BPdKay9hif5ZBfPg9ILI9VWZZsW5mYj%2FLNNexL3l9fXLpF1Uz2%2Fc0Ue9U5HUsU%2FojwELtG57WtyMDI62tyMMqAL0uk9vhsxKYPg4ZyjQRQpbA5tu109UJjnbmjhI6kNINXZ5u8WSreajK7I--SNK9Rr0oW1V2EP7p--HW6c3x%2F6OhOP6se%2BIu9udg%3D%3D', 'has_recent_activity': '1', 'user_session': 'yZWsOgLF-aDKZbrRECdFN3zve8fok2Xh3nSgk9qbtW2I_Ps9'}\n"
     ]
    }
   ],
   "source": [
    "response_session = requests.post('https://github.com/session',\n",
    "                                data = {'commit':'Sign in',\n",
    "                                        'authenticity_token':token,\n",
    "                                        'login':'brianooo',\n",
    "                                        'password': 'ANNlol@0521'},\n",
    "                                cookies = cookies_login)\n",
    "cookies_session = response_session.cookies.get_dict()\n",
    "print(cookies_session)"
   ]
  },
  {
   "cell_type": "markdown",
   "metadata": {},
   "source": [
    "# 3. 帶入新的 cookies 就能獲取等同於在瀏覽器中輸入帳密所進入的帳號頁面"
   ]
  },
  {
   "cell_type": "code",
   "execution_count": 18,
   "metadata": {},
   "outputs": [
    {
     "name": "stdout",
     "output_type": "stream",
     "text": [
      "<details class=\"details-overlay details-reset js-feature-preview-indicator-container\" data-feature-preview-indicator-src=\"/users/brianooo/feature_preview/indicator_check\">\n",
      "<summary aria-label=\"View profile and more\" class=\"Header-link\" data-ga-click=\"Header, show menu, icon:avatar\">\n",
      "<img alt=\"@brianooo\" class=\"avatar avatar-user\" height=\"20\" src=\"https://avatars3.githubusercontent.com/u/52178459?s=60&amp;v=4\" width=\"20\">\n",
      "<span class=\"feature-preview-indicator js-feature-preview-indicator\" hidden=\"\" style=\"top: 1px;\"></span>\n",
      "<span class=\"dropdown-caret\"></span>\n",
      "</img></summary>\n",
      "<details-menu class=\"dropdown-menu dropdown-menu-sw\" preload=\"\" src=\"/users/52178459/menu\" style=\"width: 180px\">\n",
      "<include-fragment>\n",
      "<p class=\"text-center mt-3\" data-hide-on-error=\"\">\n",
      "<img alt=\"Loading…\" height=\"32\" src=\"https://github.githubassets.com/images/spinners/octocat-spinner-64.gif\" width=\"32\">\n",
      "</img></p>\n",
      "<p class=\"ml-1 mb-2 mt-2 text-gray-dark\" data-show-on-error=\"\">\n",
      "<svg aria-hidden=\"true\" class=\"octicon octicon-alert\" height=\"16\" version=\"1.1\" viewbox=\"0 0 16 16\" width=\"16\"><path d=\"M8.22 1.754a.25.25 0 00-.44 0L1.698 13.132a.25.25 0 00.22.368h12.164a.25.25 0 00.22-.368L8.22 1.754zm-1.763-.707c.659-1.234 2.427-1.234 3.086 0l6.082 11.378A1.75 1.75 0 0114.082 15H1.918a1.75 1.75 0 01-1.543-2.575L6.457 1.047zM9 11a1 1 0 11-2 0 1 1 0 012 0zm-.25-5.25a.75.75 0 00-1.5 0v2.5a.75.75 0 001.5 0v-2.5z\" fill-rule=\"evenodd\"></path></svg>\n",
      "          Sorry, something went wrong.\n",
      "        </p>\n",
      "</include-fragment>\n",
      "</details-menu>\n",
      "</details>\n",
      "Login Account: \n",
      "@brianooo\n"
     ]
    }
   ],
   "source": [
    "response = requests.get('https://github.com/', cookies = cookies_session)\n",
    "soup = BeautifulSoup(response.text, 'html.parser')\n",
    "summary = soup.find_all('details')[1]\n",
    "print('Summary of Login Info: ', summary.prettify())\n",
    "print()\n",
    "print('Login Account: ')\n",
    "print(summary.find('img')['alt'])\n"
   ]
  },
  {
   "cell_type": "code",
   "execution_count": null,
   "metadata": {},
   "outputs": [],
   "source": []
  }
 ],
 "metadata": {
  "kernelspec": {
   "display_name": "Python 3",
   "language": "python",
   "name": "python3"
  },
  "language_info": {
   "codemirror_mode": {
    "name": "ipython",
    "version": 3
   },
   "file_extension": ".py",
   "mimetype": "text/x-python",
   "name": "python",
   "nbconvert_exporter": "python",
   "pygments_lexer": "ipython3",
   "version": "3.7.4"
  }
 },
 "nbformat": 4,
 "nbformat_minor": 4
}
